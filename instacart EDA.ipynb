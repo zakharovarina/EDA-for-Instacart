{
 "cells": [
  {
   "cell_type": "markdown",
   "id": "045907d4",
   "metadata": {},
   "source": [
    "# EDA of the Instacart dataset"
   ]
  },
  {
   "cell_type": "markdown",
   "id": "167ed642",
   "metadata": {},
   "source": [
    "# Contents <a id='back'></a>\n",
    "\n",
    "* [Introduction](#intro)\n",
    "* [Stage 1. Data overview](#data_review)\n",
    "    * [Conclusions](#data_review_conclusions)\n",
    "* [Stage 2. Data preprocessing](#data_preprocessing)\n",
    "    * [Conclusions](#data_preprocessing_conclusions)\n",
    "* [Stage 3. Data analysis](#da)\n",
    "    * [Conclusions](#da_conclusions)\n",
    "\n"
   ]
  },
  {
   "cell_type": "markdown",
   "id": "752aaa9a",
   "metadata": {},
   "source": [
    "## Introduction <a id='intro'></a>\n",
    "In this project we are working with data from Instacart - a grocery delivery platform where customers can place a grocery order and have it delivered to them. Our mission is to clean up the data and prepare a report that gives insight into the shopping habits of Instacart customers. \n",
    " \n",
    "The project will consist of three stages:\n",
    " 1. Data overview - importing and looking through 5 provided csv files with data\n",
    " 2. Data preprocessing - dealing with duplicates and missing values\n",
    " 3. Data analysis - answering given questions\n",
    " \n",
    "[Back to Contents](#back)"
   ]
  },
  {
   "cell_type": "markdown",
   "id": "94abc930",
   "metadata": {},
   "source": [
    "## Stage 1. Data overview <a id='data_review'></a>\n",
    "Importing all the necessary libraries and reading the dataset from a csv file using pandas.\n",
    "Obtaining the information about the table using different ways to check for missing values, duplicates and the correctness of column namings. \n"
   ]
  },
  {
   "cell_type": "code",
   "execution_count": 50,
   "id": "d34f5651",
   "metadata": {},
   "outputs": [],
   "source": [
    "import pandas as pd\n",
    "from matplotlib import pyplot as plt"
   ]
  },
  {
   "cell_type": "code",
   "execution_count": 51,
   "id": "fbf1adab",
   "metadata": {},
   "outputs": [
    {
     "data": {
      "text/html": [
       "<div>\n",
       "<style scoped>\n",
       "    .dataframe tbody tr th:only-of-type {\n",
       "        vertical-align: middle;\n",
       "    }\n",
       "\n",
       "    .dataframe tbody tr th {\n",
       "        vertical-align: top;\n",
       "    }\n",
       "\n",
       "    .dataframe thead th {\n",
       "        text-align: right;\n",
       "    }\n",
       "</style>\n",
       "<table border=\"1\" class=\"dataframe\">\n",
       "  <thead>\n",
       "    <tr style=\"text-align: right;\">\n",
       "      <th></th>\n",
       "      <th>product_id</th>\n",
       "      <th>product_name</th>\n",
       "      <th>aisle_id</th>\n",
       "      <th>department_id</th>\n",
       "    </tr>\n",
       "  </thead>\n",
       "  <tbody>\n",
       "    <tr>\n",
       "      <th>0</th>\n",
       "      <td>1</td>\n",
       "      <td>Chocolate Sandwich Cookies</td>\n",
       "      <td>61</td>\n",
       "      <td>19</td>\n",
       "    </tr>\n",
       "    <tr>\n",
       "      <th>1</th>\n",
       "      <td>2</td>\n",
       "      <td>All-Seasons Salt</td>\n",
       "      <td>104</td>\n",
       "      <td>13</td>\n",
       "    </tr>\n",
       "    <tr>\n",
       "      <th>2</th>\n",
       "      <td>3</td>\n",
       "      <td>Robust Golden Unsweetened Oolong Tea</td>\n",
       "      <td>94</td>\n",
       "      <td>7</td>\n",
       "    </tr>\n",
       "    <tr>\n",
       "      <th>3</th>\n",
       "      <td>4</td>\n",
       "      <td>Smart Ones Classic Favorites Mini Rigatoni Wit...</td>\n",
       "      <td>38</td>\n",
       "      <td>1</td>\n",
       "    </tr>\n",
       "    <tr>\n",
       "      <th>4</th>\n",
       "      <td>5</td>\n",
       "      <td>Green Chile Anytime Sauce</td>\n",
       "      <td>5</td>\n",
       "      <td>13</td>\n",
       "    </tr>\n",
       "    <tr>\n",
       "      <th>5</th>\n",
       "      <td>6</td>\n",
       "      <td>Dry Nose Oil</td>\n",
       "      <td>11</td>\n",
       "      <td>11</td>\n",
       "    </tr>\n",
       "    <tr>\n",
       "      <th>6</th>\n",
       "      <td>7</td>\n",
       "      <td>Pure Coconut Water With Orange</td>\n",
       "      <td>98</td>\n",
       "      <td>7</td>\n",
       "    </tr>\n",
       "    <tr>\n",
       "      <th>7</th>\n",
       "      <td>8</td>\n",
       "      <td>Cut Russet Potatoes Steam N' Mash</td>\n",
       "      <td>116</td>\n",
       "      <td>1</td>\n",
       "    </tr>\n",
       "    <tr>\n",
       "      <th>8</th>\n",
       "      <td>9</td>\n",
       "      <td>Light Strawberry Blueberry Yogurt</td>\n",
       "      <td>120</td>\n",
       "      <td>16</td>\n",
       "    </tr>\n",
       "    <tr>\n",
       "      <th>9</th>\n",
       "      <td>10</td>\n",
       "      <td>Sparkling Orange Juice &amp; Prickly Pear Beverage</td>\n",
       "      <td>115</td>\n",
       "      <td>7</td>\n",
       "    </tr>\n",
       "    <tr>\n",
       "      <th>10</th>\n",
       "      <td>11</td>\n",
       "      <td>Peach Mango Juice</td>\n",
       "      <td>31</td>\n",
       "      <td>7</td>\n",
       "    </tr>\n",
       "    <tr>\n",
       "      <th>11</th>\n",
       "      <td>12</td>\n",
       "      <td>Chocolate Fudge Layer Cake</td>\n",
       "      <td>119</td>\n",
       "      <td>1</td>\n",
       "    </tr>\n",
       "    <tr>\n",
       "      <th>12</th>\n",
       "      <td>13</td>\n",
       "      <td>Saline Nasal Mist</td>\n",
       "      <td>11</td>\n",
       "      <td>11</td>\n",
       "    </tr>\n",
       "    <tr>\n",
       "      <th>13</th>\n",
       "      <td>14</td>\n",
       "      <td>Fresh Scent Dishwasher Cleaner</td>\n",
       "      <td>74</td>\n",
       "      <td>17</td>\n",
       "    </tr>\n",
       "    <tr>\n",
       "      <th>14</th>\n",
       "      <td>15</td>\n",
       "      <td>Overnight Diapers Size 6</td>\n",
       "      <td>56</td>\n",
       "      <td>18</td>\n",
       "    </tr>\n",
       "  </tbody>\n",
       "</table>\n",
       "</div>"
      ],
      "text/plain": [
       "    product_id                                       product_name  aisle_id  \\\n",
       "0            1                         Chocolate Sandwich Cookies        61   \n",
       "1            2                                   All-Seasons Salt       104   \n",
       "2            3               Robust Golden Unsweetened Oolong Tea        94   \n",
       "3            4  Smart Ones Classic Favorites Mini Rigatoni Wit...        38   \n",
       "4            5                          Green Chile Anytime Sauce         5   \n",
       "5            6                                       Dry Nose Oil        11   \n",
       "6            7                     Pure Coconut Water With Orange        98   \n",
       "7            8                  Cut Russet Potatoes Steam N' Mash       116   \n",
       "8            9                  Light Strawberry Blueberry Yogurt       120   \n",
       "9           10     Sparkling Orange Juice & Prickly Pear Beverage       115   \n",
       "10          11                                  Peach Mango Juice        31   \n",
       "11          12                         Chocolate Fudge Layer Cake       119   \n",
       "12          13                                  Saline Nasal Mist        11   \n",
       "13          14                     Fresh Scent Dishwasher Cleaner        74   \n",
       "14          15                           Overnight Diapers Size 6        56   \n",
       "\n",
       "    department_id  \n",
       "0              19  \n",
       "1              13  \n",
       "2               7  \n",
       "3               1  \n",
       "4              13  \n",
       "5              11  \n",
       "6               7  \n",
       "7               1  \n",
       "8              16  \n",
       "9               7  \n",
       "10              7  \n",
       "11              1  \n",
       "12             11  \n",
       "13             17  \n",
       "14             18  "
      ]
     },
     "execution_count": 51,
     "metadata": {},
     "output_type": "execute_result"
    }
   ],
   "source": [
    "products = pd.read_csv(\"datasets/products.csv\", sep=\";\")\n",
    "products.head(15)"
   ]
  },
  {
   "cell_type": "code",
   "execution_count": 52,
   "id": "3a033600",
   "metadata": {},
   "outputs": [
    {
     "name": "stdout",
     "output_type": "stream",
     "text": [
      "<class 'pandas.core.frame.DataFrame'>\n",
      "RangeIndex: 49694 entries, 0 to 49693\n",
      "Data columns (total 4 columns):\n",
      " #   Column         Non-Null Count  Dtype \n",
      "---  ------         --------------  ----- \n",
      " 0   product_id     49694 non-null  int64 \n",
      " 1   product_name   48436 non-null  object\n",
      " 2   aisle_id       49694 non-null  int64 \n",
      " 3   department_id  49694 non-null  int64 \n",
      "dtypes: int64(3), object(1)\n",
      "memory usage: 1.5+ MB\n"
     ]
    }
   ],
   "source": [
    "products.info()"
   ]
  },
  {
   "cell_type": "code",
   "execution_count": 53,
   "id": "8af66aa6",
   "metadata": {},
   "outputs": [
    {
     "data": {
      "text/plain": [
       "49694"
      ]
     },
     "execution_count": 53,
     "metadata": {},
     "output_type": "execute_result"
    }
   ],
   "source": [
    "len(products['product_id'].unique())"
   ]
  },
  {
   "cell_type": "code",
   "execution_count": 54,
   "id": "ad36396d",
   "metadata": {},
   "outputs": [
    {
     "data": {
      "text/html": [
       "<div>\n",
       "<style scoped>\n",
       "    .dataframe tbody tr th:only-of-type {\n",
       "        vertical-align: middle;\n",
       "    }\n",
       "\n",
       "    .dataframe tbody tr th {\n",
       "        vertical-align: top;\n",
       "    }\n",
       "\n",
       "    .dataframe thead th {\n",
       "        text-align: right;\n",
       "    }\n",
       "</style>\n",
       "<table border=\"1\" class=\"dataframe\">\n",
       "  <thead>\n",
       "    <tr style=\"text-align: right;\">\n",
       "      <th></th>\n",
       "      <th>order_id</th>\n",
       "      <th>product_id</th>\n",
       "      <th>add_to_cart_order</th>\n",
       "      <th>reordered</th>\n",
       "    </tr>\n",
       "  </thead>\n",
       "  <tbody>\n",
       "    <tr>\n",
       "      <th>0</th>\n",
       "      <td>2141543</td>\n",
       "      <td>11440</td>\n",
       "      <td>17.0</td>\n",
       "      <td>0</td>\n",
       "    </tr>\n",
       "    <tr>\n",
       "      <th>1</th>\n",
       "      <td>567889</td>\n",
       "      <td>1560</td>\n",
       "      <td>1.0</td>\n",
       "      <td>1</td>\n",
       "    </tr>\n",
       "    <tr>\n",
       "      <th>2</th>\n",
       "      <td>2261212</td>\n",
       "      <td>26683</td>\n",
       "      <td>1.0</td>\n",
       "      <td>1</td>\n",
       "    </tr>\n",
       "    <tr>\n",
       "      <th>3</th>\n",
       "      <td>491251</td>\n",
       "      <td>8670</td>\n",
       "      <td>35.0</td>\n",
       "      <td>1</td>\n",
       "    </tr>\n",
       "    <tr>\n",
       "      <th>4</th>\n",
       "      <td>2571142</td>\n",
       "      <td>1940</td>\n",
       "      <td>5.0</td>\n",
       "      <td>1</td>\n",
       "    </tr>\n",
       "    <tr>\n",
       "      <th>5</th>\n",
       "      <td>2456893</td>\n",
       "      <td>21616</td>\n",
       "      <td>4.0</td>\n",
       "      <td>1</td>\n",
       "    </tr>\n",
       "    <tr>\n",
       "      <th>6</th>\n",
       "      <td>644579</td>\n",
       "      <td>12341</td>\n",
       "      <td>5.0</td>\n",
       "      <td>1</td>\n",
       "    </tr>\n",
       "    <tr>\n",
       "      <th>7</th>\n",
       "      <td>2231852</td>\n",
       "      <td>44925</td>\n",
       "      <td>10.0</td>\n",
       "      <td>1</td>\n",
       "    </tr>\n",
       "    <tr>\n",
       "      <th>8</th>\n",
       "      <td>3185766</td>\n",
       "      <td>36259</td>\n",
       "      <td>14.0</td>\n",
       "      <td>1</td>\n",
       "    </tr>\n",
       "    <tr>\n",
       "      <th>9</th>\n",
       "      <td>420019</td>\n",
       "      <td>23315</td>\n",
       "      <td>4.0</td>\n",
       "      <td>1</td>\n",
       "    </tr>\n",
       "    <tr>\n",
       "      <th>10</th>\n",
       "      <td>925051</td>\n",
       "      <td>9421</td>\n",
       "      <td>2.0</td>\n",
       "      <td>1</td>\n",
       "    </tr>\n",
       "    <tr>\n",
       "      <th>11</th>\n",
       "      <td>44064</td>\n",
       "      <td>22963</td>\n",
       "      <td>28.0</td>\n",
       "      <td>0</td>\n",
       "    </tr>\n",
       "    <tr>\n",
       "      <th>12</th>\n",
       "      <td>522547</td>\n",
       "      <td>40571</td>\n",
       "      <td>10.0</td>\n",
       "      <td>1</td>\n",
       "    </tr>\n",
       "    <tr>\n",
       "      <th>13</th>\n",
       "      <td>2475670</td>\n",
       "      <td>48520</td>\n",
       "      <td>3.0</td>\n",
       "      <td>0</td>\n",
       "    </tr>\n",
       "    <tr>\n",
       "      <th>14</th>\n",
       "      <td>1961225</td>\n",
       "      <td>37553</td>\n",
       "      <td>1.0</td>\n",
       "      <td>1</td>\n",
       "    </tr>\n",
       "  </tbody>\n",
       "</table>\n",
       "</div>"
      ],
      "text/plain": [
       "    order_id  product_id  add_to_cart_order  reordered\n",
       "0    2141543       11440               17.0          0\n",
       "1     567889        1560                1.0          1\n",
       "2    2261212       26683                1.0          1\n",
       "3     491251        8670               35.0          1\n",
       "4    2571142        1940                5.0          1\n",
       "5    2456893       21616                4.0          1\n",
       "6     644579       12341                5.0          1\n",
       "7    2231852       44925               10.0          1\n",
       "8    3185766       36259               14.0          1\n",
       "9     420019       23315                4.0          1\n",
       "10    925051        9421                2.0          1\n",
       "11     44064       22963               28.0          0\n",
       "12    522547       40571               10.0          1\n",
       "13   2475670       48520                3.0          0\n",
       "14   1961225       37553                1.0          1"
      ]
     },
     "execution_count": 54,
     "metadata": {},
     "output_type": "execute_result"
    }
   ],
   "source": [
    "order_p = pd.read_csv('datasets/order_products.csv', sep=';')\n",
    "order_p.head(15)"
   ]
  },
  {
   "cell_type": "code",
   "execution_count": 55,
   "id": "a1c76323",
   "metadata": {},
   "outputs": [
    {
     "name": "stdout",
     "output_type": "stream",
     "text": [
      "<class 'pandas.core.frame.DataFrame'>\n",
      "RangeIndex: 4545007 entries, 0 to 4545006\n",
      "Data columns (total 4 columns):\n",
      " #   Column             Non-Null Count    Dtype  \n",
      "---  ------             --------------    -----  \n",
      " 0   order_id           4545007 non-null  int64  \n",
      " 1   product_id         4545007 non-null  int64  \n",
      " 2   add_to_cart_order  4544171 non-null  float64\n",
      " 3   reordered          4545007 non-null  int64  \n",
      "dtypes: float64(1), int64(3)\n",
      "memory usage: 138.7 MB\n"
     ]
    }
   ],
   "source": [
    "order_p.info(show_counts=True)"
   ]
  },
  {
   "cell_type": "code",
   "execution_count": 56,
   "id": "044e47cc",
   "metadata": {},
   "outputs": [
    {
     "data": {
      "text/plain": [
       "array([17.,  1., 35.,  5.,  4., 10., 14.,  2., 28.,  3., 16.,  8.,  7.,\n",
       "        6.,  9., 15., 22., 49., 19., 13., 11., 12., 18., 24., 23., 45.,\n",
       "       30., 31., 29., 21., 38., 20., 57., 58., 26., 25., 39., 34., 40.,\n",
       "       27., nan, 43., 33., 42., 50., 32., 36., 37., 61., 46., 56., 41.,\n",
       "       44., 55., 54., 47., 63., 48., 60., 62., 53., 59., 52., 51., 64.])"
      ]
     },
     "execution_count": 56,
     "metadata": {},
     "output_type": "execute_result"
    }
   ],
   "source": [
    "order_p['add_to_cart_order'].unique()"
   ]
  },
  {
   "cell_type": "code",
   "execution_count": 57,
   "id": "ad6a1efa",
   "metadata": {
    "scrolled": true
   },
   "outputs": [
    {
     "data": {
      "text/html": [
       "<div>\n",
       "<style scoped>\n",
       "    .dataframe tbody tr th:only-of-type {\n",
       "        vertical-align: middle;\n",
       "    }\n",
       "\n",
       "    .dataframe tbody tr th {\n",
       "        vertical-align: top;\n",
       "    }\n",
       "\n",
       "    .dataframe thead th {\n",
       "        text-align: right;\n",
       "    }\n",
       "</style>\n",
       "<table border=\"1\" class=\"dataframe\">\n",
       "  <thead>\n",
       "    <tr style=\"text-align: right;\">\n",
       "      <th></th>\n",
       "      <th>order_id</th>\n",
       "      <th>user_id</th>\n",
       "      <th>order_number</th>\n",
       "      <th>order_dow</th>\n",
       "      <th>order_hour_of_day</th>\n",
       "      <th>days_since_prior_order</th>\n",
       "    </tr>\n",
       "  </thead>\n",
       "  <tbody>\n",
       "    <tr>\n",
       "      <th>0</th>\n",
       "      <td>1515936</td>\n",
       "      <td>183418</td>\n",
       "      <td>11</td>\n",
       "      <td>6</td>\n",
       "      <td>13</td>\n",
       "      <td>30.0</td>\n",
       "    </tr>\n",
       "    <tr>\n",
       "      <th>1</th>\n",
       "      <td>1690866</td>\n",
       "      <td>163593</td>\n",
       "      <td>5</td>\n",
       "      <td>5</td>\n",
       "      <td>12</td>\n",
       "      <td>9.0</td>\n",
       "    </tr>\n",
       "    <tr>\n",
       "      <th>2</th>\n",
       "      <td>1454967</td>\n",
       "      <td>39980</td>\n",
       "      <td>4</td>\n",
       "      <td>5</td>\n",
       "      <td>19</td>\n",
       "      <td>2.0</td>\n",
       "    </tr>\n",
       "    <tr>\n",
       "      <th>3</th>\n",
       "      <td>1768857</td>\n",
       "      <td>82516</td>\n",
       "      <td>56</td>\n",
       "      <td>0</td>\n",
       "      <td>20</td>\n",
       "      <td>10.0</td>\n",
       "    </tr>\n",
       "    <tr>\n",
       "      <th>4</th>\n",
       "      <td>3007858</td>\n",
       "      <td>196724</td>\n",
       "      <td>2</td>\n",
       "      <td>4</td>\n",
       "      <td>12</td>\n",
       "      <td>17.0</td>\n",
       "    </tr>\n",
       "    <tr>\n",
       "      <th>5</th>\n",
       "      <td>1843871</td>\n",
       "      <td>20084</td>\n",
       "      <td>5</td>\n",
       "      <td>0</td>\n",
       "      <td>11</td>\n",
       "      <td>15.0</td>\n",
       "    </tr>\n",
       "    <tr>\n",
       "      <th>6</th>\n",
       "      <td>2511640</td>\n",
       "      <td>148233</td>\n",
       "      <td>40</td>\n",
       "      <td>3</td>\n",
       "      <td>8</td>\n",
       "      <td>2.0</td>\n",
       "    </tr>\n",
       "    <tr>\n",
       "      <th>7</th>\n",
       "      <td>2521283</td>\n",
       "      <td>97711</td>\n",
       "      <td>2</td>\n",
       "      <td>0</td>\n",
       "      <td>18</td>\n",
       "      <td>22.0</td>\n",
       "    </tr>\n",
       "    <tr>\n",
       "      <th>8</th>\n",
       "      <td>2266494</td>\n",
       "      <td>34954</td>\n",
       "      <td>40</td>\n",
       "      <td>5</td>\n",
       "      <td>15</td>\n",
       "      <td>4.0</td>\n",
       "    </tr>\n",
       "    <tr>\n",
       "      <th>9</th>\n",
       "      <td>446014</td>\n",
       "      <td>15356</td>\n",
       "      <td>2</td>\n",
       "      <td>4</td>\n",
       "      <td>8</td>\n",
       "      <td>10.0</td>\n",
       "    </tr>\n",
       "    <tr>\n",
       "      <th>10</th>\n",
       "      <td>1162566</td>\n",
       "      <td>43738</td>\n",
       "      <td>33</td>\n",
       "      <td>4</td>\n",
       "      <td>11</td>\n",
       "      <td>2.0</td>\n",
       "    </tr>\n",
       "    <tr>\n",
       "      <th>11</th>\n",
       "      <td>102585</td>\n",
       "      <td>191558</td>\n",
       "      <td>18</td>\n",
       "      <td>6</td>\n",
       "      <td>16</td>\n",
       "      <td>8.0</td>\n",
       "    </tr>\n",
       "    <tr>\n",
       "      <th>12</th>\n",
       "      <td>2276302</td>\n",
       "      <td>190167</td>\n",
       "      <td>21</td>\n",
       "      <td>1</td>\n",
       "      <td>12</td>\n",
       "      <td>2.0</td>\n",
       "    </tr>\n",
       "    <tr>\n",
       "      <th>13</th>\n",
       "      <td>782916</td>\n",
       "      <td>36310</td>\n",
       "      <td>34</td>\n",
       "      <td>5</td>\n",
       "      <td>9</td>\n",
       "      <td>3.0</td>\n",
       "    </tr>\n",
       "    <tr>\n",
       "      <th>14</th>\n",
       "      <td>2843219</td>\n",
       "      <td>74699</td>\n",
       "      <td>4</td>\n",
       "      <td>6</td>\n",
       "      <td>11</td>\n",
       "      <td>30.0</td>\n",
       "    </tr>\n",
       "  </tbody>\n",
       "</table>\n",
       "</div>"
      ],
      "text/plain": [
       "    order_id  user_id  order_number  order_dow  order_hour_of_day  \\\n",
       "0    1515936   183418            11          6                 13   \n",
       "1    1690866   163593             5          5                 12   \n",
       "2    1454967    39980             4          5                 19   \n",
       "3    1768857    82516            56          0                 20   \n",
       "4    3007858   196724             2          4                 12   \n",
       "5    1843871    20084             5          0                 11   \n",
       "6    2511640   148233            40          3                  8   \n",
       "7    2521283    97711             2          0                 18   \n",
       "8    2266494    34954            40          5                 15   \n",
       "9     446014    15356             2          4                  8   \n",
       "10   1162566    43738            33          4                 11   \n",
       "11    102585   191558            18          6                 16   \n",
       "12   2276302   190167            21          1                 12   \n",
       "13    782916    36310            34          5                  9   \n",
       "14   2843219    74699             4          6                 11   \n",
       "\n",
       "    days_since_prior_order  \n",
       "0                     30.0  \n",
       "1                      9.0  \n",
       "2                      2.0  \n",
       "3                     10.0  \n",
       "4                     17.0  \n",
       "5                     15.0  \n",
       "6                      2.0  \n",
       "7                     22.0  \n",
       "8                      4.0  \n",
       "9                     10.0  \n",
       "10                     2.0  \n",
       "11                     8.0  \n",
       "12                     2.0  \n",
       "13                     3.0  \n",
       "14                    30.0  "
      ]
     },
     "execution_count": 57,
     "metadata": {},
     "output_type": "execute_result"
    }
   ],
   "source": [
    "orders = pd.read_csv('datasets/instacart_orders.csv', sep=';')\n",
    "orders.head(15)"
   ]
  },
  {
   "cell_type": "code",
   "execution_count": 58,
   "id": "973dd3d5",
   "metadata": {
    "scrolled": true
   },
   "outputs": [
    {
     "name": "stdout",
     "output_type": "stream",
     "text": [
      "<class 'pandas.core.frame.DataFrame'>\n",
      "RangeIndex: 478967 entries, 0 to 478966\n",
      "Data columns (total 6 columns):\n",
      " #   Column                  Non-Null Count   Dtype  \n",
      "---  ------                  --------------   -----  \n",
      " 0   order_id                478967 non-null  int64  \n",
      " 1   user_id                 478967 non-null  int64  \n",
      " 2   order_number            478967 non-null  int64  \n",
      " 3   order_dow               478967 non-null  int64  \n",
      " 4   order_hour_of_day       478967 non-null  int64  \n",
      " 5   days_since_prior_order  450148 non-null  float64\n",
      "dtypes: float64(1), int64(5)\n",
      "memory usage: 21.9 MB\n"
     ]
    }
   ],
   "source": [
    "orders.info()"
   ]
  },
  {
   "cell_type": "code",
   "execution_count": 59,
   "id": "b6a61077",
   "metadata": {},
   "outputs": [
    {
     "data": {
      "text/plain": [
       "array([30.,  9.,  2., 10., 17., 15., 22.,  4.,  8.,  3., 12., 11.,  7.,\n",
       "        1.,  5.,  6., 14., nan, 20., 16., 24., 23., 27., 13.,  0., 28.,\n",
       "       21., 25., 19., 18., 29., 26.])"
      ]
     },
     "execution_count": 59,
     "metadata": {},
     "output_type": "execute_result"
    }
   ],
   "source": [
    "orders['days_since_prior_order'].unique()"
   ]
  },
  {
   "cell_type": "code",
   "execution_count": 60,
   "id": "d8370c05",
   "metadata": {},
   "outputs": [
    {
     "data": {
      "text/html": [
       "<div>\n",
       "<style scoped>\n",
       "    .dataframe tbody tr th:only-of-type {\n",
       "        vertical-align: middle;\n",
       "    }\n",
       "\n",
       "    .dataframe tbody tr th {\n",
       "        vertical-align: top;\n",
       "    }\n",
       "\n",
       "    .dataframe thead th {\n",
       "        text-align: right;\n",
       "    }\n",
       "</style>\n",
       "<table border=\"1\" class=\"dataframe\">\n",
       "  <thead>\n",
       "    <tr style=\"text-align: right;\">\n",
       "      <th></th>\n",
       "      <th>aisle_id</th>\n",
       "      <th>aisle</th>\n",
       "    </tr>\n",
       "  </thead>\n",
       "  <tbody>\n",
       "    <tr>\n",
       "      <th>0</th>\n",
       "      <td>1</td>\n",
       "      <td>prepared soups salads</td>\n",
       "    </tr>\n",
       "    <tr>\n",
       "      <th>1</th>\n",
       "      <td>2</td>\n",
       "      <td>specialty cheeses</td>\n",
       "    </tr>\n",
       "    <tr>\n",
       "      <th>2</th>\n",
       "      <td>3</td>\n",
       "      <td>energy granola bars</td>\n",
       "    </tr>\n",
       "    <tr>\n",
       "      <th>3</th>\n",
       "      <td>4</td>\n",
       "      <td>instant foods</td>\n",
       "    </tr>\n",
       "    <tr>\n",
       "      <th>4</th>\n",
       "      <td>5</td>\n",
       "      <td>marinades meat preparation</td>\n",
       "    </tr>\n",
       "    <tr>\n",
       "      <th>5</th>\n",
       "      <td>6</td>\n",
       "      <td>other</td>\n",
       "    </tr>\n",
       "    <tr>\n",
       "      <th>6</th>\n",
       "      <td>7</td>\n",
       "      <td>packaged meat</td>\n",
       "    </tr>\n",
       "    <tr>\n",
       "      <th>7</th>\n",
       "      <td>8</td>\n",
       "      <td>bakery desserts</td>\n",
       "    </tr>\n",
       "    <tr>\n",
       "      <th>8</th>\n",
       "      <td>9</td>\n",
       "      <td>pasta sauce</td>\n",
       "    </tr>\n",
       "    <tr>\n",
       "      <th>9</th>\n",
       "      <td>10</td>\n",
       "      <td>kitchen supplies</td>\n",
       "    </tr>\n",
       "    <tr>\n",
       "      <th>10</th>\n",
       "      <td>11</td>\n",
       "      <td>cold flu allergy</td>\n",
       "    </tr>\n",
       "    <tr>\n",
       "      <th>11</th>\n",
       "      <td>12</td>\n",
       "      <td>fresh pasta</td>\n",
       "    </tr>\n",
       "    <tr>\n",
       "      <th>12</th>\n",
       "      <td>13</td>\n",
       "      <td>prepared meals</td>\n",
       "    </tr>\n",
       "    <tr>\n",
       "      <th>13</th>\n",
       "      <td>14</td>\n",
       "      <td>tofu meat alternatives</td>\n",
       "    </tr>\n",
       "    <tr>\n",
       "      <th>14</th>\n",
       "      <td>15</td>\n",
       "      <td>packaged seafood</td>\n",
       "    </tr>\n",
       "  </tbody>\n",
       "</table>\n",
       "</div>"
      ],
      "text/plain": [
       "    aisle_id                       aisle\n",
       "0          1       prepared soups salads\n",
       "1          2           specialty cheeses\n",
       "2          3         energy granola bars\n",
       "3          4               instant foods\n",
       "4          5  marinades meat preparation\n",
       "5          6                       other\n",
       "6          7               packaged meat\n",
       "7          8             bakery desserts\n",
       "8          9                 pasta sauce\n",
       "9         10            kitchen supplies\n",
       "10        11            cold flu allergy\n",
       "11        12                 fresh pasta\n",
       "12        13              prepared meals\n",
       "13        14      tofu meat alternatives\n",
       "14        15            packaged seafood"
      ]
     },
     "execution_count": 60,
     "metadata": {},
     "output_type": "execute_result"
    }
   ],
   "source": [
    "aisle = pd.read_csv('datasets/aisles.csv', sep=';')\n",
    "aisle.head(15)"
   ]
  },
  {
   "cell_type": "code",
   "execution_count": 61,
   "id": "1ae4675e",
   "metadata": {},
   "outputs": [
    {
     "name": "stdout",
     "output_type": "stream",
     "text": [
      "<class 'pandas.core.frame.DataFrame'>\n",
      "RangeIndex: 134 entries, 0 to 133\n",
      "Data columns (total 2 columns):\n",
      " #   Column    Non-Null Count  Dtype \n",
      "---  ------    --------------  ----- \n",
      " 0   aisle_id  134 non-null    int64 \n",
      " 1   aisle     134 non-null    object\n",
      "dtypes: int64(1), object(1)\n",
      "memory usage: 2.2+ KB\n"
     ]
    }
   ],
   "source": [
    "aisle.info()"
   ]
  },
  {
   "cell_type": "code",
   "execution_count": 62,
   "id": "be9cb49b",
   "metadata": {
    "scrolled": true
   },
   "outputs": [
    {
     "data": {
      "text/html": [
       "<div>\n",
       "<style scoped>\n",
       "    .dataframe tbody tr th:only-of-type {\n",
       "        vertical-align: middle;\n",
       "    }\n",
       "\n",
       "    .dataframe tbody tr th {\n",
       "        vertical-align: top;\n",
       "    }\n",
       "\n",
       "    .dataframe thead th {\n",
       "        text-align: right;\n",
       "    }\n",
       "</style>\n",
       "<table border=\"1\" class=\"dataframe\">\n",
       "  <thead>\n",
       "    <tr style=\"text-align: right;\">\n",
       "      <th></th>\n",
       "      <th>department_id</th>\n",
       "      <th>department</th>\n",
       "    </tr>\n",
       "  </thead>\n",
       "  <tbody>\n",
       "    <tr>\n",
       "      <th>0</th>\n",
       "      <td>1</td>\n",
       "      <td>frozen</td>\n",
       "    </tr>\n",
       "    <tr>\n",
       "      <th>1</th>\n",
       "      <td>2</td>\n",
       "      <td>other</td>\n",
       "    </tr>\n",
       "    <tr>\n",
       "      <th>2</th>\n",
       "      <td>3</td>\n",
       "      <td>bakery</td>\n",
       "    </tr>\n",
       "    <tr>\n",
       "      <th>3</th>\n",
       "      <td>4</td>\n",
       "      <td>produce</td>\n",
       "    </tr>\n",
       "    <tr>\n",
       "      <th>4</th>\n",
       "      <td>5</td>\n",
       "      <td>alcohol</td>\n",
       "    </tr>\n",
       "    <tr>\n",
       "      <th>5</th>\n",
       "      <td>6</td>\n",
       "      <td>international</td>\n",
       "    </tr>\n",
       "    <tr>\n",
       "      <th>6</th>\n",
       "      <td>7</td>\n",
       "      <td>beverages</td>\n",
       "    </tr>\n",
       "    <tr>\n",
       "      <th>7</th>\n",
       "      <td>8</td>\n",
       "      <td>pets</td>\n",
       "    </tr>\n",
       "    <tr>\n",
       "      <th>8</th>\n",
       "      <td>9</td>\n",
       "      <td>dry goods pasta</td>\n",
       "    </tr>\n",
       "    <tr>\n",
       "      <th>9</th>\n",
       "      <td>10</td>\n",
       "      <td>bulk</td>\n",
       "    </tr>\n",
       "    <tr>\n",
       "      <th>10</th>\n",
       "      <td>11</td>\n",
       "      <td>personal care</td>\n",
       "    </tr>\n",
       "    <tr>\n",
       "      <th>11</th>\n",
       "      <td>12</td>\n",
       "      <td>meat seafood</td>\n",
       "    </tr>\n",
       "    <tr>\n",
       "      <th>12</th>\n",
       "      <td>13</td>\n",
       "      <td>pantry</td>\n",
       "    </tr>\n",
       "    <tr>\n",
       "      <th>13</th>\n",
       "      <td>14</td>\n",
       "      <td>breakfast</td>\n",
       "    </tr>\n",
       "    <tr>\n",
       "      <th>14</th>\n",
       "      <td>15</td>\n",
       "      <td>canned goods</td>\n",
       "    </tr>\n",
       "  </tbody>\n",
       "</table>\n",
       "</div>"
      ],
      "text/plain": [
       "    department_id       department\n",
       "0               1           frozen\n",
       "1               2            other\n",
       "2               3           bakery\n",
       "3               4          produce\n",
       "4               5          alcohol\n",
       "5               6    international\n",
       "6               7        beverages\n",
       "7               8             pets\n",
       "8               9  dry goods pasta\n",
       "9              10             bulk\n",
       "10             11    personal care\n",
       "11             12     meat seafood\n",
       "12             13           pantry\n",
       "13             14        breakfast\n",
       "14             15     canned goods"
      ]
     },
     "execution_count": 62,
     "metadata": {},
     "output_type": "execute_result"
    }
   ],
   "source": [
    "dep = pd.read_csv('datasets/departments.csv', sep=';')\n",
    "dep.head(15)"
   ]
  },
  {
   "cell_type": "code",
   "execution_count": 63,
   "id": "59e2090f",
   "metadata": {},
   "outputs": [
    {
     "name": "stdout",
     "output_type": "stream",
     "text": [
      "<class 'pandas.core.frame.DataFrame'>\n",
      "RangeIndex: 21 entries, 0 to 20\n",
      "Data columns (total 2 columns):\n",
      " #   Column         Non-Null Count  Dtype \n",
      "---  ------         --------------  ----- \n",
      " 0   department_id  21 non-null     int64 \n",
      " 1   department     21 non-null     object\n",
      "dtypes: int64(1), object(1)\n",
      "memory usage: 468.0+ bytes\n"
     ]
    }
   ],
   "source": [
    "dep.info()"
   ]
  },
  {
   "cell_type": "markdown",
   "id": "b778e7e7",
   "metadata": {},
   "source": [
    "## Conclusions <a id='data_review_conclusions'></a>\n",
    "There are five tables in the dataset.  Below is a data dictionary that lists the columns in each table and describes that data that hold.\n",
    "\n",
    "**instacart_orders.csv:** each row corresponds to one order on the Instacart app - *478967 rows, contains missing values*\n",
    "- 'order_id': ID number that uniquely identifies each order.\n",
    "- 'user_id': ID number that uniquely identifies each customer account\n",
    "- 'order_number': the number of times this customer has placed an order\n",
    "- 'order_dow': day of the week that the order placed (which day is 0 is uncertain)\n",
    "- 'order_hour_of_day': hour of the day that the order was placed\n",
    "- 'days_since_prior_order': number of days since this customer placed their previous order - *contains missing values, datatype could be changed to integer*\n",
    "\n",
    "**products.csv:** each row corresponds to a unique product that customers can buy - 49694 rows, *contains missing values*\n",
    "- 'product_id': ID number that uniquely identifies each product\n",
    "- 'product_name': name of the product - *contains missing values*\n",
    "- 'aisle_id': ID number that uniquely identifies each grocery aisle category\n",
    "- 'department_id': ID number that uniquely identifies each grocery department category\n",
    "\n",
    "**order_products.csv:** each row corresponds to one item placed in an order - *4545007 rows, contains missing values*\n",
    "- 'order_id': ID number that uniquely identifies each order\n",
    "- 'product_id': ID number that uniquely identifies each product\n",
    "- 'add_to_cart_order': the sequential order in which each item was placed in the cart - *contains missing values, datatype could be changed to integer*\n",
    "- 'reordered': 0 if the customer has never ordered this product before, 1 if they have\n",
    "\n",
    "**aisles.csv** - *134 rows, clean data*\n",
    "- 'aisle_id': ID number that uniquely identifies each grocery aisle category\n",
    "- 'aisle': name of the aisle\n",
    "\n",
    "**departments.csv** - *21 rows, clean data*\n",
    "- 'department_id': ID number that uniquely identifies each grocery department category\n",
    "- 'department': name of the department\n",
    "\n",
    "\n",
    "To move forward, we need to preprocess the data."
   ]
  },
  {
   "cell_type": "markdown",
   "id": "40415650",
   "metadata": {},
   "source": [
    "[Back to Contents](#back)"
   ]
  },
  {
   "cell_type": "markdown",
   "id": "a42fea38",
   "metadata": {},
   "source": [
    "## Stage 2. Data preprocessing <a id='data_preprocessing'></a>\n",
    "Dealing with the missing and duplicated values. "
   ]
  },
  {
   "cell_type": "markdown",
   "id": "07357848-dc64-4156-9cc3-01ff4365226d",
   "metadata": {},
   "source": [
    "## Find and remove duplicate values (and describe why you make your choices)"
   ]
  },
  {
   "cell_type": "markdown",
   "id": "f179f0a9",
   "metadata": {},
   "source": [
    "### `orders` data frame"
   ]
  },
  {
   "cell_type": "code",
   "execution_count": 64,
   "id": "abacc3de",
   "metadata": {},
   "outputs": [
    {
     "data": {
      "text/html": [
       "<div>\n",
       "<style scoped>\n",
       "    .dataframe tbody tr th:only-of-type {\n",
       "        vertical-align: middle;\n",
       "    }\n",
       "\n",
       "    .dataframe tbody tr th {\n",
       "        vertical-align: top;\n",
       "    }\n",
       "\n",
       "    .dataframe thead th {\n",
       "        text-align: right;\n",
       "    }\n",
       "</style>\n",
       "<table border=\"1\" class=\"dataframe\">\n",
       "  <thead>\n",
       "    <tr style=\"text-align: right;\">\n",
       "      <th></th>\n",
       "      <th>order_id</th>\n",
       "      <th>user_id</th>\n",
       "      <th>order_number</th>\n",
       "      <th>order_dow</th>\n",
       "      <th>order_hour_of_day</th>\n",
       "      <th>days_since_prior_order</th>\n",
       "    </tr>\n",
       "  </thead>\n",
       "  <tbody>\n",
       "    <tr>\n",
       "      <th>0</th>\n",
       "      <td>1515936</td>\n",
       "      <td>183418</td>\n",
       "      <td>11</td>\n",
       "      <td>6</td>\n",
       "      <td>13</td>\n",
       "      <td>30.0</td>\n",
       "    </tr>\n",
       "    <tr>\n",
       "      <th>1</th>\n",
       "      <td>1690866</td>\n",
       "      <td>163593</td>\n",
       "      <td>5</td>\n",
       "      <td>5</td>\n",
       "      <td>12</td>\n",
       "      <td>9.0</td>\n",
       "    </tr>\n",
       "    <tr>\n",
       "      <th>2</th>\n",
       "      <td>1454967</td>\n",
       "      <td>39980</td>\n",
       "      <td>4</td>\n",
       "      <td>5</td>\n",
       "      <td>19</td>\n",
       "      <td>2.0</td>\n",
       "    </tr>\n",
       "    <tr>\n",
       "      <th>3</th>\n",
       "      <td>1768857</td>\n",
       "      <td>82516</td>\n",
       "      <td>56</td>\n",
       "      <td>0</td>\n",
       "      <td>20</td>\n",
       "      <td>10.0</td>\n",
       "    </tr>\n",
       "    <tr>\n",
       "      <th>4</th>\n",
       "      <td>3007858</td>\n",
       "      <td>196724</td>\n",
       "      <td>2</td>\n",
       "      <td>4</td>\n",
       "      <td>12</td>\n",
       "      <td>17.0</td>\n",
       "    </tr>\n",
       "    <tr>\n",
       "      <th>...</th>\n",
       "      <td>...</td>\n",
       "      <td>...</td>\n",
       "      <td>...</td>\n",
       "      <td>...</td>\n",
       "      <td>...</td>\n",
       "      <td>...</td>\n",
       "    </tr>\n",
       "    <tr>\n",
       "      <th>478962</th>\n",
       "      <td>3210681</td>\n",
       "      <td>5617</td>\n",
       "      <td>5</td>\n",
       "      <td>1</td>\n",
       "      <td>14</td>\n",
       "      <td>7.0</td>\n",
       "    </tr>\n",
       "    <tr>\n",
       "      <th>478963</th>\n",
       "      <td>3270802</td>\n",
       "      <td>112087</td>\n",
       "      <td>2</td>\n",
       "      <td>3</td>\n",
       "      <td>13</td>\n",
       "      <td>6.0</td>\n",
       "    </tr>\n",
       "    <tr>\n",
       "      <th>478964</th>\n",
       "      <td>885349</td>\n",
       "      <td>82944</td>\n",
       "      <td>16</td>\n",
       "      <td>2</td>\n",
       "      <td>11</td>\n",
       "      <td>6.0</td>\n",
       "    </tr>\n",
       "    <tr>\n",
       "      <th>478965</th>\n",
       "      <td>216274</td>\n",
       "      <td>4391</td>\n",
       "      <td>3</td>\n",
       "      <td>3</td>\n",
       "      <td>8</td>\n",
       "      <td>8.0</td>\n",
       "    </tr>\n",
       "    <tr>\n",
       "      <th>478966</th>\n",
       "      <td>2071924</td>\n",
       "      <td>1730</td>\n",
       "      <td>18</td>\n",
       "      <td>1</td>\n",
       "      <td>14</td>\n",
       "      <td>15.0</td>\n",
       "    </tr>\n",
       "  </tbody>\n",
       "</table>\n",
       "<p>478967 rows × 6 columns</p>\n",
       "</div>"
      ],
      "text/plain": [
       "        order_id  user_id  order_number  order_dow  order_hour_of_day  \\\n",
       "0        1515936   183418            11          6                 13   \n",
       "1        1690866   163593             5          5                 12   \n",
       "2        1454967    39980             4          5                 19   \n",
       "3        1768857    82516            56          0                 20   \n",
       "4        3007858   196724             2          4                 12   \n",
       "...          ...      ...           ...        ...                ...   \n",
       "478962   3210681     5617             5          1                 14   \n",
       "478963   3270802   112087             2          3                 13   \n",
       "478964    885349    82944            16          2                 11   \n",
       "478965    216274     4391             3          3                  8   \n",
       "478966   2071924     1730            18          1                 14   \n",
       "\n",
       "        days_since_prior_order  \n",
       "0                         30.0  \n",
       "1                          9.0  \n",
       "2                          2.0  \n",
       "3                         10.0  \n",
       "4                         17.0  \n",
       "...                        ...  \n",
       "478962                     7.0  \n",
       "478963                     6.0  \n",
       "478964                     6.0  \n",
       "478965                     8.0  \n",
       "478966                    15.0  \n",
       "\n",
       "[478967 rows x 6 columns]"
      ]
     },
     "execution_count": 64,
     "metadata": {},
     "output_type": "execute_result"
    }
   ],
   "source": [
    "orders"
   ]
  },
  {
   "cell_type": "code",
   "execution_count": 65,
   "id": "b99297a5-405a-463d-8535-9adc3da4ad74",
   "metadata": {},
   "outputs": [
    {
     "data": {
      "text/plain": [
       "15"
      ]
     },
     "execution_count": 65,
     "metadata": {},
     "output_type": "execute_result"
    }
   ],
   "source": [
    "# Check for duplicated orders\n",
    "orders.duplicated().sum()"
   ]
  },
  {
   "cell_type": "code",
   "execution_count": 66,
   "id": "73587970",
   "metadata": {},
   "outputs": [
    {
     "data": {
      "text/html": [
       "<div>\n",
       "<style scoped>\n",
       "    .dataframe tbody tr th:only-of-type {\n",
       "        vertical-align: middle;\n",
       "    }\n",
       "\n",
       "    .dataframe tbody tr th {\n",
       "        vertical-align: top;\n",
       "    }\n",
       "\n",
       "    .dataframe thead th {\n",
       "        text-align: right;\n",
       "    }\n",
       "</style>\n",
       "<table border=\"1\" class=\"dataframe\">\n",
       "  <thead>\n",
       "    <tr style=\"text-align: right;\">\n",
       "      <th></th>\n",
       "      <th>order_id</th>\n",
       "      <th>user_id</th>\n",
       "      <th>order_number</th>\n",
       "      <th>order_dow</th>\n",
       "      <th>order_hour_of_day</th>\n",
       "      <th>days_since_prior_order</th>\n",
       "    </tr>\n",
       "  </thead>\n",
       "  <tbody>\n",
       "    <tr>\n",
       "      <th>145574</th>\n",
       "      <td>794638</td>\n",
       "      <td>50898</td>\n",
       "      <td>24</td>\n",
       "      <td>3</td>\n",
       "      <td>2</td>\n",
       "      <td>2.0</td>\n",
       "    </tr>\n",
       "    <tr>\n",
       "      <th>223105</th>\n",
       "      <td>2160484</td>\n",
       "      <td>107525</td>\n",
       "      <td>16</td>\n",
       "      <td>3</td>\n",
       "      <td>2</td>\n",
       "      <td>30.0</td>\n",
       "    </tr>\n",
       "    <tr>\n",
       "      <th>230807</th>\n",
       "      <td>1918001</td>\n",
       "      <td>188546</td>\n",
       "      <td>14</td>\n",
       "      <td>3</td>\n",
       "      <td>2</td>\n",
       "      <td>16.0</td>\n",
       "    </tr>\n",
       "    <tr>\n",
       "      <th>266232</th>\n",
       "      <td>1782114</td>\n",
       "      <td>106752</td>\n",
       "      <td>1</td>\n",
       "      <td>3</td>\n",
       "      <td>2</td>\n",
       "      <td>NaN</td>\n",
       "    </tr>\n",
       "    <tr>\n",
       "      <th>273805</th>\n",
       "      <td>1112182</td>\n",
       "      <td>202304</td>\n",
       "      <td>84</td>\n",
       "      <td>3</td>\n",
       "      <td>2</td>\n",
       "      <td>6.0</td>\n",
       "    </tr>\n",
       "    <tr>\n",
       "      <th>284038</th>\n",
       "      <td>2845099</td>\n",
       "      <td>31189</td>\n",
       "      <td>11</td>\n",
       "      <td>3</td>\n",
       "      <td>2</td>\n",
       "      <td>7.0</td>\n",
       "    </tr>\n",
       "    <tr>\n",
       "      <th>311713</th>\n",
       "      <td>1021560</td>\n",
       "      <td>53767</td>\n",
       "      <td>3</td>\n",
       "      <td>3</td>\n",
       "      <td>2</td>\n",
       "      <td>9.0</td>\n",
       "    </tr>\n",
       "    <tr>\n",
       "      <th>321100</th>\n",
       "      <td>408114</td>\n",
       "      <td>68324</td>\n",
       "      <td>4</td>\n",
       "      <td>3</td>\n",
       "      <td>2</td>\n",
       "      <td>18.0</td>\n",
       "    </tr>\n",
       "    <tr>\n",
       "      <th>323900</th>\n",
       "      <td>1919531</td>\n",
       "      <td>191501</td>\n",
       "      <td>32</td>\n",
       "      <td>3</td>\n",
       "      <td>2</td>\n",
       "      <td>7.0</td>\n",
       "    </tr>\n",
       "    <tr>\n",
       "      <th>345917</th>\n",
       "      <td>2232988</td>\n",
       "      <td>82565</td>\n",
       "      <td>1</td>\n",
       "      <td>3</td>\n",
       "      <td>2</td>\n",
       "      <td>NaN</td>\n",
       "    </tr>\n",
       "    <tr>\n",
       "      <th>371905</th>\n",
       "      <td>391768</td>\n",
       "      <td>57671</td>\n",
       "      <td>19</td>\n",
       "      <td>3</td>\n",
       "      <td>2</td>\n",
       "      <td>10.0</td>\n",
       "    </tr>\n",
       "    <tr>\n",
       "      <th>394347</th>\n",
       "      <td>467134</td>\n",
       "      <td>63189</td>\n",
       "      <td>21</td>\n",
       "      <td>3</td>\n",
       "      <td>2</td>\n",
       "      <td>2.0</td>\n",
       "    </tr>\n",
       "    <tr>\n",
       "      <th>411408</th>\n",
       "      <td>1286742</td>\n",
       "      <td>183220</td>\n",
       "      <td>48</td>\n",
       "      <td>3</td>\n",
       "      <td>2</td>\n",
       "      <td>4.0</td>\n",
       "    </tr>\n",
       "    <tr>\n",
       "      <th>415163</th>\n",
       "      <td>2282673</td>\n",
       "      <td>86751</td>\n",
       "      <td>49</td>\n",
       "      <td>3</td>\n",
       "      <td>2</td>\n",
       "      <td>2.0</td>\n",
       "    </tr>\n",
       "    <tr>\n",
       "      <th>441599</th>\n",
       "      <td>2125197</td>\n",
       "      <td>14050</td>\n",
       "      <td>48</td>\n",
       "      <td>3</td>\n",
       "      <td>2</td>\n",
       "      <td>3.0</td>\n",
       "    </tr>\n",
       "  </tbody>\n",
       "</table>\n",
       "</div>"
      ],
      "text/plain": [
       "        order_id  user_id  order_number  order_dow  order_hour_of_day  \\\n",
       "145574    794638    50898            24          3                  2   \n",
       "223105   2160484   107525            16          3                  2   \n",
       "230807   1918001   188546            14          3                  2   \n",
       "266232   1782114   106752             1          3                  2   \n",
       "273805   1112182   202304            84          3                  2   \n",
       "284038   2845099    31189            11          3                  2   \n",
       "311713   1021560    53767             3          3                  2   \n",
       "321100    408114    68324             4          3                  2   \n",
       "323900   1919531   191501            32          3                  2   \n",
       "345917   2232988    82565             1          3                  2   \n",
       "371905    391768    57671            19          3                  2   \n",
       "394347    467134    63189            21          3                  2   \n",
       "411408   1286742   183220            48          3                  2   \n",
       "415163   2282673    86751            49          3                  2   \n",
       "441599   2125197    14050            48          3                  2   \n",
       "\n",
       "        days_since_prior_order  \n",
       "145574                     2.0  \n",
       "223105                    30.0  \n",
       "230807                    16.0  \n",
       "266232                     NaN  \n",
       "273805                     6.0  \n",
       "284038                     7.0  \n",
       "311713                     9.0  \n",
       "321100                    18.0  \n",
       "323900                     7.0  \n",
       "345917                     NaN  \n",
       "371905                    10.0  \n",
       "394347                     2.0  \n",
       "411408                     4.0  \n",
       "415163                     2.0  \n",
       "441599                     3.0  "
      ]
     },
     "execution_count": 66,
     "metadata": {},
     "output_type": "execute_result"
    }
   ],
   "source": [
    "orders[orders.duplicated()]"
   ]
  },
  {
   "cell_type": "code",
   "execution_count": 67,
   "id": "ce72ff89",
   "metadata": {},
   "outputs": [
    {
     "data": {
      "text/html": [
       "<div>\n",
       "<style scoped>\n",
       "    .dataframe tbody tr th:only-of-type {\n",
       "        vertical-align: middle;\n",
       "    }\n",
       "\n",
       "    .dataframe tbody tr th {\n",
       "        vertical-align: top;\n",
       "    }\n",
       "\n",
       "    .dataframe thead th {\n",
       "        text-align: right;\n",
       "    }\n",
       "</style>\n",
       "<table border=\"1\" class=\"dataframe\">\n",
       "  <thead>\n",
       "    <tr style=\"text-align: right;\">\n",
       "      <th></th>\n",
       "      <th>order_id</th>\n",
       "      <th>user_id</th>\n",
       "      <th>order_number</th>\n",
       "      <th>order_dow</th>\n",
       "      <th>order_hour_of_day</th>\n",
       "      <th>days_since_prior_order</th>\n",
       "    </tr>\n",
       "  </thead>\n",
       "  <tbody>\n",
       "    <tr>\n",
       "      <th>99462</th>\n",
       "      <td>794638</td>\n",
       "      <td>50898</td>\n",
       "      <td>24</td>\n",
       "      <td>3</td>\n",
       "      <td>2</td>\n",
       "      <td>2.0</td>\n",
       "    </tr>\n",
       "    <tr>\n",
       "      <th>145574</th>\n",
       "      <td>794638</td>\n",
       "      <td>50898</td>\n",
       "      <td>24</td>\n",
       "      <td>3</td>\n",
       "      <td>2</td>\n",
       "      <td>2.0</td>\n",
       "    </tr>\n",
       "  </tbody>\n",
       "</table>\n",
       "</div>"
      ],
      "text/plain": [
       "        order_id  user_id  order_number  order_dow  order_hour_of_day  \\\n",
       "99462     794638    50898            24          3                  2   \n",
       "145574    794638    50898            24          3                  2   \n",
       "\n",
       "        days_since_prior_order  \n",
       "99462                      2.0  \n",
       "145574                     2.0  "
      ]
     },
     "execution_count": 67,
     "metadata": {},
     "output_type": "execute_result"
    }
   ],
   "source": [
    "orders[orders['order_id'] ==794638]"
   ]
  },
  {
   "cell_type": "code",
   "execution_count": 68,
   "id": "0d44de5d",
   "metadata": {},
   "outputs": [
    {
     "data": {
      "text/plain": [
       "'Monday'"
      ]
     },
     "execution_count": 68,
     "metadata": {},
     "output_type": "execute_result"
    }
   ],
   "source": [
    "# Check for all orders placed Wednesday at 2:00 AM\n",
    "import calendar\n",
    "calendar.day_name[0]"
   ]
  },
  {
   "cell_type": "code",
   "execution_count": 69,
   "id": "0fb978c1",
   "metadata": {},
   "outputs": [
    {
     "data": {
      "text/plain": [
       "'Wednesday'"
      ]
     },
     "execution_count": 69,
     "metadata": {},
     "output_type": "execute_result"
    }
   ],
   "source": [
    "calendar.day_name[2]"
   ]
  },
  {
   "cell_type": "code",
   "execution_count": 70,
   "id": "003f3592",
   "metadata": {},
   "outputs": [
    {
     "data": {
      "text/html": [
       "<div>\n",
       "<style scoped>\n",
       "    .dataframe tbody tr th:only-of-type {\n",
       "        vertical-align: middle;\n",
       "    }\n",
       "\n",
       "    .dataframe tbody tr th {\n",
       "        vertical-align: top;\n",
       "    }\n",
       "\n",
       "    .dataframe thead th {\n",
       "        text-align: right;\n",
       "    }\n",
       "</style>\n",
       "<table border=\"1\" class=\"dataframe\">\n",
       "  <thead>\n",
       "    <tr style=\"text-align: right;\">\n",
       "      <th></th>\n",
       "      <th>order_id</th>\n",
       "      <th>user_id</th>\n",
       "      <th>order_number</th>\n",
       "      <th>order_dow</th>\n",
       "      <th>order_hour_of_day</th>\n",
       "      <th>days_since_prior_order</th>\n",
       "    </tr>\n",
       "  </thead>\n",
       "  <tbody>\n",
       "    <tr>\n",
       "      <th>1295</th>\n",
       "      <td>1474941</td>\n",
       "      <td>115569</td>\n",
       "      <td>5</td>\n",
       "      <td>2</td>\n",
       "      <td>2</td>\n",
       "      <td>28.0</td>\n",
       "    </tr>\n",
       "    <tr>\n",
       "      <th>2391</th>\n",
       "      <td>1640269</td>\n",
       "      <td>173965</td>\n",
       "      <td>15</td>\n",
       "      <td>2</td>\n",
       "      <td>2</td>\n",
       "      <td>2.0</td>\n",
       "    </tr>\n",
       "    <tr>\n",
       "      <th>2550</th>\n",
       "      <td>1223696</td>\n",
       "      <td>55276</td>\n",
       "      <td>11</td>\n",
       "      <td>2</td>\n",
       "      <td>2</td>\n",
       "      <td>30.0</td>\n",
       "    </tr>\n",
       "    <tr>\n",
       "      <th>5965</th>\n",
       "      <td>579194</td>\n",
       "      <td>85018</td>\n",
       "      <td>14</td>\n",
       "      <td>2</td>\n",
       "      <td>2</td>\n",
       "      <td>11.0</td>\n",
       "    </tr>\n",
       "    <tr>\n",
       "      <th>17680</th>\n",
       "      <td>2004230</td>\n",
       "      <td>203121</td>\n",
       "      <td>4</td>\n",
       "      <td>2</td>\n",
       "      <td>2</td>\n",
       "      <td>8.0</td>\n",
       "    </tr>\n",
       "    <tr>\n",
       "      <th>...</th>\n",
       "      <td>...</td>\n",
       "      <td>...</td>\n",
       "      <td>...</td>\n",
       "      <td>...</td>\n",
       "      <td>...</td>\n",
       "      <td>...</td>\n",
       "    </tr>\n",
       "    <tr>\n",
       "      <th>457660</th>\n",
       "      <td>1562381</td>\n",
       "      <td>19378</td>\n",
       "      <td>5</td>\n",
       "      <td>2</td>\n",
       "      <td>2</td>\n",
       "      <td>6.0</td>\n",
       "    </tr>\n",
       "    <tr>\n",
       "      <th>460316</th>\n",
       "      <td>1986084</td>\n",
       "      <td>117453</td>\n",
       "      <td>81</td>\n",
       "      <td>2</td>\n",
       "      <td>2</td>\n",
       "      <td>8.0</td>\n",
       "    </tr>\n",
       "    <tr>\n",
       "      <th>462676</th>\n",
       "      <td>1362113</td>\n",
       "      <td>19654</td>\n",
       "      <td>20</td>\n",
       "      <td>2</td>\n",
       "      <td>2</td>\n",
       "      <td>21.0</td>\n",
       "    </tr>\n",
       "    <tr>\n",
       "      <th>472800</th>\n",
       "      <td>1746383</td>\n",
       "      <td>88484</td>\n",
       "      <td>19</td>\n",
       "      <td>2</td>\n",
       "      <td>2</td>\n",
       "      <td>5.0</td>\n",
       "    </tr>\n",
       "    <tr>\n",
       "      <th>472923</th>\n",
       "      <td>1519815</td>\n",
       "      <td>149345</td>\n",
       "      <td>1</td>\n",
       "      <td>2</td>\n",
       "      <td>2</td>\n",
       "      <td>NaN</td>\n",
       "    </tr>\n",
       "  </tbody>\n",
       "</table>\n",
       "<p>136 rows × 6 columns</p>\n",
       "</div>"
      ],
      "text/plain": [
       "        order_id  user_id  order_number  order_dow  order_hour_of_day  \\\n",
       "1295     1474941   115569             5          2                  2   \n",
       "2391     1640269   173965            15          2                  2   \n",
       "2550     1223696    55276            11          2                  2   \n",
       "5965      579194    85018            14          2                  2   \n",
       "17680    2004230   203121             4          2                  2   \n",
       "...          ...      ...           ...        ...                ...   \n",
       "457660   1562381    19378             5          2                  2   \n",
       "460316   1986084   117453            81          2                  2   \n",
       "462676   1362113    19654            20          2                  2   \n",
       "472800   1746383    88484            19          2                  2   \n",
       "472923   1519815   149345             1          2                  2   \n",
       "\n",
       "        days_since_prior_order  \n",
       "1295                      28.0  \n",
       "2391                       2.0  \n",
       "2550                      30.0  \n",
       "5965                      11.0  \n",
       "17680                      8.0  \n",
       "...                        ...  \n",
       "457660                     6.0  \n",
       "460316                     8.0  \n",
       "462676                    21.0  \n",
       "472800                     5.0  \n",
       "472923                     NaN  \n",
       "\n",
       "[136 rows x 6 columns]"
      ]
     },
     "execution_count": 70,
     "metadata": {},
     "output_type": "execute_result"
    }
   ],
   "source": [
    "orders[(orders['order_dow'] == 2) & (orders['order_hour_of_day'] == 2)]"
   ]
  },
  {
   "cell_type": "code",
   "execution_count": 71,
   "id": "68bcb8fd",
   "metadata": {},
   "outputs": [
    {
     "data": {
      "text/html": [
       "<div>\n",
       "<style scoped>\n",
       "    .dataframe tbody tr th:only-of-type {\n",
       "        vertical-align: middle;\n",
       "    }\n",
       "\n",
       "    .dataframe tbody tr th {\n",
       "        vertical-align: top;\n",
       "    }\n",
       "\n",
       "    .dataframe thead th {\n",
       "        text-align: right;\n",
       "    }\n",
       "</style>\n",
       "<table border=\"1\" class=\"dataframe\">\n",
       "  <thead>\n",
       "    <tr style=\"text-align: right;\">\n",
       "      <th></th>\n",
       "      <th>order_id</th>\n",
       "      <th>user_id</th>\n",
       "      <th>order_number</th>\n",
       "      <th>order_dow</th>\n",
       "      <th>order_hour_of_day</th>\n",
       "      <th>days_since_prior_order</th>\n",
       "    </tr>\n",
       "  </thead>\n",
       "  <tbody>\n",
       "    <tr>\n",
       "      <th>4838</th>\n",
       "      <td>2766110</td>\n",
       "      <td>162084</td>\n",
       "      <td>41</td>\n",
       "      <td>3</td>\n",
       "      <td>2</td>\n",
       "      <td>16.0</td>\n",
       "    </tr>\n",
       "    <tr>\n",
       "      <th>5156</th>\n",
       "      <td>2190225</td>\n",
       "      <td>138285</td>\n",
       "      <td>18</td>\n",
       "      <td>3</td>\n",
       "      <td>2</td>\n",
       "      <td>11.0</td>\n",
       "    </tr>\n",
       "    <tr>\n",
       "      <th>15506</th>\n",
       "      <td>553049</td>\n",
       "      <td>58599</td>\n",
       "      <td>13</td>\n",
       "      <td>3</td>\n",
       "      <td>2</td>\n",
       "      <td>7.0</td>\n",
       "    </tr>\n",
       "    <tr>\n",
       "      <th>18420</th>\n",
       "      <td>382357</td>\n",
       "      <td>120200</td>\n",
       "      <td>19</td>\n",
       "      <td>3</td>\n",
       "      <td>2</td>\n",
       "      <td>11.0</td>\n",
       "    </tr>\n",
       "    <tr>\n",
       "      <th>24691</th>\n",
       "      <td>690242</td>\n",
       "      <td>77357</td>\n",
       "      <td>2</td>\n",
       "      <td>3</td>\n",
       "      <td>2</td>\n",
       "      <td>9.0</td>\n",
       "    </tr>\n",
       "    <tr>\n",
       "      <th>...</th>\n",
       "      <td>...</td>\n",
       "      <td>...</td>\n",
       "      <td>...</td>\n",
       "      <td>...</td>\n",
       "      <td>...</td>\n",
       "      <td>...</td>\n",
       "    </tr>\n",
       "    <tr>\n",
       "      <th>457013</th>\n",
       "      <td>3384021</td>\n",
       "      <td>14881</td>\n",
       "      <td>6</td>\n",
       "      <td>3</td>\n",
       "      <td>2</td>\n",
       "      <td>30.0</td>\n",
       "    </tr>\n",
       "    <tr>\n",
       "      <th>458816</th>\n",
       "      <td>910166</td>\n",
       "      <td>164782</td>\n",
       "      <td>18</td>\n",
       "      <td>3</td>\n",
       "      <td>2</td>\n",
       "      <td>4.0</td>\n",
       "    </tr>\n",
       "    <tr>\n",
       "      <th>459635</th>\n",
       "      <td>1680532</td>\n",
       "      <td>106435</td>\n",
       "      <td>6</td>\n",
       "      <td>3</td>\n",
       "      <td>2</td>\n",
       "      <td>21.0</td>\n",
       "    </tr>\n",
       "    <tr>\n",
       "      <th>468324</th>\n",
       "      <td>222962</td>\n",
       "      <td>54979</td>\n",
       "      <td>59</td>\n",
       "      <td>3</td>\n",
       "      <td>2</td>\n",
       "      <td>3.0</td>\n",
       "    </tr>\n",
       "    <tr>\n",
       "      <th>477526</th>\n",
       "      <td>2592344</td>\n",
       "      <td>46860</td>\n",
       "      <td>38</td>\n",
       "      <td>3</td>\n",
       "      <td>2</td>\n",
       "      <td>3.0</td>\n",
       "    </tr>\n",
       "  </tbody>\n",
       "</table>\n",
       "<p>121 rows × 6 columns</p>\n",
       "</div>"
      ],
      "text/plain": [
       "        order_id  user_id  order_number  order_dow  order_hour_of_day  \\\n",
       "4838     2766110   162084            41          3                  2   \n",
       "5156     2190225   138285            18          3                  2   \n",
       "15506     553049    58599            13          3                  2   \n",
       "18420     382357   120200            19          3                  2   \n",
       "24691     690242    77357             2          3                  2   \n",
       "...          ...      ...           ...        ...                ...   \n",
       "457013   3384021    14881             6          3                  2   \n",
       "458816    910166   164782            18          3                  2   \n",
       "459635   1680532   106435             6          3                  2   \n",
       "468324    222962    54979            59          3                  2   \n",
       "477526   2592344    46860            38          3                  2   \n",
       "\n",
       "        days_since_prior_order  \n",
       "4838                      16.0  \n",
       "5156                      11.0  \n",
       "15506                      7.0  \n",
       "18420                     11.0  \n",
       "24691                      9.0  \n",
       "...                        ...  \n",
       "457013                    30.0  \n",
       "458816                     4.0  \n",
       "459635                    21.0  \n",
       "468324                     3.0  \n",
       "477526                     3.0  \n",
       "\n",
       "[121 rows x 6 columns]"
      ]
     },
     "execution_count": 71,
     "metadata": {},
     "output_type": "execute_result"
    }
   ],
   "source": [
    "orders[(orders[\"order_dow\"] == 3) & (orders[\"order_hour_of_day\"] == 2)]"
   ]
  },
  {
   "cell_type": "code",
   "execution_count": 72,
   "id": "480563c7",
   "metadata": {},
   "outputs": [],
   "source": [
    "# Remove duplicate orders\n",
    "orders = orders.drop_duplicates()"
   ]
  },
  {
   "cell_type": "code",
   "execution_count": 73,
   "id": "0b2396a2",
   "metadata": {},
   "outputs": [
    {
     "data": {
      "text/plain": [
       "0"
      ]
     },
     "execution_count": 73,
     "metadata": {},
     "output_type": "execute_result"
    }
   ],
   "source": [
    "# Double check for duplicate rows\n",
    "orders.duplicated().sum()"
   ]
  },
  {
   "cell_type": "code",
   "execution_count": 74,
   "id": "1e815088",
   "metadata": {},
   "outputs": [
    {
     "data": {
      "text/html": [
       "<div>\n",
       "<style scoped>\n",
       "    .dataframe tbody tr th:only-of-type {\n",
       "        vertical-align: middle;\n",
       "    }\n",
       "\n",
       "    .dataframe tbody tr th {\n",
       "        vertical-align: top;\n",
       "    }\n",
       "\n",
       "    .dataframe thead th {\n",
       "        text-align: right;\n",
       "    }\n",
       "</style>\n",
       "<table border=\"1\" class=\"dataframe\">\n",
       "  <thead>\n",
       "    <tr style=\"text-align: right;\">\n",
       "      <th></th>\n",
       "      <th>order_id</th>\n",
       "      <th>user_id</th>\n",
       "      <th>order_number</th>\n",
       "      <th>order_dow</th>\n",
       "      <th>order_hour_of_day</th>\n",
       "      <th>days_since_prior_order</th>\n",
       "    </tr>\n",
       "  </thead>\n",
       "  <tbody>\n",
       "    <tr>\n",
       "      <th>4838</th>\n",
       "      <td>2766110</td>\n",
       "      <td>162084</td>\n",
       "      <td>41</td>\n",
       "      <td>3</td>\n",
       "      <td>2</td>\n",
       "      <td>16.0</td>\n",
       "    </tr>\n",
       "    <tr>\n",
       "      <th>5156</th>\n",
       "      <td>2190225</td>\n",
       "      <td>138285</td>\n",
       "      <td>18</td>\n",
       "      <td>3</td>\n",
       "      <td>2</td>\n",
       "      <td>11.0</td>\n",
       "    </tr>\n",
       "    <tr>\n",
       "      <th>15506</th>\n",
       "      <td>553049</td>\n",
       "      <td>58599</td>\n",
       "      <td>13</td>\n",
       "      <td>3</td>\n",
       "      <td>2</td>\n",
       "      <td>7.0</td>\n",
       "    </tr>\n",
       "    <tr>\n",
       "      <th>18420</th>\n",
       "      <td>382357</td>\n",
       "      <td>120200</td>\n",
       "      <td>19</td>\n",
       "      <td>3</td>\n",
       "      <td>2</td>\n",
       "      <td>11.0</td>\n",
       "    </tr>\n",
       "    <tr>\n",
       "      <th>24691</th>\n",
       "      <td>690242</td>\n",
       "      <td>77357</td>\n",
       "      <td>2</td>\n",
       "      <td>3</td>\n",
       "      <td>2</td>\n",
       "      <td>9.0</td>\n",
       "    </tr>\n",
       "    <tr>\n",
       "      <th>...</th>\n",
       "      <td>...</td>\n",
       "      <td>...</td>\n",
       "      <td>...</td>\n",
       "      <td>...</td>\n",
       "      <td>...</td>\n",
       "      <td>...</td>\n",
       "    </tr>\n",
       "    <tr>\n",
       "      <th>457013</th>\n",
       "      <td>3384021</td>\n",
       "      <td>14881</td>\n",
       "      <td>6</td>\n",
       "      <td>3</td>\n",
       "      <td>2</td>\n",
       "      <td>30.0</td>\n",
       "    </tr>\n",
       "    <tr>\n",
       "      <th>458816</th>\n",
       "      <td>910166</td>\n",
       "      <td>164782</td>\n",
       "      <td>18</td>\n",
       "      <td>3</td>\n",
       "      <td>2</td>\n",
       "      <td>4.0</td>\n",
       "    </tr>\n",
       "    <tr>\n",
       "      <th>459635</th>\n",
       "      <td>1680532</td>\n",
       "      <td>106435</td>\n",
       "      <td>6</td>\n",
       "      <td>3</td>\n",
       "      <td>2</td>\n",
       "      <td>21.0</td>\n",
       "    </tr>\n",
       "    <tr>\n",
       "      <th>468324</th>\n",
       "      <td>222962</td>\n",
       "      <td>54979</td>\n",
       "      <td>59</td>\n",
       "      <td>3</td>\n",
       "      <td>2</td>\n",
       "      <td>3.0</td>\n",
       "    </tr>\n",
       "    <tr>\n",
       "      <th>477526</th>\n",
       "      <td>2592344</td>\n",
       "      <td>46860</td>\n",
       "      <td>38</td>\n",
       "      <td>3</td>\n",
       "      <td>2</td>\n",
       "      <td>3.0</td>\n",
       "    </tr>\n",
       "  </tbody>\n",
       "</table>\n",
       "<p>106 rows × 6 columns</p>\n",
       "</div>"
      ],
      "text/plain": [
       "        order_id  user_id  order_number  order_dow  order_hour_of_day  \\\n",
       "4838     2766110   162084            41          3                  2   \n",
       "5156     2190225   138285            18          3                  2   \n",
       "15506     553049    58599            13          3                  2   \n",
       "18420     382357   120200            19          3                  2   \n",
       "24691     690242    77357             2          3                  2   \n",
       "...          ...      ...           ...        ...                ...   \n",
       "457013   3384021    14881             6          3                  2   \n",
       "458816    910166   164782            18          3                  2   \n",
       "459635   1680532   106435             6          3                  2   \n",
       "468324    222962    54979            59          3                  2   \n",
       "477526   2592344    46860            38          3                  2   \n",
       "\n",
       "        days_since_prior_order  \n",
       "4838                      16.0  \n",
       "5156                      11.0  \n",
       "15506                      7.0  \n",
       "18420                     11.0  \n",
       "24691                      9.0  \n",
       "...                        ...  \n",
       "457013                    30.0  \n",
       "458816                     4.0  \n",
       "459635                    21.0  \n",
       "468324                     3.0  \n",
       "477526                     3.0  \n",
       "\n",
       "[106 rows x 6 columns]"
      ]
     },
     "execution_count": 74,
     "metadata": {},
     "output_type": "execute_result"
    }
   ],
   "source": [
    "orders[(orders[\"order_dow\"] == 3) & (orders[\"order_hour_of_day\"] == 2)]"
   ]
  },
  {
   "cell_type": "code",
   "execution_count": 75,
   "id": "f6113ef1",
   "metadata": {},
   "outputs": [
    {
     "data": {
      "text/plain": [
       "0"
      ]
     },
     "execution_count": 75,
     "metadata": {},
     "output_type": "execute_result"
    }
   ],
   "source": [
    "# Double check for duplicate order IDs only\n",
    "orders.duplicated(subset='order_id').sum()"
   ]
  },
  {
   "cell_type": "code",
   "execution_count": 76,
   "id": "484a638d",
   "metadata": {},
   "outputs": [
    {
     "data": {
      "text/plain": [
       "0"
      ]
     },
     "execution_count": 76,
     "metadata": {},
     "output_type": "execute_result"
    }
   ],
   "source": [
    "orders.duplicated(subset=['order_id','user_id']).sum()"
   ]
  },
  {
   "cell_type": "markdown",
   "id": "f9e7f3d4",
   "metadata": {},
   "source": [
    "**Summary:**\n",
    "All of the duplicates occured on the 4th day of the week (assuming that \"0\" stands for the first day of the week), on 2 am. But not all of the entries from this day and hour are duplicated.\n",
    "It is advisable to check who is responsible for entering that data in order to avoid similar errors in the future."
   ]
  },
  {
   "cell_type": "markdown",
   "id": "45e6bc46",
   "metadata": {},
   "source": [
    "### `products` data frame"
   ]
  },
  {
   "cell_type": "code",
   "execution_count": 77,
   "id": "5f526b5b-8175-46fa-a0fd-441767d50e64",
   "metadata": {},
   "outputs": [
    {
     "data": {
      "text/plain": [
       "0"
      ]
     },
     "execution_count": 77,
     "metadata": {},
     "output_type": "execute_result"
    }
   ],
   "source": [
    "# Check for fully duplicate rows\n",
    "products.duplicated().sum()"
   ]
  },
  {
   "cell_type": "code",
   "execution_count": 78,
   "id": "88daa4f4",
   "metadata": {},
   "outputs": [
    {
     "data": {
      "text/plain": [
       "0"
      ]
     },
     "execution_count": 78,
     "metadata": {},
     "output_type": "execute_result"
    }
   ],
   "source": [
    "# Check for just duplicate product IDs\n",
    "products.duplicated(subset='product_id').sum()"
   ]
  },
  {
   "cell_type": "code",
   "execution_count": 79,
   "id": "c773f0bf",
   "metadata": {},
   "outputs": [
    {
     "data": {
      "text/plain": [
       "1361"
      ]
     },
     "execution_count": 79,
     "metadata": {},
     "output_type": "execute_result"
    }
   ],
   "source": [
    "# Check for just duplicate product names (convert names to lowercase to compare better)\n",
    "products['product_name']=products['product_name'].str.lower()\n",
    "products.duplicated(subset='product_name').sum()"
   ]
  },
  {
   "cell_type": "code",
   "execution_count": 80,
   "id": "01efd02e",
   "metadata": {},
   "outputs": [
    {
     "data": {
      "text/html": [
       "<div>\n",
       "<style scoped>\n",
       "    .dataframe tbody tr th:only-of-type {\n",
       "        vertical-align: middle;\n",
       "    }\n",
       "\n",
       "    .dataframe tbody tr th {\n",
       "        vertical-align: top;\n",
       "    }\n",
       "\n",
       "    .dataframe thead th {\n",
       "        text-align: right;\n",
       "    }\n",
       "</style>\n",
       "<table border=\"1\" class=\"dataframe\">\n",
       "  <thead>\n",
       "    <tr style=\"text-align: right;\">\n",
       "      <th></th>\n",
       "      <th>product_id</th>\n",
       "      <th>product_name</th>\n",
       "      <th>aisle_id</th>\n",
       "      <th>department_id</th>\n",
       "    </tr>\n",
       "  </thead>\n",
       "  <tbody>\n",
       "    <tr>\n",
       "      <th>2058</th>\n",
       "      <td>2059</td>\n",
       "      <td>biotin 1000 mcg</td>\n",
       "      <td>47</td>\n",
       "      <td>11</td>\n",
       "    </tr>\n",
       "    <tr>\n",
       "      <th>5455</th>\n",
       "      <td>5456</td>\n",
       "      <td>green tea with ginseng and honey</td>\n",
       "      <td>96</td>\n",
       "      <td>20</td>\n",
       "    </tr>\n",
       "    <tr>\n",
       "      <th>5558</th>\n",
       "      <td>5559</td>\n",
       "      <td>cream of mushroom soup</td>\n",
       "      <td>69</td>\n",
       "      <td>15</td>\n",
       "    </tr>\n",
       "    <tr>\n",
       "      <th>7558</th>\n",
       "      <td>7559</td>\n",
       "      <td>cinnamon rolls with icing</td>\n",
       "      <td>105</td>\n",
       "      <td>13</td>\n",
       "    </tr>\n",
       "    <tr>\n",
       "      <th>9037</th>\n",
       "      <td>9038</td>\n",
       "      <td>american cheese slices</td>\n",
       "      <td>21</td>\n",
       "      <td>16</td>\n",
       "    </tr>\n",
       "    <tr>\n",
       "      <th>...</th>\n",
       "      <td>...</td>\n",
       "      <td>...</td>\n",
       "      <td>...</td>\n",
       "      <td>...</td>\n",
       "    </tr>\n",
       "    <tr>\n",
       "      <th>49689</th>\n",
       "      <td>49690</td>\n",
       "      <td>high performance energy drink</td>\n",
       "      <td>64</td>\n",
       "      <td>7</td>\n",
       "    </tr>\n",
       "    <tr>\n",
       "      <th>49690</th>\n",
       "      <td>49691</td>\n",
       "      <td>original pancake &amp; waffle mix</td>\n",
       "      <td>130</td>\n",
       "      <td>14</td>\n",
       "    </tr>\n",
       "    <tr>\n",
       "      <th>49691</th>\n",
       "      <td>49692</td>\n",
       "      <td>organic instant oatmeal light maple brown sugar</td>\n",
       "      <td>130</td>\n",
       "      <td>14</td>\n",
       "    </tr>\n",
       "    <tr>\n",
       "      <th>49692</th>\n",
       "      <td>49693</td>\n",
       "      <td>spring water body wash</td>\n",
       "      <td>127</td>\n",
       "      <td>11</td>\n",
       "    </tr>\n",
       "    <tr>\n",
       "      <th>49693</th>\n",
       "      <td>49694</td>\n",
       "      <td>burrito- steak &amp; cheese</td>\n",
       "      <td>38</td>\n",
       "      <td>1</td>\n",
       "    </tr>\n",
       "  </tbody>\n",
       "</table>\n",
       "<p>104 rows × 4 columns</p>\n",
       "</div>"
      ],
      "text/plain": [
       "       product_id                                     product_name  aisle_id  \\\n",
       "2058         2059                                  biotin 1000 mcg        47   \n",
       "5455         5456                 green tea with ginseng and honey        96   \n",
       "5558         5559                           cream of mushroom soup        69   \n",
       "7558         7559                        cinnamon rolls with icing       105   \n",
       "9037         9038                           american cheese slices        21   \n",
       "...           ...                                              ...       ...   \n",
       "49689       49690                    high performance energy drink        64   \n",
       "49690       49691                    original pancake & waffle mix       130   \n",
       "49691       49692  organic instant oatmeal light maple brown sugar       130   \n",
       "49692       49693                           spring water body wash       127   \n",
       "49693       49694                          burrito- steak & cheese        38   \n",
       "\n",
       "       department_id  \n",
       "2058              11  \n",
       "5455              20  \n",
       "5558              15  \n",
       "7558              13  \n",
       "9037              16  \n",
       "...              ...  \n",
       "49689              7  \n",
       "49690             14  \n",
       "49691             14  \n",
       "49692             11  \n",
       "49693              1  \n",
       "\n",
       "[104 rows x 4 columns]"
      ]
     },
     "execution_count": 80,
     "metadata": {},
     "output_type": "execute_result"
    }
   ],
   "source": [
    "# Check for duplicate product names that aren't missing\n",
    "products[(products.duplicated(subset='product_name'))&(~products['product_name'].isna())]"
   ]
  },
  {
   "cell_type": "markdown",
   "id": "9da8d293",
   "metadata": {},
   "source": []
  },
  {
   "cell_type": "code",
   "execution_count": 81,
   "id": "48174ffe",
   "metadata": {},
   "outputs": [
    {
     "data": {
      "text/html": [
       "<div>\n",
       "<style scoped>\n",
       "    .dataframe tbody tr th:only-of-type {\n",
       "        vertical-align: middle;\n",
       "    }\n",
       "\n",
       "    .dataframe tbody tr th {\n",
       "        vertical-align: top;\n",
       "    }\n",
       "\n",
       "    .dataframe thead th {\n",
       "        text-align: right;\n",
       "    }\n",
       "</style>\n",
       "<table border=\"1\" class=\"dataframe\">\n",
       "  <thead>\n",
       "    <tr style=\"text-align: right;\">\n",
       "      <th></th>\n",
       "      <th>product_id</th>\n",
       "      <th>product_name</th>\n",
       "      <th>aisle_id</th>\n",
       "      <th>department_id</th>\n",
       "    </tr>\n",
       "  </thead>\n",
       "  <tbody>\n",
       "    <tr>\n",
       "      <th>41</th>\n",
       "      <td>42</td>\n",
       "      <td>biotin 1000 mcg</td>\n",
       "      <td>47</td>\n",
       "      <td>11</td>\n",
       "    </tr>\n",
       "    <tr>\n",
       "      <th>2058</th>\n",
       "      <td>2059</td>\n",
       "      <td>biotin 1000 mcg</td>\n",
       "      <td>47</td>\n",
       "      <td>11</td>\n",
       "    </tr>\n",
       "  </tbody>\n",
       "</table>\n",
       "</div>"
      ],
      "text/plain": [
       "      product_id     product_name  aisle_id  department_id\n",
       "41            42  biotin 1000 mcg        47             11\n",
       "2058        2059  biotin 1000 mcg        47             11"
      ]
     },
     "execution_count": 81,
     "metadata": {},
     "output_type": "execute_result"
    }
   ],
   "source": [
    "products[products['product_name']=='biotin 1000 mcg']"
   ]
  },
  {
   "cell_type": "markdown",
   "id": "35e70ec3",
   "metadata": {},
   "source": [
    "**Summary:**\n",
    "We found duplicated values in the 'product_name' column, but we can't drop those duplicates as they may be associated with other tables by different product id's.\n",
    "Out of 1,361 duplicates, only 104 are actual duplicates, while the rest are due to missing values.  \n",
    "\n"
   ]
  },
  {
   "cell_type": "markdown",
   "id": "60f30db1",
   "metadata": {},
   "source": [
    "### `departments` data frame"
   ]
  },
  {
   "cell_type": "code",
   "execution_count": 82,
   "id": "fb410ad4-0fbf-4b80-bb09-23fdea79afe3",
   "metadata": {},
   "outputs": [
    {
     "data": {
      "text/html": [
       "<div>\n",
       "<style scoped>\n",
       "    .dataframe tbody tr th:only-of-type {\n",
       "        vertical-align: middle;\n",
       "    }\n",
       "\n",
       "    .dataframe tbody tr th {\n",
       "        vertical-align: top;\n",
       "    }\n",
       "\n",
       "    .dataframe thead th {\n",
       "        text-align: right;\n",
       "    }\n",
       "</style>\n",
       "<table border=\"1\" class=\"dataframe\">\n",
       "  <thead>\n",
       "    <tr style=\"text-align: right;\">\n",
       "      <th></th>\n",
       "      <th>department_id</th>\n",
       "      <th>department</th>\n",
       "    </tr>\n",
       "  </thead>\n",
       "  <tbody>\n",
       "    <tr>\n",
       "      <th>0</th>\n",
       "      <td>1</td>\n",
       "      <td>frozen</td>\n",
       "    </tr>\n",
       "    <tr>\n",
       "      <th>1</th>\n",
       "      <td>2</td>\n",
       "      <td>other</td>\n",
       "    </tr>\n",
       "    <tr>\n",
       "      <th>2</th>\n",
       "      <td>3</td>\n",
       "      <td>bakery</td>\n",
       "    </tr>\n",
       "    <tr>\n",
       "      <th>3</th>\n",
       "      <td>4</td>\n",
       "      <td>produce</td>\n",
       "    </tr>\n",
       "    <tr>\n",
       "      <th>4</th>\n",
       "      <td>5</td>\n",
       "      <td>alcohol</td>\n",
       "    </tr>\n",
       "    <tr>\n",
       "      <th>5</th>\n",
       "      <td>6</td>\n",
       "      <td>international</td>\n",
       "    </tr>\n",
       "    <tr>\n",
       "      <th>6</th>\n",
       "      <td>7</td>\n",
       "      <td>beverages</td>\n",
       "    </tr>\n",
       "    <tr>\n",
       "      <th>7</th>\n",
       "      <td>8</td>\n",
       "      <td>pets</td>\n",
       "    </tr>\n",
       "    <tr>\n",
       "      <th>8</th>\n",
       "      <td>9</td>\n",
       "      <td>dry goods pasta</td>\n",
       "    </tr>\n",
       "    <tr>\n",
       "      <th>9</th>\n",
       "      <td>10</td>\n",
       "      <td>bulk</td>\n",
       "    </tr>\n",
       "    <tr>\n",
       "      <th>10</th>\n",
       "      <td>11</td>\n",
       "      <td>personal care</td>\n",
       "    </tr>\n",
       "    <tr>\n",
       "      <th>11</th>\n",
       "      <td>12</td>\n",
       "      <td>meat seafood</td>\n",
       "    </tr>\n",
       "    <tr>\n",
       "      <th>12</th>\n",
       "      <td>13</td>\n",
       "      <td>pantry</td>\n",
       "    </tr>\n",
       "    <tr>\n",
       "      <th>13</th>\n",
       "      <td>14</td>\n",
       "      <td>breakfast</td>\n",
       "    </tr>\n",
       "    <tr>\n",
       "      <th>14</th>\n",
       "      <td>15</td>\n",
       "      <td>canned goods</td>\n",
       "    </tr>\n",
       "    <tr>\n",
       "      <th>15</th>\n",
       "      <td>16</td>\n",
       "      <td>dairy eggs</td>\n",
       "    </tr>\n",
       "    <tr>\n",
       "      <th>16</th>\n",
       "      <td>17</td>\n",
       "      <td>household</td>\n",
       "    </tr>\n",
       "    <tr>\n",
       "      <th>17</th>\n",
       "      <td>18</td>\n",
       "      <td>babies</td>\n",
       "    </tr>\n",
       "    <tr>\n",
       "      <th>18</th>\n",
       "      <td>19</td>\n",
       "      <td>snacks</td>\n",
       "    </tr>\n",
       "    <tr>\n",
       "      <th>19</th>\n",
       "      <td>20</td>\n",
       "      <td>deli</td>\n",
       "    </tr>\n",
       "    <tr>\n",
       "      <th>20</th>\n",
       "      <td>21</td>\n",
       "      <td>missing</td>\n",
       "    </tr>\n",
       "  </tbody>\n",
       "</table>\n",
       "</div>"
      ],
      "text/plain": [
       "    department_id       department\n",
       "0               1           frozen\n",
       "1               2            other\n",
       "2               3           bakery\n",
       "3               4          produce\n",
       "4               5          alcohol\n",
       "5               6    international\n",
       "6               7        beverages\n",
       "7               8             pets\n",
       "8               9  dry goods pasta\n",
       "9              10             bulk\n",
       "10             11    personal care\n",
       "11             12     meat seafood\n",
       "12             13           pantry\n",
       "13             14        breakfast\n",
       "14             15     canned goods\n",
       "15             16       dairy eggs\n",
       "16             17        household\n",
       "17             18           babies\n",
       "18             19           snacks\n",
       "19             20             deli\n",
       "20             21          missing"
      ]
     },
     "execution_count": 82,
     "metadata": {},
     "output_type": "execute_result"
    }
   ],
   "source": [
    "dep"
   ]
  },
  {
   "cell_type": "code",
   "execution_count": 83,
   "id": "b8ec894f",
   "metadata": {},
   "outputs": [
    {
     "data": {
      "text/plain": [
       "0"
      ]
     },
     "execution_count": 83,
     "metadata": {},
     "output_type": "execute_result"
    }
   ],
   "source": [
    "# Check for fully duplicate rows\n",
    "dep.duplicated().sum()"
   ]
  },
  {
   "cell_type": "code",
   "execution_count": 84,
   "id": "1a017c37",
   "metadata": {},
   "outputs": [
    {
     "data": {
      "text/plain": [
       "0"
      ]
     },
     "execution_count": 84,
     "metadata": {},
     "output_type": "execute_result"
    }
   ],
   "source": [
    "dep['department'].duplicated().sum()"
   ]
  },
  {
   "cell_type": "markdown",
   "id": "248f1d2e",
   "metadata": {},
   "source": [
    "**Summary:** clean data, only unique values."
   ]
  },
  {
   "cell_type": "markdown",
   "id": "889349c1",
   "metadata": {},
   "source": [
    "### `aisles` data frame"
   ]
  },
  {
   "cell_type": "code",
   "execution_count": 85,
   "id": "9da89fb9-4679-40f5-ad0d-c34df753a3f8",
   "metadata": {},
   "outputs": [
    {
     "data": {
      "text/html": [
       "<div>\n",
       "<style scoped>\n",
       "    .dataframe tbody tr th:only-of-type {\n",
       "        vertical-align: middle;\n",
       "    }\n",
       "\n",
       "    .dataframe tbody tr th {\n",
       "        vertical-align: top;\n",
       "    }\n",
       "\n",
       "    .dataframe thead th {\n",
       "        text-align: right;\n",
       "    }\n",
       "</style>\n",
       "<table border=\"1\" class=\"dataframe\">\n",
       "  <thead>\n",
       "    <tr style=\"text-align: right;\">\n",
       "      <th></th>\n",
       "      <th>aisle_id</th>\n",
       "      <th>aisle</th>\n",
       "    </tr>\n",
       "  </thead>\n",
       "  <tbody>\n",
       "    <tr>\n",
       "      <th>0</th>\n",
       "      <td>1</td>\n",
       "      <td>prepared soups salads</td>\n",
       "    </tr>\n",
       "    <tr>\n",
       "      <th>1</th>\n",
       "      <td>2</td>\n",
       "      <td>specialty cheeses</td>\n",
       "    </tr>\n",
       "    <tr>\n",
       "      <th>2</th>\n",
       "      <td>3</td>\n",
       "      <td>energy granola bars</td>\n",
       "    </tr>\n",
       "    <tr>\n",
       "      <th>3</th>\n",
       "      <td>4</td>\n",
       "      <td>instant foods</td>\n",
       "    </tr>\n",
       "    <tr>\n",
       "      <th>4</th>\n",
       "      <td>5</td>\n",
       "      <td>marinades meat preparation</td>\n",
       "    </tr>\n",
       "    <tr>\n",
       "      <th>...</th>\n",
       "      <td>...</td>\n",
       "      <td>...</td>\n",
       "    </tr>\n",
       "    <tr>\n",
       "      <th>129</th>\n",
       "      <td>130</td>\n",
       "      <td>hot cereal pancake mixes</td>\n",
       "    </tr>\n",
       "    <tr>\n",
       "      <th>130</th>\n",
       "      <td>131</td>\n",
       "      <td>dry pasta</td>\n",
       "    </tr>\n",
       "    <tr>\n",
       "      <th>131</th>\n",
       "      <td>132</td>\n",
       "      <td>beauty</td>\n",
       "    </tr>\n",
       "    <tr>\n",
       "      <th>132</th>\n",
       "      <td>133</td>\n",
       "      <td>muscles joints pain relief</td>\n",
       "    </tr>\n",
       "    <tr>\n",
       "      <th>133</th>\n",
       "      <td>134</td>\n",
       "      <td>specialty wines champagnes</td>\n",
       "    </tr>\n",
       "  </tbody>\n",
       "</table>\n",
       "<p>134 rows × 2 columns</p>\n",
       "</div>"
      ],
      "text/plain": [
       "     aisle_id                       aisle\n",
       "0           1       prepared soups salads\n",
       "1           2           specialty cheeses\n",
       "2           3         energy granola bars\n",
       "3           4               instant foods\n",
       "4           5  marinades meat preparation\n",
       "..        ...                         ...\n",
       "129       130    hot cereal pancake mixes\n",
       "130       131                   dry pasta\n",
       "131       132                      beauty\n",
       "132       133  muscles joints pain relief\n",
       "133       134  specialty wines champagnes\n",
       "\n",
       "[134 rows x 2 columns]"
      ]
     },
     "execution_count": 85,
     "metadata": {},
     "output_type": "execute_result"
    }
   ],
   "source": [
    "aisle"
   ]
  },
  {
   "cell_type": "code",
   "execution_count": 86,
   "id": "da7c2822",
   "metadata": {},
   "outputs": [
    {
     "data": {
      "text/plain": [
       "0"
      ]
     },
     "execution_count": 86,
     "metadata": {},
     "output_type": "execute_result"
    }
   ],
   "source": [
    "# Check for fully duplicate rows\n",
    "aisle.duplicated().sum()"
   ]
  },
  {
   "cell_type": "code",
   "execution_count": 87,
   "id": "b98a54f0",
   "metadata": {},
   "outputs": [
    {
     "data": {
      "text/plain": [
       "0"
      ]
     },
     "execution_count": 87,
     "metadata": {},
     "output_type": "execute_result"
    }
   ],
   "source": [
    "aisle['aisle'].duplicated().sum()"
   ]
  },
  {
   "cell_type": "markdown",
   "id": "582774be",
   "metadata": {},
   "source": [
    "**Summary:** clean data, only unique values."
   ]
  },
  {
   "cell_type": "markdown",
   "id": "ac63826f",
   "metadata": {},
   "source": []
  },
  {
   "cell_type": "markdown",
   "id": "274cd06a",
   "metadata": {},
   "source": [
    "### `order_products` data frame"
   ]
  },
  {
   "cell_type": "code",
   "execution_count": 88,
   "id": "2f43e010",
   "metadata": {},
   "outputs": [
    {
     "data": {
      "text/html": [
       "<div>\n",
       "<style scoped>\n",
       "    .dataframe tbody tr th:only-of-type {\n",
       "        vertical-align: middle;\n",
       "    }\n",
       "\n",
       "    .dataframe tbody tr th {\n",
       "        vertical-align: top;\n",
       "    }\n",
       "\n",
       "    .dataframe thead th {\n",
       "        text-align: right;\n",
       "    }\n",
       "</style>\n",
       "<table border=\"1\" class=\"dataframe\">\n",
       "  <thead>\n",
       "    <tr style=\"text-align: right;\">\n",
       "      <th></th>\n",
       "      <th>order_id</th>\n",
       "      <th>product_id</th>\n",
       "      <th>add_to_cart_order</th>\n",
       "      <th>reordered</th>\n",
       "    </tr>\n",
       "  </thead>\n",
       "  <tbody>\n",
       "    <tr>\n",
       "      <th>0</th>\n",
       "      <td>2141543</td>\n",
       "      <td>11440</td>\n",
       "      <td>17.0</td>\n",
       "      <td>0</td>\n",
       "    </tr>\n",
       "    <tr>\n",
       "      <th>1</th>\n",
       "      <td>567889</td>\n",
       "      <td>1560</td>\n",
       "      <td>1.0</td>\n",
       "      <td>1</td>\n",
       "    </tr>\n",
       "    <tr>\n",
       "      <th>2</th>\n",
       "      <td>2261212</td>\n",
       "      <td>26683</td>\n",
       "      <td>1.0</td>\n",
       "      <td>1</td>\n",
       "    </tr>\n",
       "    <tr>\n",
       "      <th>3</th>\n",
       "      <td>491251</td>\n",
       "      <td>8670</td>\n",
       "      <td>35.0</td>\n",
       "      <td>1</td>\n",
       "    </tr>\n",
       "    <tr>\n",
       "      <th>4</th>\n",
       "      <td>2571142</td>\n",
       "      <td>1940</td>\n",
       "      <td>5.0</td>\n",
       "      <td>1</td>\n",
       "    </tr>\n",
       "    <tr>\n",
       "      <th>...</th>\n",
       "      <td>...</td>\n",
       "      <td>...</td>\n",
       "      <td>...</td>\n",
       "      <td>...</td>\n",
       "    </tr>\n",
       "    <tr>\n",
       "      <th>4545002</th>\n",
       "      <td>577211</td>\n",
       "      <td>15290</td>\n",
       "      <td>12.0</td>\n",
       "      <td>1</td>\n",
       "    </tr>\n",
       "    <tr>\n",
       "      <th>4545003</th>\n",
       "      <td>1219554</td>\n",
       "      <td>21914</td>\n",
       "      <td>9.0</td>\n",
       "      <td>0</td>\n",
       "    </tr>\n",
       "    <tr>\n",
       "      <th>4545004</th>\n",
       "      <td>692640</td>\n",
       "      <td>47766</td>\n",
       "      <td>4.0</td>\n",
       "      <td>1</td>\n",
       "    </tr>\n",
       "    <tr>\n",
       "      <th>4545005</th>\n",
       "      <td>319435</td>\n",
       "      <td>691</td>\n",
       "      <td>8.0</td>\n",
       "      <td>1</td>\n",
       "    </tr>\n",
       "    <tr>\n",
       "      <th>4545006</th>\n",
       "      <td>1398151</td>\n",
       "      <td>28733</td>\n",
       "      <td>9.0</td>\n",
       "      <td>0</td>\n",
       "    </tr>\n",
       "  </tbody>\n",
       "</table>\n",
       "<p>4545007 rows × 4 columns</p>\n",
       "</div>"
      ],
      "text/plain": [
       "         order_id  product_id  add_to_cart_order  reordered\n",
       "0         2141543       11440               17.0          0\n",
       "1          567889        1560                1.0          1\n",
       "2         2261212       26683                1.0          1\n",
       "3          491251        8670               35.0          1\n",
       "4         2571142        1940                5.0          1\n",
       "...           ...         ...                ...        ...\n",
       "4545002    577211       15290               12.0          1\n",
       "4545003   1219554       21914                9.0          0\n",
       "4545004    692640       47766                4.0          1\n",
       "4545005    319435         691                8.0          1\n",
       "4545006   1398151       28733                9.0          0\n",
       "\n",
       "[4545007 rows x 4 columns]"
      ]
     },
     "execution_count": 88,
     "metadata": {},
     "output_type": "execute_result"
    }
   ],
   "source": [
    "order_p"
   ]
  },
  {
   "cell_type": "code",
   "execution_count": 89,
   "id": "52326689-84a8-4b8f-a881-7c68780f62c9",
   "metadata": {},
   "outputs": [
    {
     "data": {
      "text/plain": [
       "0"
      ]
     },
     "execution_count": 89,
     "metadata": {},
     "output_type": "execute_result"
    }
   ],
   "source": [
    "# Check for fullly duplicate rows\n",
    "order_p.duplicated().sum()"
   ]
  },
  {
   "cell_type": "code",
   "execution_count": 90,
   "id": "7b861391",
   "metadata": {},
   "outputs": [
    {
     "data": {
      "text/plain": [
       "0"
      ]
     },
     "execution_count": 90,
     "metadata": {},
     "output_type": "execute_result"
    }
   ],
   "source": [
    "# Double check for any other tricky duplicates\n",
    "order_p.duplicated(subset=['order_id','product_id']).sum()"
   ]
  },
  {
   "cell_type": "code",
   "execution_count": 91,
   "id": "5f9c6b16",
   "metadata": {},
   "outputs": [
    {
     "name": "stdout",
     "output_type": "stream",
     "text": [
      "<class 'pandas.core.frame.DataFrame'>\n",
      "RangeIndex: 4545007 entries, 0 to 4545006\n",
      "Data columns (total 4 columns):\n",
      " #   Column             Dtype  \n",
      "---  ------             -----  \n",
      " 0   order_id           int64  \n",
      " 1   product_id         int64  \n",
      " 2   add_to_cart_order  float64\n",
      " 3   reordered          int64  \n",
      "dtypes: float64(1), int64(3)\n",
      "memory usage: 138.7 MB\n"
     ]
    }
   ],
   "source": [
    "order_p.info()"
   ]
  },
  {
   "cell_type": "markdown",
   "id": "368742f7",
   "metadata": {},
   "source": [
    "**Summary:** clean data, only unique values."
   ]
  },
  {
   "cell_type": "markdown",
   "id": "1e46de76",
   "metadata": {},
   "source": [
    "## Find and remove missing values\n"
   ]
  },
  {
   "cell_type": "markdown",
   "id": "c0aebd78",
   "metadata": {},
   "source": [
    "### `products` data frame"
   ]
  },
  {
   "cell_type": "code",
   "execution_count": 92,
   "id": "fe4a8b0f",
   "metadata": {},
   "outputs": [
    {
     "data": {
      "text/html": [
       "<div>\n",
       "<style scoped>\n",
       "    .dataframe tbody tr th:only-of-type {\n",
       "        vertical-align: middle;\n",
       "    }\n",
       "\n",
       "    .dataframe tbody tr th {\n",
       "        vertical-align: top;\n",
       "    }\n",
       "\n",
       "    .dataframe thead th {\n",
       "        text-align: right;\n",
       "    }\n",
       "</style>\n",
       "<table border=\"1\" class=\"dataframe\">\n",
       "  <thead>\n",
       "    <tr style=\"text-align: right;\">\n",
       "      <th></th>\n",
       "      <th>product_id</th>\n",
       "      <th>product_name</th>\n",
       "      <th>aisle_id</th>\n",
       "      <th>department_id</th>\n",
       "    </tr>\n",
       "  </thead>\n",
       "  <tbody>\n",
       "    <tr>\n",
       "      <th>0</th>\n",
       "      <td>1</td>\n",
       "      <td>chocolate sandwich cookies</td>\n",
       "      <td>61</td>\n",
       "      <td>19</td>\n",
       "    </tr>\n",
       "    <tr>\n",
       "      <th>1</th>\n",
       "      <td>2</td>\n",
       "      <td>all-seasons salt</td>\n",
       "      <td>104</td>\n",
       "      <td>13</td>\n",
       "    </tr>\n",
       "    <tr>\n",
       "      <th>2</th>\n",
       "      <td>3</td>\n",
       "      <td>robust golden unsweetened oolong tea</td>\n",
       "      <td>94</td>\n",
       "      <td>7</td>\n",
       "    </tr>\n",
       "    <tr>\n",
       "      <th>3</th>\n",
       "      <td>4</td>\n",
       "      <td>smart ones classic favorites mini rigatoni wit...</td>\n",
       "      <td>38</td>\n",
       "      <td>1</td>\n",
       "    </tr>\n",
       "    <tr>\n",
       "      <th>4</th>\n",
       "      <td>5</td>\n",
       "      <td>green chile anytime sauce</td>\n",
       "      <td>5</td>\n",
       "      <td>13</td>\n",
       "    </tr>\n",
       "    <tr>\n",
       "      <th>...</th>\n",
       "      <td>...</td>\n",
       "      <td>...</td>\n",
       "      <td>...</td>\n",
       "      <td>...</td>\n",
       "    </tr>\n",
       "    <tr>\n",
       "      <th>49689</th>\n",
       "      <td>49690</td>\n",
       "      <td>high performance energy drink</td>\n",
       "      <td>64</td>\n",
       "      <td>7</td>\n",
       "    </tr>\n",
       "    <tr>\n",
       "      <th>49690</th>\n",
       "      <td>49691</td>\n",
       "      <td>original pancake &amp; waffle mix</td>\n",
       "      <td>130</td>\n",
       "      <td>14</td>\n",
       "    </tr>\n",
       "    <tr>\n",
       "      <th>49691</th>\n",
       "      <td>49692</td>\n",
       "      <td>organic instant oatmeal light maple brown sugar</td>\n",
       "      <td>130</td>\n",
       "      <td>14</td>\n",
       "    </tr>\n",
       "    <tr>\n",
       "      <th>49692</th>\n",
       "      <td>49693</td>\n",
       "      <td>spring water body wash</td>\n",
       "      <td>127</td>\n",
       "      <td>11</td>\n",
       "    </tr>\n",
       "    <tr>\n",
       "      <th>49693</th>\n",
       "      <td>49694</td>\n",
       "      <td>burrito- steak &amp; cheese</td>\n",
       "      <td>38</td>\n",
       "      <td>1</td>\n",
       "    </tr>\n",
       "  </tbody>\n",
       "</table>\n",
       "<p>49694 rows × 4 columns</p>\n",
       "</div>"
      ],
      "text/plain": [
       "       product_id                                       product_name  \\\n",
       "0               1                         chocolate sandwich cookies   \n",
       "1               2                                   all-seasons salt   \n",
       "2               3               robust golden unsweetened oolong tea   \n",
       "3               4  smart ones classic favorites mini rigatoni wit...   \n",
       "4               5                          green chile anytime sauce   \n",
       "...           ...                                                ...   \n",
       "49689       49690                      high performance energy drink   \n",
       "49690       49691                      original pancake & waffle mix   \n",
       "49691       49692    organic instant oatmeal light maple brown sugar   \n",
       "49692       49693                             spring water body wash   \n",
       "49693       49694                            burrito- steak & cheese   \n",
       "\n",
       "       aisle_id  department_id  \n",
       "0            61             19  \n",
       "1           104             13  \n",
       "2            94              7  \n",
       "3            38              1  \n",
       "4             5             13  \n",
       "...         ...            ...  \n",
       "49689        64              7  \n",
       "49690       130             14  \n",
       "49691       130             14  \n",
       "49692       127             11  \n",
       "49693        38              1  \n",
       "\n",
       "[49694 rows x 4 columns]"
      ]
     },
     "execution_count": 92,
     "metadata": {},
     "output_type": "execute_result"
    }
   ],
   "source": [
    "products"
   ]
  },
  {
   "cell_type": "code",
   "execution_count": 93,
   "id": "4c1a7fe5",
   "metadata": {},
   "outputs": [
    {
     "name": "stdout",
     "output_type": "stream",
     "text": [
      "<class 'pandas.core.frame.DataFrame'>\n",
      "RangeIndex: 49694 entries, 0 to 49693\n",
      "Data columns (total 4 columns):\n",
      " #   Column         Non-Null Count  Dtype \n",
      "---  ------         --------------  ----- \n",
      " 0   product_id     49694 non-null  int64 \n",
      " 1   product_name   48436 non-null  object\n",
      " 2   aisle_id       49694 non-null  int64 \n",
      " 3   department_id  49694 non-null  int64 \n",
      "dtypes: int64(3), object(1)\n",
      "memory usage: 1.5+ MB\n"
     ]
    }
   ],
   "source": [
    "products.info()"
   ]
  },
  {
   "cell_type": "code",
   "execution_count": 94,
   "id": "a0d66d81",
   "metadata": {},
   "outputs": [
    {
     "data": {
      "text/plain": [
       "1258"
      ]
     },
     "execution_count": 94,
     "metadata": {},
     "output_type": "execute_result"
    }
   ],
   "source": [
    "products['product_name'].isna().sum()"
   ]
  },
  {
   "cell_type": "code",
   "execution_count": 95,
   "id": "e96167bc",
   "metadata": {},
   "outputs": [
    {
     "data": {
      "text/html": [
       "<div>\n",
       "<style scoped>\n",
       "    .dataframe tbody tr th:only-of-type {\n",
       "        vertical-align: middle;\n",
       "    }\n",
       "\n",
       "    .dataframe tbody tr th {\n",
       "        vertical-align: top;\n",
       "    }\n",
       "\n",
       "    .dataframe thead th {\n",
       "        text-align: right;\n",
       "    }\n",
       "</style>\n",
       "<table border=\"1\" class=\"dataframe\">\n",
       "  <thead>\n",
       "    <tr style=\"text-align: right;\">\n",
       "      <th></th>\n",
       "      <th>product_id</th>\n",
       "      <th>product_name</th>\n",
       "      <th>aisle_id</th>\n",
       "      <th>department_id</th>\n",
       "    </tr>\n",
       "  </thead>\n",
       "  <tbody>\n",
       "    <tr>\n",
       "      <th>37</th>\n",
       "      <td>38</td>\n",
       "      <td>NaN</td>\n",
       "      <td>100</td>\n",
       "      <td>21</td>\n",
       "    </tr>\n",
       "    <tr>\n",
       "      <th>71</th>\n",
       "      <td>72</td>\n",
       "      <td>NaN</td>\n",
       "      <td>100</td>\n",
       "      <td>21</td>\n",
       "    </tr>\n",
       "    <tr>\n",
       "      <th>109</th>\n",
       "      <td>110</td>\n",
       "      <td>NaN</td>\n",
       "      <td>100</td>\n",
       "      <td>21</td>\n",
       "    </tr>\n",
       "    <tr>\n",
       "      <th>296</th>\n",
       "      <td>297</td>\n",
       "      <td>NaN</td>\n",
       "      <td>100</td>\n",
       "      <td>21</td>\n",
       "    </tr>\n",
       "    <tr>\n",
       "      <th>416</th>\n",
       "      <td>417</td>\n",
       "      <td>NaN</td>\n",
       "      <td>100</td>\n",
       "      <td>21</td>\n",
       "    </tr>\n",
       "    <tr>\n",
       "      <th>...</th>\n",
       "      <td>...</td>\n",
       "      <td>...</td>\n",
       "      <td>...</td>\n",
       "      <td>...</td>\n",
       "    </tr>\n",
       "    <tr>\n",
       "      <th>49552</th>\n",
       "      <td>49553</td>\n",
       "      <td>NaN</td>\n",
       "      <td>100</td>\n",
       "      <td>21</td>\n",
       "    </tr>\n",
       "    <tr>\n",
       "      <th>49574</th>\n",
       "      <td>49575</td>\n",
       "      <td>NaN</td>\n",
       "      <td>100</td>\n",
       "      <td>21</td>\n",
       "    </tr>\n",
       "    <tr>\n",
       "      <th>49640</th>\n",
       "      <td>49641</td>\n",
       "      <td>NaN</td>\n",
       "      <td>100</td>\n",
       "      <td>21</td>\n",
       "    </tr>\n",
       "    <tr>\n",
       "      <th>49663</th>\n",
       "      <td>49664</td>\n",
       "      <td>NaN</td>\n",
       "      <td>100</td>\n",
       "      <td>21</td>\n",
       "    </tr>\n",
       "    <tr>\n",
       "      <th>49668</th>\n",
       "      <td>49669</td>\n",
       "      <td>NaN</td>\n",
       "      <td>100</td>\n",
       "      <td>21</td>\n",
       "    </tr>\n",
       "  </tbody>\n",
       "</table>\n",
       "<p>1258 rows × 4 columns</p>\n",
       "</div>"
      ],
      "text/plain": [
       "       product_id product_name  aisle_id  department_id\n",
       "37             38          NaN       100             21\n",
       "71             72          NaN       100             21\n",
       "109           110          NaN       100             21\n",
       "296           297          NaN       100             21\n",
       "416           417          NaN       100             21\n",
       "...           ...          ...       ...            ...\n",
       "49552       49553          NaN       100             21\n",
       "49574       49575          NaN       100             21\n",
       "49640       49641          NaN       100             21\n",
       "49663       49664          NaN       100             21\n",
       "49668       49669          NaN       100             21\n",
       "\n",
       "[1258 rows x 4 columns]"
      ]
     },
     "execution_count": 95,
     "metadata": {},
     "output_type": "execute_result"
    }
   ],
   "source": [
    "# Are all of the missing product names associated with aisle ID 100?\n",
    "products[(products['product_name'].isna())&(products['aisle_id']==100)]"
   ]
  },
  {
   "cell_type": "markdown",
   "id": "75353ba5",
   "metadata": {},
   "source": [
    "All of the missing product names are associated with aisle ID 100."
   ]
  },
  {
   "cell_type": "code",
   "execution_count": 96,
   "id": "8fd0a541",
   "metadata": {},
   "outputs": [
    {
     "data": {
      "text/html": [
       "<div>\n",
       "<style scoped>\n",
       "    .dataframe tbody tr th:only-of-type {\n",
       "        vertical-align: middle;\n",
       "    }\n",
       "\n",
       "    .dataframe tbody tr th {\n",
       "        vertical-align: top;\n",
       "    }\n",
       "\n",
       "    .dataframe thead th {\n",
       "        text-align: right;\n",
       "    }\n",
       "</style>\n",
       "<table border=\"1\" class=\"dataframe\">\n",
       "  <thead>\n",
       "    <tr style=\"text-align: right;\">\n",
       "      <th></th>\n",
       "      <th>product_id</th>\n",
       "      <th>product_name</th>\n",
       "      <th>aisle_id</th>\n",
       "      <th>department_id</th>\n",
       "    </tr>\n",
       "  </thead>\n",
       "  <tbody>\n",
       "    <tr>\n",
       "      <th>37</th>\n",
       "      <td>38</td>\n",
       "      <td>NaN</td>\n",
       "      <td>100</td>\n",
       "      <td>21</td>\n",
       "    </tr>\n",
       "    <tr>\n",
       "      <th>71</th>\n",
       "      <td>72</td>\n",
       "      <td>NaN</td>\n",
       "      <td>100</td>\n",
       "      <td>21</td>\n",
       "    </tr>\n",
       "    <tr>\n",
       "      <th>109</th>\n",
       "      <td>110</td>\n",
       "      <td>NaN</td>\n",
       "      <td>100</td>\n",
       "      <td>21</td>\n",
       "    </tr>\n",
       "    <tr>\n",
       "      <th>296</th>\n",
       "      <td>297</td>\n",
       "      <td>NaN</td>\n",
       "      <td>100</td>\n",
       "      <td>21</td>\n",
       "    </tr>\n",
       "    <tr>\n",
       "      <th>416</th>\n",
       "      <td>417</td>\n",
       "      <td>NaN</td>\n",
       "      <td>100</td>\n",
       "      <td>21</td>\n",
       "    </tr>\n",
       "    <tr>\n",
       "      <th>...</th>\n",
       "      <td>...</td>\n",
       "      <td>...</td>\n",
       "      <td>...</td>\n",
       "      <td>...</td>\n",
       "    </tr>\n",
       "    <tr>\n",
       "      <th>49552</th>\n",
       "      <td>49553</td>\n",
       "      <td>NaN</td>\n",
       "      <td>100</td>\n",
       "      <td>21</td>\n",
       "    </tr>\n",
       "    <tr>\n",
       "      <th>49574</th>\n",
       "      <td>49575</td>\n",
       "      <td>NaN</td>\n",
       "      <td>100</td>\n",
       "      <td>21</td>\n",
       "    </tr>\n",
       "    <tr>\n",
       "      <th>49640</th>\n",
       "      <td>49641</td>\n",
       "      <td>NaN</td>\n",
       "      <td>100</td>\n",
       "      <td>21</td>\n",
       "    </tr>\n",
       "    <tr>\n",
       "      <th>49663</th>\n",
       "      <td>49664</td>\n",
       "      <td>NaN</td>\n",
       "      <td>100</td>\n",
       "      <td>21</td>\n",
       "    </tr>\n",
       "    <tr>\n",
       "      <th>49668</th>\n",
       "      <td>49669</td>\n",
       "      <td>NaN</td>\n",
       "      <td>100</td>\n",
       "      <td>21</td>\n",
       "    </tr>\n",
       "  </tbody>\n",
       "</table>\n",
       "<p>1258 rows × 4 columns</p>\n",
       "</div>"
      ],
      "text/plain": [
       "       product_id product_name  aisle_id  department_id\n",
       "37             38          NaN       100             21\n",
       "71             72          NaN       100             21\n",
       "109           110          NaN       100             21\n",
       "296           297          NaN       100             21\n",
       "416           417          NaN       100             21\n",
       "...           ...          ...       ...            ...\n",
       "49552       49553          NaN       100             21\n",
       "49574       49575          NaN       100             21\n",
       "49640       49641          NaN       100             21\n",
       "49663       49664          NaN       100             21\n",
       "49668       49669          NaN       100             21\n",
       "\n",
       "[1258 rows x 4 columns]"
      ]
     },
     "execution_count": 96,
     "metadata": {},
     "output_type": "execute_result"
    }
   ],
   "source": [
    "# Are all of the missing product names associated with department ID 21?\n",
    "products[(products['product_name'].isna())&(products['department_id']==21)]"
   ]
  },
  {
   "cell_type": "markdown",
   "id": "661cde10",
   "metadata": {},
   "source": [
    "All of the missing product names are associated with department ID 21."
   ]
  },
  {
   "cell_type": "code",
   "execution_count": 97,
   "id": "325c3464",
   "metadata": {},
   "outputs": [
    {
     "data": {
      "text/plain": [
       "99    missing\n",
       "Name: aisle, dtype: object"
      ]
     },
     "execution_count": 97,
     "metadata": {},
     "output_type": "execute_result"
    }
   ],
   "source": [
    "# What is this ailse and department?\n",
    "aisle[aisle['aisle_id']==100]['aisle']"
   ]
  },
  {
   "cell_type": "code",
   "execution_count": 98,
   "id": "ce5ca9a0",
   "metadata": {},
   "outputs": [
    {
     "data": {
      "text/plain": [
       "20    missing\n",
       "Name: department, dtype: object"
      ]
     },
     "execution_count": 98,
     "metadata": {},
     "output_type": "execute_result"
    }
   ],
   "source": [
    "dep[dep['department_id']==21]['department']"
   ]
  },
  {
   "cell_type": "code",
   "execution_count": 99,
   "id": "6b295120",
   "metadata": {},
   "outputs": [],
   "source": [
    "# Fill missing product names with 'Unknown'\n",
    "products['product_name'] = products['product_name'].fillna('Unknown')"
   ]
  },
  {
   "cell_type": "code",
   "execution_count": 100,
   "id": "82205879",
   "metadata": {},
   "outputs": [
    {
     "data": {
      "text/plain": [
       "0"
      ]
     },
     "execution_count": 100,
     "metadata": {},
     "output_type": "execute_result"
    }
   ],
   "source": [
    "products['product_name'].isna().sum()"
   ]
  },
  {
   "cell_type": "code",
   "execution_count": 101,
   "id": "046831b9",
   "metadata": {},
   "outputs": [
    {
     "name": "stdout",
     "output_type": "stream",
     "text": [
      "<class 'pandas.core.frame.DataFrame'>\n",
      "RangeIndex: 49694 entries, 0 to 49693\n",
      "Data columns (total 4 columns):\n",
      " #   Column         Non-Null Count  Dtype \n",
      "---  ------         --------------  ----- \n",
      " 0   product_id     49694 non-null  int64 \n",
      " 1   product_name   49694 non-null  object\n",
      " 2   aisle_id       49694 non-null  int64 \n",
      " 3   department_id  49694 non-null  int64 \n",
      "dtypes: int64(3), object(1)\n",
      "memory usage: 1.5+ MB\n"
     ]
    }
   ],
   "source": [
    "products.info()"
   ]
  },
  {
   "cell_type": "markdown",
   "id": "85dff919",
   "metadata": {},
   "source": [
    "**Summary:** the missing values in product names were associated with aisle ID 100 and department ID 21. The missing names were filled with 'Unknown'."
   ]
  },
  {
   "cell_type": "markdown",
   "id": "7eb45c86",
   "metadata": {},
   "source": [
    "### `orders` data frame"
   ]
  },
  {
   "cell_type": "code",
   "execution_count": 102,
   "id": "4865301a",
   "metadata": {},
   "outputs": [
    {
     "data": {
      "text/html": [
       "<div>\n",
       "<style scoped>\n",
       "    .dataframe tbody tr th:only-of-type {\n",
       "        vertical-align: middle;\n",
       "    }\n",
       "\n",
       "    .dataframe tbody tr th {\n",
       "        vertical-align: top;\n",
       "    }\n",
       "\n",
       "    .dataframe thead th {\n",
       "        text-align: right;\n",
       "    }\n",
       "</style>\n",
       "<table border=\"1\" class=\"dataframe\">\n",
       "  <thead>\n",
       "    <tr style=\"text-align: right;\">\n",
       "      <th></th>\n",
       "      <th>order_id</th>\n",
       "      <th>user_id</th>\n",
       "      <th>order_number</th>\n",
       "      <th>order_dow</th>\n",
       "      <th>order_hour_of_day</th>\n",
       "      <th>days_since_prior_order</th>\n",
       "    </tr>\n",
       "  </thead>\n",
       "  <tbody>\n",
       "    <tr>\n",
       "      <th>0</th>\n",
       "      <td>1515936</td>\n",
       "      <td>183418</td>\n",
       "      <td>11</td>\n",
       "      <td>6</td>\n",
       "      <td>13</td>\n",
       "      <td>30.0</td>\n",
       "    </tr>\n",
       "    <tr>\n",
       "      <th>1</th>\n",
       "      <td>1690866</td>\n",
       "      <td>163593</td>\n",
       "      <td>5</td>\n",
       "      <td>5</td>\n",
       "      <td>12</td>\n",
       "      <td>9.0</td>\n",
       "    </tr>\n",
       "    <tr>\n",
       "      <th>2</th>\n",
       "      <td>1454967</td>\n",
       "      <td>39980</td>\n",
       "      <td>4</td>\n",
       "      <td>5</td>\n",
       "      <td>19</td>\n",
       "      <td>2.0</td>\n",
       "    </tr>\n",
       "    <tr>\n",
       "      <th>3</th>\n",
       "      <td>1768857</td>\n",
       "      <td>82516</td>\n",
       "      <td>56</td>\n",
       "      <td>0</td>\n",
       "      <td>20</td>\n",
       "      <td>10.0</td>\n",
       "    </tr>\n",
       "    <tr>\n",
       "      <th>4</th>\n",
       "      <td>3007858</td>\n",
       "      <td>196724</td>\n",
       "      <td>2</td>\n",
       "      <td>4</td>\n",
       "      <td>12</td>\n",
       "      <td>17.0</td>\n",
       "    </tr>\n",
       "    <tr>\n",
       "      <th>...</th>\n",
       "      <td>...</td>\n",
       "      <td>...</td>\n",
       "      <td>...</td>\n",
       "      <td>...</td>\n",
       "      <td>...</td>\n",
       "      <td>...</td>\n",
       "    </tr>\n",
       "    <tr>\n",
       "      <th>478962</th>\n",
       "      <td>3210681</td>\n",
       "      <td>5617</td>\n",
       "      <td>5</td>\n",
       "      <td>1</td>\n",
       "      <td>14</td>\n",
       "      <td>7.0</td>\n",
       "    </tr>\n",
       "    <tr>\n",
       "      <th>478963</th>\n",
       "      <td>3270802</td>\n",
       "      <td>112087</td>\n",
       "      <td>2</td>\n",
       "      <td>3</td>\n",
       "      <td>13</td>\n",
       "      <td>6.0</td>\n",
       "    </tr>\n",
       "    <tr>\n",
       "      <th>478964</th>\n",
       "      <td>885349</td>\n",
       "      <td>82944</td>\n",
       "      <td>16</td>\n",
       "      <td>2</td>\n",
       "      <td>11</td>\n",
       "      <td>6.0</td>\n",
       "    </tr>\n",
       "    <tr>\n",
       "      <th>478965</th>\n",
       "      <td>216274</td>\n",
       "      <td>4391</td>\n",
       "      <td>3</td>\n",
       "      <td>3</td>\n",
       "      <td>8</td>\n",
       "      <td>8.0</td>\n",
       "    </tr>\n",
       "    <tr>\n",
       "      <th>478966</th>\n",
       "      <td>2071924</td>\n",
       "      <td>1730</td>\n",
       "      <td>18</td>\n",
       "      <td>1</td>\n",
       "      <td>14</td>\n",
       "      <td>15.0</td>\n",
       "    </tr>\n",
       "  </tbody>\n",
       "</table>\n",
       "<p>478952 rows × 6 columns</p>\n",
       "</div>"
      ],
      "text/plain": [
       "        order_id  user_id  order_number  order_dow  order_hour_of_day  \\\n",
       "0        1515936   183418            11          6                 13   \n",
       "1        1690866   163593             5          5                 12   \n",
       "2        1454967    39980             4          5                 19   \n",
       "3        1768857    82516            56          0                 20   \n",
       "4        3007858   196724             2          4                 12   \n",
       "...          ...      ...           ...        ...                ...   \n",
       "478962   3210681     5617             5          1                 14   \n",
       "478963   3270802   112087             2          3                 13   \n",
       "478964    885349    82944            16          2                 11   \n",
       "478965    216274     4391             3          3                  8   \n",
       "478966   2071924     1730            18          1                 14   \n",
       "\n",
       "        days_since_prior_order  \n",
       "0                         30.0  \n",
       "1                          9.0  \n",
       "2                          2.0  \n",
       "3                         10.0  \n",
       "4                         17.0  \n",
       "...                        ...  \n",
       "478962                     7.0  \n",
       "478963                     6.0  \n",
       "478964                     6.0  \n",
       "478965                     8.0  \n",
       "478966                    15.0  \n",
       "\n",
       "[478952 rows x 6 columns]"
      ]
     },
     "execution_count": 102,
     "metadata": {},
     "output_type": "execute_result"
    }
   ],
   "source": [
    "orders"
   ]
  },
  {
   "cell_type": "code",
   "execution_count": 103,
   "id": "93e41d96",
   "metadata": {},
   "outputs": [
    {
     "name": "stdout",
     "output_type": "stream",
     "text": [
      "<class 'pandas.core.frame.DataFrame'>\n",
      "Index: 478952 entries, 0 to 478966\n",
      "Data columns (total 6 columns):\n",
      " #   Column                  Non-Null Count   Dtype  \n",
      "---  ------                  --------------   -----  \n",
      " 0   order_id                478952 non-null  int64  \n",
      " 1   user_id                 478952 non-null  int64  \n",
      " 2   order_number            478952 non-null  int64  \n",
      " 3   order_dow               478952 non-null  int64  \n",
      " 4   order_hour_of_day       478952 non-null  int64  \n",
      " 5   days_since_prior_order  450135 non-null  float64\n",
      "dtypes: float64(1), int64(5)\n",
      "memory usage: 25.6 MB\n"
     ]
    }
   ],
   "source": [
    "orders.info()"
   ]
  },
  {
   "cell_type": "code",
   "execution_count": 104,
   "id": "e4a3cce4",
   "metadata": {},
   "outputs": [
    {
     "data": {
      "text/plain": [
       "28817"
      ]
     },
     "execution_count": 104,
     "metadata": {},
     "output_type": "execute_result"
    }
   ],
   "source": [
    "orders['days_since_prior_order'].isna().sum()"
   ]
  },
  {
   "cell_type": "code",
   "execution_count": 105,
   "id": "166e5a86",
   "metadata": {},
   "outputs": [
    {
     "data": {
      "text/html": [
       "<div>\n",
       "<style scoped>\n",
       "    .dataframe tbody tr th:only-of-type {\n",
       "        vertical-align: middle;\n",
       "    }\n",
       "\n",
       "    .dataframe tbody tr th {\n",
       "        vertical-align: top;\n",
       "    }\n",
       "\n",
       "    .dataframe thead th {\n",
       "        text-align: right;\n",
       "    }\n",
       "</style>\n",
       "<table border=\"1\" class=\"dataframe\">\n",
       "  <thead>\n",
       "    <tr style=\"text-align: right;\">\n",
       "      <th></th>\n",
       "      <th>order_id</th>\n",
       "      <th>user_id</th>\n",
       "      <th>order_number</th>\n",
       "      <th>order_dow</th>\n",
       "      <th>order_hour_of_day</th>\n",
       "      <th>days_since_prior_order</th>\n",
       "    </tr>\n",
       "  </thead>\n",
       "  <tbody>\n",
       "  </tbody>\n",
       "</table>\n",
       "</div>"
      ],
      "text/plain": [
       "Empty DataFrame\n",
       "Columns: [order_id, user_id, order_number, order_dow, order_hour_of_day, days_since_prior_order]\n",
       "Index: []"
      ]
     },
     "execution_count": 105,
     "metadata": {},
     "output_type": "execute_result"
    }
   ],
   "source": [
    "# Are there any missing values where it's not a customer's first order?\n",
    "orders[~(orders['order_number']==1)&(orders['days_since_prior_order'].isna())]"
   ]
  },
  {
   "cell_type": "code",
   "execution_count": 106,
   "id": "a269c885",
   "metadata": {},
   "outputs": [
    {
     "ename": "IntCastingNaNError",
     "evalue": "Cannot convert non-finite values (NA or inf) to integer",
     "output_type": "error",
     "traceback": [
      "\u001b[1;31m---------------------------------------------------------------------------\u001b[0m",
      "\u001b[1;31mIntCastingNaNError\u001b[0m                        Traceback (most recent call last)",
      "Cell \u001b[1;32mIn[106], line 1\u001b[0m\n\u001b[1;32m----> 1\u001b[0m orders[\u001b[38;5;124m'\u001b[39m\u001b[38;5;124mdays_since_prior_order\u001b[39m\u001b[38;5;124m'\u001b[39m] \u001b[38;5;241m=\u001b[39m \u001b[43morders\u001b[49m\u001b[43m[\u001b[49m\u001b[38;5;124;43m'\u001b[39;49m\u001b[38;5;124;43mdays_since_prior_order\u001b[39;49m\u001b[38;5;124;43m'\u001b[39;49m\u001b[43m]\u001b[49m\u001b[38;5;241;43m.\u001b[39;49m\u001b[43mastype\u001b[49m\u001b[43m(\u001b[49m\u001b[38;5;124;43m'\u001b[39;49m\u001b[38;5;124;43mint\u001b[39;49m\u001b[38;5;124;43m'\u001b[39;49m\u001b[43m)\u001b[49m\n",
      "File \u001b[1;32mc:\\Users\\info\\anaconda3\\Lib\\site-packages\\pandas\\core\\generic.py:6643\u001b[0m, in \u001b[0;36mNDFrame.astype\u001b[1;34m(self, dtype, copy, errors)\u001b[0m\n\u001b[0;32m   6637\u001b[0m     results \u001b[38;5;241m=\u001b[39m [\n\u001b[0;32m   6638\u001b[0m         ser\u001b[38;5;241m.\u001b[39mastype(dtype, copy\u001b[38;5;241m=\u001b[39mcopy, errors\u001b[38;5;241m=\u001b[39merrors) \u001b[38;5;28;01mfor\u001b[39;00m _, ser \u001b[38;5;129;01min\u001b[39;00m \u001b[38;5;28mself\u001b[39m\u001b[38;5;241m.\u001b[39mitems()\n\u001b[0;32m   6639\u001b[0m     ]\n\u001b[0;32m   6641\u001b[0m \u001b[38;5;28;01melse\u001b[39;00m:\n\u001b[0;32m   6642\u001b[0m     \u001b[38;5;66;03m# else, only a single dtype is given\u001b[39;00m\n\u001b[1;32m-> 6643\u001b[0m     new_data \u001b[38;5;241m=\u001b[39m \u001b[38;5;28;43mself\u001b[39;49m\u001b[38;5;241;43m.\u001b[39;49m\u001b[43m_mgr\u001b[49m\u001b[38;5;241;43m.\u001b[39;49m\u001b[43mastype\u001b[49m\u001b[43m(\u001b[49m\u001b[43mdtype\u001b[49m\u001b[38;5;241;43m=\u001b[39;49m\u001b[43mdtype\u001b[49m\u001b[43m,\u001b[49m\u001b[43m \u001b[49m\u001b[43mcopy\u001b[49m\u001b[38;5;241;43m=\u001b[39;49m\u001b[43mcopy\u001b[49m\u001b[43m,\u001b[49m\u001b[43m \u001b[49m\u001b[43merrors\u001b[49m\u001b[38;5;241;43m=\u001b[39;49m\u001b[43merrors\u001b[49m\u001b[43m)\u001b[49m\n\u001b[0;32m   6644\u001b[0m     res \u001b[38;5;241m=\u001b[39m \u001b[38;5;28mself\u001b[39m\u001b[38;5;241m.\u001b[39m_constructor_from_mgr(new_data, axes\u001b[38;5;241m=\u001b[39mnew_data\u001b[38;5;241m.\u001b[39maxes)\n\u001b[0;32m   6645\u001b[0m     \u001b[38;5;28;01mreturn\u001b[39;00m res\u001b[38;5;241m.\u001b[39m__finalize__(\u001b[38;5;28mself\u001b[39m, method\u001b[38;5;241m=\u001b[39m\u001b[38;5;124m\"\u001b[39m\u001b[38;5;124mastype\u001b[39m\u001b[38;5;124m\"\u001b[39m)\n",
      "File \u001b[1;32mc:\\Users\\info\\anaconda3\\Lib\\site-packages\\pandas\\core\\internals\\managers.py:430\u001b[0m, in \u001b[0;36mBaseBlockManager.astype\u001b[1;34m(self, dtype, copy, errors)\u001b[0m\n\u001b[0;32m    427\u001b[0m \u001b[38;5;28;01melif\u001b[39;00m using_copy_on_write():\n\u001b[0;32m    428\u001b[0m     copy \u001b[38;5;241m=\u001b[39m \u001b[38;5;28;01mFalse\u001b[39;00m\n\u001b[1;32m--> 430\u001b[0m \u001b[38;5;28;01mreturn\u001b[39;00m \u001b[38;5;28;43mself\u001b[39;49m\u001b[38;5;241;43m.\u001b[39;49m\u001b[43mapply\u001b[49m\u001b[43m(\u001b[49m\n\u001b[0;32m    431\u001b[0m \u001b[43m    \u001b[49m\u001b[38;5;124;43m\"\u001b[39;49m\u001b[38;5;124;43mastype\u001b[39;49m\u001b[38;5;124;43m\"\u001b[39;49m\u001b[43m,\u001b[49m\n\u001b[0;32m    432\u001b[0m \u001b[43m    \u001b[49m\u001b[43mdtype\u001b[49m\u001b[38;5;241;43m=\u001b[39;49m\u001b[43mdtype\u001b[49m\u001b[43m,\u001b[49m\n\u001b[0;32m    433\u001b[0m \u001b[43m    \u001b[49m\u001b[43mcopy\u001b[49m\u001b[38;5;241;43m=\u001b[39;49m\u001b[43mcopy\u001b[49m\u001b[43m,\u001b[49m\n\u001b[0;32m    434\u001b[0m \u001b[43m    \u001b[49m\u001b[43merrors\u001b[49m\u001b[38;5;241;43m=\u001b[39;49m\u001b[43merrors\u001b[49m\u001b[43m,\u001b[49m\n\u001b[0;32m    435\u001b[0m \u001b[43m    \u001b[49m\u001b[43musing_cow\u001b[49m\u001b[38;5;241;43m=\u001b[39;49m\u001b[43musing_copy_on_write\u001b[49m\u001b[43m(\u001b[49m\u001b[43m)\u001b[49m\u001b[43m,\u001b[49m\n\u001b[0;32m    436\u001b[0m \u001b[43m\u001b[49m\u001b[43m)\u001b[49m\n",
      "File \u001b[1;32mc:\\Users\\info\\anaconda3\\Lib\\site-packages\\pandas\\core\\internals\\managers.py:363\u001b[0m, in \u001b[0;36mBaseBlockManager.apply\u001b[1;34m(self, f, align_keys, **kwargs)\u001b[0m\n\u001b[0;32m    361\u001b[0m         applied \u001b[38;5;241m=\u001b[39m b\u001b[38;5;241m.\u001b[39mapply(f, \u001b[38;5;241m*\u001b[39m\u001b[38;5;241m*\u001b[39mkwargs)\n\u001b[0;32m    362\u001b[0m     \u001b[38;5;28;01melse\u001b[39;00m:\n\u001b[1;32m--> 363\u001b[0m         applied \u001b[38;5;241m=\u001b[39m \u001b[38;5;28;43mgetattr\u001b[39;49m\u001b[43m(\u001b[49m\u001b[43mb\u001b[49m\u001b[43m,\u001b[49m\u001b[43m \u001b[49m\u001b[43mf\u001b[49m\u001b[43m)\u001b[49m\u001b[43m(\u001b[49m\u001b[38;5;241;43m*\u001b[39;49m\u001b[38;5;241;43m*\u001b[39;49m\u001b[43mkwargs\u001b[49m\u001b[43m)\u001b[49m\n\u001b[0;32m    364\u001b[0m     result_blocks \u001b[38;5;241m=\u001b[39m extend_blocks(applied, result_blocks)\n\u001b[0;32m    366\u001b[0m out \u001b[38;5;241m=\u001b[39m \u001b[38;5;28mtype\u001b[39m(\u001b[38;5;28mself\u001b[39m)\u001b[38;5;241m.\u001b[39mfrom_blocks(result_blocks, \u001b[38;5;28mself\u001b[39m\u001b[38;5;241m.\u001b[39maxes)\n",
      "File \u001b[1;32mc:\\Users\\info\\anaconda3\\Lib\\site-packages\\pandas\\core\\internals\\blocks.py:758\u001b[0m, in \u001b[0;36mBlock.astype\u001b[1;34m(self, dtype, copy, errors, using_cow, squeeze)\u001b[0m\n\u001b[0;32m    755\u001b[0m         \u001b[38;5;28;01mraise\u001b[39;00m \u001b[38;5;167;01mValueError\u001b[39;00m(\u001b[38;5;124m\"\u001b[39m\u001b[38;5;124mCan not squeeze with more than one column.\u001b[39m\u001b[38;5;124m\"\u001b[39m)\n\u001b[0;32m    756\u001b[0m     values \u001b[38;5;241m=\u001b[39m values[\u001b[38;5;241m0\u001b[39m, :]  \u001b[38;5;66;03m# type: ignore[call-overload]\u001b[39;00m\n\u001b[1;32m--> 758\u001b[0m new_values \u001b[38;5;241m=\u001b[39m \u001b[43mastype_array_safe\u001b[49m\u001b[43m(\u001b[49m\u001b[43mvalues\u001b[49m\u001b[43m,\u001b[49m\u001b[43m \u001b[49m\u001b[43mdtype\u001b[49m\u001b[43m,\u001b[49m\u001b[43m \u001b[49m\u001b[43mcopy\u001b[49m\u001b[38;5;241;43m=\u001b[39;49m\u001b[43mcopy\u001b[49m\u001b[43m,\u001b[49m\u001b[43m \u001b[49m\u001b[43merrors\u001b[49m\u001b[38;5;241;43m=\u001b[39;49m\u001b[43merrors\u001b[49m\u001b[43m)\u001b[49m\n\u001b[0;32m    760\u001b[0m new_values \u001b[38;5;241m=\u001b[39m maybe_coerce_values(new_values)\n\u001b[0;32m    762\u001b[0m refs \u001b[38;5;241m=\u001b[39m \u001b[38;5;28;01mNone\u001b[39;00m\n",
      "File \u001b[1;32mc:\\Users\\info\\anaconda3\\Lib\\site-packages\\pandas\\core\\dtypes\\astype.py:237\u001b[0m, in \u001b[0;36mastype_array_safe\u001b[1;34m(values, dtype, copy, errors)\u001b[0m\n\u001b[0;32m    234\u001b[0m     dtype \u001b[38;5;241m=\u001b[39m dtype\u001b[38;5;241m.\u001b[39mnumpy_dtype\n\u001b[0;32m    236\u001b[0m \u001b[38;5;28;01mtry\u001b[39;00m:\n\u001b[1;32m--> 237\u001b[0m     new_values \u001b[38;5;241m=\u001b[39m \u001b[43mastype_array\u001b[49m\u001b[43m(\u001b[49m\u001b[43mvalues\u001b[49m\u001b[43m,\u001b[49m\u001b[43m \u001b[49m\u001b[43mdtype\u001b[49m\u001b[43m,\u001b[49m\u001b[43m \u001b[49m\u001b[43mcopy\u001b[49m\u001b[38;5;241;43m=\u001b[39;49m\u001b[43mcopy\u001b[49m\u001b[43m)\u001b[49m\n\u001b[0;32m    238\u001b[0m \u001b[38;5;28;01mexcept\u001b[39;00m (\u001b[38;5;167;01mValueError\u001b[39;00m, \u001b[38;5;167;01mTypeError\u001b[39;00m):\n\u001b[0;32m    239\u001b[0m     \u001b[38;5;66;03m# e.g. _astype_nansafe can fail on object-dtype of strings\u001b[39;00m\n\u001b[0;32m    240\u001b[0m     \u001b[38;5;66;03m#  trying to convert to float\u001b[39;00m\n\u001b[0;32m    241\u001b[0m     \u001b[38;5;28;01mif\u001b[39;00m errors \u001b[38;5;241m==\u001b[39m \u001b[38;5;124m\"\u001b[39m\u001b[38;5;124mignore\u001b[39m\u001b[38;5;124m\"\u001b[39m:\n",
      "File \u001b[1;32mc:\\Users\\info\\anaconda3\\Lib\\site-packages\\pandas\\core\\dtypes\\astype.py:182\u001b[0m, in \u001b[0;36mastype_array\u001b[1;34m(values, dtype, copy)\u001b[0m\n\u001b[0;32m    179\u001b[0m     values \u001b[38;5;241m=\u001b[39m values\u001b[38;5;241m.\u001b[39mastype(dtype, copy\u001b[38;5;241m=\u001b[39mcopy)\n\u001b[0;32m    181\u001b[0m \u001b[38;5;28;01melse\u001b[39;00m:\n\u001b[1;32m--> 182\u001b[0m     values \u001b[38;5;241m=\u001b[39m \u001b[43m_astype_nansafe\u001b[49m\u001b[43m(\u001b[49m\u001b[43mvalues\u001b[49m\u001b[43m,\u001b[49m\u001b[43m \u001b[49m\u001b[43mdtype\u001b[49m\u001b[43m,\u001b[49m\u001b[43m \u001b[49m\u001b[43mcopy\u001b[49m\u001b[38;5;241;43m=\u001b[39;49m\u001b[43mcopy\u001b[49m\u001b[43m)\u001b[49m\n\u001b[0;32m    184\u001b[0m \u001b[38;5;66;03m# in pandas we don't store numpy str dtypes, so convert to object\u001b[39;00m\n\u001b[0;32m    185\u001b[0m \u001b[38;5;28;01mif\u001b[39;00m \u001b[38;5;28misinstance\u001b[39m(dtype, np\u001b[38;5;241m.\u001b[39mdtype) \u001b[38;5;129;01mand\u001b[39;00m \u001b[38;5;28missubclass\u001b[39m(values\u001b[38;5;241m.\u001b[39mdtype\u001b[38;5;241m.\u001b[39mtype, \u001b[38;5;28mstr\u001b[39m):\n",
      "File \u001b[1;32mc:\\Users\\info\\anaconda3\\Lib\\site-packages\\pandas\\core\\dtypes\\astype.py:101\u001b[0m, in \u001b[0;36m_astype_nansafe\u001b[1;34m(arr, dtype, copy, skipna)\u001b[0m\n\u001b[0;32m     96\u001b[0m     \u001b[38;5;28;01mreturn\u001b[39;00m lib\u001b[38;5;241m.\u001b[39mensure_string_array(\n\u001b[0;32m     97\u001b[0m         arr, skipna\u001b[38;5;241m=\u001b[39mskipna, convert_na_value\u001b[38;5;241m=\u001b[39m\u001b[38;5;28;01mFalse\u001b[39;00m\n\u001b[0;32m     98\u001b[0m     )\u001b[38;5;241m.\u001b[39mreshape(shape)\n\u001b[0;32m    100\u001b[0m \u001b[38;5;28;01melif\u001b[39;00m np\u001b[38;5;241m.\u001b[39missubdtype(arr\u001b[38;5;241m.\u001b[39mdtype, np\u001b[38;5;241m.\u001b[39mfloating) \u001b[38;5;129;01mand\u001b[39;00m dtype\u001b[38;5;241m.\u001b[39mkind \u001b[38;5;129;01min\u001b[39;00m \u001b[38;5;124m\"\u001b[39m\u001b[38;5;124miu\u001b[39m\u001b[38;5;124m\"\u001b[39m:\n\u001b[1;32m--> 101\u001b[0m     \u001b[38;5;28;01mreturn\u001b[39;00m \u001b[43m_astype_float_to_int_nansafe\u001b[49m\u001b[43m(\u001b[49m\u001b[43marr\u001b[49m\u001b[43m,\u001b[49m\u001b[43m \u001b[49m\u001b[43mdtype\u001b[49m\u001b[43m,\u001b[49m\u001b[43m \u001b[49m\u001b[43mcopy\u001b[49m\u001b[43m)\u001b[49m\n\u001b[0;32m    103\u001b[0m \u001b[38;5;28;01melif\u001b[39;00m arr\u001b[38;5;241m.\u001b[39mdtype \u001b[38;5;241m==\u001b[39m \u001b[38;5;28mobject\u001b[39m:\n\u001b[0;32m    104\u001b[0m     \u001b[38;5;66;03m# if we have a datetime/timedelta array of objects\u001b[39;00m\n\u001b[0;32m    105\u001b[0m     \u001b[38;5;66;03m# then coerce to datetime64[ns] and use DatetimeArray.astype\u001b[39;00m\n\u001b[0;32m    107\u001b[0m     \u001b[38;5;28;01mif\u001b[39;00m lib\u001b[38;5;241m.\u001b[39mis_np_dtype(dtype, \u001b[38;5;124m\"\u001b[39m\u001b[38;5;124mM\u001b[39m\u001b[38;5;124m\"\u001b[39m):\n",
      "File \u001b[1;32mc:\\Users\\info\\anaconda3\\Lib\\site-packages\\pandas\\core\\dtypes\\astype.py:145\u001b[0m, in \u001b[0;36m_astype_float_to_int_nansafe\u001b[1;34m(values, dtype, copy)\u001b[0m\n\u001b[0;32m    141\u001b[0m \u001b[38;5;250m\u001b[39m\u001b[38;5;124;03m\"\"\"\u001b[39;00m\n\u001b[0;32m    142\u001b[0m \u001b[38;5;124;03mastype with a check preventing converting NaN to an meaningless integer value.\u001b[39;00m\n\u001b[0;32m    143\u001b[0m \u001b[38;5;124;03m\"\"\"\u001b[39;00m\n\u001b[0;32m    144\u001b[0m \u001b[38;5;28;01mif\u001b[39;00m \u001b[38;5;129;01mnot\u001b[39;00m np\u001b[38;5;241m.\u001b[39misfinite(values)\u001b[38;5;241m.\u001b[39mall():\n\u001b[1;32m--> 145\u001b[0m     \u001b[38;5;28;01mraise\u001b[39;00m IntCastingNaNError(\n\u001b[0;32m    146\u001b[0m         \u001b[38;5;124m\"\u001b[39m\u001b[38;5;124mCannot convert non-finite values (NA or inf) to integer\u001b[39m\u001b[38;5;124m\"\u001b[39m\n\u001b[0;32m    147\u001b[0m     )\n\u001b[0;32m    148\u001b[0m \u001b[38;5;28;01mif\u001b[39;00m dtype\u001b[38;5;241m.\u001b[39mkind \u001b[38;5;241m==\u001b[39m \u001b[38;5;124m\"\u001b[39m\u001b[38;5;124mu\u001b[39m\u001b[38;5;124m\"\u001b[39m:\n\u001b[0;32m    149\u001b[0m     \u001b[38;5;66;03m# GH#45151\u001b[39;00m\n\u001b[0;32m    150\u001b[0m     \u001b[38;5;28;01mif\u001b[39;00m \u001b[38;5;129;01mnot\u001b[39;00m (values \u001b[38;5;241m>\u001b[39m\u001b[38;5;241m=\u001b[39m \u001b[38;5;241m0\u001b[39m)\u001b[38;5;241m.\u001b[39mall():\n",
      "\u001b[1;31mIntCastingNaNError\u001b[0m: Cannot convert non-finite values (NA or inf) to integer"
     ]
    }
   ],
   "source": [
    "orders['days_since_prior_order'] = orders['days_since_prior_order'].astype('int')"
   ]
  },
  {
   "cell_type": "code",
   "execution_count": null,
   "id": "7de604ac",
   "metadata": {},
   "outputs": [
    {
     "name": "stdout",
     "output_type": "stream",
     "text": [
      "<class 'pandas.core.frame.DataFrame'>\n",
      "Int64Index: 478952 entries, 0 to 478966\n",
      "Data columns (total 6 columns):\n",
      " #   Column                  Non-Null Count   Dtype\n",
      "---  ------                  --------------   -----\n",
      " 0   order_id                478952 non-null  int64\n",
      " 1   user_id                 478952 non-null  int64\n",
      " 2   order_number            478952 non-null  int64\n",
      " 3   order_dow               478952 non-null  int64\n",
      " 4   order_hour_of_day       478952 non-null  int64\n",
      " 5   days_since_prior_order  478952 non-null  int64\n",
      "dtypes: int64(6)\n",
      "memory usage: 25.6 MB\n"
     ]
    }
   ],
   "source": [
    "orders.info()"
   ]
  },
  {
   "cell_type": "markdown",
   "id": "d101ec50",
   "metadata": {},
   "source": [
    "**Summary:** All of the missing values are justified, as there are no days since prior order if it is a first order. "
   ]
  },
  {
   "cell_type": "markdown",
   "id": "69dc9ca4",
   "metadata": {},
   "source": [
    "### `order_products` data frame"
   ]
  },
  {
   "cell_type": "code",
   "execution_count": null,
   "id": "b8240253",
   "metadata": {},
   "outputs": [
    {
     "data": {
      "text/html": [
       "<div>\n",
       "<style scoped>\n",
       "    .dataframe tbody tr th:only-of-type {\n",
       "        vertical-align: middle;\n",
       "    }\n",
       "\n",
       "    .dataframe tbody tr th {\n",
       "        vertical-align: top;\n",
       "    }\n",
       "\n",
       "    .dataframe thead th {\n",
       "        text-align: right;\n",
       "    }\n",
       "</style>\n",
       "<table border=\"1\" class=\"dataframe\">\n",
       "  <thead>\n",
       "    <tr style=\"text-align: right;\">\n",
       "      <th></th>\n",
       "      <th>order_id</th>\n",
       "      <th>product_id</th>\n",
       "      <th>add_to_cart_order</th>\n",
       "      <th>reordered</th>\n",
       "    </tr>\n",
       "  </thead>\n",
       "  <tbody>\n",
       "    <tr>\n",
       "      <th>0</th>\n",
       "      <td>2141543</td>\n",
       "      <td>11440</td>\n",
       "      <td>17.0</td>\n",
       "      <td>0</td>\n",
       "    </tr>\n",
       "    <tr>\n",
       "      <th>1</th>\n",
       "      <td>567889</td>\n",
       "      <td>1560</td>\n",
       "      <td>1.0</td>\n",
       "      <td>1</td>\n",
       "    </tr>\n",
       "    <tr>\n",
       "      <th>2</th>\n",
       "      <td>2261212</td>\n",
       "      <td>26683</td>\n",
       "      <td>1.0</td>\n",
       "      <td>1</td>\n",
       "    </tr>\n",
       "    <tr>\n",
       "      <th>3</th>\n",
       "      <td>491251</td>\n",
       "      <td>8670</td>\n",
       "      <td>35.0</td>\n",
       "      <td>1</td>\n",
       "    </tr>\n",
       "    <tr>\n",
       "      <th>4</th>\n",
       "      <td>2571142</td>\n",
       "      <td>1940</td>\n",
       "      <td>5.0</td>\n",
       "      <td>1</td>\n",
       "    </tr>\n",
       "    <tr>\n",
       "      <th>...</th>\n",
       "      <td>...</td>\n",
       "      <td>...</td>\n",
       "      <td>...</td>\n",
       "      <td>...</td>\n",
       "    </tr>\n",
       "    <tr>\n",
       "      <th>4545002</th>\n",
       "      <td>577211</td>\n",
       "      <td>15290</td>\n",
       "      <td>12.0</td>\n",
       "      <td>1</td>\n",
       "    </tr>\n",
       "    <tr>\n",
       "      <th>4545003</th>\n",
       "      <td>1219554</td>\n",
       "      <td>21914</td>\n",
       "      <td>9.0</td>\n",
       "      <td>0</td>\n",
       "    </tr>\n",
       "    <tr>\n",
       "      <th>4545004</th>\n",
       "      <td>692640</td>\n",
       "      <td>47766</td>\n",
       "      <td>4.0</td>\n",
       "      <td>1</td>\n",
       "    </tr>\n",
       "    <tr>\n",
       "      <th>4545005</th>\n",
       "      <td>319435</td>\n",
       "      <td>691</td>\n",
       "      <td>8.0</td>\n",
       "      <td>1</td>\n",
       "    </tr>\n",
       "    <tr>\n",
       "      <th>4545006</th>\n",
       "      <td>1398151</td>\n",
       "      <td>28733</td>\n",
       "      <td>9.0</td>\n",
       "      <td>0</td>\n",
       "    </tr>\n",
       "  </tbody>\n",
       "</table>\n",
       "<p>4545007 rows × 4 columns</p>\n",
       "</div>"
      ],
      "text/plain": [
       "         order_id  product_id  add_to_cart_order  reordered\n",
       "0         2141543       11440               17.0          0\n",
       "1          567889        1560                1.0          1\n",
       "2         2261212       26683                1.0          1\n",
       "3          491251        8670               35.0          1\n",
       "4         2571142        1940                5.0          1\n",
       "...           ...         ...                ...        ...\n",
       "4545002    577211       15290               12.0          1\n",
       "4545003   1219554       21914                9.0          0\n",
       "4545004    692640       47766                4.0          1\n",
       "4545005    319435         691                8.0          1\n",
       "4545006   1398151       28733                9.0          0\n",
       "\n",
       "[4545007 rows x 4 columns]"
      ]
     },
     "execution_count": 60,
     "metadata": {},
     "output_type": "execute_result"
    }
   ],
   "source": [
    "order_p"
   ]
  },
  {
   "cell_type": "code",
   "execution_count": null,
   "id": "d3580fa1",
   "metadata": {},
   "outputs": [
    {
     "name": "stdout",
     "output_type": "stream",
     "text": [
      "<class 'pandas.core.frame.DataFrame'>\n",
      "RangeIndex: 4545007 entries, 0 to 4545006\n",
      "Data columns (total 4 columns):\n",
      " #   Column             Non-Null Count    Dtype  \n",
      "---  ------             --------------    -----  \n",
      " 0   order_id           4545007 non-null  int64  \n",
      " 1   product_id         4545007 non-null  int64  \n",
      " 2   add_to_cart_order  4544171 non-null  float64\n",
      " 3   reordered          4545007 non-null  int64  \n",
      "dtypes: float64(1), int64(3)\n",
      "memory usage: 138.7 MB\n"
     ]
    }
   ],
   "source": [
    "order_p.info(show_counts=True)"
   ]
  },
  {
   "cell_type": "code",
   "execution_count": null,
   "id": "85248db3",
   "metadata": {},
   "outputs": [
    {
     "data": {
      "text/plain": [
       "836"
      ]
     },
     "execution_count": 62,
     "metadata": {},
     "output_type": "execute_result"
    }
   ],
   "source": [
    "order_p['add_to_cart_order'].isna().sum()"
   ]
  },
  {
   "cell_type": "code",
   "execution_count": null,
   "id": "7a972657",
   "metadata": {},
   "outputs": [
    {
     "data": {
      "text/plain": [
       "1.0"
      ]
     },
     "execution_count": 63,
     "metadata": {},
     "output_type": "execute_result"
    }
   ],
   "source": [
    "# What are the min and max values in the 'add_to_cart_order' column?\n",
    "order_p['add_to_cart_order'].min()"
   ]
  },
  {
   "cell_type": "code",
   "execution_count": null,
   "id": "062a0e6c",
   "metadata": {},
   "outputs": [
    {
     "data": {
      "text/plain": [
       "64.0"
      ]
     },
     "execution_count": 64,
     "metadata": {},
     "output_type": "execute_result"
    }
   ],
   "source": [
    "order_p['add_to_cart_order'].max()"
   ]
  },
  {
   "cell_type": "code",
   "execution_count": null,
   "id": "ab9d0c2b",
   "metadata": {},
   "outputs": [
    {
     "data": {
      "text/plain": [
       "[2449164,\n",
       " 1968313,\n",
       " 2926893,\n",
       " 1717990,\n",
       " 1959075,\n",
       " 844733,\n",
       " 61355,\n",
       " 936852,\n",
       " 264710,\n",
       " 1564093,\n",
       " 129627,\n",
       " 293169,\n",
       " 2849370,\n",
       " 1386261,\n",
       " 3308010,\n",
       " 903110,\n",
       " 2136777,\n",
       " 3347453,\n",
       " 1888628,\n",
       " 165801,\n",
       " 2094761,\n",
       " 1038146,\n",
       " 2997021,\n",
       " 813364,\n",
       " 2256933,\n",
       " 171934,\n",
       " 2409109,\n",
       " 1730767,\n",
       " 1169835,\n",
       " 733526,\n",
       " 404157,\n",
       " 3125735,\n",
       " 747668,\n",
       " 1800005,\n",
       " 1961723,\n",
       " 871281,\n",
       " 388234,\n",
       " 1648217,\n",
       " 1477139,\n",
       " 102236,\n",
       " 1021563,\n",
       " 1832957,\n",
       " 2721963,\n",
       " 678116,\n",
       " 1220886,\n",
       " 1673227,\n",
       " 2999801,\n",
       " 1633337,\n",
       " 2470674,\n",
       " 2625444,\n",
       " 1677118,\n",
       " 2479011,\n",
       " 3383594,\n",
       " 1183255,\n",
       " 1713430,\n",
       " 2652650,\n",
       " 1598369,\n",
       " 1916118,\n",
       " 854647,\n",
       " 1302315,\n",
       " 888470,\n",
       " 180546,\n",
       " 2621907,\n",
       " 1308785,\n",
       " 2729254,\n",
       " 9310,\n",
       " 2170451,\n",
       " 2979697,\n",
       " 1625713,\n",
       " 1529171]"
      ]
     },
     "execution_count": 65,
     "metadata": {},
     "output_type": "execute_result"
    }
   ],
   "source": [
    "# Save all order IDs with at least one missing value in 'add_to_cart_order'\n",
    "order_miss = list(order_p[order_p['add_to_cart_order'].isna()]['order_id'].unique())\n",
    "order_miss"
   ]
  },
  {
   "cell_type": "code",
   "execution_count": null,
   "id": "54c31695",
   "metadata": {},
   "outputs": [
    {
     "data": {
      "text/plain": [
       "True    70\n",
       "Name: product_id, dtype: int64"
      ]
     },
     "execution_count": 66,
     "metadata": {},
     "output_type": "execute_result"
    }
   ],
   "source": [
    "# Do all orders with missing values have more than 64 products?\n",
    "(order_p[order_p['order_id'].isin(order_miss)].groupby('order_id')['product_id'].nunique()>64).value_counts()\n",
    "\n"
   ]
  },
  {
   "cell_type": "code",
   "execution_count": null,
   "id": "7a987d08",
   "metadata": {},
   "outputs": [],
   "source": [
    "# Replace missing values with 999 and convert column to integer type\n",
    "order_p['add_to_cart_order'] = order_p['add_to_cart_order'].fillna(999)"
   ]
  },
  {
   "cell_type": "code",
   "execution_count": null,
   "id": "56e865cc",
   "metadata": {},
   "outputs": [
    {
     "name": "stdout",
     "output_type": "stream",
     "text": [
      "<class 'pandas.core.frame.DataFrame'>\n",
      "RangeIndex: 4545007 entries, 0 to 4545006\n",
      "Data columns (total 4 columns):\n",
      " #   Column             Non-Null Count    Dtype  \n",
      "---  ------             --------------    -----  \n",
      " 0   order_id           4545007 non-null  int64  \n",
      " 1   product_id         4545007 non-null  int64  \n",
      " 2   add_to_cart_order  4545007 non-null  float64\n",
      " 3   reordered          4545007 non-null  int64  \n",
      "dtypes: float64(1), int64(3)\n",
      "memory usage: 138.7 MB\n"
     ]
    }
   ],
   "source": [
    "order_p.info(show_counts=True)"
   ]
  },
  {
   "cell_type": "code",
   "execution_count": null,
   "id": "3b755b02",
   "metadata": {},
   "outputs": [],
   "source": [
    "order_p['add_to_cart_order'] = order_p['add_to_cart_order'].astype(int)"
   ]
  },
  {
   "cell_type": "code",
   "execution_count": null,
   "id": "9f4803b4",
   "metadata": {},
   "outputs": [
    {
     "name": "stdout",
     "output_type": "stream",
     "text": [
      "<class 'pandas.core.frame.DataFrame'>\n",
      "RangeIndex: 4545007 entries, 0 to 4545006\n",
      "Data columns (total 4 columns):\n",
      " #   Column             Non-Null Count    Dtype\n",
      "---  ------             --------------    -----\n",
      " 0   order_id           4545007 non-null  int64\n",
      " 1   product_id         4545007 non-null  int64\n",
      " 2   add_to_cart_order  4545007 non-null  int64\n",
      " 3   reordered          4545007 non-null  int64\n",
      "dtypes: int64(4)\n",
      "memory usage: 138.7 MB\n"
     ]
    }
   ],
   "source": [
    "order_p.info(show_counts=True)"
   ]
  },
  {
   "cell_type": "markdown",
   "id": "fea4bcc7",
   "metadata": {},
   "source": [
    "**Summary:** We can see that all orders with missing values contain more than 64 products.  \n",
    "\n",
    "Previously, we observed that the maximum add-to-cart order number was 64. This suggests that there might be a technical issue with assigning add-to-cart order numbers when items are added beyond this limit, which could explain the missing values.  \n",
    "\n",
    "Filled the missing values with '999' in order to filter them out later during the analysis.\n"
   ]
  },
  {
   "cell_type": "markdown",
   "id": "4e6b3a78",
   "metadata": {},
   "source": [
    "### Conclusions <a id='data_preprocessing_conclusions'></a>\n",
    "We detected duplicated and missing values in different columns that needed to be treated in different ways.\n",
    "For some of them it was enough to replace with 'Unknown' ('product_name').\n",
    "Some duplicates were dropped, for others it was necessary to leave them as they are in order to preserve the data.\n",
    "\n",
    "Checking for duplicates showed that there is nothing to deal with. \n",
    "As a result we have clean data for our future analysis."
   ]
  },
  {
   "cell_type": "markdown",
   "id": "5e50112e",
   "metadata": {},
   "source": [
    "[Back to Contents](#back)"
   ]
  },
  {
   "cell_type": "markdown",
   "id": "814c52ab",
   "metadata": {},
   "source": [
    "## Stage 3. Data analysis <a id='da'></a>"
   ]
  },
  {
   "cell_type": "markdown",
   "id": "turkish-kidney",
   "metadata": {},
   "source": [
    "# [A] Easy (must complete all to pass)"
   ]
  },
  {
   "cell_type": "markdown",
   "id": "short-capability",
   "metadata": {},
   "source": [
    "### [A1] Verify that the `'order_hour_of_day'` and `'order_dow'` values in the `orders` tables are sensible (i.e. `'order_hour_of_day'` ranges from 0 to 23 and `'order_dow'` ranges from 0 to 6)"
   ]
  },
  {
   "cell_type": "code",
   "execution_count": null,
   "id": "growing-fruit",
   "metadata": {},
   "outputs": [
    {
     "data": {
      "text/plain": [
       "array([ 0,  1,  2,  3,  4,  5,  6,  7,  8,  9, 10, 11, 12, 13, 14, 15, 16,\n",
       "       17, 18, 19, 20, 21, 22, 23])"
      ]
     },
     "execution_count": 71,
     "metadata": {},
     "output_type": "execute_result"
    }
   ],
   "source": [
    "orders['order_hour_of_day'].sort_values().unique()\n"
   ]
  },
  {
   "cell_type": "code",
   "execution_count": null,
   "id": "accessory-malaysia",
   "metadata": {},
   "outputs": [
    {
     "data": {
      "text/plain": [
       "array([0, 1, 2, 3, 4, 5, 6])"
      ]
     },
     "execution_count": 72,
     "metadata": {},
     "output_type": "execute_result"
    }
   ],
   "source": [
    "orders['order_dow'].sort_values().unique()\n"
   ]
  },
  {
   "cell_type": "markdown",
   "id": "a6743a70",
   "metadata": {},
   "source": [
    "### [A2] What time of day do people shop for groceries?"
   ]
  },
  {
   "cell_type": "code",
   "execution_count": null,
   "id": "6cabc0af",
   "metadata": {},
   "outputs": [
    {
     "data": {
      "text/plain": [
       "10    40578\n",
       "11    40032\n",
       "15    39789\n",
       "14    39631\n",
       "13    39007\n",
       "16    38112\n",
       "12    38034\n",
       "9     35896\n",
       "17    31930\n",
       "18    25510\n",
       "8     25024\n",
       "19    19547\n",
       "20    14624\n",
       "7     13043\n",
       "21    11019\n",
       "22     8512\n",
       "23     5611\n",
       "6      4215\n",
       "0      3180\n",
       "1      1763\n",
       "5      1371\n",
       "2       989\n",
       "3       770\n",
       "4       765\n",
       "Name: order_hour_of_day, dtype: int64"
      ]
     },
     "execution_count": 73,
     "metadata": {},
     "output_type": "execute_result"
    }
   ],
   "source": [
    "orders['order_hour_of_day'].value_counts().sort_values(ascending=False)"
   ]
  },
  {
   "cell_type": "code",
   "execution_count": null,
   "id": "959788f1",
   "metadata": {},
   "outputs": [
    {
     "data": {
      "text/plain": [
       "<Axes: title={'center': 'Time for grocery shopping!'}, xlabel='Hour of the day', ylabel='Customers'>"
      ]
     },
     "execution_count": 37,
     "metadata": {},
     "output_type": "execute_result"
    },
    {
     "data": {
      "image/png": "[encoded data removed]",
      "text/plain": [
       "<Figure size 640x480 with 1 Axes>"
      ]
     },
     "metadata": {},
     "output_type": "display_data"
    }
   ],
   "source": [
    "orders['order_hour_of_day'].plot(kind='hist', bins=24,xlabel='Hour of the day',ylabel='Customers',title='Time for grocery shopping!')"
   ]
  },
  {
   "cell_type": "markdown",
   "id": "e1668cad",
   "metadata": {},
   "source": [
    "The peak shopping hours are 10.00-16.00."
   ]
  },
  {
   "cell_type": "markdown",
   "id": "documented-command",
   "metadata": {},
   "source": [
    "### [A3] What day of the week do people shop for groceries?"
   ]
  },
  {
   "cell_type": "code",
   "execution_count": null,
   "id": "chief-digit",
   "metadata": {},
   "outputs": [
    {
     "data": {
      "text/plain": [
       "0    84090\n",
       "1    82185\n",
       "2    65833\n",
       "5    63488\n",
       "6    62649\n",
       "3    60897\n",
       "4    59810\n",
       "Name: order_dow, dtype: int64"
      ]
     },
     "execution_count": 75,
     "metadata": {},
     "output_type": "execute_result"
    }
   ],
   "source": [
    "orders['order_dow'].value_counts().sort_values(ascending=False)"
   ]
  },
  {
   "cell_type": "code",
   "execution_count": null,
   "id": "7cba1d6e",
   "metadata": {},
   "outputs": [
    {
     "data": {
      "image/png": "[encoded data removed]",
      "text/plain": [
       "<Figure size 640x480 with 1 Axes>"
      ]
     },
     "metadata": {},
     "output_type": "display_data"
    }
   ],
   "source": [
    "tick = {0:'Mon', 1:'Tue', 2:'Wed', 3:'Thu', 4:'Fri', 5:'Sat', 6:'Sun'}\n",
    "fig = orders[\"order_dow\"].plot(\n",
    "    kind=\"hist\",\n",
    "    bins=7,\n",
    "    xlabel=\"Weekday\",\n",
    "    ylabel=\"Customers\",\n",
    "    title=\"Time for grocery shopping!\",\n",
    ")\n",
    "fig.set_xticks(range(7))\n",
    "fig.set_xticklabels([tick[i] for i in range(7)])\n",
    "plt.show()"
   ]
  },
  {
   "cell_type": "markdown",
   "id": "4d45b00d",
   "metadata": {},
   "source": [
    "Mondays and Tuesdays are the most popular days of week for groceries shopping."
   ]
  },
  {
   "cell_type": "markdown",
   "id": "cutting-concert",
   "metadata": {},
   "source": [
    "### [A4] How long do people wait until placing another order?"
   ]
  },
  {
   "cell_type": "code",
   "execution_count": null,
   "id": "16b95d22",
   "metadata": {},
   "outputs": [
    {
     "data": {
      "text/html": [
       "<div>\n",
       "<style scoped>\n",
       "    .dataframe tbody tr th:only-of-type {\n",
       "        vertical-align: middle;\n",
       "    }\n",
       "\n",
       "    .dataframe tbody tr th {\n",
       "        vertical-align: top;\n",
       "    }\n",
       "\n",
       "    .dataframe thead th {\n",
       "        text-align: right;\n",
       "    }\n",
       "</style>\n",
       "<table border=\"1\" class=\"dataframe\">\n",
       "  <thead>\n",
       "    <tr style=\"text-align: right;\">\n",
       "      <th></th>\n",
       "      <th>days_since_prior_order</th>\n",
       "    </tr>\n",
       "  </thead>\n",
       "  <tbody>\n",
       "    <tr>\n",
       "      <th>30</th>\n",
       "      <td>51337</td>\n",
       "    </tr>\n",
       "    <tr>\n",
       "      <th>7</th>\n",
       "      <td>44577</td>\n",
       "    </tr>\n",
       "    <tr>\n",
       "      <th>6</th>\n",
       "      <td>33930</td>\n",
       "    </tr>\n",
       "    <tr>\n",
       "      <th>4</th>\n",
       "      <td>31006</td>\n",
       "    </tr>\n",
       "    <tr>\n",
       "      <th>3</th>\n",
       "      <td>30224</td>\n",
       "    </tr>\n",
       "    <tr>\n",
       "      <th>5</th>\n",
       "      <td>30096</td>\n",
       "    </tr>\n",
       "    <tr>\n",
       "      <th>first_order</th>\n",
       "      <td>28817</td>\n",
       "    </tr>\n",
       "    <tr>\n",
       "      <th>2</th>\n",
       "      <td>27138</td>\n",
       "    </tr>\n",
       "    <tr>\n",
       "      <th>8</th>\n",
       "      <td>25361</td>\n",
       "    </tr>\n",
       "    <tr>\n",
       "      <th>1</th>\n",
       "      <td>20179</td>\n",
       "    </tr>\n",
       "    <tr>\n",
       "      <th>9</th>\n",
       "      <td>16753</td>\n",
       "    </tr>\n",
       "    <tr>\n",
       "      <th>14</th>\n",
       "      <td>13992</td>\n",
       "    </tr>\n",
       "    <tr>\n",
       "      <th>10</th>\n",
       "      <td>13309</td>\n",
       "    </tr>\n",
       "    <tr>\n",
       "      <th>13</th>\n",
       "      <td>11737</td>\n",
       "    </tr>\n",
       "    <tr>\n",
       "      <th>11</th>\n",
       "      <td>11467</td>\n",
       "    </tr>\n",
       "    <tr>\n",
       "      <th>12</th>\n",
       "      <td>10658</td>\n",
       "    </tr>\n",
       "    <tr>\n",
       "      <th>0</th>\n",
       "      <td>9589</td>\n",
       "    </tr>\n",
       "    <tr>\n",
       "      <th>15</th>\n",
       "      <td>9416</td>\n",
       "    </tr>\n",
       "    <tr>\n",
       "      <th>16</th>\n",
       "      <td>6587</td>\n",
       "    </tr>\n",
       "    <tr>\n",
       "      <th>21</th>\n",
       "      <td>6448</td>\n",
       "    </tr>\n",
       "    <tr>\n",
       "      <th>17</th>\n",
       "      <td>5498</td>\n",
       "    </tr>\n",
       "    <tr>\n",
       "      <th>20</th>\n",
       "      <td>5302</td>\n",
       "    </tr>\n",
       "    <tr>\n",
       "      <th>18</th>\n",
       "      <td>4971</td>\n",
       "    </tr>\n",
       "    <tr>\n",
       "      <th>19</th>\n",
       "      <td>4939</td>\n",
       "    </tr>\n",
       "    <tr>\n",
       "      <th>22</th>\n",
       "      <td>4514</td>\n",
       "    </tr>\n",
       "    <tr>\n",
       "      <th>28</th>\n",
       "      <td>3745</td>\n",
       "    </tr>\n",
       "    <tr>\n",
       "      <th>23</th>\n",
       "      <td>3337</td>\n",
       "    </tr>\n",
       "    <tr>\n",
       "      <th>24</th>\n",
       "      <td>3015</td>\n",
       "    </tr>\n",
       "    <tr>\n",
       "      <th>27</th>\n",
       "      <td>2986</td>\n",
       "    </tr>\n",
       "    <tr>\n",
       "      <th>25</th>\n",
       "      <td>2711</td>\n",
       "    </tr>\n",
       "    <tr>\n",
       "      <th>29</th>\n",
       "      <td>2673</td>\n",
       "    </tr>\n",
       "    <tr>\n",
       "      <th>26</th>\n",
       "      <td>2640</td>\n",
       "    </tr>\n",
       "  </tbody>\n",
       "</table>\n",
       "</div>"
      ],
      "text/plain": [
       "             days_since_prior_order\n",
       "30                            51337\n",
       "7                             44577\n",
       "6                             33930\n",
       "4                             31006\n",
       "3                             30224\n",
       "5                             30096\n",
       "first_order                   28817\n",
       "2                             27138\n",
       "8                             25361\n",
       "1                             20179\n",
       "9                             16753\n",
       "14                            13992\n",
       "10                            13309\n",
       "13                            11737\n",
       "11                            11467\n",
       "12                            10658\n",
       "0                              9589\n",
       "15                             9416\n",
       "16                             6587\n",
       "21                             6448\n",
       "17                             5498\n",
       "20                             5302\n",
       "18                             4971\n",
       "19                             4939\n",
       "22                             4514\n",
       "28                             3745\n",
       "23                             3337\n",
       "24                             3015\n",
       "27                             2986\n",
       "25                             2711\n",
       "29                             2673\n",
       "26                             2640"
      ]
     },
     "execution_count": 77,
     "metadata": {},
     "output_type": "execute_result"
    }
   ],
   "source": [
    "gap = pd.DataFrame(orders[\"days_since_prior_order\"].value_counts())\n",
    "gap"
   ]
  },
  {
   "cell_type": "code",
   "execution_count": null,
   "id": "exciting-fantasy",
   "metadata": {},
   "outputs": [
    {
     "data": {
      "image/png": "[encoded data removed]",
      "text/plain": [
       "<Figure size 640x480 with 1 Axes>"
      ]
     },
     "metadata": {},
     "output_type": "display_data"
    }
   ],
   "source": [
    "gap.plot(kind='bar', legend=False, title='Days since prior order',xlabel='')\n",
    "plt.show()"
   ]
  },
  {
   "cell_type": "markdown",
   "id": "f1653f0a",
   "metadata": {},
   "source": [
    "Most of the orders are placed in a month and within the first week from the previous order."
   ]
  },
  {
   "cell_type": "markdown",
   "id": "tight-staff",
   "metadata": {},
   "source": [
    "# [B] Medium (must complete all to pass)"
   ]
  },
  {
   "cell_type": "markdown",
   "id": "packed-classic",
   "metadata": {},
   "source": [
    "### [B1] Is there a difference in `'order_hour_of_day'` distributions on Wednesdays and Saturdays? Plot the histograms for both days and describe the differences that you see."
   ]
  },
  {
   "cell_type": "code",
   "execution_count": null,
   "id": "25cfcf96",
   "metadata": {},
   "outputs": [
    {
     "data": {
      "text/html": [
       "<div>\n",
       "<style scoped>\n",
       "    .dataframe tbody tr th:only-of-type {\n",
       "        vertical-align: middle;\n",
       "    }\n",
       "\n",
       "    .dataframe tbody tr th {\n",
       "        vertical-align: top;\n",
       "    }\n",
       "\n",
       "    .dataframe thead th {\n",
       "        text-align: right;\n",
       "    }\n",
       "</style>\n",
       "<table border=\"1\" class=\"dataframe\">\n",
       "  <thead>\n",
       "    <tr style=\"text-align: right;\">\n",
       "      <th></th>\n",
       "      <th>order_id</th>\n",
       "      <th>user_id</th>\n",
       "      <th>order_number</th>\n",
       "      <th>order_dow</th>\n",
       "      <th>order_hour_of_day</th>\n",
       "      <th>days_since_prior_order</th>\n",
       "    </tr>\n",
       "  </thead>\n",
       "  <tbody>\n",
       "    <tr>\n",
       "      <th>19</th>\n",
       "      <td>294269</td>\n",
       "      <td>107523</td>\n",
       "      <td>29</td>\n",
       "      <td>2</td>\n",
       "      <td>10</td>\n",
       "      <td>1.0</td>\n",
       "    </tr>\n",
       "    <tr>\n",
       "      <th>32</th>\n",
       "      <td>2744097</td>\n",
       "      <td>5316</td>\n",
       "      <td>27</td>\n",
       "      <td>2</td>\n",
       "      <td>17</td>\n",
       "      <td>8.0</td>\n",
       "    </tr>\n",
       "    <tr>\n",
       "      <th>41</th>\n",
       "      <td>939348</td>\n",
       "      <td>21335</td>\n",
       "      <td>28</td>\n",
       "      <td>2</td>\n",
       "      <td>15</td>\n",
       "      <td>6.0</td>\n",
       "    </tr>\n",
       "    <tr>\n",
       "      <th>46</th>\n",
       "      <td>2398578</td>\n",
       "      <td>84825</td>\n",
       "      <td>2</td>\n",
       "      <td>2</td>\n",
       "      <td>17</td>\n",
       "      <td>4.0</td>\n",
       "    </tr>\n",
       "    <tr>\n",
       "      <th>51</th>\n",
       "      <td>1739741</td>\n",
       "      <td>118405</td>\n",
       "      <td>48</td>\n",
       "      <td>2</td>\n",
       "      <td>10</td>\n",
       "      <td>3.0</td>\n",
       "    </tr>\n",
       "    <tr>\n",
       "      <th>...</th>\n",
       "      <td>...</td>\n",
       "      <td>...</td>\n",
       "      <td>...</td>\n",
       "      <td>...</td>\n",
       "      <td>...</td>\n",
       "      <td>...</td>\n",
       "    </tr>\n",
       "    <tr>\n",
       "      <th>478951</th>\n",
       "      <td>35425</td>\n",
       "      <td>191742</td>\n",
       "      <td>18</td>\n",
       "      <td>2</td>\n",
       "      <td>17</td>\n",
       "      <td>8.0</td>\n",
       "    </tr>\n",
       "    <tr>\n",
       "      <th>478953</th>\n",
       "      <td>475910</td>\n",
       "      <td>29597</td>\n",
       "      <td>7</td>\n",
       "      <td>2</td>\n",
       "      <td>18</td>\n",
       "      <td>19.0</td>\n",
       "    </tr>\n",
       "    <tr>\n",
       "      <th>478957</th>\n",
       "      <td>239595</td>\n",
       "      <td>141340</td>\n",
       "      <td>28</td>\n",
       "      <td>2</td>\n",
       "      <td>14</td>\n",
       "      <td>9.0</td>\n",
       "    </tr>\n",
       "    <tr>\n",
       "      <th>478960</th>\n",
       "      <td>2666119</td>\n",
       "      <td>81154</td>\n",
       "      <td>11</td>\n",
       "      <td>2</td>\n",
       "      <td>15</td>\n",
       "      <td>5.0</td>\n",
       "    </tr>\n",
       "    <tr>\n",
       "      <th>478964</th>\n",
       "      <td>885349</td>\n",
       "      <td>82944</td>\n",
       "      <td>16</td>\n",
       "      <td>2</td>\n",
       "      <td>11</td>\n",
       "      <td>6.0</td>\n",
       "    </tr>\n",
       "  </tbody>\n",
       "</table>\n",
       "<p>65833 rows × 6 columns</p>\n",
       "</div>"
      ],
      "text/plain": [
       "        order_id  user_id  order_number  order_dow  order_hour_of_day  \\\n",
       "19        294269   107523            29          2                 10   \n",
       "32       2744097     5316            27          2                 17   \n",
       "41        939348    21335            28          2                 15   \n",
       "46       2398578    84825             2          2                 17   \n",
       "51       1739741   118405            48          2                 10   \n",
       "...          ...      ...           ...        ...                ...   \n",
       "478951     35425   191742            18          2                 17   \n",
       "478953    475910    29597             7          2                 18   \n",
       "478957    239595   141340            28          2                 14   \n",
       "478960   2666119    81154            11          2                 15   \n",
       "478964    885349    82944            16          2                 11   \n",
       "\n",
       "        days_since_prior_order  \n",
       "19                         1.0  \n",
       "32                         8.0  \n",
       "41                         6.0  \n",
       "46                         4.0  \n",
       "51                         3.0  \n",
       "...                        ...  \n",
       "478951                     8.0  \n",
       "478953                    19.0  \n",
       "478957                     9.0  \n",
       "478960                     5.0  \n",
       "478964                     6.0  \n",
       "\n",
       "[65833 rows x 6 columns]"
      ]
     },
     "execution_count": 40,
     "metadata": {},
     "output_type": "execute_result"
    }
   ],
   "source": [
    "wed = orders[orders['order_dow']==2]\n",
    "wed"
   ]
  },
  {
   "cell_type": "code",
   "execution_count": null,
   "id": "9c5e8b03",
   "metadata": {},
   "outputs": [
    {
     "data": {
      "text/html": [
       "<div>\n",
       "<style scoped>\n",
       "    .dataframe tbody tr th:only-of-type {\n",
       "        vertical-align: middle;\n",
       "    }\n",
       "\n",
       "    .dataframe tbody tr th {\n",
       "        vertical-align: top;\n",
       "    }\n",
       "\n",
       "    .dataframe thead th {\n",
       "        text-align: right;\n",
       "    }\n",
       "</style>\n",
       "<table border=\"1\" class=\"dataframe\">\n",
       "  <thead>\n",
       "    <tr style=\"text-align: right;\">\n",
       "      <th></th>\n",
       "      <th>order_id</th>\n",
       "      <th>user_id</th>\n",
       "      <th>order_number</th>\n",
       "      <th>order_dow</th>\n",
       "      <th>order_hour_of_day</th>\n",
       "      <th>days_since_prior_order</th>\n",
       "    </tr>\n",
       "  </thead>\n",
       "  <tbody>\n",
       "    <tr>\n",
       "      <th>1</th>\n",
       "      <td>1690866</td>\n",
       "      <td>163593</td>\n",
       "      <td>5</td>\n",
       "      <td>5</td>\n",
       "      <td>12</td>\n",
       "      <td>9.0</td>\n",
       "    </tr>\n",
       "    <tr>\n",
       "      <th>2</th>\n",
       "      <td>1454967</td>\n",
       "      <td>39980</td>\n",
       "      <td>4</td>\n",
       "      <td>5</td>\n",
       "      <td>19</td>\n",
       "      <td>2.0</td>\n",
       "    </tr>\n",
       "    <tr>\n",
       "      <th>8</th>\n",
       "      <td>2266494</td>\n",
       "      <td>34954</td>\n",
       "      <td>40</td>\n",
       "      <td>5</td>\n",
       "      <td>15</td>\n",
       "      <td>4.0</td>\n",
       "    </tr>\n",
       "    <tr>\n",
       "      <th>13</th>\n",
       "      <td>782916</td>\n",
       "      <td>36310</td>\n",
       "      <td>34</td>\n",
       "      <td>5</td>\n",
       "      <td>9</td>\n",
       "      <td>3.0</td>\n",
       "    </tr>\n",
       "    <tr>\n",
       "      <th>18</th>\n",
       "      <td>556588</td>\n",
       "      <td>6801</td>\n",
       "      <td>63</td>\n",
       "      <td>5</td>\n",
       "      <td>11</td>\n",
       "      <td>7.0</td>\n",
       "    </tr>\n",
       "    <tr>\n",
       "      <th>...</th>\n",
       "      <td>...</td>\n",
       "      <td>...</td>\n",
       "      <td>...</td>\n",
       "      <td>...</td>\n",
       "      <td>...</td>\n",
       "      <td>...</td>\n",
       "    </tr>\n",
       "    <tr>\n",
       "      <th>478920</th>\n",
       "      <td>2467432</td>\n",
       "      <td>116980</td>\n",
       "      <td>2</td>\n",
       "      <td>5</td>\n",
       "      <td>20</td>\n",
       "      <td>8.0</td>\n",
       "    </tr>\n",
       "    <tr>\n",
       "      <th>478929</th>\n",
       "      <td>658949</td>\n",
       "      <td>205899</td>\n",
       "      <td>86</td>\n",
       "      <td>5</td>\n",
       "      <td>14</td>\n",
       "      <td>4.0</td>\n",
       "    </tr>\n",
       "    <tr>\n",
       "      <th>478945</th>\n",
       "      <td>1387033</td>\n",
       "      <td>22496</td>\n",
       "      <td>1</td>\n",
       "      <td>5</td>\n",
       "      <td>14</td>\n",
       "      <td>NaN</td>\n",
       "    </tr>\n",
       "    <tr>\n",
       "      <th>478952</th>\n",
       "      <td>1553841</td>\n",
       "      <td>171649</td>\n",
       "      <td>6</td>\n",
       "      <td>5</td>\n",
       "      <td>15</td>\n",
       "      <td>8.0</td>\n",
       "    </tr>\n",
       "    <tr>\n",
       "      <th>478955</th>\n",
       "      <td>1485188</td>\n",
       "      <td>70371</td>\n",
       "      <td>2</td>\n",
       "      <td>5</td>\n",
       "      <td>12</td>\n",
       "      <td>17.0</td>\n",
       "    </tr>\n",
       "  </tbody>\n",
       "</table>\n",
       "<p>63488 rows × 6 columns</p>\n",
       "</div>"
      ],
      "text/plain": [
       "        order_id  user_id  order_number  order_dow  order_hour_of_day  \\\n",
       "1        1690866   163593             5          5                 12   \n",
       "2        1454967    39980             4          5                 19   \n",
       "8        2266494    34954            40          5                 15   \n",
       "13        782916    36310            34          5                  9   \n",
       "18        556588     6801            63          5                 11   \n",
       "...          ...      ...           ...        ...                ...   \n",
       "478920   2467432   116980             2          5                 20   \n",
       "478929    658949   205899            86          5                 14   \n",
       "478945   1387033    22496             1          5                 14   \n",
       "478952   1553841   171649             6          5                 15   \n",
       "478955   1485188    70371             2          5                 12   \n",
       "\n",
       "        days_since_prior_order  \n",
       "1                          9.0  \n",
       "2                          2.0  \n",
       "8                          4.0  \n",
       "13                         3.0  \n",
       "18                         7.0  \n",
       "...                        ...  \n",
       "478920                     8.0  \n",
       "478929                     4.0  \n",
       "478945                     NaN  \n",
       "478952                     8.0  \n",
       "478955                    17.0  \n",
       "\n",
       "[63488 rows x 6 columns]"
      ]
     },
     "execution_count": 41,
     "metadata": {},
     "output_type": "execute_result"
    }
   ],
   "source": [
    "sat = orders[orders['order_dow']==5]\n",
    "sat"
   ]
  },
  {
   "cell_type": "code",
   "execution_count": null,
   "id": "d89b8403",
   "metadata": {},
   "outputs": [
    {
     "data": {
      "image/png": "[encoded data removed]",
      "text/plain": [
       "<Figure size 640x480 with 1 Axes>"
      ]
     },
     "metadata": {},
     "output_type": "display_data"
    }
   ],
   "source": [
    "wed[\"order_hour_of_day\"].plot(bins=24, kind=\"hist\", alpha=0.8, xlabel=\"Hour of the day\", title='Distribution of customers activity', ylabel='Orders')\n",
    "sat[\"order_hour_of_day\"].plot(\n",
    "    bins=24, kind=\"hist\", alpha=0.6, xlabel=\"Hour of the day\", ylabel=\"Orders\"\n",
    ")\n",
    "plt.legend([\"Tuesdays\", \"Fridays\"])\n",
    "\n",
    "plt.show()"
   ]
  },
  {
   "cell_type": "markdown",
   "id": "94e54e8a",
   "metadata": {},
   "source": [
    "The histogram shows that there is no significant difference between customers activity on Wednesdays and Saturdays."
   ]
  },
  {
   "cell_type": "code",
   "execution_count": null,
   "id": "c08393ac",
   "metadata": {},
   "outputs": [
    {
     "data": {
      "image/png": "[encoded data removed]",
      "text/plain": [
       "<Figure size 640x480 with 1 Axes>"
      ]
     },
     "metadata": {},
     "output_type": "display_data"
    }
   ],
   "source": [
    "d3 = orders[orders[\"order_dow\"] == 3]\n",
    "d6 = orders[orders[\"order_dow\"] == 6]\n",
    "d3[\"order_hour_of_day\"].plot(\n",
    "    bins=24,\n",
    "    kind=\"hist\",\n",
    "    alpha=0.8,\n",
    "    xlabel=\"Hour of the day\",\n",
    "    title=\"Distribution of customers activity\",\n",
    "    ylabel=\"Orders\",\n",
    ")\n",
    "d6[\"order_hour_of_day\"].plot(\n",
    "    bins=24, kind=\"hist\", alpha=0.6, xlabel=\"Hour of the day\", ylabel=\"Orders\"\n",
    ")\n",
    "plt.legend([\"Wednesdays\", \"Saturdays\"])\n",
    "\n",
    "plt.show()"
   ]
  },
  {
   "cell_type": "markdown",
   "id": "e3891143",
   "metadata": {},
   "source": [
    "### [B2] What's the distribution for the number of orders per customer?"
   ]
  },
  {
   "cell_type": "code",
   "execution_count": null,
   "id": "d8c26c23",
   "metadata": {},
   "outputs": [
    {
     "data": {
      "text/plain": [
       "user_id\n",
       "2          4\n",
       "4          6\n",
       "5          4\n",
       "6          4\n",
       "7         19\n",
       "          ..\n",
       "206203     2\n",
       "206206    66\n",
       "206207    14\n",
       "206208    34\n",
       "206209    13\n",
       "Name: order_number, Length: 157437, dtype: int64"
      ]
     },
     "execution_count": 44,
     "metadata": {},
     "output_type": "execute_result"
    }
   ],
   "source": [
    "number = orders.groupby('user_id')['order_number'].max()\n",
    "number"
   ]
  },
  {
   "cell_type": "code",
   "execution_count": null,
   "id": "44d738f2",
   "metadata": {},
   "outputs": [
    {
     "data": {
      "text/plain": [
       "count    157437.000000\n",
       "mean         15.577571\n",
       "std          17.215517\n",
       "min           1.000000\n",
       "25%           4.000000\n",
       "50%           9.000000\n",
       "75%          20.000000\n",
       "max         100.000000\n",
       "Name: order_number, dtype: float64"
      ]
     },
     "execution_count": 45,
     "metadata": {},
     "output_type": "execute_result"
    }
   ],
   "source": [
    "number.describe()"
   ]
  },
  {
   "cell_type": "code",
   "execution_count": null,
   "id": "00e69a66",
   "metadata": {},
   "outputs": [
    {
     "data": {
      "image/png": "[encoded data removed]",
      "text/plain": [
       "<Figure size 640x480 with 1 Axes>"
      ]
     },
     "metadata": {},
     "output_type": "display_data"
    }
   ],
   "source": [
    "number.plot(kind='hist',bins=100,xlim=[0,100],xlabel='Orders', ylabel='Customers', title='Number of orders per customer distribution')\n",
    "plt.show()"
   ]
  },
  {
   "cell_type": "markdown",
   "id": "d2eff7d5",
   "metadata": {},
   "source": [
    "Lots of customeres placed only 1 order, those who returned placed an order around 2-7 times."
   ]
  },
  {
   "cell_type": "markdown",
   "id": "54a0319c",
   "metadata": {},
   "source": [
    "### [B3] What are the top 20 popular products (display their id and name)?"
   ]
  },
  {
   "cell_type": "code",
   "execution_count": 118,
   "id": "universal-facial",
   "metadata": {},
   "outputs": [
    {
     "data": {
      "text/html": [
       "<div>\n",
       "<style scoped>\n",
       "    .dataframe tbody tr th:only-of-type {\n",
       "        vertical-align: middle;\n",
       "    }\n",
       "\n",
       "    .dataframe tbody tr th {\n",
       "        vertical-align: top;\n",
       "    }\n",
       "\n",
       "    .dataframe thead th {\n",
       "        text-align: right;\n",
       "    }\n",
       "</style>\n",
       "<table border=\"1\" class=\"dataframe\">\n",
       "  <thead>\n",
       "    <tr style=\"text-align: right;\">\n",
       "      <th></th>\n",
       "      <th>product_id</th>\n",
       "      <th>count</th>\n",
       "    </tr>\n",
       "  </thead>\n",
       "  <tbody>\n",
       "    <tr>\n",
       "      <th>0</th>\n",
       "      <td>24852</td>\n",
       "      <td>66050</td>\n",
       "    </tr>\n",
       "    <tr>\n",
       "      <th>1</th>\n",
       "      <td>13176</td>\n",
       "      <td>53297</td>\n",
       "    </tr>\n",
       "    <tr>\n",
       "      <th>2</th>\n",
       "      <td>21137</td>\n",
       "      <td>37039</td>\n",
       "    </tr>\n",
       "    <tr>\n",
       "      <th>3</th>\n",
       "      <td>21903</td>\n",
       "      <td>33971</td>\n",
       "    </tr>\n",
       "    <tr>\n",
       "      <th>4</th>\n",
       "      <td>47209</td>\n",
       "      <td>29773</td>\n",
       "    </tr>\n",
       "    <tr>\n",
       "      <th>5</th>\n",
       "      <td>47766</td>\n",
       "      <td>24689</td>\n",
       "    </tr>\n",
       "    <tr>\n",
       "      <th>6</th>\n",
       "      <td>47626</td>\n",
       "      <td>21495</td>\n",
       "    </tr>\n",
       "    <tr>\n",
       "      <th>7</th>\n",
       "      <td>16797</td>\n",
       "      <td>20018</td>\n",
       "    </tr>\n",
       "    <tr>\n",
       "      <th>8</th>\n",
       "      <td>26209</td>\n",
       "      <td>19690</td>\n",
       "    </tr>\n",
       "    <tr>\n",
       "      <th>9</th>\n",
       "      <td>27845</td>\n",
       "      <td>19600</td>\n",
       "    </tr>\n",
       "    <tr>\n",
       "      <th>10</th>\n",
       "      <td>27966</td>\n",
       "      <td>19197</td>\n",
       "    </tr>\n",
       "    <tr>\n",
       "      <th>11</th>\n",
       "      <td>22935</td>\n",
       "      <td>15898</td>\n",
       "    </tr>\n",
       "    <tr>\n",
       "      <th>12</th>\n",
       "      <td>24964</td>\n",
       "      <td>15292</td>\n",
       "    </tr>\n",
       "    <tr>\n",
       "      <th>13</th>\n",
       "      <td>45007</td>\n",
       "      <td>14584</td>\n",
       "    </tr>\n",
       "    <tr>\n",
       "      <th>14</th>\n",
       "      <td>39275</td>\n",
       "      <td>13879</td>\n",
       "    </tr>\n",
       "    <tr>\n",
       "      <th>15</th>\n",
       "      <td>49683</td>\n",
       "      <td>13675</td>\n",
       "    </tr>\n",
       "    <tr>\n",
       "      <th>16</th>\n",
       "      <td>28204</td>\n",
       "      <td>12544</td>\n",
       "    </tr>\n",
       "    <tr>\n",
       "      <th>17</th>\n",
       "      <td>5876</td>\n",
       "      <td>12232</td>\n",
       "    </tr>\n",
       "    <tr>\n",
       "      <th>18</th>\n",
       "      <td>8277</td>\n",
       "      <td>11993</td>\n",
       "    </tr>\n",
       "    <tr>\n",
       "      <th>19</th>\n",
       "      <td>40706</td>\n",
       "      <td>11781</td>\n",
       "    </tr>\n",
       "  </tbody>\n",
       "</table>\n",
       "</div>"
      ],
      "text/plain": [
       "    product_id  count\n",
       "0        24852  66050\n",
       "1        13176  53297\n",
       "2        21137  37039\n",
       "3        21903  33971\n",
       "4        47209  29773\n",
       "5        47766  24689\n",
       "6        47626  21495\n",
       "7        16797  20018\n",
       "8        26209  19690\n",
       "9        27845  19600\n",
       "10       27966  19197\n",
       "11       22935  15898\n",
       "12       24964  15292\n",
       "13       45007  14584\n",
       "14       39275  13879\n",
       "15       49683  13675\n",
       "16       28204  12544\n",
       "17        5876  12232\n",
       "18        8277  11993\n",
       "19       40706  11781"
      ]
     },
     "execution_count": 118,
     "metadata": {},
     "output_type": "execute_result"
    }
   ],
   "source": [
    "# Top-20 product id's\n",
    "top_20 = pd.DataFrame(order_p[\"product_id\"].value_counts().head(20)).reset_index()\n",
    "top_20"
   ]
  },
  {
   "cell_type": "code",
   "execution_count": 132,
   "id": "1015aea8",
   "metadata": {},
   "outputs": [],
   "source": [
    "mask = top_20['product_id']"
   ]
  },
  {
   "cell_type": "code",
   "execution_count": 133,
   "id": "0e41f727",
   "metadata": {},
   "outputs": [
    {
     "data": {
      "text/html": [
       "<div>\n",
       "<style scoped>\n",
       "    .dataframe tbody tr th:only-of-type {\n",
       "        vertical-align: middle;\n",
       "    }\n",
       "\n",
       "    .dataframe tbody tr th {\n",
       "        vertical-align: top;\n",
       "    }\n",
       "\n",
       "    .dataframe thead th {\n",
       "        text-align: right;\n",
       "    }\n",
       "</style>\n",
       "<table border=\"1\" class=\"dataframe\">\n",
       "  <thead>\n",
       "    <tr style=\"text-align: right;\">\n",
       "      <th></th>\n",
       "      <th>product_id</th>\n",
       "      <th>product_name</th>\n",
       "    </tr>\n",
       "  </thead>\n",
       "  <tbody>\n",
       "    <tr>\n",
       "      <th>5875</th>\n",
       "      <td>5876</td>\n",
       "      <td>organic lemon</td>\n",
       "    </tr>\n",
       "    <tr>\n",
       "      <th>8276</th>\n",
       "      <td>8277</td>\n",
       "      <td>apple honeycrisp organic</td>\n",
       "    </tr>\n",
       "    <tr>\n",
       "      <th>13175</th>\n",
       "      <td>13176</td>\n",
       "      <td>bag of organic bananas</td>\n",
       "    </tr>\n",
       "    <tr>\n",
       "      <th>16796</th>\n",
       "      <td>16797</td>\n",
       "      <td>strawberries</td>\n",
       "    </tr>\n",
       "    <tr>\n",
       "      <th>21136</th>\n",
       "      <td>21137</td>\n",
       "      <td>organic strawberries</td>\n",
       "    </tr>\n",
       "    <tr>\n",
       "      <th>21902</th>\n",
       "      <td>21903</td>\n",
       "      <td>organic baby spinach</td>\n",
       "    </tr>\n",
       "    <tr>\n",
       "      <th>22934</th>\n",
       "      <td>22935</td>\n",
       "      <td>organic yellow onion</td>\n",
       "    </tr>\n",
       "    <tr>\n",
       "      <th>24851</th>\n",
       "      <td>24852</td>\n",
       "      <td>banana</td>\n",
       "    </tr>\n",
       "    <tr>\n",
       "      <th>24963</th>\n",
       "      <td>24964</td>\n",
       "      <td>organic garlic</td>\n",
       "    </tr>\n",
       "    <tr>\n",
       "      <th>26208</th>\n",
       "      <td>26209</td>\n",
       "      <td>limes</td>\n",
       "    </tr>\n",
       "    <tr>\n",
       "      <th>27844</th>\n",
       "      <td>27845</td>\n",
       "      <td>organic whole milk</td>\n",
       "    </tr>\n",
       "    <tr>\n",
       "      <th>27965</th>\n",
       "      <td>27966</td>\n",
       "      <td>organic raspberries</td>\n",
       "    </tr>\n",
       "    <tr>\n",
       "      <th>28203</th>\n",
       "      <td>28204</td>\n",
       "      <td>organic fuji apple</td>\n",
       "    </tr>\n",
       "    <tr>\n",
       "      <th>39274</th>\n",
       "      <td>39275</td>\n",
       "      <td>organic blueberries</td>\n",
       "    </tr>\n",
       "    <tr>\n",
       "      <th>40705</th>\n",
       "      <td>40706</td>\n",
       "      <td>organic grape tomatoes</td>\n",
       "    </tr>\n",
       "    <tr>\n",
       "      <th>45006</th>\n",
       "      <td>45007</td>\n",
       "      <td>organic zucchini</td>\n",
       "    </tr>\n",
       "    <tr>\n",
       "      <th>47208</th>\n",
       "      <td>47209</td>\n",
       "      <td>organic hass avocado</td>\n",
       "    </tr>\n",
       "    <tr>\n",
       "      <th>47625</th>\n",
       "      <td>47626</td>\n",
       "      <td>large lemon</td>\n",
       "    </tr>\n",
       "    <tr>\n",
       "      <th>47765</th>\n",
       "      <td>47766</td>\n",
       "      <td>organic avocado</td>\n",
       "    </tr>\n",
       "    <tr>\n",
       "      <th>49682</th>\n",
       "      <td>49683</td>\n",
       "      <td>cucumber kirby</td>\n",
       "    </tr>\n",
       "  </tbody>\n",
       "</table>\n",
       "</div>"
      ],
      "text/plain": [
       "       product_id              product_name\n",
       "5875         5876             organic lemon\n",
       "8276         8277  apple honeycrisp organic\n",
       "13175       13176    bag of organic bananas\n",
       "16796       16797              strawberries\n",
       "21136       21137      organic strawberries\n",
       "21902       21903      organic baby spinach\n",
       "22934       22935      organic yellow onion\n",
       "24851       24852                    banana\n",
       "24963       24964            organic garlic\n",
       "26208       26209                     limes\n",
       "27844       27845        organic whole milk\n",
       "27965       27966       organic raspberries\n",
       "28203       28204        organic fuji apple\n",
       "39274       39275       organic blueberries\n",
       "40705       40706    organic grape tomatoes\n",
       "45006       45007          organic zucchini\n",
       "47208       47209      organic hass avocado\n",
       "47625       47626               large lemon\n",
       "47765       47766           organic avocado\n",
       "49682       49683            cucumber kirby"
      ]
     },
     "execution_count": 133,
     "metadata": {},
     "output_type": "execute_result"
    }
   ],
   "source": [
    "# Top-20 products\n",
    "products.query(\"product_id in @mask\")[['product_id','product_name']]"
   ]
  },
  {
   "cell_type": "code",
   "execution_count": 121,
   "id": "a277c979",
   "metadata": {},
   "outputs": [
    {
     "data": {
      "text/html": [
       "<div>\n",
       "<style scoped>\n",
       "    .dataframe tbody tr th:only-of-type {\n",
       "        vertical-align: middle;\n",
       "    }\n",
       "\n",
       "    .dataframe tbody tr th {\n",
       "        vertical-align: top;\n",
       "    }\n",
       "\n",
       "    .dataframe thead th {\n",
       "        text-align: right;\n",
       "    }\n",
       "</style>\n",
       "<table border=\"1\" class=\"dataframe\">\n",
       "  <thead>\n",
       "    <tr style=\"text-align: right;\">\n",
       "      <th></th>\n",
       "      <th>order_id</th>\n",
       "      <th>product_id</th>\n",
       "      <th>add_to_cart_order</th>\n",
       "      <th>reordered</th>\n",
       "      <th>product_name</th>\n",
       "      <th>aisle_id</th>\n",
       "      <th>department_id</th>\n",
       "    </tr>\n",
       "  </thead>\n",
       "  <tbody>\n",
       "    <tr>\n",
       "      <th>0</th>\n",
       "      <td>2141543</td>\n",
       "      <td>11440</td>\n",
       "      <td>17.0</td>\n",
       "      <td>0</td>\n",
       "      <td>chicken breast tenders breaded</td>\n",
       "      <td>129</td>\n",
       "      <td>1</td>\n",
       "    </tr>\n",
       "    <tr>\n",
       "      <th>1</th>\n",
       "      <td>567889</td>\n",
       "      <td>1560</td>\n",
       "      <td>1.0</td>\n",
       "      <td>1</td>\n",
       "      <td>bag of ice</td>\n",
       "      <td>37</td>\n",
       "      <td>1</td>\n",
       "    </tr>\n",
       "    <tr>\n",
       "      <th>2</th>\n",
       "      <td>2261212</td>\n",
       "      <td>26683</td>\n",
       "      <td>1.0</td>\n",
       "      <td>1</td>\n",
       "      <td>cafe latte pure lightly sweetened iced coffee ...</td>\n",
       "      <td>91</td>\n",
       "      <td>16</td>\n",
       "    </tr>\n",
       "    <tr>\n",
       "      <th>3</th>\n",
       "      <td>491251</td>\n",
       "      <td>8670</td>\n",
       "      <td>35.0</td>\n",
       "      <td>1</td>\n",
       "      <td>diced tomatoes</td>\n",
       "      <td>81</td>\n",
       "      <td>15</td>\n",
       "    </tr>\n",
       "    <tr>\n",
       "      <th>4</th>\n",
       "      <td>2571142</td>\n",
       "      <td>1940</td>\n",
       "      <td>5.0</td>\n",
       "      <td>1</td>\n",
       "      <td>organic 2% reduced fat milk</td>\n",
       "      <td>84</td>\n",
       "      <td>16</td>\n",
       "    </tr>\n",
       "    <tr>\n",
       "      <th>...</th>\n",
       "      <td>...</td>\n",
       "      <td>...</td>\n",
       "      <td>...</td>\n",
       "      <td>...</td>\n",
       "      <td>...</td>\n",
       "      <td>...</td>\n",
       "      <td>...</td>\n",
       "    </tr>\n",
       "    <tr>\n",
       "      <th>4545002</th>\n",
       "      <td>577211</td>\n",
       "      <td>15290</td>\n",
       "      <td>12.0</td>\n",
       "      <td>1</td>\n",
       "      <td>orange bell pepper</td>\n",
       "      <td>83</td>\n",
       "      <td>4</td>\n",
       "    </tr>\n",
       "    <tr>\n",
       "      <th>4545003</th>\n",
       "      <td>1219554</td>\n",
       "      <td>21914</td>\n",
       "      <td>9.0</td>\n",
       "      <td>0</td>\n",
       "      <td>peanut butter &amp; jelly fruit &amp; nut food bar</td>\n",
       "      <td>3</td>\n",
       "      <td>19</td>\n",
       "    </tr>\n",
       "    <tr>\n",
       "      <th>4545004</th>\n",
       "      <td>692640</td>\n",
       "      <td>47766</td>\n",
       "      <td>4.0</td>\n",
       "      <td>1</td>\n",
       "      <td>organic avocado</td>\n",
       "      <td>24</td>\n",
       "      <td>4</td>\n",
       "    </tr>\n",
       "    <tr>\n",
       "      <th>4545005</th>\n",
       "      <td>319435</td>\n",
       "      <td>691</td>\n",
       "      <td>8.0</td>\n",
       "      <td>1</td>\n",
       "      <td>organic promise strawberry fields cereal</td>\n",
       "      <td>121</td>\n",
       "      <td>14</td>\n",
       "    </tr>\n",
       "    <tr>\n",
       "      <th>4545006</th>\n",
       "      <td>1398151</td>\n",
       "      <td>28733</td>\n",
       "      <td>9.0</td>\n",
       "      <td>0</td>\n",
       "      <td>chicken nuggets</td>\n",
       "      <td>129</td>\n",
       "      <td>1</td>\n",
       "    </tr>\n",
       "  </tbody>\n",
       "</table>\n",
       "<p>4545007 rows × 7 columns</p>\n",
       "</div>"
      ],
      "text/plain": [
       "         order_id  product_id  add_to_cart_order  reordered  \\\n",
       "0         2141543       11440               17.0          0   \n",
       "1          567889        1560                1.0          1   \n",
       "2         2261212       26683                1.0          1   \n",
       "3          491251        8670               35.0          1   \n",
       "4         2571142        1940                5.0          1   \n",
       "...           ...         ...                ...        ...   \n",
       "4545002    577211       15290               12.0          1   \n",
       "4545003   1219554       21914                9.0          0   \n",
       "4545004    692640       47766                4.0          1   \n",
       "4545005    319435         691                8.0          1   \n",
       "4545006   1398151       28733                9.0          0   \n",
       "\n",
       "                                              product_name  aisle_id  \\\n",
       "0                           chicken breast tenders breaded       129   \n",
       "1                                               bag of ice        37   \n",
       "2        cafe latte pure lightly sweetened iced coffee ...        91   \n",
       "3                                           diced tomatoes        81   \n",
       "4                              organic 2% reduced fat milk        84   \n",
       "...                                                    ...       ...   \n",
       "4545002                                 orange bell pepper        83   \n",
       "4545003         peanut butter & jelly fruit & nut food bar         3   \n",
       "4545004                                    organic avocado        24   \n",
       "4545005           organic promise strawberry fields cereal       121   \n",
       "4545006                                    chicken nuggets       129   \n",
       "\n",
       "         department_id  \n",
       "0                    1  \n",
       "1                    1  \n",
       "2                   16  \n",
       "3                   15  \n",
       "4                   16  \n",
       "...                ...  \n",
       "4545002              4  \n",
       "4545003             19  \n",
       "4545004              4  \n",
       "4545005             14  \n",
       "4545006              1  \n",
       "\n",
       "[4545007 rows x 7 columns]"
      ]
     },
     "execution_count": 121,
     "metadata": {},
     "output_type": "execute_result"
    }
   ],
   "source": [
    "top_products = order_p.merge(products, on='product_id')\n",
    "top_products"
   ]
  },
  {
   "cell_type": "code",
   "execution_count": 124,
   "id": "abbf8c97",
   "metadata": {},
   "outputs": [
    {
     "data": {
      "text/html": [
       "<div>\n",
       "<style scoped>\n",
       "    .dataframe tbody tr th:only-of-type {\n",
       "        vertical-align: middle;\n",
       "    }\n",
       "\n",
       "    .dataframe tbody tr th {\n",
       "        vertical-align: top;\n",
       "    }\n",
       "\n",
       "    .dataframe thead th {\n",
       "        text-align: right;\n",
       "    }\n",
       "</style>\n",
       "<table border=\"1\" class=\"dataframe\">\n",
       "  <thead>\n",
       "    <tr style=\"text-align: right;\">\n",
       "      <th></th>\n",
       "      <th>product_name</th>\n",
       "      <th>product_id</th>\n",
       "      <th>count</th>\n",
       "    </tr>\n",
       "  </thead>\n",
       "  <tbody>\n",
       "    <tr>\n",
       "      <th>0</th>\n",
       "      <td>banana</td>\n",
       "      <td>24852</td>\n",
       "      <td>66050</td>\n",
       "    </tr>\n",
       "    <tr>\n",
       "      <th>1</th>\n",
       "      <td>bag of organic bananas</td>\n",
       "      <td>13176</td>\n",
       "      <td>53297</td>\n",
       "    </tr>\n",
       "    <tr>\n",
       "      <th>2</th>\n",
       "      <td>organic strawberries</td>\n",
       "      <td>21137</td>\n",
       "      <td>37039</td>\n",
       "    </tr>\n",
       "    <tr>\n",
       "      <th>3</th>\n",
       "      <td>organic baby spinach</td>\n",
       "      <td>21903</td>\n",
       "      <td>33971</td>\n",
       "    </tr>\n",
       "    <tr>\n",
       "      <th>4</th>\n",
       "      <td>organic hass avocado</td>\n",
       "      <td>47209</td>\n",
       "      <td>29773</td>\n",
       "    </tr>\n",
       "    <tr>\n",
       "      <th>5</th>\n",
       "      <td>organic avocado</td>\n",
       "      <td>47766</td>\n",
       "      <td>24689</td>\n",
       "    </tr>\n",
       "    <tr>\n",
       "      <th>6</th>\n",
       "      <td>large lemon</td>\n",
       "      <td>47626</td>\n",
       "      <td>21495</td>\n",
       "    </tr>\n",
       "    <tr>\n",
       "      <th>7</th>\n",
       "      <td>strawberries</td>\n",
       "      <td>16797</td>\n",
       "      <td>20018</td>\n",
       "    </tr>\n",
       "    <tr>\n",
       "      <th>8</th>\n",
       "      <td>limes</td>\n",
       "      <td>26209</td>\n",
       "      <td>19690</td>\n",
       "    </tr>\n",
       "    <tr>\n",
       "      <th>9</th>\n",
       "      <td>organic whole milk</td>\n",
       "      <td>27845</td>\n",
       "      <td>19600</td>\n",
       "    </tr>\n",
       "    <tr>\n",
       "      <th>10</th>\n",
       "      <td>organic raspberries</td>\n",
       "      <td>27966</td>\n",
       "      <td>19197</td>\n",
       "    </tr>\n",
       "    <tr>\n",
       "      <th>11</th>\n",
       "      <td>organic yellow onion</td>\n",
       "      <td>22935</td>\n",
       "      <td>15898</td>\n",
       "    </tr>\n",
       "    <tr>\n",
       "      <th>12</th>\n",
       "      <td>organic garlic</td>\n",
       "      <td>24964</td>\n",
       "      <td>15292</td>\n",
       "    </tr>\n",
       "    <tr>\n",
       "      <th>13</th>\n",
       "      <td>organic zucchini</td>\n",
       "      <td>45007</td>\n",
       "      <td>14584</td>\n",
       "    </tr>\n",
       "    <tr>\n",
       "      <th>14</th>\n",
       "      <td>organic blueberries</td>\n",
       "      <td>39275</td>\n",
       "      <td>13879</td>\n",
       "    </tr>\n",
       "    <tr>\n",
       "      <th>15</th>\n",
       "      <td>cucumber kirby</td>\n",
       "      <td>49683</td>\n",
       "      <td>13675</td>\n",
       "    </tr>\n",
       "    <tr>\n",
       "      <th>16</th>\n",
       "      <td>organic fuji apple</td>\n",
       "      <td>28204</td>\n",
       "      <td>12544</td>\n",
       "    </tr>\n",
       "    <tr>\n",
       "      <th>17</th>\n",
       "      <td>organic lemon</td>\n",
       "      <td>5876</td>\n",
       "      <td>12232</td>\n",
       "    </tr>\n",
       "    <tr>\n",
       "      <th>18</th>\n",
       "      <td>apple honeycrisp organic</td>\n",
       "      <td>8277</td>\n",
       "      <td>11993</td>\n",
       "    </tr>\n",
       "    <tr>\n",
       "      <th>19</th>\n",
       "      <td>organic grape tomatoes</td>\n",
       "      <td>40706</td>\n",
       "      <td>11781</td>\n",
       "    </tr>\n",
       "  </tbody>\n",
       "</table>\n",
       "</div>"
      ],
      "text/plain": [
       "                product_name  product_id  count\n",
       "0                     banana       24852  66050\n",
       "1     bag of organic bananas       13176  53297\n",
       "2       organic strawberries       21137  37039\n",
       "3       organic baby spinach       21903  33971\n",
       "4       organic hass avocado       47209  29773\n",
       "5            organic avocado       47766  24689\n",
       "6                large lemon       47626  21495\n",
       "7               strawberries       16797  20018\n",
       "8                      limes       26209  19690\n",
       "9         organic whole milk       27845  19600\n",
       "10       organic raspberries       27966  19197\n",
       "11      organic yellow onion       22935  15898\n",
       "12            organic garlic       24964  15292\n",
       "13          organic zucchini       45007  14584\n",
       "14       organic blueberries       39275  13879\n",
       "15            cucumber kirby       49683  13675\n",
       "16        organic fuji apple       28204  12544\n",
       "17             organic lemon        5876  12232\n",
       "18  apple honeycrisp organic        8277  11993\n",
       "19    organic grape tomatoes       40706  11781"
      ]
     },
     "execution_count": 124,
     "metadata": {},
     "output_type": "execute_result"
    }
   ],
   "source": [
    "top = pd.DataFrame(top_products[[\"product_name\",'product_id']].value_counts().head(20)).reset_index()\n",
    "top"
   ]
  },
  {
   "cell_type": "code",
   "execution_count": 127,
   "id": "f0c84d29",
   "metadata": {},
   "outputs": [
    {
     "data": {
      "text/html": [
       "<div>\n",
       "<style scoped>\n",
       "    .dataframe tbody tr th:only-of-type {\n",
       "        vertical-align: middle;\n",
       "    }\n",
       "\n",
       "    .dataframe tbody tr th {\n",
       "        vertical-align: top;\n",
       "    }\n",
       "\n",
       "    .dataframe thead th {\n",
       "        text-align: right;\n",
       "    }\n",
       "</style>\n",
       "<table border=\"1\" class=\"dataframe\">\n",
       "  <thead>\n",
       "    <tr style=\"text-align: right;\">\n",
       "      <th></th>\n",
       "      <th>product_name</th>\n",
       "      <th>product_id</th>\n",
       "    </tr>\n",
       "  </thead>\n",
       "  <tbody>\n",
       "    <tr>\n",
       "      <th>0</th>\n",
       "      <td>banana</td>\n",
       "      <td>24852</td>\n",
       "    </tr>\n",
       "    <tr>\n",
       "      <th>1</th>\n",
       "      <td>bag of organic bananas</td>\n",
       "      <td>13176</td>\n",
       "    </tr>\n",
       "    <tr>\n",
       "      <th>2</th>\n",
       "      <td>organic strawberries</td>\n",
       "      <td>21137</td>\n",
       "    </tr>\n",
       "    <tr>\n",
       "      <th>3</th>\n",
       "      <td>organic baby spinach</td>\n",
       "      <td>21903</td>\n",
       "    </tr>\n",
       "    <tr>\n",
       "      <th>4</th>\n",
       "      <td>organic hass avocado</td>\n",
       "      <td>47209</td>\n",
       "    </tr>\n",
       "    <tr>\n",
       "      <th>5</th>\n",
       "      <td>organic avocado</td>\n",
       "      <td>47766</td>\n",
       "    </tr>\n",
       "    <tr>\n",
       "      <th>6</th>\n",
       "      <td>large lemon</td>\n",
       "      <td>47626</td>\n",
       "    </tr>\n",
       "    <tr>\n",
       "      <th>7</th>\n",
       "      <td>strawberries</td>\n",
       "      <td>16797</td>\n",
       "    </tr>\n",
       "    <tr>\n",
       "      <th>8</th>\n",
       "      <td>limes</td>\n",
       "      <td>26209</td>\n",
       "    </tr>\n",
       "    <tr>\n",
       "      <th>9</th>\n",
       "      <td>organic whole milk</td>\n",
       "      <td>27845</td>\n",
       "    </tr>\n",
       "    <tr>\n",
       "      <th>10</th>\n",
       "      <td>organic raspberries</td>\n",
       "      <td>27966</td>\n",
       "    </tr>\n",
       "    <tr>\n",
       "      <th>11</th>\n",
       "      <td>organic yellow onion</td>\n",
       "      <td>22935</td>\n",
       "    </tr>\n",
       "    <tr>\n",
       "      <th>12</th>\n",
       "      <td>organic garlic</td>\n",
       "      <td>24964</td>\n",
       "    </tr>\n",
       "    <tr>\n",
       "      <th>13</th>\n",
       "      <td>organic zucchini</td>\n",
       "      <td>45007</td>\n",
       "    </tr>\n",
       "    <tr>\n",
       "      <th>14</th>\n",
       "      <td>organic blueberries</td>\n",
       "      <td>39275</td>\n",
       "    </tr>\n",
       "    <tr>\n",
       "      <th>15</th>\n",
       "      <td>cucumber kirby</td>\n",
       "      <td>49683</td>\n",
       "    </tr>\n",
       "    <tr>\n",
       "      <th>16</th>\n",
       "      <td>organic fuji apple</td>\n",
       "      <td>28204</td>\n",
       "    </tr>\n",
       "    <tr>\n",
       "      <th>17</th>\n",
       "      <td>organic lemon</td>\n",
       "      <td>5876</td>\n",
       "    </tr>\n",
       "    <tr>\n",
       "      <th>18</th>\n",
       "      <td>apple honeycrisp organic</td>\n",
       "      <td>8277</td>\n",
       "    </tr>\n",
       "    <tr>\n",
       "      <th>19</th>\n",
       "      <td>organic grape tomatoes</td>\n",
       "      <td>40706</td>\n",
       "    </tr>\n",
       "  </tbody>\n",
       "</table>\n",
       "</div>"
      ],
      "text/plain": [
       "                product_name  product_id\n",
       "0                     banana       24852\n",
       "1     bag of organic bananas       13176\n",
       "2       organic strawberries       21137\n",
       "3       organic baby spinach       21903\n",
       "4       organic hass avocado       47209\n",
       "5            organic avocado       47766\n",
       "6                large lemon       47626\n",
       "7               strawberries       16797\n",
       "8                      limes       26209\n",
       "9         organic whole milk       27845\n",
       "10       organic raspberries       27966\n",
       "11      organic yellow onion       22935\n",
       "12            organic garlic       24964\n",
       "13          organic zucchini       45007\n",
       "14       organic blueberries       39275\n",
       "15            cucumber kirby       49683\n",
       "16        organic fuji apple       28204\n",
       "17             organic lemon        5876\n",
       "18  apple honeycrisp organic        8277\n",
       "19    organic grape tomatoes       40706"
      ]
     },
     "execution_count": 127,
     "metadata": {},
     "output_type": "execute_result"
    }
   ],
   "source": [
    "top = top[['product_name', 'product_id']]\n",
    "top"
   ]
  },
  {
   "cell_type": "markdown",
   "id": "7df00f47",
   "metadata": {},
   "source": []
  },
  {
   "cell_type": "markdown",
   "id": "gross-theme",
   "metadata": {},
   "source": [
    "# [C] Hard (must complete at least two to pass)"
   ]
  },
  {
   "cell_type": "markdown",
   "id": "romantic-deposit",
   "metadata": {},
   "source": [
    "### [C1] How many items do people typically buy in one order? What does the distribution look like?"
   ]
  },
  {
   "cell_type": "code",
   "execution_count": null,
   "id": "263e6686",
   "metadata": {},
   "outputs": [
    {
     "data": {
      "text/plain": [
       "450046"
      ]
     },
     "execution_count": 88,
     "metadata": {},
     "output_type": "execute_result"
    }
   ],
   "source": [
    "# Checking the number of orders in the database\n",
    "order_p['order_id'].nunique()"
   ]
  },
  {
   "cell_type": "code",
   "execution_count": 129,
   "id": "virtual-punch",
   "metadata": {},
   "outputs": [
    {
     "data": {
      "text/html": [
       "<div>\n",
       "<style scoped>\n",
       "    .dataframe tbody tr th:only-of-type {\n",
       "        vertical-align: middle;\n",
       "    }\n",
       "\n",
       "    .dataframe tbody tr th {\n",
       "        vertical-align: top;\n",
       "    }\n",
       "\n",
       "    .dataframe thead th {\n",
       "        text-align: right;\n",
       "    }\n",
       "</style>\n",
       "<table border=\"1\" class=\"dataframe\">\n",
       "  <thead>\n",
       "    <tr style=\"text-align: right;\">\n",
       "      <th></th>\n",
       "      <th>0</th>\n",
       "    </tr>\n",
       "  </thead>\n",
       "  <tbody>\n",
       "    <tr>\n",
       "      <th>0</th>\n",
       "      <td>1</td>\n",
       "    </tr>\n",
       "    <tr>\n",
       "      <th>1</th>\n",
       "      <td>1</td>\n",
       "    </tr>\n",
       "    <tr>\n",
       "      <th>2</th>\n",
       "      <td>1</td>\n",
       "    </tr>\n",
       "    <tr>\n",
       "      <th>3</th>\n",
       "      <td>1</td>\n",
       "    </tr>\n",
       "    <tr>\n",
       "      <th>4</th>\n",
       "      <td>1</td>\n",
       "    </tr>\n",
       "    <tr>\n",
       "      <th>...</th>\n",
       "      <td>...</td>\n",
       "    </tr>\n",
       "    <tr>\n",
       "      <th>450041</th>\n",
       "      <td>64</td>\n",
       "    </tr>\n",
       "    <tr>\n",
       "      <th>450042</th>\n",
       "      <td>64</td>\n",
       "    </tr>\n",
       "    <tr>\n",
       "      <th>450043</th>\n",
       "      <td>64</td>\n",
       "    </tr>\n",
       "    <tr>\n",
       "      <th>450044</th>\n",
       "      <td>64</td>\n",
       "    </tr>\n",
       "    <tr>\n",
       "      <th>450045</th>\n",
       "      <td>64</td>\n",
       "    </tr>\n",
       "  </tbody>\n",
       "</table>\n",
       "<p>450046 rows × 1 columns</p>\n",
       "</div>"
      ],
      "text/plain": [
       "         0\n",
       "0        1\n",
       "1        1\n",
       "2        1\n",
       "3        1\n",
       "4        1\n",
       "...     ..\n",
       "450041  64\n",
       "450042  64\n",
       "450043  64\n",
       "450044  64\n",
       "450045  64\n",
       "\n",
       "[450046 rows x 1 columns]"
      ]
     },
     "execution_count": 129,
     "metadata": {},
     "output_type": "execute_result"
    }
   ],
   "source": [
    "# Displaying the number of products in each order, excluding our missing values\n",
    "prod_num = pd.DataFrame(\n",
    "    sorted(\n",
    "        order_p.groupby(\"order_id\")[\"add_to_cart_order\"]\n",
    "        .count()\n",
    "    )\n",
    ")\n",
    "prod_num"
   ]
  },
  {
   "cell_type": "code",
   "execution_count": null,
   "id": "4a9dae58",
   "metadata": {},
   "outputs": [
    {
     "data": {
      "text/plain": [
       "5     31923\n",
       "6     31698\n",
       "4     31054\n",
       "7     30822\n",
       "3     29046\n",
       "8     28539\n",
       "2     26292\n",
       "9     25742\n",
       "10    23248\n",
       "1     21847\n",
       "11    20406\n",
       "12    18539\n",
       "13    16497\n",
       "14    14472\n",
       "15    12696\n",
       "dtype: int64"
      ]
     },
     "execution_count": 90,
     "metadata": {},
     "output_type": "execute_result"
    }
   ],
   "source": [
    "prod_num.value_counts().head(15)"
   ]
  },
  {
   "cell_type": "markdown",
   "id": "cdee0147",
   "metadata": {},
   "source": [
    "Looks like the most common number of items in the cart is in the range from 3 to 8."
   ]
  },
  {
   "cell_type": "code",
   "execution_count": null,
   "id": "3b397a51",
   "metadata": {},
   "outputs": [
    {
     "data": {
      "text/html": [
       "<div>\n",
       "<style scoped>\n",
       "    .dataframe tbody tr th:only-of-type {\n",
       "        vertical-align: middle;\n",
       "    }\n",
       "\n",
       "    .dataframe tbody tr th {\n",
       "        vertical-align: top;\n",
       "    }\n",
       "\n",
       "    .dataframe thead th {\n",
       "        text-align: right;\n",
       "    }\n",
       "</style>\n",
       "<table border=\"1\" class=\"dataframe\">\n",
       "  <thead>\n",
       "    <tr style=\"text-align: right;\">\n",
       "      <th></th>\n",
       "      <th>0</th>\n",
       "    </tr>\n",
       "  </thead>\n",
       "  <tbody>\n",
       "    <tr>\n",
       "      <th>count</th>\n",
       "      <td>450046.000000</td>\n",
       "    </tr>\n",
       "    <tr>\n",
       "      <th>mean</th>\n",
       "      <td>10.097126</td>\n",
       "    </tr>\n",
       "    <tr>\n",
       "      <th>std</th>\n",
       "      <td>7.523747</td>\n",
       "    </tr>\n",
       "    <tr>\n",
       "      <th>min</th>\n",
       "      <td>1.000000</td>\n",
       "    </tr>\n",
       "    <tr>\n",
       "      <th>25%</th>\n",
       "      <td>5.000000</td>\n",
       "    </tr>\n",
       "    <tr>\n",
       "      <th>50%</th>\n",
       "      <td>8.000000</td>\n",
       "    </tr>\n",
       "    <tr>\n",
       "      <th>75%</th>\n",
       "      <td>14.000000</td>\n",
       "    </tr>\n",
       "    <tr>\n",
       "      <th>max</th>\n",
       "      <td>64.000000</td>\n",
       "    </tr>\n",
       "  </tbody>\n",
       "</table>\n",
       "</div>"
      ],
      "text/plain": [
       "                   0\n",
       "count  450046.000000\n",
       "mean       10.097126\n",
       "std         7.523747\n",
       "min         1.000000\n",
       "25%         5.000000\n",
       "50%         8.000000\n",
       "75%        14.000000\n",
       "max        64.000000"
      ]
     },
     "execution_count": 91,
     "metadata": {},
     "output_type": "execute_result"
    }
   ],
   "source": [
    "prod_num.describe(include=\"all\")"
   ]
  },
  {
   "cell_type": "markdown",
   "id": "00de7a6a",
   "metadata": {},
   "source": [
    "The mean number of the items is also a useful measure."
   ]
  },
  {
   "cell_type": "code",
   "execution_count": 130,
   "id": "sensitive-breathing",
   "metadata": {},
   "outputs": [
    {
     "data": {
      "image/png": "[encoded data removed]",
      "text/plain": [
       "<Figure size 640x480 with 1 Axes>"
      ]
     },
     "metadata": {},
     "output_type": "display_data"
    }
   ],
   "source": [
    "# Building a histogram with the distribution\n",
    "prod_num.plot(kind='hist', bins=64, xlim=[0,64], title='Items in cart',ylabel='Orders',xlabel='Items',legend=False)\n",
    "plt.show()"
   ]
  },
  {
   "cell_type": "markdown",
   "id": "5e6b5537",
   "metadata": {},
   "source": [
    "### [C2] What are the top 20 items that are reordered most frequently (display their names and product IDs)?"
   ]
  },
  {
   "cell_type": "code",
   "execution_count": null,
   "id": "724ef7cf",
   "metadata": {},
   "outputs": [
    {
     "data": {
      "text/html": [
       "<div>\n",
       "<style scoped>\n",
       "    .dataframe tbody tr th:only-of-type {\n",
       "        vertical-align: middle;\n",
       "    }\n",
       "\n",
       "    .dataframe tbody tr th {\n",
       "        vertical-align: top;\n",
       "    }\n",
       "\n",
       "    .dataframe thead th {\n",
       "        text-align: right;\n",
       "    }\n",
       "</style>\n",
       "<table border=\"1\" class=\"dataframe\">\n",
       "  <thead>\n",
       "    <tr style=\"text-align: right;\">\n",
       "      <th></th>\n",
       "      <th>order_id</th>\n",
       "      <th>product_id</th>\n",
       "      <th>add_to_cart_order</th>\n",
       "      <th>reordered</th>\n",
       "    </tr>\n",
       "  </thead>\n",
       "  <tbody>\n",
       "    <tr>\n",
       "      <th>0</th>\n",
       "      <td>2141543</td>\n",
       "      <td>11440</td>\n",
       "      <td>17</td>\n",
       "      <td>0</td>\n",
       "    </tr>\n",
       "    <tr>\n",
       "      <th>1</th>\n",
       "      <td>567889</td>\n",
       "      <td>1560</td>\n",
       "      <td>1</td>\n",
       "      <td>1</td>\n",
       "    </tr>\n",
       "    <tr>\n",
       "      <th>2</th>\n",
       "      <td>2261212</td>\n",
       "      <td>26683</td>\n",
       "      <td>1</td>\n",
       "      <td>1</td>\n",
       "    </tr>\n",
       "    <tr>\n",
       "      <th>3</th>\n",
       "      <td>491251</td>\n",
       "      <td>8670</td>\n",
       "      <td>35</td>\n",
       "      <td>1</td>\n",
       "    </tr>\n",
       "    <tr>\n",
       "      <th>4</th>\n",
       "      <td>2571142</td>\n",
       "      <td>1940</td>\n",
       "      <td>5</td>\n",
       "      <td>1</td>\n",
       "    </tr>\n",
       "    <tr>\n",
       "      <th>...</th>\n",
       "      <td>...</td>\n",
       "      <td>...</td>\n",
       "      <td>...</td>\n",
       "      <td>...</td>\n",
       "    </tr>\n",
       "    <tr>\n",
       "      <th>4545002</th>\n",
       "      <td>577211</td>\n",
       "      <td>15290</td>\n",
       "      <td>12</td>\n",
       "      <td>1</td>\n",
       "    </tr>\n",
       "    <tr>\n",
       "      <th>4545003</th>\n",
       "      <td>1219554</td>\n",
       "      <td>21914</td>\n",
       "      <td>9</td>\n",
       "      <td>0</td>\n",
       "    </tr>\n",
       "    <tr>\n",
       "      <th>4545004</th>\n",
       "      <td>692640</td>\n",
       "      <td>47766</td>\n",
       "      <td>4</td>\n",
       "      <td>1</td>\n",
       "    </tr>\n",
       "    <tr>\n",
       "      <th>4545005</th>\n",
       "      <td>319435</td>\n",
       "      <td>691</td>\n",
       "      <td>8</td>\n",
       "      <td>1</td>\n",
       "    </tr>\n",
       "    <tr>\n",
       "      <th>4545006</th>\n",
       "      <td>1398151</td>\n",
       "      <td>28733</td>\n",
       "      <td>9</td>\n",
       "      <td>0</td>\n",
       "    </tr>\n",
       "  </tbody>\n",
       "</table>\n",
       "<p>4545007 rows × 4 columns</p>\n",
       "</div>"
      ],
      "text/plain": [
       "         order_id  product_id  add_to_cart_order  reordered\n",
       "0         2141543       11440                 17          0\n",
       "1          567889        1560                  1          1\n",
       "2         2261212       26683                  1          1\n",
       "3          491251        8670                 35          1\n",
       "4         2571142        1940                  5          1\n",
       "...           ...         ...                ...        ...\n",
       "4545002    577211       15290                 12          1\n",
       "4545003   1219554       21914                  9          0\n",
       "4545004    692640       47766                  4          1\n",
       "4545005    319435         691                  8          1\n",
       "4545006   1398151       28733                  9          0\n",
       "\n",
       "[4545007 rows x 4 columns]"
      ]
     },
     "execution_count": 93,
     "metadata": {},
     "output_type": "execute_result"
    }
   ],
   "source": [
    "order_p"
   ]
  },
  {
   "cell_type": "code",
   "execution_count": null,
   "id": "9374e55a",
   "metadata": {},
   "outputs": [
    {
     "data": {
      "text/html": [
       "<div>\n",
       "<style scoped>\n",
       "    .dataframe tbody tr th:only-of-type {\n",
       "        vertical-align: middle;\n",
       "    }\n",
       "\n",
       "    .dataframe tbody tr th {\n",
       "        vertical-align: top;\n",
       "    }\n",
       "\n",
       "    .dataframe thead th {\n",
       "        text-align: right;\n",
       "    }\n",
       "</style>\n",
       "<table border=\"1\" class=\"dataframe\">\n",
       "  <thead>\n",
       "    <tr style=\"text-align: right;\">\n",
       "      <th></th>\n",
       "      <th>order_id</th>\n",
       "      <th>reordered</th>\n",
       "    </tr>\n",
       "  </thead>\n",
       "  <tbody>\n",
       "    <tr>\n",
       "      <th>24852</th>\n",
       "      <td>95207745254</td>\n",
       "      <td>55763</td>\n",
       "    </tr>\n",
       "    <tr>\n",
       "      <th>13176</th>\n",
       "      <td>75903122490</td>\n",
       "      <td>44450</td>\n",
       "    </tr>\n",
       "    <tr>\n",
       "      <th>21137</th>\n",
       "      <td>49021870650</td>\n",
       "      <td>28639</td>\n",
       "    </tr>\n",
       "    <tr>\n",
       "      <th>21903</th>\n",
       "      <td>44714320826</td>\n",
       "      <td>26233</td>\n",
       "    </tr>\n",
       "    <tr>\n",
       "      <th>47209</th>\n",
       "      <td>40520463583</td>\n",
       "      <td>23629</td>\n",
       "    </tr>\n",
       "    <tr>\n",
       "      <th>47766</th>\n",
       "      <td>32019814378</td>\n",
       "      <td>18743</td>\n",
       "    </tr>\n",
       "    <tr>\n",
       "      <th>27845</th>\n",
       "      <td>27804835173</td>\n",
       "      <td>16251</td>\n",
       "    </tr>\n",
       "    <tr>\n",
       "      <th>47626</th>\n",
       "      <td>25705979099</td>\n",
       "      <td>15044</td>\n",
       "    </tr>\n",
       "    <tr>\n",
       "      <th>27966</th>\n",
       "      <td>25115496376</td>\n",
       "      <td>14748</td>\n",
       "    </tr>\n",
       "    <tr>\n",
       "      <th>16797</th>\n",
       "      <td>23836287202</td>\n",
       "      <td>13945</td>\n",
       "    </tr>\n",
       "    <tr>\n",
       "      <th>26209</th>\n",
       "      <td>22714806285</td>\n",
       "      <td>13327</td>\n",
       "    </tr>\n",
       "    <tr>\n",
       "      <th>22935</th>\n",
       "      <td>19194485472</td>\n",
       "      <td>11145</td>\n",
       "    </tr>\n",
       "    <tr>\n",
       "      <th>24964</th>\n",
       "      <td>17757800533</td>\n",
       "      <td>10411</td>\n",
       "    </tr>\n",
       "    <tr>\n",
       "      <th>45007</th>\n",
       "      <td>17150388784</td>\n",
       "      <td>10076</td>\n",
       "    </tr>\n",
       "    <tr>\n",
       "      <th>49683</th>\n",
       "      <td>16326185046</td>\n",
       "      <td>9538</td>\n",
       "    </tr>\n",
       "    <tr>\n",
       "      <th>28204</th>\n",
       "      <td>15449007668</td>\n",
       "      <td>8989</td>\n",
       "    </tr>\n",
       "    <tr>\n",
       "      <th>8277</th>\n",
       "      <td>15126401073</td>\n",
       "      <td>8836</td>\n",
       "    </tr>\n",
       "    <tr>\n",
       "      <th>39275</th>\n",
       "      <td>15125188306</td>\n",
       "      <td>8799</td>\n",
       "    </tr>\n",
       "    <tr>\n",
       "      <th>5876</th>\n",
       "      <td>14361668547</td>\n",
       "      <td>8412</td>\n",
       "    </tr>\n",
       "    <tr>\n",
       "      <th>49235</th>\n",
       "      <td>14191600441</td>\n",
       "      <td>8389</td>\n",
       "    </tr>\n",
       "  </tbody>\n",
       "</table>\n",
       "</div>"
      ],
      "text/plain": [
       "          order_id  reordered\n",
       "24852  95207745254      55763\n",
       "13176  75903122490      44450\n",
       "21137  49021870650      28639\n",
       "21903  44714320826      26233\n",
       "47209  40520463583      23629\n",
       "47766  32019814378      18743\n",
       "27845  27804835173      16251\n",
       "47626  25705979099      15044\n",
       "27966  25115496376      14748\n",
       "16797  23836287202      13945\n",
       "26209  22714806285      13327\n",
       "22935  19194485472      11145\n",
       "24964  17757800533      10411\n",
       "45007  17150388784      10076\n",
       "49683  16326185046       9538\n",
       "28204  15449007668       8989\n",
       "8277   15126401073       8836\n",
       "39275  15125188306       8799\n",
       "5876   14361668547       8412\n",
       "49235  14191600441       8389"
      ]
     },
     "execution_count": 94,
     "metadata": {},
     "output_type": "execute_result"
    }
   ],
   "source": [
    "# Creating a dataframe with the most frequently reordered products\n",
    "reordered = pd.DataFrame(order_p[order_p['reordered']==1].groupby('product_id')[['order_id','reordered']].sum().sort_values(by='reordered', ascending=False).head(20))\n",
    "reordered.index.name = None\n",
    "reordered"
   ]
  },
  {
   "cell_type": "code",
   "execution_count": null,
   "id": "489154a5",
   "metadata": {},
   "outputs": [
    {
     "data": {
      "text/plain": [
       "order_id             112844482127\n",
       "product_id             1641474600\n",
       "add_to_cart_order          325958\n",
       "reordered                   55763\n",
       "dtype: int64"
      ]
     },
     "execution_count": 95,
     "metadata": {},
     "output_type": "execute_result"
    }
   ],
   "source": [
    "# Checking which column is product id\n",
    "order_p[order_p[\"product_id\"] == 24852].sum()"
   ]
  },
  {
   "cell_type": "code",
   "execution_count": null,
   "id": "possible-change",
   "metadata": {},
   "outputs": [
    {
     "data": {
      "text/html": [
       "<div>\n",
       "<style scoped>\n",
       "    .dataframe tbody tr th:only-of-type {\n",
       "        vertical-align: middle;\n",
       "    }\n",
       "\n",
       "    .dataframe tbody tr th {\n",
       "        vertical-align: top;\n",
       "    }\n",
       "\n",
       "    .dataframe thead th {\n",
       "        text-align: right;\n",
       "    }\n",
       "</style>\n",
       "<table border=\"1\" class=\"dataframe\">\n",
       "  <thead>\n",
       "    <tr style=\"text-align: right;\">\n",
       "      <th></th>\n",
       "      <th>order_id</th>\n",
       "      <th>reordered</th>\n",
       "      <th>product_id</th>\n",
       "      <th>product_name</th>\n",
       "      <th>aisle_id</th>\n",
       "      <th>department_id</th>\n",
       "    </tr>\n",
       "  </thead>\n",
       "  <tbody>\n",
       "    <tr>\n",
       "      <th>24851</th>\n",
       "      <td>95207745254</td>\n",
       "      <td>55763</td>\n",
       "      <td>24852</td>\n",
       "      <td>banana</td>\n",
       "      <td>24</td>\n",
       "      <td>4</td>\n",
       "    </tr>\n",
       "    <tr>\n",
       "      <th>13175</th>\n",
       "      <td>75903122490</td>\n",
       "      <td>44450</td>\n",
       "      <td>13176</td>\n",
       "      <td>bag of organic bananas</td>\n",
       "      <td>24</td>\n",
       "      <td>4</td>\n",
       "    </tr>\n",
       "    <tr>\n",
       "      <th>21136</th>\n",
       "      <td>49021870650</td>\n",
       "      <td>28639</td>\n",
       "      <td>21137</td>\n",
       "      <td>organic strawberries</td>\n",
       "      <td>24</td>\n",
       "      <td>4</td>\n",
       "    </tr>\n",
       "    <tr>\n",
       "      <th>21902</th>\n",
       "      <td>44714320826</td>\n",
       "      <td>26233</td>\n",
       "      <td>21903</td>\n",
       "      <td>organic baby spinach</td>\n",
       "      <td>123</td>\n",
       "      <td>4</td>\n",
       "    </tr>\n",
       "    <tr>\n",
       "      <th>47208</th>\n",
       "      <td>40520463583</td>\n",
       "      <td>23629</td>\n",
       "      <td>47209</td>\n",
       "      <td>organic hass avocado</td>\n",
       "      <td>24</td>\n",
       "      <td>4</td>\n",
       "    </tr>\n",
       "    <tr>\n",
       "      <th>47765</th>\n",
       "      <td>32019814378</td>\n",
       "      <td>18743</td>\n",
       "      <td>47766</td>\n",
       "      <td>organic avocado</td>\n",
       "      <td>24</td>\n",
       "      <td>4</td>\n",
       "    </tr>\n",
       "    <tr>\n",
       "      <th>27844</th>\n",
       "      <td>27804835173</td>\n",
       "      <td>16251</td>\n",
       "      <td>27845</td>\n",
       "      <td>organic whole milk</td>\n",
       "      <td>84</td>\n",
       "      <td>16</td>\n",
       "    </tr>\n",
       "    <tr>\n",
       "      <th>47625</th>\n",
       "      <td>25705979099</td>\n",
       "      <td>15044</td>\n",
       "      <td>47626</td>\n",
       "      <td>large lemon</td>\n",
       "      <td>24</td>\n",
       "      <td>4</td>\n",
       "    </tr>\n",
       "    <tr>\n",
       "      <th>27965</th>\n",
       "      <td>25115496376</td>\n",
       "      <td>14748</td>\n",
       "      <td>27966</td>\n",
       "      <td>organic raspberries</td>\n",
       "      <td>123</td>\n",
       "      <td>4</td>\n",
       "    </tr>\n",
       "    <tr>\n",
       "      <th>16796</th>\n",
       "      <td>23836287202</td>\n",
       "      <td>13945</td>\n",
       "      <td>16797</td>\n",
       "      <td>strawberries</td>\n",
       "      <td>24</td>\n",
       "      <td>4</td>\n",
       "    </tr>\n",
       "    <tr>\n",
       "      <th>26208</th>\n",
       "      <td>22714806285</td>\n",
       "      <td>13327</td>\n",
       "      <td>26209</td>\n",
       "      <td>limes</td>\n",
       "      <td>24</td>\n",
       "      <td>4</td>\n",
       "    </tr>\n",
       "    <tr>\n",
       "      <th>22934</th>\n",
       "      <td>19194485472</td>\n",
       "      <td>11145</td>\n",
       "      <td>22935</td>\n",
       "      <td>organic yellow onion</td>\n",
       "      <td>83</td>\n",
       "      <td>4</td>\n",
       "    </tr>\n",
       "    <tr>\n",
       "      <th>24963</th>\n",
       "      <td>17757800533</td>\n",
       "      <td>10411</td>\n",
       "      <td>24964</td>\n",
       "      <td>organic garlic</td>\n",
       "      <td>83</td>\n",
       "      <td>4</td>\n",
       "    </tr>\n",
       "    <tr>\n",
       "      <th>45006</th>\n",
       "      <td>17150388784</td>\n",
       "      <td>10076</td>\n",
       "      <td>45007</td>\n",
       "      <td>organic zucchini</td>\n",
       "      <td>83</td>\n",
       "      <td>4</td>\n",
       "    </tr>\n",
       "    <tr>\n",
       "      <th>49682</th>\n",
       "      <td>16326185046</td>\n",
       "      <td>9538</td>\n",
       "      <td>49683</td>\n",
       "      <td>cucumber kirby</td>\n",
       "      <td>83</td>\n",
       "      <td>4</td>\n",
       "    </tr>\n",
       "    <tr>\n",
       "      <th>28203</th>\n",
       "      <td>15449007668</td>\n",
       "      <td>8989</td>\n",
       "      <td>28204</td>\n",
       "      <td>organic fuji apple</td>\n",
       "      <td>24</td>\n",
       "      <td>4</td>\n",
       "    </tr>\n",
       "    <tr>\n",
       "      <th>8276</th>\n",
       "      <td>15126401073</td>\n",
       "      <td>8836</td>\n",
       "      <td>8277</td>\n",
       "      <td>apple honeycrisp organic</td>\n",
       "      <td>24</td>\n",
       "      <td>4</td>\n",
       "    </tr>\n",
       "    <tr>\n",
       "      <th>39274</th>\n",
       "      <td>15125188306</td>\n",
       "      <td>8799</td>\n",
       "      <td>39275</td>\n",
       "      <td>organic blueberries</td>\n",
       "      <td>123</td>\n",
       "      <td>4</td>\n",
       "    </tr>\n",
       "    <tr>\n",
       "      <th>5875</th>\n",
       "      <td>14361668547</td>\n",
       "      <td>8412</td>\n",
       "      <td>5876</td>\n",
       "      <td>organic lemon</td>\n",
       "      <td>24</td>\n",
       "      <td>4</td>\n",
       "    </tr>\n",
       "    <tr>\n",
       "      <th>49234</th>\n",
       "      <td>14191600441</td>\n",
       "      <td>8389</td>\n",
       "      <td>49235</td>\n",
       "      <td>organic half &amp; half</td>\n",
       "      <td>53</td>\n",
       "      <td>16</td>\n",
       "    </tr>\n",
       "  </tbody>\n",
       "</table>\n",
       "</div>"
      ],
      "text/plain": [
       "          order_id  reordered  product_id              product_name  aisle_id  \\\n",
       "24851  95207745254      55763       24852                    banana        24   \n",
       "13175  75903122490      44450       13176    bag of organic bananas        24   \n",
       "21136  49021870650      28639       21137      organic strawberries        24   \n",
       "21902  44714320826      26233       21903      organic baby spinach       123   \n",
       "47208  40520463583      23629       47209      organic hass avocado        24   \n",
       "47765  32019814378      18743       47766           organic avocado        24   \n",
       "27844  27804835173      16251       27845        organic whole milk        84   \n",
       "47625  25705979099      15044       47626               large lemon        24   \n",
       "27965  25115496376      14748       27966       organic raspberries       123   \n",
       "16796  23836287202      13945       16797              strawberries        24   \n",
       "26208  22714806285      13327       26209                     limes        24   \n",
       "22934  19194485472      11145       22935      organic yellow onion        83   \n",
       "24963  17757800533      10411       24964            organic garlic        83   \n",
       "45006  17150388784      10076       45007          organic zucchini        83   \n",
       "49682  16326185046       9538       49683            cucumber kirby        83   \n",
       "28203  15449007668       8989       28204        organic fuji apple        24   \n",
       "8276   15126401073       8836        8277  apple honeycrisp organic        24   \n",
       "39274  15125188306       8799       39275       organic blueberries       123   \n",
       "5875   14361668547       8412        5876             organic lemon        24   \n",
       "49234  14191600441       8389       49235       organic half & half        53   \n",
       "\n",
       "       department_id  \n",
       "24851              4  \n",
       "13175              4  \n",
       "21136              4  \n",
       "21902              4  \n",
       "47208              4  \n",
       "47765              4  \n",
       "27844             16  \n",
       "47625              4  \n",
       "27965              4  \n",
       "16796              4  \n",
       "26208              4  \n",
       "22934              4  \n",
       "24963              4  \n",
       "45006              4  \n",
       "49682              4  \n",
       "28203              4  \n",
       "8276               4  \n",
       "39274              4  \n",
       "5875               4  \n",
       "49234             16  "
      ]
     },
     "execution_count": 96,
     "metadata": {},
     "output_type": "execute_result"
    }
   ],
   "source": [
    "reordered_names = reordered.merge(products, left_index=True, right_on='product_id', how='left')\n",
    "reordered_names"
   ]
  },
  {
   "cell_type": "code",
   "execution_count": null,
   "id": "professional-surfing",
   "metadata": {},
   "outputs": [
    {
     "data": {
      "text/html": [
       "<div>\n",
       "<style scoped>\n",
       "    .dataframe tbody tr th:only-of-type {\n",
       "        vertical-align: middle;\n",
       "    }\n",
       "\n",
       "    .dataframe tbody tr th {\n",
       "        vertical-align: top;\n",
       "    }\n",
       "\n",
       "    .dataframe thead th {\n",
       "        text-align: right;\n",
       "    }\n",
       "</style>\n",
       "<table border=\"1\" class=\"dataframe\">\n",
       "  <thead>\n",
       "    <tr style=\"text-align: right;\">\n",
       "      <th></th>\n",
       "      <th>product_id</th>\n",
       "      <th>product_name</th>\n",
       "    </tr>\n",
       "  </thead>\n",
       "  <tbody>\n",
       "    <tr>\n",
       "      <th>0</th>\n",
       "      <td>24852</td>\n",
       "      <td>banana</td>\n",
       "    </tr>\n",
       "    <tr>\n",
       "      <th>1</th>\n",
       "      <td>13176</td>\n",
       "      <td>bag of organic bananas</td>\n",
       "    </tr>\n",
       "    <tr>\n",
       "      <th>2</th>\n",
       "      <td>21137</td>\n",
       "      <td>organic strawberries</td>\n",
       "    </tr>\n",
       "    <tr>\n",
       "      <th>3</th>\n",
       "      <td>21903</td>\n",
       "      <td>organic baby spinach</td>\n",
       "    </tr>\n",
       "    <tr>\n",
       "      <th>4</th>\n",
       "      <td>47209</td>\n",
       "      <td>organic hass avocado</td>\n",
       "    </tr>\n",
       "    <tr>\n",
       "      <th>5</th>\n",
       "      <td>47766</td>\n",
       "      <td>organic avocado</td>\n",
       "    </tr>\n",
       "    <tr>\n",
       "      <th>6</th>\n",
       "      <td>27845</td>\n",
       "      <td>organic whole milk</td>\n",
       "    </tr>\n",
       "    <tr>\n",
       "      <th>7</th>\n",
       "      <td>47626</td>\n",
       "      <td>large lemon</td>\n",
       "    </tr>\n",
       "    <tr>\n",
       "      <th>8</th>\n",
       "      <td>27966</td>\n",
       "      <td>organic raspberries</td>\n",
       "    </tr>\n",
       "    <tr>\n",
       "      <th>9</th>\n",
       "      <td>16797</td>\n",
       "      <td>strawberries</td>\n",
       "    </tr>\n",
       "    <tr>\n",
       "      <th>10</th>\n",
       "      <td>26209</td>\n",
       "      <td>limes</td>\n",
       "    </tr>\n",
       "    <tr>\n",
       "      <th>11</th>\n",
       "      <td>22935</td>\n",
       "      <td>organic yellow onion</td>\n",
       "    </tr>\n",
       "    <tr>\n",
       "      <th>12</th>\n",
       "      <td>24964</td>\n",
       "      <td>organic garlic</td>\n",
       "    </tr>\n",
       "    <tr>\n",
       "      <th>13</th>\n",
       "      <td>45007</td>\n",
       "      <td>organic zucchini</td>\n",
       "    </tr>\n",
       "    <tr>\n",
       "      <th>14</th>\n",
       "      <td>49683</td>\n",
       "      <td>cucumber kirby</td>\n",
       "    </tr>\n",
       "    <tr>\n",
       "      <th>15</th>\n",
       "      <td>28204</td>\n",
       "      <td>organic fuji apple</td>\n",
       "    </tr>\n",
       "    <tr>\n",
       "      <th>16</th>\n",
       "      <td>8277</td>\n",
       "      <td>apple honeycrisp organic</td>\n",
       "    </tr>\n",
       "    <tr>\n",
       "      <th>17</th>\n",
       "      <td>39275</td>\n",
       "      <td>organic blueberries</td>\n",
       "    </tr>\n",
       "    <tr>\n",
       "      <th>18</th>\n",
       "      <td>5876</td>\n",
       "      <td>organic lemon</td>\n",
       "    </tr>\n",
       "    <tr>\n",
       "      <th>19</th>\n",
       "      <td>49235</td>\n",
       "      <td>organic half &amp; half</td>\n",
       "    </tr>\n",
       "  </tbody>\n",
       "</table>\n",
       "</div>"
      ],
      "text/plain": [
       "    product_id              product_name\n",
       "0        24852                    banana\n",
       "1        13176    bag of organic bananas\n",
       "2        21137      organic strawberries\n",
       "3        21903      organic baby spinach\n",
       "4        47209      organic hass avocado\n",
       "5        47766           organic avocado\n",
       "6        27845        organic whole milk\n",
       "7        47626               large lemon\n",
       "8        27966       organic raspberries\n",
       "9        16797              strawberries\n",
       "10       26209                     limes\n",
       "11       22935      organic yellow onion\n",
       "12       24964            organic garlic\n",
       "13       45007          organic zucchini\n",
       "14       49683            cucumber kirby\n",
       "15       28204        organic fuji apple\n",
       "16        8277  apple honeycrisp organic\n",
       "17       39275       organic blueberries\n",
       "18        5876             organic lemon\n",
       "19       49235       organic half & half"
      ]
     },
     "execution_count": 97,
     "metadata": {},
     "output_type": "execute_result"
    }
   ],
   "source": [
    "reordered_names_fin = reordered_names[['product_id','product_name']].reset_index()\n",
    "reordered_names_fin = reordered_names_fin.drop('index', axis='columns')\n",
    "reordered_names_fin"
   ]
  },
  {
   "cell_type": "markdown",
   "id": "9d312b14",
   "metadata": {},
   "source": [
    "### [C3] For each product, what proportion of its orders are reorders?"
   ]
  },
  {
   "cell_type": "code",
   "execution_count": null,
   "id": "a3939e1d",
   "metadata": {},
   "outputs": [],
   "source": [
    "id = reordered_names_fin['product_id']"
   ]
  },
  {
   "cell_type": "code",
   "execution_count": null,
   "id": "cdb0a0fb",
   "metadata": {},
   "outputs": [
    {
     "data": {
      "text/html": [
       "<div>\n",
       "<style scoped>\n",
       "    .dataframe tbody tr th:only-of-type {\n",
       "        vertical-align: middle;\n",
       "    }\n",
       "\n",
       "    .dataframe tbody tr th {\n",
       "        vertical-align: top;\n",
       "    }\n",
       "\n",
       "    .dataframe thead th {\n",
       "        text-align: right;\n",
       "    }\n",
       "</style>\n",
       "<table border=\"1\" class=\"dataframe\">\n",
       "  <thead>\n",
       "    <tr style=\"text-align: right;\">\n",
       "      <th></th>\n",
       "      <th>reordered</th>\n",
       "    </tr>\n",
       "    <tr>\n",
       "      <th>product_id</th>\n",
       "      <th></th>\n",
       "    </tr>\n",
       "  </thead>\n",
       "  <tbody>\n",
       "    <tr>\n",
       "      <th>5876</th>\n",
       "      <td>12232</td>\n",
       "    </tr>\n",
       "    <tr>\n",
       "      <th>8277</th>\n",
       "      <td>11993</td>\n",
       "    </tr>\n",
       "    <tr>\n",
       "      <th>13176</th>\n",
       "      <td>53297</td>\n",
       "    </tr>\n",
       "    <tr>\n",
       "      <th>16797</th>\n",
       "      <td>20018</td>\n",
       "    </tr>\n",
       "    <tr>\n",
       "      <th>21137</th>\n",
       "      <td>37039</td>\n",
       "    </tr>\n",
       "    <tr>\n",
       "      <th>21903</th>\n",
       "      <td>33971</td>\n",
       "    </tr>\n",
       "    <tr>\n",
       "      <th>22935</th>\n",
       "      <td>15898</td>\n",
       "    </tr>\n",
       "    <tr>\n",
       "      <th>24852</th>\n",
       "      <td>66050</td>\n",
       "    </tr>\n",
       "    <tr>\n",
       "      <th>24964</th>\n",
       "      <td>15292</td>\n",
       "    </tr>\n",
       "    <tr>\n",
       "      <th>26209</th>\n",
       "      <td>19690</td>\n",
       "    </tr>\n",
       "    <tr>\n",
       "      <th>27845</th>\n",
       "      <td>19600</td>\n",
       "    </tr>\n",
       "    <tr>\n",
       "      <th>27966</th>\n",
       "      <td>19197</td>\n",
       "    </tr>\n",
       "    <tr>\n",
       "      <th>28204</th>\n",
       "      <td>12544</td>\n",
       "    </tr>\n",
       "    <tr>\n",
       "      <th>39275</th>\n",
       "      <td>13879</td>\n",
       "    </tr>\n",
       "    <tr>\n",
       "      <th>45007</th>\n",
       "      <td>14584</td>\n",
       "    </tr>\n",
       "    <tr>\n",
       "      <th>47209</th>\n",
       "      <td>29773</td>\n",
       "    </tr>\n",
       "    <tr>\n",
       "      <th>47626</th>\n",
       "      <td>21495</td>\n",
       "    </tr>\n",
       "    <tr>\n",
       "      <th>47766</th>\n",
       "      <td>24689</td>\n",
       "    </tr>\n",
       "    <tr>\n",
       "      <th>49235</th>\n",
       "      <td>10752</td>\n",
       "    </tr>\n",
       "    <tr>\n",
       "      <th>49683</th>\n",
       "      <td>13675</td>\n",
       "    </tr>\n",
       "  </tbody>\n",
       "</table>\n",
       "</div>"
      ],
      "text/plain": [
       "            reordered\n",
       "product_id           \n",
       "5876            12232\n",
       "8277            11993\n",
       "13176           53297\n",
       "16797           20018\n",
       "21137           37039\n",
       "21903           33971\n",
       "22935           15898\n",
       "24852           66050\n",
       "24964           15292\n",
       "26209           19690\n",
       "27845           19600\n",
       "27966           19197\n",
       "28204           12544\n",
       "39275           13879\n",
       "45007           14584\n",
       "47209           29773\n",
       "47626           21495\n",
       "47766           24689\n",
       "49235           10752\n",
       "49683           13675"
      ]
     },
     "execution_count": 99,
     "metadata": {},
     "output_type": "execute_result"
    }
   ],
   "source": [
    "ordered = pd.DataFrame(order_p.query(\"product_id in @id\").groupby('product_id')['reordered'].count())\n",
    "ordered"
   ]
  },
  {
   "cell_type": "code",
   "execution_count": null,
   "id": "a3f98bab",
   "metadata": {},
   "outputs": [
    {
     "name": "stdout",
     "output_type": "stream",
     "text": [
      "<class 'pandas.core.frame.DataFrame'>\n",
      "Int64Index: 20 entries, 5876 to 49683\n",
      "Data columns (total 1 columns):\n",
      " #   Column     Non-Null Count  Dtype\n",
      "---  ------     --------------  -----\n",
      " 0   reordered  20 non-null     int64\n",
      "dtypes: int64(1)\n",
      "memory usage: 320.0 bytes\n"
     ]
    }
   ],
   "source": [
    "# Checking the number of entries to be 20\n",
    "ordered.info()"
   ]
  },
  {
   "cell_type": "code",
   "execution_count": null,
   "id": "bd75e5c8",
   "metadata": {},
   "outputs": [
    {
     "data": {
      "text/html": [
       "<div>\n",
       "<style scoped>\n",
       "    .dataframe tbody tr th:only-of-type {\n",
       "        vertical-align: middle;\n",
       "    }\n",
       "\n",
       "    .dataframe tbody tr th {\n",
       "        vertical-align: top;\n",
       "    }\n",
       "\n",
       "    .dataframe thead th {\n",
       "        text-align: right;\n",
       "    }\n",
       "</style>\n",
       "<table border=\"1\" class=\"dataframe\">\n",
       "  <thead>\n",
       "    <tr style=\"text-align: right;\">\n",
       "      <th></th>\n",
       "      <th>reordered_x</th>\n",
       "      <th>order_id</th>\n",
       "      <th>reordered_y</th>\n",
       "      <th>product_id</th>\n",
       "      <th>product_name</th>\n",
       "      <th>aisle_id</th>\n",
       "      <th>department_id</th>\n",
       "    </tr>\n",
       "  </thead>\n",
       "  <tbody>\n",
       "    <tr>\n",
       "      <th>5875</th>\n",
       "      <td>12232</td>\n",
       "      <td>14361668547</td>\n",
       "      <td>8412</td>\n",
       "      <td>5876</td>\n",
       "      <td>organic lemon</td>\n",
       "      <td>24</td>\n",
       "      <td>4</td>\n",
       "    </tr>\n",
       "    <tr>\n",
       "      <th>8276</th>\n",
       "      <td>11993</td>\n",
       "      <td>15126401073</td>\n",
       "      <td>8836</td>\n",
       "      <td>8277</td>\n",
       "      <td>apple honeycrisp organic</td>\n",
       "      <td>24</td>\n",
       "      <td>4</td>\n",
       "    </tr>\n",
       "    <tr>\n",
       "      <th>13175</th>\n",
       "      <td>53297</td>\n",
       "      <td>75903122490</td>\n",
       "      <td>44450</td>\n",
       "      <td>13176</td>\n",
       "      <td>bag of organic bananas</td>\n",
       "      <td>24</td>\n",
       "      <td>4</td>\n",
       "    </tr>\n",
       "    <tr>\n",
       "      <th>16796</th>\n",
       "      <td>20018</td>\n",
       "      <td>23836287202</td>\n",
       "      <td>13945</td>\n",
       "      <td>16797</td>\n",
       "      <td>strawberries</td>\n",
       "      <td>24</td>\n",
       "      <td>4</td>\n",
       "    </tr>\n",
       "    <tr>\n",
       "      <th>21136</th>\n",
       "      <td>37039</td>\n",
       "      <td>49021870650</td>\n",
       "      <td>28639</td>\n",
       "      <td>21137</td>\n",
       "      <td>organic strawberries</td>\n",
       "      <td>24</td>\n",
       "      <td>4</td>\n",
       "    </tr>\n",
       "    <tr>\n",
       "      <th>21902</th>\n",
       "      <td>33971</td>\n",
       "      <td>44714320826</td>\n",
       "      <td>26233</td>\n",
       "      <td>21903</td>\n",
       "      <td>organic baby spinach</td>\n",
       "      <td>123</td>\n",
       "      <td>4</td>\n",
       "    </tr>\n",
       "    <tr>\n",
       "      <th>22934</th>\n",
       "      <td>15898</td>\n",
       "      <td>19194485472</td>\n",
       "      <td>11145</td>\n",
       "      <td>22935</td>\n",
       "      <td>organic yellow onion</td>\n",
       "      <td>83</td>\n",
       "      <td>4</td>\n",
       "    </tr>\n",
       "    <tr>\n",
       "      <th>24851</th>\n",
       "      <td>66050</td>\n",
       "      <td>95207745254</td>\n",
       "      <td>55763</td>\n",
       "      <td>24852</td>\n",
       "      <td>banana</td>\n",
       "      <td>24</td>\n",
       "      <td>4</td>\n",
       "    </tr>\n",
       "    <tr>\n",
       "      <th>24963</th>\n",
       "      <td>15292</td>\n",
       "      <td>17757800533</td>\n",
       "      <td>10411</td>\n",
       "      <td>24964</td>\n",
       "      <td>organic garlic</td>\n",
       "      <td>83</td>\n",
       "      <td>4</td>\n",
       "    </tr>\n",
       "    <tr>\n",
       "      <th>26208</th>\n",
       "      <td>19690</td>\n",
       "      <td>22714806285</td>\n",
       "      <td>13327</td>\n",
       "      <td>26209</td>\n",
       "      <td>limes</td>\n",
       "      <td>24</td>\n",
       "      <td>4</td>\n",
       "    </tr>\n",
       "    <tr>\n",
       "      <th>27844</th>\n",
       "      <td>19600</td>\n",
       "      <td>27804835173</td>\n",
       "      <td>16251</td>\n",
       "      <td>27845</td>\n",
       "      <td>organic whole milk</td>\n",
       "      <td>84</td>\n",
       "      <td>16</td>\n",
       "    </tr>\n",
       "    <tr>\n",
       "      <th>27965</th>\n",
       "      <td>19197</td>\n",
       "      <td>25115496376</td>\n",
       "      <td>14748</td>\n",
       "      <td>27966</td>\n",
       "      <td>organic raspberries</td>\n",
       "      <td>123</td>\n",
       "      <td>4</td>\n",
       "    </tr>\n",
       "    <tr>\n",
       "      <th>28203</th>\n",
       "      <td>12544</td>\n",
       "      <td>15449007668</td>\n",
       "      <td>8989</td>\n",
       "      <td>28204</td>\n",
       "      <td>organic fuji apple</td>\n",
       "      <td>24</td>\n",
       "      <td>4</td>\n",
       "    </tr>\n",
       "    <tr>\n",
       "      <th>39274</th>\n",
       "      <td>13879</td>\n",
       "      <td>15125188306</td>\n",
       "      <td>8799</td>\n",
       "      <td>39275</td>\n",
       "      <td>organic blueberries</td>\n",
       "      <td>123</td>\n",
       "      <td>4</td>\n",
       "    </tr>\n",
       "    <tr>\n",
       "      <th>45006</th>\n",
       "      <td>14584</td>\n",
       "      <td>17150388784</td>\n",
       "      <td>10076</td>\n",
       "      <td>45007</td>\n",
       "      <td>organic zucchini</td>\n",
       "      <td>83</td>\n",
       "      <td>4</td>\n",
       "    </tr>\n",
       "    <tr>\n",
       "      <th>47208</th>\n",
       "      <td>29773</td>\n",
       "      <td>40520463583</td>\n",
       "      <td>23629</td>\n",
       "      <td>47209</td>\n",
       "      <td>organic hass avocado</td>\n",
       "      <td>24</td>\n",
       "      <td>4</td>\n",
       "    </tr>\n",
       "    <tr>\n",
       "      <th>47625</th>\n",
       "      <td>21495</td>\n",
       "      <td>25705979099</td>\n",
       "      <td>15044</td>\n",
       "      <td>47626</td>\n",
       "      <td>large lemon</td>\n",
       "      <td>24</td>\n",
       "      <td>4</td>\n",
       "    </tr>\n",
       "    <tr>\n",
       "      <th>47765</th>\n",
       "      <td>24689</td>\n",
       "      <td>32019814378</td>\n",
       "      <td>18743</td>\n",
       "      <td>47766</td>\n",
       "      <td>organic avocado</td>\n",
       "      <td>24</td>\n",
       "      <td>4</td>\n",
       "    </tr>\n",
       "    <tr>\n",
       "      <th>49234</th>\n",
       "      <td>10752</td>\n",
       "      <td>14191600441</td>\n",
       "      <td>8389</td>\n",
       "      <td>49235</td>\n",
       "      <td>organic half &amp; half</td>\n",
       "      <td>53</td>\n",
       "      <td>16</td>\n",
       "    </tr>\n",
       "    <tr>\n",
       "      <th>49682</th>\n",
       "      <td>13675</td>\n",
       "      <td>16326185046</td>\n",
       "      <td>9538</td>\n",
       "      <td>49683</td>\n",
       "      <td>cucumber kirby</td>\n",
       "      <td>83</td>\n",
       "      <td>4</td>\n",
       "    </tr>\n",
       "  </tbody>\n",
       "</table>\n",
       "</div>"
      ],
      "text/plain": [
       "       reordered_x     order_id  reordered_y  product_id  \\\n",
       "5875         12232  14361668547         8412        5876   \n",
       "8276         11993  15126401073         8836        8277   \n",
       "13175        53297  75903122490        44450       13176   \n",
       "16796        20018  23836287202        13945       16797   \n",
       "21136        37039  49021870650        28639       21137   \n",
       "21902        33971  44714320826        26233       21903   \n",
       "22934        15898  19194485472        11145       22935   \n",
       "24851        66050  95207745254        55763       24852   \n",
       "24963        15292  17757800533        10411       24964   \n",
       "26208        19690  22714806285        13327       26209   \n",
       "27844        19600  27804835173        16251       27845   \n",
       "27965        19197  25115496376        14748       27966   \n",
       "28203        12544  15449007668         8989       28204   \n",
       "39274        13879  15125188306         8799       39275   \n",
       "45006        14584  17150388784        10076       45007   \n",
       "47208        29773  40520463583        23629       47209   \n",
       "47625        21495  25705979099        15044       47626   \n",
       "47765        24689  32019814378        18743       47766   \n",
       "49234        10752  14191600441         8389       49235   \n",
       "49682        13675  16326185046         9538       49683   \n",
       "\n",
       "                   product_name  aisle_id  department_id  \n",
       "5875              organic lemon        24              4  \n",
       "8276   apple honeycrisp organic        24              4  \n",
       "13175    bag of organic bananas        24              4  \n",
       "16796              strawberries        24              4  \n",
       "21136      organic strawberries        24              4  \n",
       "21902      organic baby spinach       123              4  \n",
       "22934      organic yellow onion        83              4  \n",
       "24851                    banana        24              4  \n",
       "24963            organic garlic        83              4  \n",
       "26208                     limes        24              4  \n",
       "27844        organic whole milk        84             16  \n",
       "27965       organic raspberries       123              4  \n",
       "28203        organic fuji apple        24              4  \n",
       "39274       organic blueberries       123              4  \n",
       "45006          organic zucchini        83              4  \n",
       "47208      organic hass avocado        24              4  \n",
       "47625               large lemon        24              4  \n",
       "47765           organic avocado        24              4  \n",
       "49234       organic half & half        53             16  \n",
       "49682            cucumber kirby        83              4  "
      ]
     },
     "execution_count": 101,
     "metadata": {},
     "output_type": "execute_result"
    }
   ],
   "source": [
    "proportion = ordered.merge(reordered_names, left_index=True, right_on='product_id')\n",
    "proportion"
   ]
  },
  {
   "cell_type": "code",
   "execution_count": null,
   "id": "79ec1c38",
   "metadata": {},
   "outputs": [
    {
     "data": {
      "text/html": [
       "<div>\n",
       "<style scoped>\n",
       "    .dataframe tbody tr th:only-of-type {\n",
       "        vertical-align: middle;\n",
       "    }\n",
       "\n",
       "    .dataframe tbody tr th {\n",
       "        vertical-align: top;\n",
       "    }\n",
       "\n",
       "    .dataframe thead th {\n",
       "        text-align: right;\n",
       "    }\n",
       "</style>\n",
       "<table border=\"1\" class=\"dataframe\">\n",
       "  <thead>\n",
       "    <tr style=\"text-align: right;\">\n",
       "      <th></th>\n",
       "      <th>reordered_x</th>\n",
       "      <th>order_id</th>\n",
       "      <th>reordered_y</th>\n",
       "      <th>product_id</th>\n",
       "      <th>product_name</th>\n",
       "      <th>aisle_id</th>\n",
       "      <th>department_id</th>\n",
       "      <th>proportion</th>\n",
       "    </tr>\n",
       "  </thead>\n",
       "  <tbody>\n",
       "    <tr>\n",
       "      <th>5875</th>\n",
       "      <td>12232</td>\n",
       "      <td>14361668547</td>\n",
       "      <td>8412</td>\n",
       "      <td>5876</td>\n",
       "      <td>organic lemon</td>\n",
       "      <td>24</td>\n",
       "      <td>4</td>\n",
       "      <td>0.687704</td>\n",
       "    </tr>\n",
       "    <tr>\n",
       "      <th>8276</th>\n",
       "      <td>11993</td>\n",
       "      <td>15126401073</td>\n",
       "      <td>8836</td>\n",
       "      <td>8277</td>\n",
       "      <td>apple honeycrisp organic</td>\n",
       "      <td>24</td>\n",
       "      <td>4</td>\n",
       "      <td>0.736763</td>\n",
       "    </tr>\n",
       "    <tr>\n",
       "      <th>13175</th>\n",
       "      <td>53297</td>\n",
       "      <td>75903122490</td>\n",
       "      <td>44450</td>\n",
       "      <td>13176</td>\n",
       "      <td>bag of organic bananas</td>\n",
       "      <td>24</td>\n",
       "      <td>4</td>\n",
       "      <td>0.834006</td>\n",
       "    </tr>\n",
       "    <tr>\n",
       "      <th>16796</th>\n",
       "      <td>20018</td>\n",
       "      <td>23836287202</td>\n",
       "      <td>13945</td>\n",
       "      <td>16797</td>\n",
       "      <td>strawberries</td>\n",
       "      <td>24</td>\n",
       "      <td>4</td>\n",
       "      <td>0.696623</td>\n",
       "    </tr>\n",
       "    <tr>\n",
       "      <th>21136</th>\n",
       "      <td>37039</td>\n",
       "      <td>49021870650</td>\n",
       "      <td>28639</td>\n",
       "      <td>21137</td>\n",
       "      <td>organic strawberries</td>\n",
       "      <td>24</td>\n",
       "      <td>4</td>\n",
       "      <td>0.773212</td>\n",
       "    </tr>\n",
       "    <tr>\n",
       "      <th>21902</th>\n",
       "      <td>33971</td>\n",
       "      <td>44714320826</td>\n",
       "      <td>26233</td>\n",
       "      <td>21903</td>\n",
       "      <td>organic baby spinach</td>\n",
       "      <td>123</td>\n",
       "      <td>4</td>\n",
       "      <td>0.772217</td>\n",
       "    </tr>\n",
       "    <tr>\n",
       "      <th>22934</th>\n",
       "      <td>15898</td>\n",
       "      <td>19194485472</td>\n",
       "      <td>11145</td>\n",
       "      <td>22935</td>\n",
       "      <td>organic yellow onion</td>\n",
       "      <td>83</td>\n",
       "      <td>4</td>\n",
       "      <td>0.701032</td>\n",
       "    </tr>\n",
       "    <tr>\n",
       "      <th>24851</th>\n",
       "      <td>66050</td>\n",
       "      <td>95207745254</td>\n",
       "      <td>55763</td>\n",
       "      <td>24852</td>\n",
       "      <td>banana</td>\n",
       "      <td>24</td>\n",
       "      <td>4</td>\n",
       "      <td>0.844254</td>\n",
       "    </tr>\n",
       "    <tr>\n",
       "      <th>24963</th>\n",
       "      <td>15292</td>\n",
       "      <td>17757800533</td>\n",
       "      <td>10411</td>\n",
       "      <td>24964</td>\n",
       "      <td>organic garlic</td>\n",
       "      <td>83</td>\n",
       "      <td>4</td>\n",
       "      <td>0.680813</td>\n",
       "    </tr>\n",
       "    <tr>\n",
       "      <th>26208</th>\n",
       "      <td>19690</td>\n",
       "      <td>22714806285</td>\n",
       "      <td>13327</td>\n",
       "      <td>26209</td>\n",
       "      <td>limes</td>\n",
       "      <td>24</td>\n",
       "      <td>4</td>\n",
       "      <td>0.676841</td>\n",
       "    </tr>\n",
       "    <tr>\n",
       "      <th>27844</th>\n",
       "      <td>19600</td>\n",
       "      <td>27804835173</td>\n",
       "      <td>16251</td>\n",
       "      <td>27845</td>\n",
       "      <td>organic whole milk</td>\n",
       "      <td>84</td>\n",
       "      <td>16</td>\n",
       "      <td>0.829133</td>\n",
       "    </tr>\n",
       "    <tr>\n",
       "      <th>27965</th>\n",
       "      <td>19197</td>\n",
       "      <td>25115496376</td>\n",
       "      <td>14748</td>\n",
       "      <td>27966</td>\n",
       "      <td>organic raspberries</td>\n",
       "      <td>123</td>\n",
       "      <td>4</td>\n",
       "      <td>0.768245</td>\n",
       "    </tr>\n",
       "    <tr>\n",
       "      <th>28203</th>\n",
       "      <td>12544</td>\n",
       "      <td>15449007668</td>\n",
       "      <td>8989</td>\n",
       "      <td>28204</td>\n",
       "      <td>organic fuji apple</td>\n",
       "      <td>24</td>\n",
       "      <td>4</td>\n",
       "      <td>0.716598</td>\n",
       "    </tr>\n",
       "    <tr>\n",
       "      <th>39274</th>\n",
       "      <td>13879</td>\n",
       "      <td>15125188306</td>\n",
       "      <td>8799</td>\n",
       "      <td>39275</td>\n",
       "      <td>organic blueberries</td>\n",
       "      <td>123</td>\n",
       "      <td>4</td>\n",
       "      <td>0.633979</td>\n",
       "    </tr>\n",
       "    <tr>\n",
       "      <th>45006</th>\n",
       "      <td>14584</td>\n",
       "      <td>17150388784</td>\n",
       "      <td>10076</td>\n",
       "      <td>45007</td>\n",
       "      <td>organic zucchini</td>\n",
       "      <td>83</td>\n",
       "      <td>4</td>\n",
       "      <td>0.690894</td>\n",
       "    </tr>\n",
       "    <tr>\n",
       "      <th>47208</th>\n",
       "      <td>29773</td>\n",
       "      <td>40520463583</td>\n",
       "      <td>23629</td>\n",
       "      <td>47209</td>\n",
       "      <td>organic hass avocado</td>\n",
       "      <td>24</td>\n",
       "      <td>4</td>\n",
       "      <td>0.793639</td>\n",
       "    </tr>\n",
       "    <tr>\n",
       "      <th>47625</th>\n",
       "      <td>21495</td>\n",
       "      <td>25705979099</td>\n",
       "      <td>15044</td>\n",
       "      <td>47626</td>\n",
       "      <td>large lemon</td>\n",
       "      <td>24</td>\n",
       "      <td>4</td>\n",
       "      <td>0.699884</td>\n",
       "    </tr>\n",
       "    <tr>\n",
       "      <th>47765</th>\n",
       "      <td>24689</td>\n",
       "      <td>32019814378</td>\n",
       "      <td>18743</td>\n",
       "      <td>47766</td>\n",
       "      <td>organic avocado</td>\n",
       "      <td>24</td>\n",
       "      <td>4</td>\n",
       "      <td>0.759164</td>\n",
       "    </tr>\n",
       "    <tr>\n",
       "      <th>49234</th>\n",
       "      <td>10752</td>\n",
       "      <td>14191600441</td>\n",
       "      <td>8389</td>\n",
       "      <td>49235</td>\n",
       "      <td>organic half &amp; half</td>\n",
       "      <td>53</td>\n",
       "      <td>16</td>\n",
       "      <td>0.780227</td>\n",
       "    </tr>\n",
       "    <tr>\n",
       "      <th>49682</th>\n",
       "      <td>13675</td>\n",
       "      <td>16326185046</td>\n",
       "      <td>9538</td>\n",
       "      <td>49683</td>\n",
       "      <td>cucumber kirby</td>\n",
       "      <td>83</td>\n",
       "      <td>4</td>\n",
       "      <td>0.697477</td>\n",
       "    </tr>\n",
       "  </tbody>\n",
       "</table>\n",
       "</div>"
      ],
      "text/plain": [
       "       reordered_x     order_id  reordered_y  product_id  \\\n",
       "5875         12232  14361668547         8412        5876   \n",
       "8276         11993  15126401073         8836        8277   \n",
       "13175        53297  75903122490        44450       13176   \n",
       "16796        20018  23836287202        13945       16797   \n",
       "21136        37039  49021870650        28639       21137   \n",
       "21902        33971  44714320826        26233       21903   \n",
       "22934        15898  19194485472        11145       22935   \n",
       "24851        66050  95207745254        55763       24852   \n",
       "24963        15292  17757800533        10411       24964   \n",
       "26208        19690  22714806285        13327       26209   \n",
       "27844        19600  27804835173        16251       27845   \n",
       "27965        19197  25115496376        14748       27966   \n",
       "28203        12544  15449007668         8989       28204   \n",
       "39274        13879  15125188306         8799       39275   \n",
       "45006        14584  17150388784        10076       45007   \n",
       "47208        29773  40520463583        23629       47209   \n",
       "47625        21495  25705979099        15044       47626   \n",
       "47765        24689  32019814378        18743       47766   \n",
       "49234        10752  14191600441         8389       49235   \n",
       "49682        13675  16326185046         9538       49683   \n",
       "\n",
       "                   product_name  aisle_id  department_id  proportion  \n",
       "5875              organic lemon        24              4    0.687704  \n",
       "8276   apple honeycrisp organic        24              4    0.736763  \n",
       "13175    bag of organic bananas        24              4    0.834006  \n",
       "16796              strawberries        24              4    0.696623  \n",
       "21136      organic strawberries        24              4    0.773212  \n",
       "21902      organic baby spinach       123              4    0.772217  \n",
       "22934      organic yellow onion        83              4    0.701032  \n",
       "24851                    banana        24              4    0.844254  \n",
       "24963            organic garlic        83              4    0.680813  \n",
       "26208                     limes        24              4    0.676841  \n",
       "27844        organic whole milk        84             16    0.829133  \n",
       "27965       organic raspberries       123              4    0.768245  \n",
       "28203        organic fuji apple        24              4    0.716598  \n",
       "39274       organic blueberries       123              4    0.633979  \n",
       "45006          organic zucchini        83              4    0.690894  \n",
       "47208      organic hass avocado        24              4    0.793639  \n",
       "47625               large lemon        24              4    0.699884  \n",
       "47765           organic avocado        24              4    0.759164  \n",
       "49234       organic half & half        53             16    0.780227  \n",
       "49682            cucumber kirby        83              4    0.697477  "
      ]
     },
     "execution_count": 102,
     "metadata": {},
     "output_type": "execute_result"
    }
   ],
   "source": [
    "proportion['proportion'] = proportion['reordered_y'] / proportion['reordered_x']\n",
    "proportion"
   ]
  },
  {
   "cell_type": "code",
   "execution_count": null,
   "id": "103e7fe1",
   "metadata": {},
   "outputs": [
    {
     "data": {
      "text/html": [
       "<div>\n",
       "<style scoped>\n",
       "    .dataframe tbody tr th:only-of-type {\n",
       "        vertical-align: middle;\n",
       "    }\n",
       "\n",
       "    .dataframe tbody tr th {\n",
       "        vertical-align: top;\n",
       "    }\n",
       "\n",
       "    .dataframe thead th {\n",
       "        text-align: right;\n",
       "    }\n",
       "</style>\n",
       "<table border=\"1\" class=\"dataframe\">\n",
       "  <thead>\n",
       "    <tr style=\"text-align: right;\">\n",
       "      <th></th>\n",
       "      <th>product_id</th>\n",
       "      <th>product_name</th>\n",
       "      <th>proportion</th>\n",
       "    </tr>\n",
       "  </thead>\n",
       "  <tbody>\n",
       "    <tr>\n",
       "      <th>0</th>\n",
       "      <td>24852</td>\n",
       "      <td>banana</td>\n",
       "      <td>0.844254</td>\n",
       "    </tr>\n",
       "    <tr>\n",
       "      <th>1</th>\n",
       "      <td>13176</td>\n",
       "      <td>bag of organic bananas</td>\n",
       "      <td>0.834006</td>\n",
       "    </tr>\n",
       "    <tr>\n",
       "      <th>2</th>\n",
       "      <td>27845</td>\n",
       "      <td>organic whole milk</td>\n",
       "      <td>0.829133</td>\n",
       "    </tr>\n",
       "    <tr>\n",
       "      <th>3</th>\n",
       "      <td>47209</td>\n",
       "      <td>organic hass avocado</td>\n",
       "      <td>0.793639</td>\n",
       "    </tr>\n",
       "    <tr>\n",
       "      <th>4</th>\n",
       "      <td>49235</td>\n",
       "      <td>organic half &amp; half</td>\n",
       "      <td>0.780227</td>\n",
       "    </tr>\n",
       "    <tr>\n",
       "      <th>5</th>\n",
       "      <td>21137</td>\n",
       "      <td>organic strawberries</td>\n",
       "      <td>0.773212</td>\n",
       "    </tr>\n",
       "    <tr>\n",
       "      <th>6</th>\n",
       "      <td>21903</td>\n",
       "      <td>organic baby spinach</td>\n",
       "      <td>0.772217</td>\n",
       "    </tr>\n",
       "    <tr>\n",
       "      <th>7</th>\n",
       "      <td>27966</td>\n",
       "      <td>organic raspberries</td>\n",
       "      <td>0.768245</td>\n",
       "    </tr>\n",
       "    <tr>\n",
       "      <th>8</th>\n",
       "      <td>47766</td>\n",
       "      <td>organic avocado</td>\n",
       "      <td>0.759164</td>\n",
       "    </tr>\n",
       "    <tr>\n",
       "      <th>9</th>\n",
       "      <td>8277</td>\n",
       "      <td>apple honeycrisp organic</td>\n",
       "      <td>0.736763</td>\n",
       "    </tr>\n",
       "    <tr>\n",
       "      <th>10</th>\n",
       "      <td>28204</td>\n",
       "      <td>organic fuji apple</td>\n",
       "      <td>0.716598</td>\n",
       "    </tr>\n",
       "    <tr>\n",
       "      <th>11</th>\n",
       "      <td>22935</td>\n",
       "      <td>organic yellow onion</td>\n",
       "      <td>0.701032</td>\n",
       "    </tr>\n",
       "    <tr>\n",
       "      <th>12</th>\n",
       "      <td>47626</td>\n",
       "      <td>large lemon</td>\n",
       "      <td>0.699884</td>\n",
       "    </tr>\n",
       "    <tr>\n",
       "      <th>13</th>\n",
       "      <td>49683</td>\n",
       "      <td>cucumber kirby</td>\n",
       "      <td>0.697477</td>\n",
       "    </tr>\n",
       "    <tr>\n",
       "      <th>14</th>\n",
       "      <td>16797</td>\n",
       "      <td>strawberries</td>\n",
       "      <td>0.696623</td>\n",
       "    </tr>\n",
       "    <tr>\n",
       "      <th>15</th>\n",
       "      <td>45007</td>\n",
       "      <td>organic zucchini</td>\n",
       "      <td>0.690894</td>\n",
       "    </tr>\n",
       "    <tr>\n",
       "      <th>16</th>\n",
       "      <td>5876</td>\n",
       "      <td>organic lemon</td>\n",
       "      <td>0.687704</td>\n",
       "    </tr>\n",
       "    <tr>\n",
       "      <th>17</th>\n",
       "      <td>24964</td>\n",
       "      <td>organic garlic</td>\n",
       "      <td>0.680813</td>\n",
       "    </tr>\n",
       "    <tr>\n",
       "      <th>18</th>\n",
       "      <td>26209</td>\n",
       "      <td>limes</td>\n",
       "      <td>0.676841</td>\n",
       "    </tr>\n",
       "    <tr>\n",
       "      <th>19</th>\n",
       "      <td>39275</td>\n",
       "      <td>organic blueberries</td>\n",
       "      <td>0.633979</td>\n",
       "    </tr>\n",
       "  </tbody>\n",
       "</table>\n",
       "</div>"
      ],
      "text/plain": [
       "    product_id              product_name  proportion\n",
       "0        24852                    banana    0.844254\n",
       "1        13176    bag of organic bananas    0.834006\n",
       "2        27845        organic whole milk    0.829133\n",
       "3        47209      organic hass avocado    0.793639\n",
       "4        49235       organic half & half    0.780227\n",
       "5        21137      organic strawberries    0.773212\n",
       "6        21903      organic baby spinach    0.772217\n",
       "7        27966       organic raspberries    0.768245\n",
       "8        47766           organic avocado    0.759164\n",
       "9         8277  apple honeycrisp organic    0.736763\n",
       "10       28204        organic fuji apple    0.716598\n",
       "11       22935      organic yellow onion    0.701032\n",
       "12       47626               large lemon    0.699884\n",
       "13       49683            cucumber kirby    0.697477\n",
       "14       16797              strawberries    0.696623\n",
       "15       45007          organic zucchini    0.690894\n",
       "16        5876             organic lemon    0.687704\n",
       "17       24964            organic garlic    0.680813\n",
       "18       26209                     limes    0.676841\n",
       "19       39275       organic blueberries    0.633979"
      ]
     },
     "execution_count": 103,
     "metadata": {},
     "output_type": "execute_result"
    }
   ],
   "source": [
    "proportion = proportion[['product_id', 'product_name', 'proportion']].sort_values(by='proportion', ascending=False)\n",
    "proportion = proportion.reset_index().drop(\"index\", axis=\"columns\")\n",
    "proportion"
   ]
  },
  {
   "cell_type": "code",
   "execution_count": null,
   "id": "ef43a895",
   "metadata": {},
   "outputs": [
    {
     "data": {
      "text/html": [
       "<style  type=\"text/css\" >\n",
       "</style><table id=\"T_e4a9c_\" ><thead>    <tr>        <th class=\"blank\" ></th>        <th class=\"blank level0\" ></th>        <th class=\"col_heading level0 col0\" >reordered</th>    </tr>    <tr>        <th class=\"index_name level0\" >product_id</th>        <th class=\"index_name level1\" >product_name</th>        <th class=\"blank\" ></th>    </tr></thead><tbody>\n",
       "                <tr>\n",
       "                        <th id=\"T_e4a9c_level0_row0\" class=\"row_heading level0 row0\" >1</th>\n",
       "                        <th id=\"T_e4a9c_level1_row0\" class=\"row_heading level1 row0\" >Chocolate Sandwich Cookies</th>\n",
       "                        <td id=\"T_e4a9c_row0_col0\" class=\"data row0 col0\" >56.4%</td>\n",
       "            </tr>\n",
       "            <tr>\n",
       "                        <th id=\"T_e4a9c_level0_row1\" class=\"row_heading level0 row1\" >2</th>\n",
       "                        <th id=\"T_e4a9c_level1_row1\" class=\"row_heading level1 row1\" >All-Seasons Salt</th>\n",
       "                        <td id=\"T_e4a9c_row1_col0\" class=\"data row1 col0\" >0.0%</td>\n",
       "            </tr>\n",
       "            <tr>\n",
       "                        <th id=\"T_e4a9c_level0_row2\" class=\"row_heading level0 row2\" >3</th>\n",
       "                        <th id=\"T_e4a9c_level1_row2\" class=\"row_heading level1 row2\" >Robust Golden Unsweetened Oolong Tea</th>\n",
       "                        <td id=\"T_e4a9c_row2_col0\" class=\"data row2 col0\" >73.8%</td>\n",
       "            </tr>\n",
       "            <tr>\n",
       "                        <th id=\"T_e4a9c_level0_row3\" class=\"row_heading level0 row3\" >4</th>\n",
       "                        <th id=\"T_e4a9c_level1_row3\" class=\"row_heading level1 row3\" >Smart Ones Classic Favorites Mini Rigatoni With Vodka Cream Sauce</th>\n",
       "                        <td id=\"T_e4a9c_row3_col0\" class=\"data row3 col0\" >51.0%</td>\n",
       "            </tr>\n",
       "            <tr>\n",
       "                        <th id=\"T_e4a9c_level0_row4\" class=\"row_heading level0 row4\" >7</th>\n",
       "                        <th id=\"T_e4a9c_level1_row4\" class=\"row_heading level1 row4\" >Pure Coconut Water With Orange</th>\n",
       "                        <td id=\"T_e4a9c_row4_col0\" class=\"data row4 col0\" >50.0%</td>\n",
       "            </tr>\n",
       "            <tr>\n",
       "                        <th id=\"T_e4a9c_level0_row5\" class=\"row_heading level0 row5\" >8</th>\n",
       "                        <th id=\"T_e4a9c_level1_row5\" class=\"row_heading level1 row5\" >Cut Russet Potatoes Steam N' Mash</th>\n",
       "                        <td id=\"T_e4a9c_row5_col0\" class=\"data row5 col0\" >31.6%</td>\n",
       "            </tr>\n",
       "            <tr>\n",
       "                        <th id=\"T_e4a9c_level0_row6\" class=\"row_heading level0 row6\" >9</th>\n",
       "                        <th id=\"T_e4a9c_level1_row6\" class=\"row_heading level1 row6\" >Light Strawberry Blueberry Yogurt</th>\n",
       "                        <td id=\"T_e4a9c_row6_col0\" class=\"data row6 col0\" >76.2%</td>\n",
       "            </tr>\n",
       "            <tr>\n",
       "                        <th id=\"T_e4a9c_level0_row7\" class=\"row_heading level0 row7\" >10</th>\n",
       "                        <th id=\"T_e4a9c_level1_row7\" class=\"row_heading level1 row7\" >Sparkling Orange Juice & Prickly Pear Beverage</th>\n",
       "                        <td id=\"T_e4a9c_row7_col0\" class=\"data row7 col0\" >44.8%</td>\n",
       "            </tr>\n",
       "            <tr>\n",
       "                        <th id=\"T_e4a9c_level0_row8\" class=\"row_heading level0 row8\" >11</th>\n",
       "                        <th id=\"T_e4a9c_level1_row8\" class=\"row_heading level1 row8\" >Peach Mango Juice</th>\n",
       "                        <td id=\"T_e4a9c_row8_col0\" class=\"data row8 col0\" >62.5%</td>\n",
       "            </tr>\n",
       "            <tr>\n",
       "                        <th id=\"T_e4a9c_level0_row9\" class=\"row_heading level0 row9\" >12</th>\n",
       "                        <th id=\"T_e4a9c_level1_row9\" class=\"row_heading level1 row9\" >Chocolate Fudge Layer Cake</th>\n",
       "                        <td id=\"T_e4a9c_row9_col0\" class=\"data row9 col0\" >39.0%</td>\n",
       "            </tr>\n",
       "            <tr>\n",
       "                        <th id=\"T_e4a9c_level0_row10\" class=\"row_heading level0 row10\" >13</th>\n",
       "                        <th id=\"T_e4a9c_level1_row10\" class=\"row_heading level1 row10\" >Saline Nasal Mist</th>\n",
       "                        <td id=\"T_e4a9c_row10_col0\" class=\"data row10 col0\" >50.0%</td>\n",
       "            </tr>\n",
       "            <tr>\n",
       "                        <th id=\"T_e4a9c_level0_row11\" class=\"row_heading level0 row11\" >14</th>\n",
       "                        <th id=\"T_e4a9c_level1_row11\" class=\"row_heading level1 row11\" >Fresh Scent Dishwasher Cleaner</th>\n",
       "                        <td id=\"T_e4a9c_row11_col0\" class=\"data row11 col0\" >0.0%</td>\n",
       "            </tr>\n",
       "            <tr>\n",
       "                        <th id=\"T_e4a9c_level0_row12\" class=\"row_heading level0 row12\" >17</th>\n",
       "                        <th id=\"T_e4a9c_level1_row12\" class=\"row_heading level1 row12\" >Rendered Duck Fat</th>\n",
       "                        <td id=\"T_e4a9c_row12_col0\" class=\"data row12 col0\" >0.0%</td>\n",
       "            </tr>\n",
       "            <tr>\n",
       "                        <th id=\"T_e4a9c_level0_row13\" class=\"row_heading level0 row13\" >18</th>\n",
       "                        <th id=\"T_e4a9c_level1_row13\" class=\"row_heading level1 row13\" >Pizza for One Suprema  Frozen Pizza</th>\n",
       "                        <td id=\"T_e4a9c_row13_col0\" class=\"data row13 col0\" >53.3%</td>\n",
       "            </tr>\n",
       "            <tr>\n",
       "                        <th id=\"T_e4a9c_level0_row14\" class=\"row_heading level0 row14\" >19</th>\n",
       "                        <th id=\"T_e4a9c_level1_row14\" class=\"row_heading level1 row14\" >Gluten Free Quinoa Three Cheese & Mushroom Blend</th>\n",
       "                        <td id=\"T_e4a9c_row14_col0\" class=\"data row14 col0\" >0.0%</td>\n",
       "            </tr>\n",
       "            <tr>\n",
       "                        <th id=\"T_e4a9c_level0_row15\" class=\"row_heading level0 row15\" >21</th>\n",
       "                        <th id=\"T_e4a9c_level1_row15\" class=\"row_heading level1 row15\" >Small & Medium Dental Dog Treats</th>\n",
       "                        <td id=\"T_e4a9c_row15_col0\" class=\"data row15 col0\" >0.0%</td>\n",
       "            </tr>\n",
       "            <tr>\n",
       "                        <th id=\"T_e4a9c_level0_row16\" class=\"row_heading level0 row16\" >22</th>\n",
       "                        <th id=\"T_e4a9c_level1_row16\" class=\"row_heading level1 row16\" >Fresh Breath Oral Rinse Mild Mint</th>\n",
       "                        <td id=\"T_e4a9c_row16_col0\" class=\"data row16 col0\" >50.0%</td>\n",
       "            </tr>\n",
       "            <tr>\n",
       "                        <th id=\"T_e4a9c_level0_row17\" class=\"row_heading level0 row17\" >23</th>\n",
       "                        <th id=\"T_e4a9c_level1_row17\" class=\"row_heading level1 row17\" >Organic Turkey Burgers</th>\n",
       "                        <td id=\"T_e4a9c_row17_col0\" class=\"data row17 col0\" >38.1%</td>\n",
       "            </tr>\n",
       "            <tr>\n",
       "                        <th id=\"T_e4a9c_level0_row18\" class=\"row_heading level0 row18\" >24</th>\n",
       "                        <th id=\"T_e4a9c_level1_row18\" class=\"row_heading level1 row18\" >Tri-Vi-Sol® Vitamins A-C-and D Supplement Drops for Infants</th>\n",
       "                        <td id=\"T_e4a9c_row18_col0\" class=\"data row18 col0\" >0.0%</td>\n",
       "            </tr>\n",
       "            <tr>\n",
       "                        <th id=\"T_e4a9c_level0_row19\" class=\"row_heading level0 row19\" >25</th>\n",
       "                        <th id=\"T_e4a9c_level1_row19\" class=\"row_heading level1 row19\" >Salted Caramel Lean Protein & Fiber Bar</th>\n",
       "                        <td id=\"T_e4a9c_row19_col0\" class=\"data row19 col0\" >67.5%</td>\n",
       "            </tr>\n",
       "    </tbody></table>"
      ],
      "text/plain": [
       "<pandas.io.formats.style.Styler at 0x7fc3cdf7d250>"
      ]
     },
     "execution_count": 104,
     "metadata": {},
     "output_type": "execute_result"
    }
   ],
   "source": [
    "#ADDED BY REVIEWER\n",
    "\n",
    "#Upload the dataframes. You can skip that step and use your own dataframes\n",
    "df_order_products = pd.read_csv('/datasets/order_products.csv', sep=';')\n",
    "df_products = pd.read_csv('/datasets/products.csv', sep=';')\n",
    "\n",
    "#Merge sales and products\n",
    "reorder_pct = df_order_products.merge(df_products)\n",
    "\n",
    "#Get the reorder ratio\n",
    "reorder_pct = reorder_pct.groupby(['product_id', 'product_name'])['reordered'].mean().to_frame()\n",
    "\n",
    "#Format the output\n",
    "reorder_pct.head(20).style.format({'reordered': '{:.1%}'}) #format to percentage with 1 decimal"
   ]
  },
  {
   "cell_type": "code",
   "execution_count": null,
   "id": "36d81b44",
   "metadata": {},
   "outputs": [
    {
     "data": {
      "text/html": [
       "<div>\n",
       "<style scoped>\n",
       "    .dataframe tbody tr th:only-of-type {\n",
       "        vertical-align: middle;\n",
       "    }\n",
       "\n",
       "    .dataframe tbody tr th {\n",
       "        vertical-align: top;\n",
       "    }\n",
       "\n",
       "    .dataframe thead th {\n",
       "        text-align: right;\n",
       "    }\n",
       "</style>\n",
       "<table border=\"1\" class=\"dataframe\">\n",
       "  <thead>\n",
       "    <tr style=\"text-align: right;\">\n",
       "      <th></th>\n",
       "      <th>product_id</th>\n",
       "      <th>product_name</th>\n",
       "      <th>reordered</th>\n",
       "    </tr>\n",
       "  </thead>\n",
       "  <tbody>\n",
       "    <tr>\n",
       "      <th>11772</th>\n",
       "      <td>13176</td>\n",
       "      <td>Bag of Organic Bananas</td>\n",
       "      <td>0.834006</td>\n",
       "    </tr>\n",
       "  </tbody>\n",
       "</table>\n",
       "</div>"
      ],
      "text/plain": [
       "       product_id            product_name  reordered\n",
       "11772       13176  Bag of Organic Bananas   0.834006"
      ]
     },
     "execution_count": 105,
     "metadata": {},
     "output_type": "execute_result"
    }
   ],
   "source": [
    "#ADDED BY REVIEWER\n",
    "\n",
    "reorder_pct = reorder_pct.reset_index()\n",
    "reorder_pct[reorder_pct['product_id'] == 13176]"
   ]
  },
  {
   "cell_type": "markdown",
   "id": "subject-boxing",
   "metadata": {},
   "source": [
    "### [C4] For each customer, what proportion of their products ordered are reorders?"
   ]
  },
  {
   "cell_type": "code",
   "execution_count": null,
   "id": "medical-couple",
   "metadata": {
    "scrolled": true
   },
   "outputs": [
    {
     "data": {
      "text/html": [
       "<div>\n",
       "<style scoped>\n",
       "    .dataframe tbody tr th:only-of-type {\n",
       "        vertical-align: middle;\n",
       "    }\n",
       "\n",
       "    .dataframe tbody tr th {\n",
       "        vertical-align: top;\n",
       "    }\n",
       "\n",
       "    .dataframe thead th {\n",
       "        text-align: right;\n",
       "    }\n",
       "</style>\n",
       "<table border=\"1\" class=\"dataframe\">\n",
       "  <thead>\n",
       "    <tr style=\"text-align: right;\">\n",
       "      <th></th>\n",
       "      <th>order_id</th>\n",
       "      <th>user_id</th>\n",
       "      <th>order_number</th>\n",
       "      <th>order_dow</th>\n",
       "      <th>order_hour_of_day</th>\n",
       "      <th>days_since_prior_order</th>\n",
       "      <th>product_id</th>\n",
       "      <th>add_to_cart_order</th>\n",
       "      <th>reordered</th>\n",
       "    </tr>\n",
       "  </thead>\n",
       "  <tbody>\n",
       "    <tr>\n",
       "      <th>0</th>\n",
       "      <td>1515936</td>\n",
       "      <td>183418</td>\n",
       "      <td>11</td>\n",
       "      <td>6</td>\n",
       "      <td>13</td>\n",
       "      <td>30</td>\n",
       "      <td>19048.0</td>\n",
       "      <td>1.0</td>\n",
       "      <td>1.0</td>\n",
       "    </tr>\n",
       "    <tr>\n",
       "      <th>1</th>\n",
       "      <td>1515936</td>\n",
       "      <td>183418</td>\n",
       "      <td>11</td>\n",
       "      <td>6</td>\n",
       "      <td>13</td>\n",
       "      <td>30</td>\n",
       "      <td>47766.0</td>\n",
       "      <td>3.0</td>\n",
       "      <td>1.0</td>\n",
       "    </tr>\n",
       "    <tr>\n",
       "      <th>2</th>\n",
       "      <td>1515936</td>\n",
       "      <td>183418</td>\n",
       "      <td>11</td>\n",
       "      <td>6</td>\n",
       "      <td>13</td>\n",
       "      <td>30</td>\n",
       "      <td>45066.0</td>\n",
       "      <td>9.0</td>\n",
       "      <td>0.0</td>\n",
       "    </tr>\n",
       "    <tr>\n",
       "      <th>3</th>\n",
       "      <td>1515936</td>\n",
       "      <td>183418</td>\n",
       "      <td>11</td>\n",
       "      <td>6</td>\n",
       "      <td>13</td>\n",
       "      <td>30</td>\n",
       "      <td>24082.0</td>\n",
       "      <td>11.0</td>\n",
       "      <td>0.0</td>\n",
       "    </tr>\n",
       "    <tr>\n",
       "      <th>4</th>\n",
       "      <td>1515936</td>\n",
       "      <td>183418</td>\n",
       "      <td>11</td>\n",
       "      <td>6</td>\n",
       "      <td>13</td>\n",
       "      <td>30</td>\n",
       "      <td>24363.0</td>\n",
       "      <td>4.0</td>\n",
       "      <td>0.0</td>\n",
       "    </tr>\n",
       "    <tr>\n",
       "      <th>...</th>\n",
       "      <td>...</td>\n",
       "      <td>...</td>\n",
       "      <td>...</td>\n",
       "      <td>...</td>\n",
       "      <td>...</td>\n",
       "      <td>...</td>\n",
       "      <td>...</td>\n",
       "      <td>...</td>\n",
       "      <td>...</td>\n",
       "    </tr>\n",
       "    <tr>\n",
       "      <th>4573908</th>\n",
       "      <td>2071924</td>\n",
       "      <td>1730</td>\n",
       "      <td>18</td>\n",
       "      <td>1</td>\n",
       "      <td>14</td>\n",
       "      <td>15</td>\n",
       "      <td>1503.0</td>\n",
       "      <td>17.0</td>\n",
       "      <td>0.0</td>\n",
       "    </tr>\n",
       "    <tr>\n",
       "      <th>4573909</th>\n",
       "      <td>2071924</td>\n",
       "      <td>1730</td>\n",
       "      <td>18</td>\n",
       "      <td>1</td>\n",
       "      <td>14</td>\n",
       "      <td>15</td>\n",
       "      <td>4778.0</td>\n",
       "      <td>12.0</td>\n",
       "      <td>1.0</td>\n",
       "    </tr>\n",
       "    <tr>\n",
       "      <th>4573910</th>\n",
       "      <td>2071924</td>\n",
       "      <td>1730</td>\n",
       "      <td>18</td>\n",
       "      <td>1</td>\n",
       "      <td>14</td>\n",
       "      <td>15</td>\n",
       "      <td>11512.0</td>\n",
       "      <td>1.0</td>\n",
       "      <td>1.0</td>\n",
       "    </tr>\n",
       "    <tr>\n",
       "      <th>4573911</th>\n",
       "      <td>2071924</td>\n",
       "      <td>1730</td>\n",
       "      <td>18</td>\n",
       "      <td>1</td>\n",
       "      <td>14</td>\n",
       "      <td>15</td>\n",
       "      <td>4920.0</td>\n",
       "      <td>6.0</td>\n",
       "      <td>1.0</td>\n",
       "    </tr>\n",
       "    <tr>\n",
       "      <th>4573912</th>\n",
       "      <td>2071924</td>\n",
       "      <td>1730</td>\n",
       "      <td>18</td>\n",
       "      <td>1</td>\n",
       "      <td>14</td>\n",
       "      <td>15</td>\n",
       "      <td>17678.0</td>\n",
       "      <td>4.0</td>\n",
       "      <td>1.0</td>\n",
       "    </tr>\n",
       "  </tbody>\n",
       "</table>\n",
       "<p>4573913 rows × 9 columns</p>\n",
       "</div>"
      ],
      "text/plain": [
       "         order_id  user_id  order_number  order_dow  order_hour_of_day  \\\n",
       "0         1515936   183418            11          6                 13   \n",
       "1         1515936   183418            11          6                 13   \n",
       "2         1515936   183418            11          6                 13   \n",
       "3         1515936   183418            11          6                 13   \n",
       "4         1515936   183418            11          6                 13   \n",
       "...           ...      ...           ...        ...                ...   \n",
       "4573908   2071924     1730            18          1                 14   \n",
       "4573909   2071924     1730            18          1                 14   \n",
       "4573910   2071924     1730            18          1                 14   \n",
       "4573911   2071924     1730            18          1                 14   \n",
       "4573912   2071924     1730            18          1                 14   \n",
       "\n",
       "        days_since_prior_order  product_id  add_to_cart_order  reordered  \n",
       "0                           30     19048.0                1.0        1.0  \n",
       "1                           30     47766.0                3.0        1.0  \n",
       "2                           30     45066.0                9.0        0.0  \n",
       "3                           30     24082.0               11.0        0.0  \n",
       "4                           30     24363.0                4.0        0.0  \n",
       "...                        ...         ...                ...        ...  \n",
       "4573908                     15      1503.0               17.0        0.0  \n",
       "4573909                     15      4778.0               12.0        1.0  \n",
       "4573910                     15     11512.0                1.0        1.0  \n",
       "4573911                     15      4920.0                6.0        1.0  \n",
       "4573912                     15     17678.0                4.0        1.0  \n",
       "\n",
       "[4573913 rows x 9 columns]"
      ]
     },
     "execution_count": 106,
     "metadata": {},
     "output_type": "execute_result"
    }
   ],
   "source": [
    "cust_prop1 = pd.DataFrame(orders.merge(order_p, how='left', on='order_id'))\n",
    "cust_prop1"
   ]
  },
  {
   "cell_type": "code",
   "execution_count": null,
   "id": "dbb0c584",
   "metadata": {},
   "outputs": [
    {
     "data": {
      "text/html": [
       "<div>\n",
       "<style scoped>\n",
       "    .dataframe tbody tr th:only-of-type {\n",
       "        vertical-align: middle;\n",
       "    }\n",
       "\n",
       "    .dataframe tbody tr th {\n",
       "        vertical-align: top;\n",
       "    }\n",
       "\n",
       "    .dataframe thead th {\n",
       "        text-align: right;\n",
       "    }\n",
       "</style>\n",
       "<table border=\"1\" class=\"dataframe\">\n",
       "  <thead>\n",
       "    <tr style=\"text-align: right;\">\n",
       "      <th></th>\n",
       "      <th>reordered</th>\n",
       "    </tr>\n",
       "    <tr>\n",
       "      <th>user_id</th>\n",
       "      <th></th>\n",
       "    </tr>\n",
       "  </thead>\n",
       "  <tbody>\n",
       "    <tr>\n",
       "      <th>2</th>\n",
       "      <td>1.0</td>\n",
       "    </tr>\n",
       "    <tr>\n",
       "      <th>5</th>\n",
       "      <td>8.0</td>\n",
       "    </tr>\n",
       "    <tr>\n",
       "      <th>7</th>\n",
       "      <td>13.0</td>\n",
       "    </tr>\n",
       "    <tr>\n",
       "      <th>11</th>\n",
       "      <td>3.0</td>\n",
       "    </tr>\n",
       "    <tr>\n",
       "      <th>12</th>\n",
       "      <td>3.0</td>\n",
       "    </tr>\n",
       "    <tr>\n",
       "      <th>...</th>\n",
       "      <td>...</td>\n",
       "    </tr>\n",
       "    <tr>\n",
       "      <th>206203</th>\n",
       "      <td>6.0</td>\n",
       "    </tr>\n",
       "    <tr>\n",
       "      <th>206206</th>\n",
       "      <td>15.0</td>\n",
       "    </tr>\n",
       "    <tr>\n",
       "      <th>206207</th>\n",
       "      <td>41.0</td>\n",
       "    </tr>\n",
       "    <tr>\n",
       "      <th>206208</th>\n",
       "      <td>87.0</td>\n",
       "    </tr>\n",
       "    <tr>\n",
       "      <th>206209</th>\n",
       "      <td>8.0</td>\n",
       "    </tr>\n",
       "  </tbody>\n",
       "</table>\n",
       "<p>132991 rows × 1 columns</p>\n",
       "</div>"
      ],
      "text/plain": [
       "         reordered\n",
       "user_id           \n",
       "2              1.0\n",
       "5              8.0\n",
       "7             13.0\n",
       "11             3.0\n",
       "12             3.0\n",
       "...            ...\n",
       "206203         6.0\n",
       "206206        15.0\n",
       "206207        41.0\n",
       "206208        87.0\n",
       "206209         8.0\n",
       "\n",
       "[132991 rows x 1 columns]"
      ]
     },
     "execution_count": 107,
     "metadata": {},
     "output_type": "execute_result"
    }
   ],
   "source": [
    "cust_reorder = (\n",
    "    pd.DataFrame(cust_prop1[cust_prop1[\"reordered\"] == 1]\n",
    "    .groupby(\"user_id\")[\"reordered\"]\n",
    "    .sum()\n",
    "))\n",
    "cust_reorder"
   ]
  },
  {
   "cell_type": "code",
   "execution_count": null,
   "id": "2a402cd9",
   "metadata": {},
   "outputs": [
    {
     "data": {
      "text/html": [
       "<div>\n",
       "<style scoped>\n",
       "    .dataframe tbody tr th:only-of-type {\n",
       "        vertical-align: middle;\n",
       "    }\n",
       "\n",
       "    .dataframe tbody tr th {\n",
       "        vertical-align: top;\n",
       "    }\n",
       "\n",
       "    .dataframe thead th {\n",
       "        text-align: right;\n",
       "    }\n",
       "</style>\n",
       "<table border=\"1\" class=\"dataframe\">\n",
       "  <thead>\n",
       "    <tr style=\"text-align: right;\">\n",
       "      <th></th>\n",
       "      <th>reordered</th>\n",
       "    </tr>\n",
       "    <tr>\n",
       "      <th>user_id</th>\n",
       "      <th></th>\n",
       "    </tr>\n",
       "  </thead>\n",
       "  <tbody>\n",
       "    <tr>\n",
       "      <th>2</th>\n",
       "      <td>26</td>\n",
       "    </tr>\n",
       "    <tr>\n",
       "      <th>4</th>\n",
       "      <td>2</td>\n",
       "    </tr>\n",
       "    <tr>\n",
       "      <th>5</th>\n",
       "      <td>12</td>\n",
       "    </tr>\n",
       "    <tr>\n",
       "      <th>6</th>\n",
       "      <td>4</td>\n",
       "    </tr>\n",
       "    <tr>\n",
       "      <th>7</th>\n",
       "      <td>14</td>\n",
       "    </tr>\n",
       "    <tr>\n",
       "      <th>...</th>\n",
       "      <td>...</td>\n",
       "    </tr>\n",
       "    <tr>\n",
       "      <th>206203</th>\n",
       "      <td>27</td>\n",
       "    </tr>\n",
       "    <tr>\n",
       "      <th>206206</th>\n",
       "      <td>21</td>\n",
       "    </tr>\n",
       "    <tr>\n",
       "      <th>206207</th>\n",
       "      <td>46</td>\n",
       "    </tr>\n",
       "    <tr>\n",
       "      <th>206208</th>\n",
       "      <td>125</td>\n",
       "    </tr>\n",
       "    <tr>\n",
       "      <th>206209</th>\n",
       "      <td>25</td>\n",
       "    </tr>\n",
       "  </tbody>\n",
       "</table>\n",
       "<p>157437 rows × 1 columns</p>\n",
       "</div>"
      ],
      "text/plain": [
       "         reordered\n",
       "user_id           \n",
       "2               26\n",
       "4                2\n",
       "5               12\n",
       "6                4\n",
       "7               14\n",
       "...            ...\n",
       "206203          27\n",
       "206206          21\n",
       "206207          46\n",
       "206208         125\n",
       "206209          25\n",
       "\n",
       "[157437 rows x 1 columns]"
      ]
     },
     "execution_count": 108,
     "metadata": {},
     "output_type": "execute_result"
    }
   ],
   "source": [
    "cust_order = pd.DataFrame(\n",
    "    cust_prop1.groupby(\"user_id\")[\"reordered\"].count()\n",
    ")\n",
    "cust_order"
   ]
  },
  {
   "cell_type": "code",
   "execution_count": null,
   "id": "8892e4b4",
   "metadata": {},
   "outputs": [
    {
     "data": {
      "text/html": [
       "<div>\n",
       "<style scoped>\n",
       "    .dataframe tbody tr th:only-of-type {\n",
       "        vertical-align: middle;\n",
       "    }\n",
       "\n",
       "    .dataframe tbody tr th {\n",
       "        vertical-align: top;\n",
       "    }\n",
       "\n",
       "    .dataframe thead th {\n",
       "        text-align: right;\n",
       "    }\n",
       "</style>\n",
       "<table border=\"1\" class=\"dataframe\">\n",
       "  <thead>\n",
       "    <tr style=\"text-align: right;\">\n",
       "      <th></th>\n",
       "      <th>reordered_x</th>\n",
       "      <th>reordered_y</th>\n",
       "    </tr>\n",
       "    <tr>\n",
       "      <th>user_id</th>\n",
       "      <th></th>\n",
       "      <th></th>\n",
       "    </tr>\n",
       "  </thead>\n",
       "  <tbody>\n",
       "    <tr>\n",
       "      <th>2</th>\n",
       "      <td>26</td>\n",
       "      <td>1.0</td>\n",
       "    </tr>\n",
       "    <tr>\n",
       "      <th>5</th>\n",
       "      <td>12</td>\n",
       "      <td>8.0</td>\n",
       "    </tr>\n",
       "    <tr>\n",
       "      <th>7</th>\n",
       "      <td>14</td>\n",
       "      <td>13.0</td>\n",
       "    </tr>\n",
       "    <tr>\n",
       "      <th>11</th>\n",
       "      <td>15</td>\n",
       "      <td>3.0</td>\n",
       "    </tr>\n",
       "    <tr>\n",
       "      <th>12</th>\n",
       "      <td>12</td>\n",
       "      <td>3.0</td>\n",
       "    </tr>\n",
       "    <tr>\n",
       "      <th>...</th>\n",
       "      <td>...</td>\n",
       "      <td>...</td>\n",
       "    </tr>\n",
       "    <tr>\n",
       "      <th>206203</th>\n",
       "      <td>27</td>\n",
       "      <td>6.0</td>\n",
       "    </tr>\n",
       "    <tr>\n",
       "      <th>206206</th>\n",
       "      <td>21</td>\n",
       "      <td>15.0</td>\n",
       "    </tr>\n",
       "    <tr>\n",
       "      <th>206207</th>\n",
       "      <td>46</td>\n",
       "      <td>41.0</td>\n",
       "    </tr>\n",
       "    <tr>\n",
       "      <th>206208</th>\n",
       "      <td>125</td>\n",
       "      <td>87.0</td>\n",
       "    </tr>\n",
       "    <tr>\n",
       "      <th>206209</th>\n",
       "      <td>25</td>\n",
       "      <td>8.0</td>\n",
       "    </tr>\n",
       "  </tbody>\n",
       "</table>\n",
       "<p>132991 rows × 2 columns</p>\n",
       "</div>"
      ],
      "text/plain": [
       "         reordered_x  reordered_y\n",
       "user_id                          \n",
       "2                 26          1.0\n",
       "5                 12          8.0\n",
       "7                 14         13.0\n",
       "11                15          3.0\n",
       "12                12          3.0\n",
       "...              ...          ...\n",
       "206203            27          6.0\n",
       "206206            21         15.0\n",
       "206207            46         41.0\n",
       "206208           125         87.0\n",
       "206209            25          8.0\n",
       "\n",
       "[132991 rows x 2 columns]"
      ]
     },
     "execution_count": 109,
     "metadata": {},
     "output_type": "execute_result"
    }
   ],
   "source": [
    "cust_prop = cust_order.merge(cust_reorder, left_index=True, right_index=True)\n",
    "cust_prop"
   ]
  },
  {
   "cell_type": "code",
   "execution_count": null,
   "id": "4d937b30",
   "metadata": {},
   "outputs": [
    {
     "data": {
      "text/html": [
       "<div>\n",
       "<style scoped>\n",
       "    .dataframe tbody tr th:only-of-type {\n",
       "        vertical-align: middle;\n",
       "    }\n",
       "\n",
       "    .dataframe tbody tr th {\n",
       "        vertical-align: top;\n",
       "    }\n",
       "\n",
       "    .dataframe thead th {\n",
       "        text-align: right;\n",
       "    }\n",
       "</style>\n",
       "<table border=\"1\" class=\"dataframe\">\n",
       "  <thead>\n",
       "    <tr style=\"text-align: right;\">\n",
       "      <th></th>\n",
       "      <th>reordered_x</th>\n",
       "      <th>reordered_y</th>\n",
       "      <th>proportion</th>\n",
       "    </tr>\n",
       "    <tr>\n",
       "      <th>user_id</th>\n",
       "      <th></th>\n",
       "      <th></th>\n",
       "      <th></th>\n",
       "    </tr>\n",
       "  </thead>\n",
       "  <tbody>\n",
       "    <tr>\n",
       "      <th>106148</th>\n",
       "      <td>67</td>\n",
       "      <td>1.0</td>\n",
       "      <td>0.014925</td>\n",
       "    </tr>\n",
       "    <tr>\n",
       "      <th>201663</th>\n",
       "      <td>66</td>\n",
       "      <td>1.0</td>\n",
       "      <td>0.015152</td>\n",
       "    </tr>\n",
       "    <tr>\n",
       "      <th>155522</th>\n",
       "      <td>58</td>\n",
       "      <td>1.0</td>\n",
       "      <td>0.017241</td>\n",
       "    </tr>\n",
       "    <tr>\n",
       "      <th>57630</th>\n",
       "      <td>57</td>\n",
       "      <td>1.0</td>\n",
       "      <td>0.017544</td>\n",
       "    </tr>\n",
       "    <tr>\n",
       "      <th>7349</th>\n",
       "      <td>55</td>\n",
       "      <td>1.0</td>\n",
       "      <td>0.018182</td>\n",
       "    </tr>\n",
       "    <tr>\n",
       "      <th>...</th>\n",
       "      <td>...</td>\n",
       "      <td>...</td>\n",
       "      <td>...</td>\n",
       "    </tr>\n",
       "    <tr>\n",
       "      <th>116344</th>\n",
       "      <td>3</td>\n",
       "      <td>3.0</td>\n",
       "      <td>1.000000</td>\n",
       "    </tr>\n",
       "    <tr>\n",
       "      <th>183769</th>\n",
       "      <td>3</td>\n",
       "      <td>3.0</td>\n",
       "      <td>1.000000</td>\n",
       "    </tr>\n",
       "    <tr>\n",
       "      <th>116337</th>\n",
       "      <td>1</td>\n",
       "      <td>1.0</td>\n",
       "      <td>1.000000</td>\n",
       "    </tr>\n",
       "    <tr>\n",
       "      <th>4473</th>\n",
       "      <td>2</td>\n",
       "      <td>2.0</td>\n",
       "      <td>1.000000</td>\n",
       "    </tr>\n",
       "    <tr>\n",
       "      <th>18308</th>\n",
       "      <td>3</td>\n",
       "      <td>3.0</td>\n",
       "      <td>1.000000</td>\n",
       "    </tr>\n",
       "  </tbody>\n",
       "</table>\n",
       "<p>132991 rows × 3 columns</p>\n",
       "</div>"
      ],
      "text/plain": [
       "         reordered_x  reordered_y  proportion\n",
       "user_id                                      \n",
       "106148            67          1.0    0.014925\n",
       "201663            66          1.0    0.015152\n",
       "155522            58          1.0    0.017241\n",
       "57630             57          1.0    0.017544\n",
       "7349              55          1.0    0.018182\n",
       "...              ...          ...         ...\n",
       "116344             3          3.0    1.000000\n",
       "183769             3          3.0    1.000000\n",
       "116337             1          1.0    1.000000\n",
       "4473               2          2.0    1.000000\n",
       "18308              3          3.0    1.000000\n",
       "\n",
       "[132991 rows x 3 columns]"
      ]
     },
     "execution_count": 110,
     "metadata": {},
     "output_type": "execute_result"
    }
   ],
   "source": [
    "cust_prop[\"proportion\"] = cust_prop[\"reordered_y\"] / cust_prop[\"reordered_x\"]\n",
    "cust_prop.sort_values(by='proportion')"
   ]
  },
  {
   "cell_type": "code",
   "execution_count": null,
   "id": "4409aec1",
   "metadata": {},
   "outputs": [
    {
     "data": {
      "text/html": [
       "<div>\n",
       "<style scoped>\n",
       "    .dataframe tbody tr th:only-of-type {\n",
       "        vertical-align: middle;\n",
       "    }\n",
       "\n",
       "    .dataframe tbody tr th {\n",
       "        vertical-align: top;\n",
       "    }\n",
       "\n",
       "    .dataframe thead th {\n",
       "        text-align: right;\n",
       "    }\n",
       "</style>\n",
       "<table border=\"1\" class=\"dataframe\">\n",
       "  <thead>\n",
       "    <tr style=\"text-align: right;\">\n",
       "      <th></th>\n",
       "      <th>reordered_x</th>\n",
       "      <th>reordered_y</th>\n",
       "      <th>proportion</th>\n",
       "    </tr>\n",
       "  </thead>\n",
       "  <tbody>\n",
       "    <tr>\n",
       "      <th>count</th>\n",
       "      <td>132991.000000</td>\n",
       "      <td>132991.000000</td>\n",
       "      <td>132991.000000</td>\n",
       "    </tr>\n",
       "    <tr>\n",
       "      <th>mean</th>\n",
       "      <td>33.144980</td>\n",
       "      <td>20.180599</td>\n",
       "      <td>0.556751</td>\n",
       "    </tr>\n",
       "    <tr>\n",
       "      <th>std</th>\n",
       "      <td>37.054519</td>\n",
       "      <td>28.702502</td>\n",
       "      <td>0.248833</td>\n",
       "    </tr>\n",
       "    <tr>\n",
       "      <th>min</th>\n",
       "      <td>1.000000</td>\n",
       "      <td>1.000000</td>\n",
       "      <td>0.014925</td>\n",
       "    </tr>\n",
       "    <tr>\n",
       "      <th>25%</th>\n",
       "      <td>10.000000</td>\n",
       "      <td>4.000000</td>\n",
       "      <td>0.363636</td>\n",
       "    </tr>\n",
       "    <tr>\n",
       "      <th>50%</th>\n",
       "      <td>21.000000</td>\n",
       "      <td>10.000000</td>\n",
       "      <td>0.562500</td>\n",
       "    </tr>\n",
       "    <tr>\n",
       "      <th>75%</th>\n",
       "      <td>42.000000</td>\n",
       "      <td>24.000000</td>\n",
       "      <td>0.750000</td>\n",
       "    </tr>\n",
       "    <tr>\n",
       "      <th>max</th>\n",
       "      <td>580.000000</td>\n",
       "      <td>477.000000</td>\n",
       "      <td>1.000000</td>\n",
       "    </tr>\n",
       "  </tbody>\n",
       "</table>\n",
       "</div>"
      ],
      "text/plain": [
       "         reordered_x    reordered_y     proportion\n",
       "count  132991.000000  132991.000000  132991.000000\n",
       "mean       33.144980      20.180599       0.556751\n",
       "std        37.054519      28.702502       0.248833\n",
       "min         1.000000       1.000000       0.014925\n",
       "25%        10.000000       4.000000       0.363636\n",
       "50%        21.000000      10.000000       0.562500\n",
       "75%        42.000000      24.000000       0.750000\n",
       "max       580.000000     477.000000       1.000000"
      ]
     },
     "execution_count": 111,
     "metadata": {},
     "output_type": "execute_result"
    }
   ],
   "source": [
    "cust_prop.describe()"
   ]
  },
  {
   "cell_type": "code",
   "execution_count": null,
   "id": "8e31777a",
   "metadata": {},
   "outputs": [
    {
     "data": {
      "text/plain": [
       "1.000000    8102\n",
       "0.500000    6524\n",
       "0.333333    3896\n",
       "0.666667    3864\n",
       "0.250000    2536\n",
       "            ... \n",
       "0.919643       1\n",
       "0.776978       1\n",
       "0.489655       1\n",
       "0.309735       1\n",
       "0.836634       1\n",
       "Name: proportion, Length: 5219, dtype: int64"
      ]
     },
     "execution_count": 112,
     "metadata": {},
     "output_type": "execute_result"
    }
   ],
   "source": [
    "cust_prop['proportion'].value_counts()"
   ]
  },
  {
   "cell_type": "code",
   "execution_count": null,
   "id": "cecfeaa1",
   "metadata": {},
   "outputs": [
    {
     "data": {
      "image/png": "[encoded data removed]",
      "text/plain": [
       "<Figure size 640x480 with 1 Axes>"
      ]
     },
     "metadata": {},
     "output_type": "display_data"
    }
   ],
   "source": [
    "cust_prop.plot(kind='hist',y='proportion', bins=100, ylabel='Customers', xlabel='Reordered', title='Ordered/reordered', legend=False)\n",
    "plt.show()"
   ]
  },
  {
   "cell_type": "markdown",
   "id": "6ba56663",
   "metadata": {},
   "source": [
    "Most of the customers reordered all of previously ordered items or reordered half of them."
   ]
  },
  {
   "cell_type": "markdown",
   "id": "92d35137",
   "metadata": {},
   "source": [
    "### [C5] What are the top 20 items that people put in their carts first? "
   ]
  },
  {
   "cell_type": "code",
   "execution_count": null,
   "id": "forty-netherlands",
   "metadata": {
    "scrolled": true
   },
   "outputs": [
    {
     "data": {
      "text/html": [
       "<div>\n",
       "<style scoped>\n",
       "    .dataframe tbody tr th:only-of-type {\n",
       "        vertical-align: middle;\n",
       "    }\n",
       "\n",
       "    .dataframe tbody tr th {\n",
       "        vertical-align: top;\n",
       "    }\n",
       "\n",
       "    .dataframe thead th {\n",
       "        text-align: right;\n",
       "    }\n",
       "</style>\n",
       "<table border=\"1\" class=\"dataframe\">\n",
       "  <thead>\n",
       "    <tr style=\"text-align: right;\">\n",
       "      <th></th>\n",
       "      <th>product_id</th>\n",
       "    </tr>\n",
       "  </thead>\n",
       "  <tbody>\n",
       "    <tr>\n",
       "      <th>24852</th>\n",
       "      <td>15562</td>\n",
       "    </tr>\n",
       "    <tr>\n",
       "      <th>13176</th>\n",
       "      <td>11026</td>\n",
       "    </tr>\n",
       "    <tr>\n",
       "      <th>27845</th>\n",
       "      <td>4363</td>\n",
       "    </tr>\n",
       "    <tr>\n",
       "      <th>21137</th>\n",
       "      <td>3946</td>\n",
       "    </tr>\n",
       "    <tr>\n",
       "      <th>47209</th>\n",
       "      <td>3390</td>\n",
       "    </tr>\n",
       "    <tr>\n",
       "      <th>21903</th>\n",
       "      <td>3336</td>\n",
       "    </tr>\n",
       "    <tr>\n",
       "      <th>47766</th>\n",
       "      <td>3044</td>\n",
       "    </tr>\n",
       "    <tr>\n",
       "      <th>19660</th>\n",
       "      <td>2336</td>\n",
       "    </tr>\n",
       "    <tr>\n",
       "      <th>16797</th>\n",
       "      <td>2308</td>\n",
       "    </tr>\n",
       "    <tr>\n",
       "      <th>27966</th>\n",
       "      <td>2024</td>\n",
       "    </tr>\n",
       "    <tr>\n",
       "      <th>44632</th>\n",
       "      <td>1914</td>\n",
       "    </tr>\n",
       "    <tr>\n",
       "      <th>49235</th>\n",
       "      <td>1797</td>\n",
       "    </tr>\n",
       "    <tr>\n",
       "      <th>47626</th>\n",
       "      <td>1737</td>\n",
       "    </tr>\n",
       "    <tr>\n",
       "      <th>196</th>\n",
       "      <td>1733</td>\n",
       "    </tr>\n",
       "    <tr>\n",
       "      <th>38689</th>\n",
       "      <td>1397</td>\n",
       "    </tr>\n",
       "    <tr>\n",
       "      <th>26209</th>\n",
       "      <td>1370</td>\n",
       "    </tr>\n",
       "    <tr>\n",
       "      <th>12341</th>\n",
       "      <td>1340</td>\n",
       "    </tr>\n",
       "    <tr>\n",
       "      <th>5785</th>\n",
       "      <td>1310</td>\n",
       "    </tr>\n",
       "    <tr>\n",
       "      <th>27086</th>\n",
       "      <td>1309</td>\n",
       "    </tr>\n",
       "    <tr>\n",
       "      <th>22935</th>\n",
       "      <td>1246</td>\n",
       "    </tr>\n",
       "  </tbody>\n",
       "</table>\n",
       "</div>"
      ],
      "text/plain": [
       "       product_id\n",
       "24852       15562\n",
       "13176       11026\n",
       "27845        4363\n",
       "21137        3946\n",
       "47209        3390\n",
       "21903        3336\n",
       "47766        3044\n",
       "19660        2336\n",
       "16797        2308\n",
       "27966        2024\n",
       "44632        1914\n",
       "49235        1797\n",
       "47626        1737\n",
       "196          1733\n",
       "38689        1397\n",
       "26209        1370\n",
       "12341        1340\n",
       "5785         1310\n",
       "27086        1309\n",
       "22935        1246"
      ]
     },
     "execution_count": 114,
     "metadata": {},
     "output_type": "execute_result"
    }
   ],
   "source": [
    "top = pd.DataFrame(order_p[order_p['add_to_cart_order']==1]['product_id'].value_counts().head(20))\n",
    "top"
   ]
  },
  {
   "cell_type": "code",
   "execution_count": null,
   "id": "08e41ec2",
   "metadata": {},
   "outputs": [
    {
     "data": {
      "text/html": [
       "<div>\n",
       "<style scoped>\n",
       "    .dataframe tbody tr th:only-of-type {\n",
       "        vertical-align: middle;\n",
       "    }\n",
       "\n",
       "    .dataframe tbody tr th {\n",
       "        vertical-align: top;\n",
       "    }\n",
       "\n",
       "    .dataframe thead th {\n",
       "        text-align: right;\n",
       "    }\n",
       "</style>\n",
       "<table border=\"1\" class=\"dataframe\">\n",
       "  <thead>\n",
       "    <tr style=\"text-align: right;\">\n",
       "      <th></th>\n",
       "      <th>product_id</th>\n",
       "      <th>product_id_x</th>\n",
       "      <th>product_id_y</th>\n",
       "      <th>product_name</th>\n",
       "      <th>aisle_id</th>\n",
       "      <th>department_id</th>\n",
       "    </tr>\n",
       "  </thead>\n",
       "  <tbody>\n",
       "    <tr>\n",
       "      <th>24851</th>\n",
       "      <td>24852</td>\n",
       "      <td>15562</td>\n",
       "      <td>24852</td>\n",
       "      <td>banana</td>\n",
       "      <td>24</td>\n",
       "      <td>4</td>\n",
       "    </tr>\n",
       "    <tr>\n",
       "      <th>13175</th>\n",
       "      <td>13176</td>\n",
       "      <td>11026</td>\n",
       "      <td>13176</td>\n",
       "      <td>bag of organic bananas</td>\n",
       "      <td>24</td>\n",
       "      <td>4</td>\n",
       "    </tr>\n",
       "    <tr>\n",
       "      <th>27844</th>\n",
       "      <td>27845</td>\n",
       "      <td>4363</td>\n",
       "      <td>27845</td>\n",
       "      <td>organic whole milk</td>\n",
       "      <td>84</td>\n",
       "      <td>16</td>\n",
       "    </tr>\n",
       "    <tr>\n",
       "      <th>21136</th>\n",
       "      <td>21137</td>\n",
       "      <td>3946</td>\n",
       "      <td>21137</td>\n",
       "      <td>organic strawberries</td>\n",
       "      <td>24</td>\n",
       "      <td>4</td>\n",
       "    </tr>\n",
       "    <tr>\n",
       "      <th>47208</th>\n",
       "      <td>47209</td>\n",
       "      <td>3390</td>\n",
       "      <td>47209</td>\n",
       "      <td>organic hass avocado</td>\n",
       "      <td>24</td>\n",
       "      <td>4</td>\n",
       "    </tr>\n",
       "    <tr>\n",
       "      <th>21902</th>\n",
       "      <td>21903</td>\n",
       "      <td>3336</td>\n",
       "      <td>21903</td>\n",
       "      <td>organic baby spinach</td>\n",
       "      <td>123</td>\n",
       "      <td>4</td>\n",
       "    </tr>\n",
       "    <tr>\n",
       "      <th>47765</th>\n",
       "      <td>47766</td>\n",
       "      <td>3044</td>\n",
       "      <td>47766</td>\n",
       "      <td>organic avocado</td>\n",
       "      <td>24</td>\n",
       "      <td>4</td>\n",
       "    </tr>\n",
       "    <tr>\n",
       "      <th>19659</th>\n",
       "      <td>19660</td>\n",
       "      <td>2336</td>\n",
       "      <td>19660</td>\n",
       "      <td>spring water</td>\n",
       "      <td>115</td>\n",
       "      <td>7</td>\n",
       "    </tr>\n",
       "    <tr>\n",
       "      <th>16796</th>\n",
       "      <td>16797</td>\n",
       "      <td>2308</td>\n",
       "      <td>16797</td>\n",
       "      <td>strawberries</td>\n",
       "      <td>24</td>\n",
       "      <td>4</td>\n",
       "    </tr>\n",
       "    <tr>\n",
       "      <th>27965</th>\n",
       "      <td>27966</td>\n",
       "      <td>2024</td>\n",
       "      <td>27966</td>\n",
       "      <td>organic raspberries</td>\n",
       "      <td>123</td>\n",
       "      <td>4</td>\n",
       "    </tr>\n",
       "    <tr>\n",
       "      <th>44631</th>\n",
       "      <td>44632</td>\n",
       "      <td>1914</td>\n",
       "      <td>44632</td>\n",
       "      <td>sparkling water grapefruit</td>\n",
       "      <td>115</td>\n",
       "      <td>7</td>\n",
       "    </tr>\n",
       "    <tr>\n",
       "      <th>49234</th>\n",
       "      <td>49235</td>\n",
       "      <td>1797</td>\n",
       "      <td>49235</td>\n",
       "      <td>organic half &amp; half</td>\n",
       "      <td>53</td>\n",
       "      <td>16</td>\n",
       "    </tr>\n",
       "    <tr>\n",
       "      <th>47625</th>\n",
       "      <td>47626</td>\n",
       "      <td>1737</td>\n",
       "      <td>47626</td>\n",
       "      <td>large lemon</td>\n",
       "      <td>24</td>\n",
       "      <td>4</td>\n",
       "    </tr>\n",
       "    <tr>\n",
       "      <th>195</th>\n",
       "      <td>196</td>\n",
       "      <td>1733</td>\n",
       "      <td>196</td>\n",
       "      <td>soda</td>\n",
       "      <td>77</td>\n",
       "      <td>7</td>\n",
       "    </tr>\n",
       "    <tr>\n",
       "      <th>38688</th>\n",
       "      <td>38689</td>\n",
       "      <td>1397</td>\n",
       "      <td>38689</td>\n",
       "      <td>organic reduced fat milk</td>\n",
       "      <td>84</td>\n",
       "      <td>16</td>\n",
       "    </tr>\n",
       "    <tr>\n",
       "      <th>26208</th>\n",
       "      <td>26209</td>\n",
       "      <td>1370</td>\n",
       "      <td>26209</td>\n",
       "      <td>limes</td>\n",
       "      <td>24</td>\n",
       "      <td>4</td>\n",
       "    </tr>\n",
       "    <tr>\n",
       "      <th>12340</th>\n",
       "      <td>12341</td>\n",
       "      <td>1340</td>\n",
       "      <td>12341</td>\n",
       "      <td>hass avocados</td>\n",
       "      <td>32</td>\n",
       "      <td>4</td>\n",
       "    </tr>\n",
       "    <tr>\n",
       "      <th>5784</th>\n",
       "      <td>5785</td>\n",
       "      <td>1310</td>\n",
       "      <td>5785</td>\n",
       "      <td>organic reduced fat 2% milk</td>\n",
       "      <td>84</td>\n",
       "      <td>16</td>\n",
       "    </tr>\n",
       "    <tr>\n",
       "      <th>27085</th>\n",
       "      <td>27086</td>\n",
       "      <td>1309</td>\n",
       "      <td>27086</td>\n",
       "      <td>half &amp; half</td>\n",
       "      <td>53</td>\n",
       "      <td>16</td>\n",
       "    </tr>\n",
       "    <tr>\n",
       "      <th>22934</th>\n",
       "      <td>22935</td>\n",
       "      <td>1246</td>\n",
       "      <td>22935</td>\n",
       "      <td>organic yellow onion</td>\n",
       "      <td>83</td>\n",
       "      <td>4</td>\n",
       "    </tr>\n",
       "  </tbody>\n",
       "</table>\n",
       "</div>"
      ],
      "text/plain": [
       "       product_id  product_id_x  product_id_y                 product_name  \\\n",
       "24851       24852         15562         24852                       banana   \n",
       "13175       13176         11026         13176       bag of organic bananas   \n",
       "27844       27845          4363         27845           organic whole milk   \n",
       "21136       21137          3946         21137         organic strawberries   \n",
       "47208       47209          3390         47209         organic hass avocado   \n",
       "21902       21903          3336         21903         organic baby spinach   \n",
       "47765       47766          3044         47766              organic avocado   \n",
       "19659       19660          2336         19660                 spring water   \n",
       "16796       16797          2308         16797                 strawberries   \n",
       "27965       27966          2024         27966          organic raspberries   \n",
       "44631       44632          1914         44632   sparkling water grapefruit   \n",
       "49234       49235          1797         49235          organic half & half   \n",
       "47625       47626          1737         47626                  large lemon   \n",
       "195           196          1733           196                         soda   \n",
       "38688       38689          1397         38689     organic reduced fat milk   \n",
       "26208       26209          1370         26209                        limes   \n",
       "12340       12341          1340         12341                hass avocados   \n",
       "5784         5785          1310          5785  organic reduced fat 2% milk   \n",
       "27085       27086          1309         27086                  half & half   \n",
       "22934       22935          1246         22935         organic yellow onion   \n",
       "\n",
       "       aisle_id  department_id  \n",
       "24851        24              4  \n",
       "13175        24              4  \n",
       "27844        84             16  \n",
       "21136        24              4  \n",
       "47208        24              4  \n",
       "21902       123              4  \n",
       "47765        24              4  \n",
       "19659       115              7  \n",
       "16796        24              4  \n",
       "27965       123              4  \n",
       "44631       115              7  \n",
       "49234        53             16  \n",
       "47625        24              4  \n",
       "195          77              7  \n",
       "38688        84             16  \n",
       "26208        24              4  \n",
       "12340        32              4  \n",
       "5784         84             16  \n",
       "27085        53             16  \n",
       "22934        83              4  "
      ]
     },
     "execution_count": 115,
     "metadata": {},
     "output_type": "execute_result"
    }
   ],
   "source": [
    "top_20 = top.merge(products, left_index=True, right_on='product_id')\n",
    "top_20"
   ]
  },
  {
   "cell_type": "code",
   "execution_count": null,
   "id": "f4a2af09",
   "metadata": {},
   "outputs": [
    {
     "data": {
      "text/html": [
       "<div>\n",
       "<style scoped>\n",
       "    .dataframe tbody tr th:only-of-type {\n",
       "        vertical-align: middle;\n",
       "    }\n",
       "\n",
       "    .dataframe tbody tr th {\n",
       "        vertical-align: top;\n",
       "    }\n",
       "\n",
       "    .dataframe thead th {\n",
       "        text-align: right;\n",
       "    }\n",
       "</style>\n",
       "<table border=\"1\" class=\"dataframe\">\n",
       "  <thead>\n",
       "    <tr style=\"text-align: right;\">\n",
       "      <th></th>\n",
       "      <th>product_id</th>\n",
       "      <th>product_name</th>\n",
       "      <th>product_id_x</th>\n",
       "    </tr>\n",
       "  </thead>\n",
       "  <tbody>\n",
       "    <tr>\n",
       "      <th>0</th>\n",
       "      <td>24852</td>\n",
       "      <td>banana</td>\n",
       "      <td>15562</td>\n",
       "    </tr>\n",
       "    <tr>\n",
       "      <th>1</th>\n",
       "      <td>13176</td>\n",
       "      <td>bag of organic bananas</td>\n",
       "      <td>11026</td>\n",
       "    </tr>\n",
       "    <tr>\n",
       "      <th>2</th>\n",
       "      <td>27845</td>\n",
       "      <td>organic whole milk</td>\n",
       "      <td>4363</td>\n",
       "    </tr>\n",
       "    <tr>\n",
       "      <th>3</th>\n",
       "      <td>21137</td>\n",
       "      <td>organic strawberries</td>\n",
       "      <td>3946</td>\n",
       "    </tr>\n",
       "    <tr>\n",
       "      <th>4</th>\n",
       "      <td>47209</td>\n",
       "      <td>organic hass avocado</td>\n",
       "      <td>3390</td>\n",
       "    </tr>\n",
       "    <tr>\n",
       "      <th>5</th>\n",
       "      <td>21903</td>\n",
       "      <td>organic baby spinach</td>\n",
       "      <td>3336</td>\n",
       "    </tr>\n",
       "    <tr>\n",
       "      <th>6</th>\n",
       "      <td>47766</td>\n",
       "      <td>organic avocado</td>\n",
       "      <td>3044</td>\n",
       "    </tr>\n",
       "    <tr>\n",
       "      <th>7</th>\n",
       "      <td>19660</td>\n",
       "      <td>spring water</td>\n",
       "      <td>2336</td>\n",
       "    </tr>\n",
       "    <tr>\n",
       "      <th>8</th>\n",
       "      <td>16797</td>\n",
       "      <td>strawberries</td>\n",
       "      <td>2308</td>\n",
       "    </tr>\n",
       "    <tr>\n",
       "      <th>9</th>\n",
       "      <td>27966</td>\n",
       "      <td>organic raspberries</td>\n",
       "      <td>2024</td>\n",
       "    </tr>\n",
       "    <tr>\n",
       "      <th>10</th>\n",
       "      <td>44632</td>\n",
       "      <td>sparkling water grapefruit</td>\n",
       "      <td>1914</td>\n",
       "    </tr>\n",
       "    <tr>\n",
       "      <th>11</th>\n",
       "      <td>49235</td>\n",
       "      <td>organic half &amp; half</td>\n",
       "      <td>1797</td>\n",
       "    </tr>\n",
       "    <tr>\n",
       "      <th>12</th>\n",
       "      <td>47626</td>\n",
       "      <td>large lemon</td>\n",
       "      <td>1737</td>\n",
       "    </tr>\n",
       "    <tr>\n",
       "      <th>13</th>\n",
       "      <td>196</td>\n",
       "      <td>soda</td>\n",
       "      <td>1733</td>\n",
       "    </tr>\n",
       "    <tr>\n",
       "      <th>14</th>\n",
       "      <td>38689</td>\n",
       "      <td>organic reduced fat milk</td>\n",
       "      <td>1397</td>\n",
       "    </tr>\n",
       "    <tr>\n",
       "      <th>15</th>\n",
       "      <td>26209</td>\n",
       "      <td>limes</td>\n",
       "      <td>1370</td>\n",
       "    </tr>\n",
       "    <tr>\n",
       "      <th>16</th>\n",
       "      <td>12341</td>\n",
       "      <td>hass avocados</td>\n",
       "      <td>1340</td>\n",
       "    </tr>\n",
       "    <tr>\n",
       "      <th>17</th>\n",
       "      <td>5785</td>\n",
       "      <td>organic reduced fat 2% milk</td>\n",
       "      <td>1310</td>\n",
       "    </tr>\n",
       "    <tr>\n",
       "      <th>18</th>\n",
       "      <td>27086</td>\n",
       "      <td>half &amp; half</td>\n",
       "      <td>1309</td>\n",
       "    </tr>\n",
       "    <tr>\n",
       "      <th>19</th>\n",
       "      <td>22935</td>\n",
       "      <td>organic yellow onion</td>\n",
       "      <td>1246</td>\n",
       "    </tr>\n",
       "  </tbody>\n",
       "</table>\n",
       "</div>"
      ],
      "text/plain": [
       "    product_id                 product_name  product_id_x\n",
       "0        24852                       banana         15562\n",
       "1        13176       bag of organic bananas         11026\n",
       "2        27845           organic whole milk          4363\n",
       "3        21137         organic strawberries          3946\n",
       "4        47209         organic hass avocado          3390\n",
       "5        21903         organic baby spinach          3336\n",
       "6        47766              organic avocado          3044\n",
       "7        19660                 spring water          2336\n",
       "8        16797                 strawberries          2308\n",
       "9        27966          organic raspberries          2024\n",
       "10       44632   sparkling water grapefruit          1914\n",
       "11       49235          organic half & half          1797\n",
       "12       47626                  large lemon          1737\n",
       "13         196                         soda          1733\n",
       "14       38689     organic reduced fat milk          1397\n",
       "15       26209                        limes          1370\n",
       "16       12341                hass avocados          1340\n",
       "17        5785  organic reduced fat 2% milk          1310\n",
       "18       27086                  half & half          1309\n",
       "19       22935         organic yellow onion          1246"
      ]
     },
     "execution_count": 116,
     "metadata": {},
     "output_type": "execute_result"
    }
   ],
   "source": [
    "top_20 = (\n",
    "    top_20[[\"product_id\", \"product_name\", \"product_id_x\"]]\n",
    "    .reset_index()\n",
    "    .drop(\"index\", axis=\"columns\")\n",
    ")\n",
    "top_20"
   ]
  },
  {
   "cell_type": "markdown",
   "id": "4dfb703e",
   "metadata": {},
   "source": [
    "### Conclusions <a id='da_conclusions'></a>\n",
    "Data preprocessing revealed some issues in the data storage. It is recommended to pay attention at:\n",
    "- while inputing new products it is better to check if there is already one stored, in order to avoid duplicates\n",
    "- check what's happening in department 100 and aisle 21, as they store missing values\n",
    "- add to the documentation which day of the week stands for 0\n",
    "- investigate why on 2 am on day 3 a lot of duplicated values are being inputed\n",
    "\n",
    "The key findings of the analysis are:\n",
    "- people usually shop for groceries at 10.00-16.00, the most popular days are Sunday and Monday\n",
    "- most of the orders are placed in a month and within the first week from the previous order\n",
    "- there is no significant difference between hours of customers activity on the working days and weekends\n",
    "- lots of customers did't return at all, while many of those who returned placed an order around 2-7 times\n",
    "- the cart holds only 64 items\n",
    "- people tend to reorder previously ordered products\n",
    "\n",
    "It is recommended for the marketing team to work on the retention rate - attract new customers with discounts on their second orders, for instance. If a customer doesn't return in a week, send a reminder to restock their groceries supplies.\n",
    "While most of the customers place less then 30 items in cart, some of them may want to order more, so it's better to enhance the capabilities of the application.\n",
    "We revealed a list of the most popular products - these should be always in stock and suggested to all customers before placing an order.\n",
    "Atttention should be payed to the quality of the products that were never reordered, ask customers for feedback."
   ]
  },
  {
   "cell_type": "markdown",
   "id": "5d024fd6",
   "metadata": {},
   "source": [
    "[Back to Contents](#back)"
   ]
  }
 ],
 "metadata": {
  "ExecuteTimeLog": [
   {
    "duration": 839,
    "start_time": "2025-03-17T10:43:20.534Z"
   },
   {
    "duration": 57,
    "start_time": "2025-03-17T10:44:13.911Z"
   },
   {
    "duration": 2,
    "start_time": "2025-03-17T10:44:35.878Z"
   },
   {
    "duration": 58,
    "start_time": "2025-03-17T10:44:41.304Z"
   },
   {
    "duration": 56,
    "start_time": "2025-03-17T10:45:47.921Z"
   },
   {
    "duration": 11,
    "start_time": "2025-03-17T10:46:45.573Z"
   },
   {
    "duration": 59,
    "start_time": "2025-03-17T10:46:53.267Z"
   },
   {
    "duration": 837,
    "start_time": "2025-03-17T10:46:58.273Z"
   },
   {
    "duration": 727,
    "start_time": "2025-03-17T10:47:09.213Z"
   },
   {
    "duration": 159,
    "start_time": "2025-03-17T10:47:12.916Z"
   },
   {
    "duration": 11,
    "start_time": "2025-03-17T10:47:15.552Z"
   },
   {
    "duration": 27,
    "start_time": "2025-03-17T10:48:19.352Z"
   },
   {
    "duration": 11,
    "start_time": "2025-03-17T10:48:41.619Z"
   },
   {
    "duration": 12,
    "start_time": "2025-03-17T10:48:54.957Z"
   },
   {
    "duration": 8,
    "start_time": "2025-03-17T10:50:21.107Z"
   },
   {
    "duration": 8,
    "start_time": "2025-03-17T10:50:31.091Z"
   },
   {
    "duration": 32,
    "start_time": "2025-03-17T11:26:30.518Z"
   },
   {
    "duration": 33,
    "start_time": "2025-03-17T11:27:30.894Z"
   },
   {
    "duration": 7,
    "start_time": "2025-03-17T11:30:34.126Z"
   },
   {
    "duration": 127,
    "start_time": "2025-03-17T11:36:08.914Z"
   },
   {
    "duration": 81,
    "start_time": "2025-03-17T11:38:17.393Z"
   },
   {
    "duration": 69,
    "start_time": "2025-03-17T11:38:57.009Z"
   },
   {
    "duration": 4,
    "start_time": "2025-03-17T11:43:09.463Z"
   },
   {
    "duration": 10,
    "start_time": "2025-03-17T11:43:55.015Z"
   },
   {
    "duration": 15,
    "start_time": "2025-03-17T11:44:48.601Z"
   },
   {
    "duration": 78,
    "start_time": "2025-03-17T11:46:06.161Z"
   },
   {
    "duration": 83,
    "start_time": "2025-03-17T11:46:18.790Z"
   },
   {
    "duration": 14,
    "start_time": "2025-03-17T11:51:00.455Z"
   },
   {
    "duration": 8,
    "start_time": "2025-03-17T11:51:04.561Z"
   },
   {
    "duration": 80,
    "start_time": "2025-03-17T11:55:19.788Z"
   },
   {
    "duration": 86,
    "start_time": "2025-03-17T11:55:31.361Z"
   },
   {
    "duration": 45,
    "start_time": "2025-03-17T11:56:01.794Z"
   },
   {
    "duration": 11,
    "start_time": "2025-03-17T11:56:58.789Z"
   },
   {
    "duration": 4,
    "start_time": "2025-03-17T11:59:44.175Z"
   },
   {
    "duration": 66,
    "start_time": "2025-03-17T12:00:01.672Z"
   },
   {
    "duration": 3,
    "start_time": "2025-03-17T12:01:47.683Z"
   },
   {
    "duration": 3,
    "start_time": "2025-03-17T12:01:56.427Z"
   },
   {
    "duration": 15,
    "start_time": "2025-03-17T12:02:32.973Z"
   },
   {
    "duration": 13,
    "start_time": "2025-03-17T12:02:37.233Z"
   },
   {
    "duration": 6,
    "start_time": "2025-03-17T12:02:56.398Z"
   },
   {
    "duration": 10,
    "start_time": "2025-03-17T12:03:06.031Z"
   },
   {
    "duration": 24,
    "start_time": "2025-03-17T12:04:14.978Z"
   },
   {
    "duration": 15,
    "start_time": "2025-03-17T12:05:50.457Z"
   },
   {
    "duration": 14,
    "start_time": "2025-03-17T12:05:59.686Z"
   },
   {
    "duration": 17,
    "start_time": "2025-03-17T12:07:18.279Z"
   },
   {
    "duration": 20,
    "start_time": "2025-03-17T12:07:45.066Z"
   },
   {
    "duration": 8,
    "start_time": "2025-03-17T12:09:41.668Z"
   },
   {
    "duration": 4,
    "start_time": "2025-03-17T12:11:30.949Z"
   },
   {
    "duration": 7,
    "start_time": "2025-03-17T12:11:47.591Z"
   },
   {
    "duration": 12,
    "start_time": "2025-03-17T12:12:05.683Z"
   },
   {
    "duration": 12,
    "start_time": "2025-03-17T12:12:09.621Z"
   },
   {
    "duration": 10,
    "start_time": "2025-03-17T12:12:25.517Z"
   },
   {
    "duration": 8,
    "start_time": "2025-03-17T12:12:34.882Z"
   },
   {
    "duration": 5,
    "start_time": "2025-03-17T12:12:56.109Z"
   },
   {
    "duration": 12,
    "start_time": "2025-03-17T12:13:21.500Z"
   },
   {
    "duration": 11,
    "start_time": "2025-03-17T12:13:24.519Z"
   },
   {
    "duration": 36,
    "start_time": "2025-03-17T12:13:35.086Z"
   },
   {
    "duration": 10,
    "start_time": "2025-03-17T12:13:35.124Z"
   },
   {
    "duration": 741,
    "start_time": "2025-03-17T12:13:35.135Z"
   },
   {
    "duration": 27,
    "start_time": "2025-03-17T12:13:35.878Z"
   },
   {
    "duration": 33,
    "start_time": "2025-03-17T12:13:35.908Z"
   },
   {
    "duration": 137,
    "start_time": "2025-03-17T12:13:35.943Z"
   },
   {
    "duration": 9,
    "start_time": "2025-03-17T12:13:36.082Z"
   },
   {
    "duration": 16,
    "start_time": "2025-03-17T12:13:36.093Z"
   },
   {
    "duration": 8,
    "start_time": "2025-03-17T12:13:36.110Z"
   },
   {
    "duration": 7,
    "start_time": "2025-03-17T12:13:36.120Z"
   },
   {
    "duration": 9,
    "start_time": "2025-03-17T12:13:36.129Z"
   },
   {
    "duration": 8,
    "start_time": "2025-03-17T12:13:36.139Z"
   },
   {
    "duration": 8,
    "start_time": "2025-03-17T12:13:36.149Z"
   },
   {
    "duration": 112,
    "start_time": "2025-03-17T12:13:36.161Z"
   },
   {
    "duration": 82,
    "start_time": "2025-03-17T12:13:36.275Z"
   },
   {
    "duration": 7,
    "start_time": "2025-03-17T12:13:36.359Z"
   },
   {
    "duration": 4,
    "start_time": "2025-03-17T12:13:36.367Z"
   },
   {
    "duration": 3,
    "start_time": "2025-03-17T12:13:36.373Z"
   },
   {
    "duration": 30,
    "start_time": "2025-03-17T12:13:36.379Z"
   },
   {
    "duration": 79,
    "start_time": "2025-03-17T12:13:36.410Z"
   },
   {
    "duration": 98,
    "start_time": "2025-03-17T12:13:36.491Z"
   },
   {
    "duration": 47,
    "start_time": "2025-03-17T12:13:36.591Z"
   },
   {
    "duration": 67,
    "start_time": "2025-03-17T12:13:36.640Z"
   },
   {
    "duration": 16,
    "start_time": "2025-03-17T12:13:36.709Z"
   },
   {
    "duration": 6,
    "start_time": "2025-03-17T12:13:36.727Z"
   },
   {
    "duration": 26,
    "start_time": "2025-03-17T12:13:36.734Z"
   },
   {
    "duration": 44,
    "start_time": "2025-03-17T12:13:36.762Z"
   },
   {
    "duration": 9,
    "start_time": "2025-03-17T12:13:36.808Z"
   },
   {
    "duration": 6,
    "start_time": "2025-03-17T12:13:36.821Z"
   },
   {
    "duration": 4,
    "start_time": "2025-03-17T12:13:36.828Z"
   },
   {
    "duration": 6,
    "start_time": "2025-03-17T12:13:36.834Z"
   },
   {
    "duration": 4,
    "start_time": "2025-03-17T12:13:36.842Z"
   },
   {
    "duration": 11,
    "start_time": "2025-03-17T12:13:36.848Z"
   },
   {
    "duration": 0,
    "start_time": "2025-03-17T12:13:36.861Z"
   },
   {
    "duration": 0,
    "start_time": "2025-03-17T12:13:36.862Z"
   },
   {
    "duration": 0,
    "start_time": "2025-03-17T12:13:36.904Z"
   },
   {
    "duration": 0,
    "start_time": "2025-03-17T12:13:36.906Z"
   },
   {
    "duration": 0,
    "start_time": "2025-03-17T12:13:36.907Z"
   },
   {
    "duration": 0,
    "start_time": "2025-03-17T12:13:36.908Z"
   },
   {
    "duration": 0,
    "start_time": "2025-03-17T12:13:36.909Z"
   },
   {
    "duration": 0,
    "start_time": "2025-03-17T12:13:36.910Z"
   },
   {
    "duration": 0,
    "start_time": "2025-03-17T12:13:36.912Z"
   },
   {
    "duration": 0,
    "start_time": "2025-03-17T12:13:36.913Z"
   },
   {
    "duration": 899,
    "start_time": "2025-03-17T12:13:43.259Z"
   },
   {
    "duration": 10,
    "start_time": "2025-03-17T12:14:05.701Z"
   },
   {
    "duration": 710,
    "start_time": "2025-03-17T12:14:38.380Z"
   },
   {
    "duration": 10,
    "start_time": "2025-03-17T12:15:44.080Z"
   },
   {
    "duration": 12,
    "start_time": "2025-03-17T12:16:17.690Z"
   },
   {
    "duration": 412,
    "start_time": "2025-03-17T12:17:08.755Z"
   },
   {
    "duration": 156,
    "start_time": "2025-03-17T12:17:16.118Z"
   },
   {
    "duration": 11,
    "start_time": "2025-03-17T12:17:41.859Z"
   },
   {
    "duration": 6,
    "start_time": "2025-03-17T12:18:24.007Z"
   },
   {
    "duration": 12,
    "start_time": "2025-03-17T12:19:28.644Z"
   },
   {
    "duration": 6,
    "start_time": "2025-03-17T12:21:38.032Z"
   },
   {
    "duration": 5,
    "start_time": "2025-03-17T12:21:47.414Z"
   },
   {
    "duration": 6,
    "start_time": "2025-03-17T12:22:03.801Z"
   },
   {
    "duration": 4,
    "start_time": "2025-03-17T12:22:08.223Z"
   },
   {
    "duration": 7,
    "start_time": "2025-03-17T12:22:55.292Z"
   },
   {
    "duration": 6,
    "start_time": "2025-03-17T12:23:01.060Z"
   },
   {
    "duration": 6,
    "start_time": "2025-03-17T12:23:55.374Z"
   },
   {
    "duration": 6,
    "start_time": "2025-03-17T12:24:12.792Z"
   },
   {
    "duration": 11,
    "start_time": "2025-03-17T12:24:45.218Z"
   },
   {
    "duration": 11,
    "start_time": "2025-03-17T12:25:01.617Z"
   },
   {
    "duration": 4,
    "start_time": "2025-03-17T12:25:42.363Z"
   },
   {
    "duration": 5,
    "start_time": "2025-03-17T12:25:48.961Z"
   },
   {
    "duration": 10,
    "start_time": "2025-03-17T12:25:59.003Z"
   },
   {
    "duration": 454,
    "start_time": "2025-03-17T12:26:27.787Z"
   },
   {
    "duration": 21,
    "start_time": "2025-03-17T12:26:34.883Z"
   },
   {
    "duration": 12,
    "start_time": "2025-03-17T12:27:08.455Z"
   },
   {
    "duration": 5,
    "start_time": "2025-03-17T12:27:40.444Z"
   },
   {
    "duration": 9,
    "start_time": "2025-03-17T12:30:08.126Z"
   },
   {
    "duration": 7,
    "start_time": "2025-03-17T12:30:31.116Z"
   },
   {
    "duration": 9,
    "start_time": "2025-03-17T12:32:57.797Z"
   },
   {
    "duration": 498,
    "start_time": "2025-03-17T12:33:16.547Z"
   },
   {
    "duration": 12,
    "start_time": "2025-03-17T12:35:34.746Z"
   },
   {
    "duration": 18,
    "start_time": "2025-03-17T12:35:50.882Z"
   },
   {
    "duration": 24,
    "start_time": "2025-03-17T12:36:01.249Z"
   },
   {
    "duration": 20,
    "start_time": "2025-03-17T12:38:07.037Z"
   },
   {
    "duration": 6,
    "start_time": "2025-03-17T12:38:12.756Z"
   },
   {
    "duration": 8,
    "start_time": "2025-03-17T12:38:18.237Z"
   },
   {
    "duration": 8,
    "start_time": "2025-03-17T12:38:51.507Z"
   },
   {
    "duration": 25,
    "start_time": "2025-03-17T12:39:54.060Z"
   },
   {
    "duration": 10,
    "start_time": "2025-03-17T12:40:15.041Z"
   },
   {
    "duration": 7,
    "start_time": "2025-03-17T12:41:58.186Z"
   },
   {
    "duration": 65,
    "start_time": "2025-03-17T12:43:28.500Z"
   },
   {
    "duration": 66,
    "start_time": "2025-03-17T12:48:35.684Z"
   },
   {
    "duration": 63,
    "start_time": "2025-03-17T12:48:47.464Z"
   },
   {
    "duration": 3,
    "start_time": "2025-03-17T12:49:52.304Z"
   },
   {
    "duration": 4,
    "start_time": "2025-03-17T12:49:59.294Z"
   },
   {
    "duration": 64,
    "start_time": "2025-03-17T12:50:14.311Z"
   },
   {
    "duration": 19,
    "start_time": "2025-03-17T12:51:08.392Z"
   },
   {
    "duration": 25,
    "start_time": "2025-03-17T12:51:24.444Z"
   },
   {
    "duration": 17,
    "start_time": "2025-03-17T12:52:19.918Z"
   },
   {
    "duration": 23,
    "start_time": "2025-03-17T12:52:29.506Z"
   },
   {
    "duration": 7,
    "start_time": "2025-03-17T12:53:21.609Z"
   },
   {
    "duration": 11,
    "start_time": "2025-03-17T12:53:52.617Z"
   },
   {
    "duration": 9,
    "start_time": "2025-03-17T12:53:56.514Z"
   },
   {
    "duration": 2026,
    "start_time": "2025-03-17T13:29:01.369Z"
   },
   {
    "duration": 161,
    "start_time": "2025-03-18T06:23:14.558Z"
   },
   {
    "duration": 2233,
    "start_time": "2025-03-18T06:23:43.122Z"
   },
   {
    "duration": 11,
    "start_time": "2025-03-18T06:23:45.358Z"
   },
   {
    "duration": 835,
    "start_time": "2025-03-18T06:23:45.370Z"
   },
   {
    "duration": 24,
    "start_time": "2025-03-18T06:23:46.208Z"
   },
   {
    "duration": 50,
    "start_time": "2025-03-18T06:23:46.236Z"
   },
   {
    "duration": 185,
    "start_time": "2025-03-18T06:23:46.288Z"
   },
   {
    "duration": 15,
    "start_time": "2025-03-18T06:23:46.475Z"
   },
   {
    "duration": 9,
    "start_time": "2025-03-18T06:23:46.492Z"
   },
   {
    "duration": 87,
    "start_time": "2025-03-18T06:23:46.503Z"
   },
   {
    "duration": 0,
    "start_time": "2025-03-18T06:23:46.595Z"
   },
   {
    "duration": 0,
    "start_time": "2025-03-18T06:23:46.596Z"
   },
   {
    "duration": 0,
    "start_time": "2025-03-18T06:23:46.598Z"
   },
   {
    "duration": 0,
    "start_time": "2025-03-18T06:23:46.599Z"
   },
   {
    "duration": 0,
    "start_time": "2025-03-18T06:23:46.600Z"
   },
   {
    "duration": 0,
    "start_time": "2025-03-18T06:23:46.601Z"
   },
   {
    "duration": 0,
    "start_time": "2025-03-18T06:23:46.603Z"
   },
   {
    "duration": 0,
    "start_time": "2025-03-18T06:23:46.604Z"
   },
   {
    "duration": 0,
    "start_time": "2025-03-18T06:23:46.606Z"
   },
   {
    "duration": 0,
    "start_time": "2025-03-18T06:23:46.607Z"
   },
   {
    "duration": 0,
    "start_time": "2025-03-18T06:23:46.609Z"
   },
   {
    "duration": 0,
    "start_time": "2025-03-18T06:23:46.610Z"
   },
   {
    "duration": 0,
    "start_time": "2025-03-18T06:23:46.611Z"
   },
   {
    "duration": 0,
    "start_time": "2025-03-18T06:23:46.613Z"
   },
   {
    "duration": 0,
    "start_time": "2025-03-18T06:23:46.614Z"
   },
   {
    "duration": 0,
    "start_time": "2025-03-18T06:23:46.616Z"
   },
   {
    "duration": 0,
    "start_time": "2025-03-18T06:23:46.617Z"
   },
   {
    "duration": 0,
    "start_time": "2025-03-18T06:23:46.618Z"
   },
   {
    "duration": 0,
    "start_time": "2025-03-18T06:23:46.620Z"
   },
   {
    "duration": 0,
    "start_time": "2025-03-18T06:23:46.621Z"
   },
   {
    "duration": 0,
    "start_time": "2025-03-18T06:23:46.623Z"
   },
   {
    "duration": 0,
    "start_time": "2025-03-18T06:23:46.624Z"
   },
   {
    "duration": 0,
    "start_time": "2025-03-18T06:23:46.625Z"
   },
   {
    "duration": 0,
    "start_time": "2025-03-18T06:23:46.627Z"
   },
   {
    "duration": 0,
    "start_time": "2025-03-18T06:23:46.628Z"
   },
   {
    "duration": 0,
    "start_time": "2025-03-18T06:23:46.629Z"
   },
   {
    "duration": 0,
    "start_time": "2025-03-18T06:23:46.631Z"
   },
   {
    "duration": 1,
    "start_time": "2025-03-18T06:23:46.632Z"
   },
   {
    "duration": 0,
    "start_time": "2025-03-18T06:23:46.634Z"
   },
   {
    "duration": 0,
    "start_time": "2025-03-18T06:23:46.635Z"
   },
   {
    "duration": 0,
    "start_time": "2025-03-18T06:23:46.636Z"
   },
   {
    "duration": 0,
    "start_time": "2025-03-18T06:23:46.639Z"
   },
   {
    "duration": 0,
    "start_time": "2025-03-18T06:23:46.640Z"
   },
   {
    "duration": 0,
    "start_time": "2025-03-18T06:23:46.642Z"
   },
   {
    "duration": 0,
    "start_time": "2025-03-18T06:23:46.686Z"
   },
   {
    "duration": 0,
    "start_time": "2025-03-18T06:23:46.688Z"
   },
   {
    "duration": 0,
    "start_time": "2025-03-18T06:23:46.689Z"
   },
   {
    "duration": 0,
    "start_time": "2025-03-18T06:23:46.691Z"
   },
   {
    "duration": 0,
    "start_time": "2025-03-18T06:23:46.692Z"
   },
   {
    "duration": 0,
    "start_time": "2025-03-18T06:23:46.693Z"
   },
   {
    "duration": 0,
    "start_time": "2025-03-18T06:23:46.695Z"
   },
   {
    "duration": 0,
    "start_time": "2025-03-18T06:23:46.696Z"
   },
   {
    "duration": 0,
    "start_time": "2025-03-18T06:23:46.697Z"
   },
   {
    "duration": 0,
    "start_time": "2025-03-18T06:23:46.698Z"
   },
   {
    "duration": 0,
    "start_time": "2025-03-18T06:23:46.699Z"
   },
   {
    "duration": 0,
    "start_time": "2025-03-18T06:23:46.701Z"
   },
   {
    "duration": 0,
    "start_time": "2025-03-18T06:23:46.702Z"
   },
   {
    "duration": 0,
    "start_time": "2025-03-18T06:23:46.703Z"
   },
   {
    "duration": 0,
    "start_time": "2025-03-18T06:23:46.705Z"
   },
   {
    "duration": 0,
    "start_time": "2025-03-18T06:23:46.706Z"
   },
   {
    "duration": 1,
    "start_time": "2025-03-18T06:23:46.707Z"
   },
   {
    "duration": 0,
    "start_time": "2025-03-18T06:23:46.709Z"
   },
   {
    "duration": 0,
    "start_time": "2025-03-18T06:23:46.710Z"
   },
   {
    "duration": 6,
    "start_time": "2025-03-18T06:24:06.648Z"
   },
   {
    "duration": 6,
    "start_time": "2025-03-18T06:24:08.656Z"
   },
   {
    "duration": 4,
    "start_time": "2025-03-18T06:24:42.299Z"
   },
   {
    "duration": 7,
    "start_time": "2025-03-18T06:25:00.732Z"
   },
   {
    "duration": 15,
    "start_time": "2025-03-18T06:25:39.658Z"
   },
   {
    "duration": 23,
    "start_time": "2025-03-18T06:26:40.586Z"
   },
   {
    "duration": 28,
    "start_time": "2025-03-18T06:27:25.296Z"
   },
   {
    "duration": 9,
    "start_time": "2025-03-18T06:30:32.740Z"
   },
   {
    "duration": 37,
    "start_time": "2025-03-18T06:31:02.743Z"
   },
   {
    "duration": 9,
    "start_time": "2025-03-18T06:31:02.782Z"
   },
   {
    "duration": 780,
    "start_time": "2025-03-18T06:31:02.792Z"
   },
   {
    "duration": 32,
    "start_time": "2025-03-18T06:31:03.575Z"
   },
   {
    "duration": 33,
    "start_time": "2025-03-18T06:31:03.609Z"
   },
   {
    "duration": 141,
    "start_time": "2025-03-18T06:31:03.643Z"
   },
   {
    "duration": 13,
    "start_time": "2025-03-18T06:31:03.786Z"
   },
   {
    "duration": 6,
    "start_time": "2025-03-18T06:31:03.801Z"
   },
   {
    "duration": 8,
    "start_time": "2025-03-18T06:31:03.809Z"
   },
   {
    "duration": 9,
    "start_time": "2025-03-18T06:31:03.819Z"
   },
   {
    "duration": 10,
    "start_time": "2025-03-18T06:31:03.829Z"
   },
   {
    "duration": 7,
    "start_time": "2025-03-18T06:31:03.840Z"
   },
   {
    "duration": 46,
    "start_time": "2025-03-18T06:31:03.849Z"
   },
   {
    "duration": 92,
    "start_time": "2025-03-18T06:31:03.900Z"
   },
   {
    "duration": 81,
    "start_time": "2025-03-18T06:31:03.994Z"
   },
   {
    "duration": 23,
    "start_time": "2025-03-18T06:31:04.077Z"
   },
   {
    "duration": 3,
    "start_time": "2025-03-18T06:31:04.102Z"
   },
   {
    "duration": 4,
    "start_time": "2025-03-18T06:31:04.107Z"
   },
   {
    "duration": 10,
    "start_time": "2025-03-18T06:31:04.113Z"
   },
   {
    "duration": 107,
    "start_time": "2025-03-18T06:31:04.125Z"
   },
   {
    "duration": 93,
    "start_time": "2025-03-18T06:31:04.234Z"
   },
   {
    "duration": 44,
    "start_time": "2025-03-18T06:31:04.329Z"
   },
   {
    "duration": 60,
    "start_time": "2025-03-18T06:31:04.386Z"
   },
   {
    "duration": 13,
    "start_time": "2025-03-18T06:31:04.448Z"
   },
   {
    "duration": 5,
    "start_time": "2025-03-18T06:31:04.463Z"
   },
   {
    "duration": 25,
    "start_time": "2025-03-18T06:31:04.486Z"
   },
   {
    "duration": 16,
    "start_time": "2025-03-18T06:31:04.513Z"
   },
   {
    "duration": 8,
    "start_time": "2025-03-18T06:31:04.531Z"
   },
   {
    "duration": 7,
    "start_time": "2025-03-18T06:31:04.540Z"
   },
   {
    "duration": 5,
    "start_time": "2025-03-18T06:31:04.548Z"
   },
   {
    "duration": 8,
    "start_time": "2025-03-18T06:31:04.586Z"
   },
   {
    "duration": 4,
    "start_time": "2025-03-18T06:31:04.596Z"
   },
   {
    "duration": 8,
    "start_time": "2025-03-18T06:31:04.602Z"
   },
   {
    "duration": 826,
    "start_time": "2025-03-18T06:31:04.614Z"
   },
   {
    "duration": 729,
    "start_time": "2025-03-18T06:31:05.442Z"
   },
   {
    "duration": 7,
    "start_time": "2025-03-18T06:31:06.172Z"
   },
   {
    "duration": 9,
    "start_time": "2025-03-18T06:31:06.186Z"
   },
   {
    "duration": 8,
    "start_time": "2025-03-18T06:31:06.197Z"
   },
   {
    "duration": 5,
    "start_time": "2025-03-18T06:31:06.207Z"
   },
   {
    "duration": 11,
    "start_time": "2025-03-18T06:31:06.214Z"
   },
   {
    "duration": 11,
    "start_time": "2025-03-18T06:31:06.230Z"
   },
   {
    "duration": 5,
    "start_time": "2025-03-18T06:31:06.243Z"
   },
   {
    "duration": 5,
    "start_time": "2025-03-18T06:31:06.287Z"
   },
   {
    "duration": 6,
    "start_time": "2025-03-18T06:31:06.294Z"
   },
   {
    "duration": 5,
    "start_time": "2025-03-18T06:31:06.302Z"
   },
   {
    "duration": 10,
    "start_time": "2025-03-18T06:31:06.309Z"
   },
   {
    "duration": 8,
    "start_time": "2025-03-18T06:31:06.321Z"
   },
   {
    "duration": 10,
    "start_time": "2025-03-18T06:31:06.331Z"
   },
   {
    "duration": 45,
    "start_time": "2025-03-18T06:31:06.342Z"
   },
   {
    "duration": 7,
    "start_time": "2025-03-18T06:31:06.389Z"
   },
   {
    "duration": 9,
    "start_time": "2025-03-18T06:31:06.398Z"
   },
   {
    "duration": 23,
    "start_time": "2025-03-18T06:31:06.409Z"
   },
   {
    "duration": 7,
    "start_time": "2025-03-18T06:31:06.434Z"
   },
   {
    "duration": 48,
    "start_time": "2025-03-18T06:31:06.443Z"
   },
   {
    "duration": 18,
    "start_time": "2025-03-18T06:31:06.493Z"
   },
   {
    "duration": 13,
    "start_time": "2025-03-18T06:31:06.512Z"
   },
   {
    "duration": 95,
    "start_time": "2025-03-18T06:31:06.527Z"
   },
   {
    "duration": 0,
    "start_time": "2025-03-18T06:31:06.623Z"
   },
   {
    "duration": 0,
    "start_time": "2025-03-18T06:31:06.625Z"
   },
   {
    "duration": 0,
    "start_time": "2025-03-18T06:31:06.626Z"
   },
   {
    "duration": 0,
    "start_time": "2025-03-18T06:31:06.628Z"
   },
   {
    "duration": 0,
    "start_time": "2025-03-18T06:31:06.630Z"
   },
   {
    "duration": 0,
    "start_time": "2025-03-18T06:31:06.631Z"
   },
   {
    "duration": 0,
    "start_time": "2025-03-18T06:31:06.632Z"
   },
   {
    "duration": 63,
    "start_time": "2025-03-18T06:31:55.253Z"
   },
   {
    "duration": 65,
    "start_time": "2025-03-18T06:32:07.697Z"
   },
   {
    "duration": 22,
    "start_time": "2025-03-18T06:32:07.765Z"
   },
   {
    "duration": 21,
    "start_time": "2025-03-18T06:32:07.788Z"
   },
   {
    "duration": 16,
    "start_time": "2025-03-18T06:32:07.810Z"
   },
   {
    "duration": 19,
    "start_time": "2025-03-18T06:32:07.829Z"
   },
   {
    "duration": 54,
    "start_time": "2025-03-18T06:32:07.850Z"
   },
   {
    "duration": 22,
    "start_time": "2025-03-18T06:32:07.905Z"
   },
   {
    "duration": 893,
    "start_time": "2025-03-18T06:36:09.655Z"
   },
   {
    "duration": 2251,
    "start_time": "2025-03-18T06:36:26.619Z"
   },
   {
    "duration": 6049,
    "start_time": "2025-03-18T07:01:24.588Z"
   },
   {
    "duration": 58,
    "start_time": "2025-03-18T07:01:43.140Z"
   },
   {
    "duration": 6026,
    "start_time": "2025-03-18T07:03:17.077Z"
   },
   {
    "duration": 10,
    "start_time": "2025-03-18T07:03:49.416Z"
   },
   {
    "duration": 17,
    "start_time": "2025-03-18T07:10:13.884Z"
   },
   {
    "duration": 17,
    "start_time": "2025-03-18T07:10:36.982Z"
   },
   {
    "duration": 17,
    "start_time": "2025-03-18T07:11:12.903Z"
   },
   {
    "duration": 13,
    "start_time": "2025-03-18T07:11:40.276Z"
   },
   {
    "duration": 253,
    "start_time": "2025-03-18T07:12:10.484Z"
   },
   {
    "duration": 239,
    "start_time": "2025-03-18T07:12:21.749Z"
   },
   {
    "duration": 7,
    "start_time": "2025-03-18T07:12:36.249Z"
   },
   {
    "duration": 7,
    "start_time": "2025-03-18T07:12:49.335Z"
   },
   {
    "duration": 15,
    "start_time": "2025-03-18T07:13:05.491Z"
   },
   {
    "duration": 8,
    "start_time": "2025-03-18T07:14:31.528Z"
   },
   {
    "duration": 7,
    "start_time": "2025-03-18T07:16:59.633Z"
   },
   {
    "duration": 11,
    "start_time": "2025-03-18T07:18:42.973Z"
   },
   {
    "duration": 7,
    "start_time": "2025-03-18T07:19:56.485Z"
   },
   {
    "duration": 9,
    "start_time": "2025-03-18T07:20:02.713Z"
   },
   {
    "duration": 97,
    "start_time": "2025-03-18T07:20:43.969Z"
   },
   {
    "duration": 41,
    "start_time": "2025-03-18T07:21:29.308Z"
   },
   {
    "duration": 220,
    "start_time": "2025-03-18T07:21:53.081Z"
   },
   {
    "duration": 108,
    "start_time": "2025-03-18T07:22:14.288Z"
   },
   {
    "duration": 105,
    "start_time": "2025-03-18T07:22:22.583Z"
   },
   {
    "duration": 101,
    "start_time": "2025-03-18T07:22:40.066Z"
   },
   {
    "duration": 103,
    "start_time": "2025-03-18T07:22:45.129Z"
   },
   {
    "duration": 311,
    "start_time": "2025-03-18T07:23:40.359Z"
   },
   {
    "duration": 163,
    "start_time": "2025-03-18T07:23:57.090Z"
   },
   {
    "duration": 308,
    "start_time": "2025-03-18T07:24:28.832Z"
   },
   {
    "duration": 11,
    "start_time": "2025-03-18T07:25:33.559Z"
   },
   {
    "duration": 13,
    "start_time": "2025-03-18T07:25:36.432Z"
   },
   {
    "duration": 14,
    "start_time": "2025-03-18T07:26:24.655Z"
   },
   {
    "duration": 14,
    "start_time": "2025-03-18T07:31:18.111Z"
   },
   {
    "duration": 13,
    "start_time": "2025-03-18T07:31:26.737Z"
   },
   {
    "duration": 309,
    "start_time": "2025-03-18T07:31:32.308Z"
   },
   {
    "duration": 120,
    "start_time": "2025-03-18T07:31:38.624Z"
   },
   {
    "duration": 117,
    "start_time": "2025-03-18T07:31:48.231Z"
   },
   {
    "duration": 116,
    "start_time": "2025-03-18T07:32:42.186Z"
   },
   {
    "duration": 438,
    "start_time": "2025-03-18T07:34:30.068Z"
   },
   {
    "duration": 338,
    "start_time": "2025-03-18T07:34:34.504Z"
   },
   {
    "duration": 37,
    "start_time": "2025-03-18T07:34:41.060Z"
   },
   {
    "duration": 41,
    "start_time": "2025-03-18T07:34:47.228Z"
   },
   {
    "duration": 200,
    "start_time": "2025-03-18T07:34:55.804Z"
   },
   {
    "duration": 621,
    "start_time": "2025-03-18T07:36:21.204Z"
   },
   {
    "duration": 13,
    "start_time": "2025-03-18T07:36:51.991Z"
   },
   {
    "duration": 7,
    "start_time": "2025-03-18T07:37:10.948Z"
   },
   {
    "duration": 10,
    "start_time": "2025-03-18T07:37:50.773Z"
   },
   {
    "duration": 46,
    "start_time": "2025-03-18T07:38:50.798Z"
   },
   {
    "duration": 7,
    "start_time": "2025-03-18T07:41:03.172Z"
   },
   {
    "duration": 7,
    "start_time": "2025-03-18T07:41:17.878Z"
   },
   {
    "duration": 31,
    "start_time": "2025-03-18T07:45:38.498Z"
   },
   {
    "duration": 15,
    "start_time": "2025-03-18T07:46:04.839Z"
   },
   {
    "duration": 72,
    "start_time": "2025-03-18T07:46:39.626Z"
   },
   {
    "duration": 26,
    "start_time": "2025-03-18T07:46:51.241Z"
   },
   {
    "duration": 532,
    "start_time": "2025-03-18T07:47:41.334Z"
   },
   {
    "duration": 19,
    "start_time": "2025-03-18T07:47:41.868Z"
   },
   {
    "duration": 727,
    "start_time": "2025-03-18T07:47:41.888Z"
   },
   {
    "duration": 25,
    "start_time": "2025-03-18T07:47:42.616Z"
   },
   {
    "duration": 45,
    "start_time": "2025-03-18T07:47:42.644Z"
   },
   {
    "duration": 132,
    "start_time": "2025-03-18T07:47:42.691Z"
   },
   {
    "duration": 10,
    "start_time": "2025-03-18T07:47:42.825Z"
   },
   {
    "duration": 7,
    "start_time": "2025-03-18T07:47:42.836Z"
   },
   {
    "duration": 8,
    "start_time": "2025-03-18T07:47:42.845Z"
   },
   {
    "duration": 12,
    "start_time": "2025-03-18T07:47:42.855Z"
   },
   {
    "duration": 9,
    "start_time": "2025-03-18T07:47:42.887Z"
   },
   {
    "duration": 8,
    "start_time": "2025-03-18T07:47:42.898Z"
   },
   {
    "duration": 9,
    "start_time": "2025-03-18T07:47:42.909Z"
   },
   {
    "duration": 102,
    "start_time": "2025-03-18T07:47:42.922Z"
   },
   {
    "duration": 91,
    "start_time": "2025-03-18T07:47:43.026Z"
   },
   {
    "duration": 8,
    "start_time": "2025-03-18T07:47:43.120Z"
   },
   {
    "duration": 6,
    "start_time": "2025-03-18T07:47:43.134Z"
   },
   {
    "duration": 4,
    "start_time": "2025-03-18T07:47:43.142Z"
   },
   {
    "duration": 12,
    "start_time": "2025-03-18T07:47:43.148Z"
   },
   {
    "duration": 122,
    "start_time": "2025-03-18T07:47:43.162Z"
   },
   {
    "duration": 107,
    "start_time": "2025-03-18T07:47:43.287Z"
   },
   {
    "duration": 58,
    "start_time": "2025-03-18T07:47:43.396Z"
   },
   {
    "duration": 81,
    "start_time": "2025-03-18T07:47:43.455Z"
   },
   {
    "duration": 14,
    "start_time": "2025-03-18T07:47:43.538Z"
   },
   {
    "duration": 6,
    "start_time": "2025-03-18T07:47:43.553Z"
   },
   {
    "duration": 47,
    "start_time": "2025-03-18T07:47:43.560Z"
   },
   {
    "duration": 16,
    "start_time": "2025-03-18T07:47:43.609Z"
   },
   {
    "duration": 8,
    "start_time": "2025-03-18T07:47:43.627Z"
   },
   {
    "duration": 6,
    "start_time": "2025-03-18T07:47:43.637Z"
   },
   {
    "duration": 5,
    "start_time": "2025-03-18T07:47:43.644Z"
   },
   {
    "duration": 37,
    "start_time": "2025-03-18T07:47:43.650Z"
   },
   {
    "duration": 6,
    "start_time": "2025-03-18T07:47:43.689Z"
   },
   {
    "duration": 9,
    "start_time": "2025-03-18T07:47:43.697Z"
   },
   {
    "duration": 850,
    "start_time": "2025-03-18T07:47:43.708Z"
   },
   {
    "duration": 734,
    "start_time": "2025-03-18T07:47:44.559Z"
   },
   {
    "duration": 7,
    "start_time": "2025-03-18T07:47:45.295Z"
   },
   {
    "duration": 8,
    "start_time": "2025-03-18T07:47:45.304Z"
   },
   {
    "duration": 8,
    "start_time": "2025-03-18T07:47:45.314Z"
   },
   {
    "duration": 5,
    "start_time": "2025-03-18T07:47:45.324Z"
   },
   {
    "duration": 11,
    "start_time": "2025-03-18T07:47:45.331Z"
   },
   {
    "duration": 47,
    "start_time": "2025-03-18T07:47:45.347Z"
   },
   {
    "duration": 6,
    "start_time": "2025-03-18T07:47:45.396Z"
   },
   {
    "duration": 5,
    "start_time": "2025-03-18T07:47:45.405Z"
   },
   {
    "duration": 7,
    "start_time": "2025-03-18T07:47:45.413Z"
   },
   {
    "duration": 7,
    "start_time": "2025-03-18T07:47:45.422Z"
   },
   {
    "duration": 13,
    "start_time": "2025-03-18T07:47:45.431Z"
   },
   {
    "duration": 49,
    "start_time": "2025-03-18T07:47:45.446Z"
   },
   {
    "duration": 9,
    "start_time": "2025-03-18T07:47:45.497Z"
   },
   {
    "duration": 6,
    "start_time": "2025-03-18T07:47:45.508Z"
   },
   {
    "duration": 7,
    "start_time": "2025-03-18T07:47:45.515Z"
   },
   {
    "duration": 6,
    "start_time": "2025-03-18T07:47:45.523Z"
   },
   {
    "duration": 174,
    "start_time": "2025-03-18T07:48:21.522Z"
   },
   {
    "duration": 499,
    "start_time": "2025-03-18T07:48:41.752Z"
   },
   {
    "duration": 10,
    "start_time": "2025-03-18T07:48:42.253Z"
   },
   {
    "duration": 738,
    "start_time": "2025-03-18T07:48:42.266Z"
   },
   {
    "duration": 25,
    "start_time": "2025-03-18T07:48:43.006Z"
   },
   {
    "duration": 32,
    "start_time": "2025-03-18T07:48:43.034Z"
   },
   {
    "duration": 179,
    "start_time": "2025-03-18T07:48:43.068Z"
   },
   {
    "duration": 11,
    "start_time": "2025-03-18T07:48:43.248Z"
   },
   {
    "duration": 8,
    "start_time": "2025-03-18T07:48:43.260Z"
   },
   {
    "duration": 26,
    "start_time": "2025-03-18T07:48:43.269Z"
   },
   {
    "duration": 9,
    "start_time": "2025-03-18T07:48:43.298Z"
   },
   {
    "duration": 10,
    "start_time": "2025-03-18T07:48:43.308Z"
   },
   {
    "duration": 10,
    "start_time": "2025-03-18T07:48:43.321Z"
   },
   {
    "duration": 10,
    "start_time": "2025-03-18T07:48:43.334Z"
   },
   {
    "duration": 113,
    "start_time": "2025-03-18T07:48:43.348Z"
   },
   {
    "duration": 84,
    "start_time": "2025-03-18T07:48:43.463Z"
   },
   {
    "duration": 9,
    "start_time": "2025-03-18T07:48:43.549Z"
   },
   {
    "duration": 4,
    "start_time": "2025-03-18T07:48:43.560Z"
   },
   {
    "duration": 24,
    "start_time": "2025-03-18T07:48:43.565Z"
   },
   {
    "duration": 12,
    "start_time": "2025-03-18T07:48:43.591Z"
   },
   {
    "duration": 103,
    "start_time": "2025-03-18T07:48:43.605Z"
   },
   {
    "duration": 97,
    "start_time": "2025-03-18T07:48:43.710Z"
   },
   {
    "duration": 44,
    "start_time": "2025-03-18T07:48:43.809Z"
   },
   {
    "duration": 74,
    "start_time": "2025-03-18T07:48:43.855Z"
   },
   {
    "duration": 13,
    "start_time": "2025-03-18T07:48:43.931Z"
   },
   {
    "duration": 5,
    "start_time": "2025-03-18T07:48:43.946Z"
   },
   {
    "duration": 43,
    "start_time": "2025-03-18T07:48:43.952Z"
   },
   {
    "duration": 15,
    "start_time": "2025-03-18T07:48:43.997Z"
   },
   {
    "duration": 8,
    "start_time": "2025-03-18T07:48:44.014Z"
   },
   {
    "duration": 7,
    "start_time": "2025-03-18T07:48:44.024Z"
   },
   {
    "duration": 4,
    "start_time": "2025-03-18T07:48:44.032Z"
   },
   {
    "duration": 7,
    "start_time": "2025-03-18T07:48:44.038Z"
   },
   {
    "duration": 40,
    "start_time": "2025-03-18T07:48:44.047Z"
   },
   {
    "duration": 10,
    "start_time": "2025-03-18T07:48:44.089Z"
   },
   {
    "duration": 812,
    "start_time": "2025-03-18T07:48:44.101Z"
   },
   {
    "duration": 739,
    "start_time": "2025-03-18T07:48:44.915Z"
   },
   {
    "duration": 8,
    "start_time": "2025-03-18T07:48:45.656Z"
   },
   {
    "duration": 25,
    "start_time": "2025-03-18T07:48:45.665Z"
   },
   {
    "duration": 9,
    "start_time": "2025-03-18T07:48:45.692Z"
   },
   {
    "duration": 5,
    "start_time": "2025-03-18T07:48:45.703Z"
   },
   {
    "duration": 10,
    "start_time": "2025-03-18T07:48:45.710Z"
   },
   {
    "duration": 10,
    "start_time": "2025-03-18T07:48:45.724Z"
   },
   {
    "duration": 4,
    "start_time": "2025-03-18T07:48:45.736Z"
   },
   {
    "duration": 5,
    "start_time": "2025-03-18T07:48:45.742Z"
   },
   {
    "duration": 38,
    "start_time": "2025-03-18T07:48:45.749Z"
   },
   {
    "duration": 7,
    "start_time": "2025-03-18T07:48:45.788Z"
   },
   {
    "duration": 10,
    "start_time": "2025-03-18T07:48:45.797Z"
   },
   {
    "duration": 10,
    "start_time": "2025-03-18T07:48:45.808Z"
   },
   {
    "duration": 10,
    "start_time": "2025-03-18T07:48:45.819Z"
   },
   {
    "duration": 5,
    "start_time": "2025-03-18T07:48:45.830Z"
   },
   {
    "duration": 6,
    "start_time": "2025-03-18T07:48:45.837Z"
   },
   {
    "duration": 48,
    "start_time": "2025-03-18T07:48:45.844Z"
   },
   {
    "duration": 7,
    "start_time": "2025-03-18T07:48:52.020Z"
   },
   {
    "duration": 30,
    "start_time": "2025-03-18T07:49:14.494Z"
   },
   {
    "duration": 7,
    "start_time": "2025-03-18T07:49:17.632Z"
   },
   {
    "duration": 35,
    "start_time": "2025-03-18T07:49:29.001Z"
   },
   {
    "duration": 2,
    "start_time": "2025-03-18T07:50:10.184Z"
   },
   {
    "duration": 21,
    "start_time": "2025-03-18T07:50:13.008Z"
   },
   {
    "duration": 28,
    "start_time": "2025-03-18T07:50:16.456Z"
   },
   {
    "duration": 489,
    "start_time": "2025-03-18T07:50:51.972Z"
   },
   {
    "duration": 11,
    "start_time": "2025-03-18T07:50:52.462Z"
   },
   {
    "duration": 764,
    "start_time": "2025-03-18T07:50:52.475Z"
   },
   {
    "duration": 26,
    "start_time": "2025-03-18T07:50:53.240Z"
   },
   {
    "duration": 40,
    "start_time": "2025-03-18T07:50:53.269Z"
   },
   {
    "duration": 140,
    "start_time": "2025-03-18T07:50:53.311Z"
   },
   {
    "duration": 9,
    "start_time": "2025-03-18T07:50:53.453Z"
   },
   {
    "duration": 6,
    "start_time": "2025-03-18T07:50:53.464Z"
   },
   {
    "duration": 23,
    "start_time": "2025-03-18T07:50:53.472Z"
   },
   {
    "duration": 8,
    "start_time": "2025-03-18T07:50:53.497Z"
   },
   {
    "duration": 11,
    "start_time": "2025-03-18T07:50:53.508Z"
   },
   {
    "duration": 9,
    "start_time": "2025-03-18T07:50:53.520Z"
   },
   {
    "duration": 8,
    "start_time": "2025-03-18T07:50:53.531Z"
   },
   {
    "duration": 121,
    "start_time": "2025-03-18T07:50:53.544Z"
   },
   {
    "duration": 83,
    "start_time": "2025-03-18T07:50:53.667Z"
   },
   {
    "duration": 10,
    "start_time": "2025-03-18T07:50:53.752Z"
   },
   {
    "duration": 3,
    "start_time": "2025-03-18T07:50:53.763Z"
   },
   {
    "duration": 20,
    "start_time": "2025-03-18T07:50:53.768Z"
   },
   {
    "duration": 11,
    "start_time": "2025-03-18T07:50:53.791Z"
   },
   {
    "duration": 93,
    "start_time": "2025-03-18T07:50:53.804Z"
   },
   {
    "duration": 92,
    "start_time": "2025-03-18T07:50:53.899Z"
   },
   {
    "duration": 51,
    "start_time": "2025-03-18T07:50:53.993Z"
   },
   {
    "duration": 88,
    "start_time": "2025-03-18T07:50:54.047Z"
   },
   {
    "duration": 13,
    "start_time": "2025-03-18T07:50:54.137Z"
   },
   {
    "duration": 6,
    "start_time": "2025-03-18T07:50:54.152Z"
   },
   {
    "duration": 41,
    "start_time": "2025-03-18T07:50:54.159Z"
   },
   {
    "duration": 16,
    "start_time": "2025-03-18T07:50:54.201Z"
   },
   {
    "duration": 8,
    "start_time": "2025-03-18T07:50:54.219Z"
   },
   {
    "duration": 5,
    "start_time": "2025-03-18T07:50:54.229Z"
   },
   {
    "duration": 4,
    "start_time": "2025-03-18T07:50:54.236Z"
   },
   {
    "duration": 7,
    "start_time": "2025-03-18T07:50:54.242Z"
   },
   {
    "duration": 38,
    "start_time": "2025-03-18T07:50:54.251Z"
   },
   {
    "duration": 8,
    "start_time": "2025-03-18T07:50:54.291Z"
   },
   {
    "duration": 810,
    "start_time": "2025-03-18T07:50:54.300Z"
   },
   {
    "duration": 736,
    "start_time": "2025-03-18T07:50:55.112Z"
   },
   {
    "duration": 7,
    "start_time": "2025-03-18T07:50:55.850Z"
   },
   {
    "duration": 9,
    "start_time": "2025-03-18T07:50:55.859Z"
   },
   {
    "duration": 24,
    "start_time": "2025-03-18T07:50:55.870Z"
   },
   {
    "duration": 5,
    "start_time": "2025-03-18T07:50:55.895Z"
   },
   {
    "duration": 11,
    "start_time": "2025-03-18T07:50:55.902Z"
   },
   {
    "duration": 11,
    "start_time": "2025-03-18T07:50:55.917Z"
   },
   {
    "duration": 4,
    "start_time": "2025-03-18T07:50:55.930Z"
   },
   {
    "duration": 4,
    "start_time": "2025-03-18T07:50:55.936Z"
   },
   {
    "duration": 5,
    "start_time": "2025-03-18T07:50:55.942Z"
   },
   {
    "duration": 6,
    "start_time": "2025-03-18T07:50:55.987Z"
   },
   {
    "duration": 8,
    "start_time": "2025-03-18T07:50:55.995Z"
   },
   {
    "duration": 8,
    "start_time": "2025-03-18T07:50:56.005Z"
   },
   {
    "duration": 10,
    "start_time": "2025-03-18T07:50:56.014Z"
   },
   {
    "duration": 4,
    "start_time": "2025-03-18T07:50:56.026Z"
   },
   {
    "duration": 7,
    "start_time": "2025-03-18T07:50:56.032Z"
   },
   {
    "duration": 46,
    "start_time": "2025-03-18T07:50:56.041Z"
   },
   {
    "duration": 2,
    "start_time": "2025-03-18T07:50:56.089Z"
   },
   {
    "duration": 5,
    "start_time": "2025-03-18T07:51:03.022Z"
   },
   {
    "duration": 7,
    "start_time": "2025-03-18T07:51:04.913Z"
   },
   {
    "duration": 6,
    "start_time": "2025-03-18T07:51:11.740Z"
   },
   {
    "duration": 7,
    "start_time": "2025-03-18T07:51:19.922Z"
   },
   {
    "duration": 10,
    "start_time": "2025-03-18T07:51:36.299Z"
   },
   {
    "duration": 4,
    "start_time": "2025-03-18T07:51:46.678Z"
   },
   {
    "duration": 10,
    "start_time": "2025-03-18T07:51:50.798Z"
   },
   {
    "duration": 511,
    "start_time": "2025-03-18T07:53:06.234Z"
   },
   {
    "duration": 201,
    "start_time": "2025-03-18T07:53:27.185Z"
   },
   {
    "duration": 22,
    "start_time": "2025-03-18T07:53:30.146Z"
   },
   {
    "duration": 168,
    "start_time": "2025-03-18T07:53:32.676Z"
   },
   {
    "duration": 23,
    "start_time": "2025-03-18T07:53:48.423Z"
   },
   {
    "duration": 39,
    "start_time": "2025-03-18T07:55:40.657Z"
   },
   {
    "duration": 9,
    "start_time": "2025-03-18T07:55:40.698Z"
   },
   {
    "duration": 756,
    "start_time": "2025-03-18T07:55:40.708Z"
   },
   {
    "duration": 32,
    "start_time": "2025-03-18T07:55:41.466Z"
   },
   {
    "duration": 34,
    "start_time": "2025-03-18T07:55:41.500Z"
   },
   {
    "duration": 143,
    "start_time": "2025-03-18T07:55:41.536Z"
   },
   {
    "duration": 17,
    "start_time": "2025-03-18T07:55:41.680Z"
   },
   {
    "duration": 7,
    "start_time": "2025-03-18T07:55:41.700Z"
   },
   {
    "duration": 10,
    "start_time": "2025-03-18T07:55:41.708Z"
   },
   {
    "duration": 7,
    "start_time": "2025-03-18T07:55:41.722Z"
   },
   {
    "duration": 9,
    "start_time": "2025-03-18T07:55:41.731Z"
   },
   {
    "duration": 8,
    "start_time": "2025-03-18T07:55:41.741Z"
   },
   {
    "duration": 43,
    "start_time": "2025-03-18T07:55:41.751Z"
   },
   {
    "duration": 113,
    "start_time": "2025-03-18T07:55:41.797Z"
   },
   {
    "duration": 100,
    "start_time": "2025-03-18T07:55:41.912Z"
   },
   {
    "duration": 8,
    "start_time": "2025-03-18T07:55:42.014Z"
   },
   {
    "duration": 4,
    "start_time": "2025-03-18T07:55:42.023Z"
   },
   {
    "duration": 4,
    "start_time": "2025-03-18T07:55:42.028Z"
   },
   {
    "duration": 11,
    "start_time": "2025-03-18T07:55:42.034Z"
   },
   {
    "duration": 136,
    "start_time": "2025-03-18T07:55:42.046Z"
   },
   {
    "duration": 103,
    "start_time": "2025-03-18T07:55:42.184Z"
   },
   {
    "duration": 49,
    "start_time": "2025-03-18T07:55:42.289Z"
   },
   {
    "duration": 82,
    "start_time": "2025-03-18T07:55:42.340Z"
   },
   {
    "duration": 15,
    "start_time": "2025-03-18T07:55:42.424Z"
   },
   {
    "duration": 7,
    "start_time": "2025-03-18T07:55:42.441Z"
   },
   {
    "duration": 49,
    "start_time": "2025-03-18T07:55:42.450Z"
   },
   {
    "duration": 18,
    "start_time": "2025-03-18T07:55:42.502Z"
   },
   {
    "duration": 9,
    "start_time": "2025-03-18T07:55:42.525Z"
   },
   {
    "duration": 6,
    "start_time": "2025-03-18T07:55:42.536Z"
   },
   {
    "duration": 4,
    "start_time": "2025-03-18T07:55:42.543Z"
   },
   {
    "duration": 38,
    "start_time": "2025-03-18T07:55:42.549Z"
   },
   {
    "duration": 5,
    "start_time": "2025-03-18T07:55:42.588Z"
   },
   {
    "duration": 10,
    "start_time": "2025-03-18T07:55:42.595Z"
   },
   {
    "duration": 896,
    "start_time": "2025-03-18T07:55:42.607Z"
   },
   {
    "duration": 772,
    "start_time": "2025-03-18T07:55:43.505Z"
   },
   {
    "duration": 12,
    "start_time": "2025-03-18T07:55:44.278Z"
   },
   {
    "duration": 9,
    "start_time": "2025-03-18T07:55:44.293Z"
   },
   {
    "duration": 9,
    "start_time": "2025-03-18T07:55:44.304Z"
   },
   {
    "duration": 6,
    "start_time": "2025-03-18T07:55:44.315Z"
   },
   {
    "duration": 12,
    "start_time": "2025-03-18T07:55:44.322Z"
   },
   {
    "duration": 12,
    "start_time": "2025-03-18T07:55:44.335Z"
   },
   {
    "duration": 38,
    "start_time": "2025-03-18T07:55:44.349Z"
   },
   {
    "duration": 5,
    "start_time": "2025-03-18T07:55:44.390Z"
   },
   {
    "duration": 6,
    "start_time": "2025-03-18T07:55:44.397Z"
   },
   {
    "duration": 5,
    "start_time": "2025-03-18T07:55:44.405Z"
   },
   {
    "duration": 9,
    "start_time": "2025-03-18T07:55:44.412Z"
   },
   {
    "duration": 8,
    "start_time": "2025-03-18T07:55:44.423Z"
   },
   {
    "duration": 9,
    "start_time": "2025-03-18T07:55:44.433Z"
   },
   {
    "duration": 45,
    "start_time": "2025-03-18T07:55:44.444Z"
   },
   {
    "duration": 7,
    "start_time": "2025-03-18T07:55:44.491Z"
   },
   {
    "duration": 7,
    "start_time": "2025-03-18T07:55:44.499Z"
   },
   {
    "duration": 3,
    "start_time": "2025-03-18T07:55:44.507Z"
   },
   {
    "duration": 6,
    "start_time": "2025-03-18T07:55:44.512Z"
   },
   {
    "duration": 7,
    "start_time": "2025-03-18T07:55:44.519Z"
   },
   {
    "duration": 4,
    "start_time": "2025-03-18T07:55:44.527Z"
   },
   {
    "duration": 10,
    "start_time": "2025-03-18T07:55:44.533Z"
   },
   {
    "duration": 206,
    "start_time": "2025-03-18T07:55:44.586Z"
   },
   {
    "duration": 201,
    "start_time": "2025-03-18T07:55:44.794Z"
   },
   {
    "duration": 26,
    "start_time": "2025-03-18T07:55:44.997Z"
   },
   {
    "duration": 10,
    "start_time": "2025-03-18T07:55:45.025Z"
   },
   {
    "duration": 25,
    "start_time": "2025-03-18T07:55:45.037Z"
   },
   {
    "duration": 29,
    "start_time": "2025-03-18T07:55:45.064Z"
   },
   {
    "duration": 18,
    "start_time": "2025-03-18T07:55:45.094Z"
   },
   {
    "duration": 17,
    "start_time": "2025-03-18T07:55:45.114Z"
   },
   {
    "duration": 14,
    "start_time": "2025-03-18T07:55:45.134Z"
   },
   {
    "duration": 93,
    "start_time": "2025-03-18T07:55:45.149Z"
   },
   {
    "duration": 21,
    "start_time": "2025-03-18T07:55:45.244Z"
   },
   {
    "duration": 36,
    "start_time": "2025-03-18T07:55:45.267Z"
   },
   {
    "duration": 19,
    "start_time": "2025-03-18T07:55:45.304Z"
   },
   {
    "duration": 24,
    "start_time": "2025-03-18T07:55:45.324Z"
   },
   {
    "duration": 54,
    "start_time": "2025-03-18T07:55:45.350Z"
   },
   {
    "duration": 22,
    "start_time": "2025-03-18T07:55:45.407Z"
   },
   {
    "duration": 7,
    "start_time": "2025-03-18T07:55:45.431Z"
   },
   {
    "duration": 6,
    "start_time": "2025-03-18T07:55:45.439Z"
   },
   {
    "duration": 73,
    "start_time": "2025-03-18T07:55:45.447Z"
   },
   {
    "duration": 4,
    "start_time": "2025-03-18T07:55:45.522Z"
   },
   {
    "duration": 4,
    "start_time": "2025-03-18T07:57:56.404Z"
   },
   {
    "duration": 119,
    "start_time": "2025-03-18T07:58:03.382Z"
   },
   {
    "duration": 188,
    "start_time": "2025-03-18T07:58:09.040Z"
   },
   {
    "duration": 496,
    "start_time": "2025-03-18T08:00:43.038Z"
   },
   {
    "duration": 196,
    "start_time": "2025-03-18T08:02:04.158Z"
   },
   {
    "duration": 13,
    "start_time": "2025-03-18T08:03:53.512Z"
   },
   {
    "duration": 91,
    "start_time": "2025-03-18T08:04:00.822Z"
   },
   {
    "duration": 40,
    "start_time": "2025-03-18T08:04:07.883Z"
   },
   {
    "duration": 81,
    "start_time": "2025-03-18T08:05:01.140Z"
   },
   {
    "duration": 5,
    "start_time": "2025-03-18T08:05:28.245Z"
   },
   {
    "duration": 62,
    "start_time": "2025-03-18T08:05:36.299Z"
   },
   {
    "duration": 6,
    "start_time": "2025-03-18T08:05:39.684Z"
   },
   {
    "duration": 6,
    "start_time": "2025-03-18T08:05:54.440Z"
   },
   {
    "duration": 8,
    "start_time": "2025-03-18T08:06:09.658Z"
   },
   {
    "duration": 41,
    "start_time": "2025-03-18T08:06:19.813Z"
   },
   {
    "duration": 9,
    "start_time": "2025-03-18T08:06:23.147Z"
   },
   {
    "duration": 5,
    "start_time": "2025-03-18T08:06:34.383Z"
   },
   {
    "duration": 32,
    "start_time": "2025-03-18T08:06:42.812Z"
   },
   {
    "duration": 32,
    "start_time": "2025-03-18T08:06:49.780Z"
   },
   {
    "duration": 28,
    "start_time": "2025-03-18T08:07:04.564Z"
   },
   {
    "duration": 8,
    "start_time": "2025-03-18T08:07:09.808Z"
   },
   {
    "duration": 196,
    "start_time": "2025-03-18T08:08:14.625Z"
   },
   {
    "duration": 728,
    "start_time": "2025-03-18T08:09:09.354Z"
   },
   {
    "duration": 13,
    "start_time": "2025-03-18T08:12:40.752Z"
   },
   {
    "duration": 13,
    "start_time": "2025-03-18T08:13:14.004Z"
   },
   {
    "duration": 24,
    "start_time": "2025-03-18T08:13:24.538Z"
   },
   {
    "duration": 2707,
    "start_time": "2025-03-18T08:13:40.931Z"
   },
   {
    "duration": 2661,
    "start_time": "2025-03-18T08:14:30.727Z"
   },
   {
    "duration": 205,
    "start_time": "2025-03-18T08:20:51.914Z"
   },
   {
    "duration": 368,
    "start_time": "2025-03-18T08:21:37.860Z"
   },
   {
    "duration": 401,
    "start_time": "2025-03-18T08:22:22.894Z"
   },
   {
    "duration": 7900,
    "start_time": "2025-03-18T08:28:52.701Z"
   },
   {
    "duration": 3524,
    "start_time": "2025-03-18T08:29:12.602Z"
   },
   {
    "duration": 12,
    "start_time": "2025-03-18T08:29:32.088Z"
   },
   {
    "duration": 2999,
    "start_time": "2025-03-18T08:29:38.661Z"
   },
   {
    "duration": 18,
    "start_time": "2025-03-18T08:30:24.228Z"
   },
   {
    "duration": 3152,
    "start_time": "2025-03-18T08:30:26.925Z"
   },
   {
    "duration": 2468,
    "start_time": "2025-03-18T08:31:15.043Z"
   },
   {
    "duration": 13,
    "start_time": "2025-03-18T08:32:15.534Z"
   },
   {
    "duration": 96,
    "start_time": "2025-03-18T08:32:33.211Z"
   },
   {
    "duration": 5,
    "start_time": "2025-03-18T08:34:12.347Z"
   },
   {
    "duration": 21,
    "start_time": "2025-03-18T08:34:19.649Z"
   },
   {
    "duration": 494,
    "start_time": "2025-03-18T08:36:48.572Z"
   },
   {
    "duration": 1611,
    "start_time": "2025-03-18T08:37:03.277Z"
   },
   {
    "duration": 2651,
    "start_time": "2025-03-18T08:37:36.514Z"
   },
   {
    "duration": 3,
    "start_time": "2025-03-18T08:41:03.891Z"
   },
   {
    "duration": 15,
    "start_time": "2025-03-18T08:41:09.661Z"
   },
   {
    "duration": 15,
    "start_time": "2025-03-18T08:41:31.777Z"
   },
   {
    "duration": 12,
    "start_time": "2025-03-18T08:42:23.745Z"
   },
   {
    "duration": 15,
    "start_time": "2025-03-18T08:42:31.304Z"
   },
   {
    "duration": 392,
    "start_time": "2025-03-18T08:42:34.247Z"
   },
   {
    "duration": 674,
    "start_time": "2025-03-18T08:43:14.298Z"
   },
   {
    "duration": 123,
    "start_time": "2025-03-18T08:43:35.138Z"
   },
   {
    "duration": 17,
    "start_time": "2025-03-18T08:44:12.636Z"
   },
   {
    "duration": 17,
    "start_time": "2025-03-18T08:44:22.495Z"
   },
   {
    "duration": 7,
    "start_time": "2025-03-18T08:45:05.024Z"
   },
   {
    "duration": 8,
    "start_time": "2025-03-18T08:46:14.515Z"
   },
   {
    "duration": 157,
    "start_time": "2025-03-18T08:48:08.817Z"
   },
   {
    "duration": 556,
    "start_time": "2025-03-18T08:48:19.218Z"
   },
   {
    "duration": 10,
    "start_time": "2025-03-18T08:48:19.776Z"
   },
   {
    "duration": 791,
    "start_time": "2025-03-18T08:48:19.787Z"
   },
   {
    "duration": 26,
    "start_time": "2025-03-18T08:48:20.586Z"
   },
   {
    "duration": 31,
    "start_time": "2025-03-18T08:48:20.615Z"
   },
   {
    "duration": 151,
    "start_time": "2025-03-18T08:48:20.648Z"
   },
   {
    "duration": 10,
    "start_time": "2025-03-18T08:48:20.801Z"
   },
   {
    "duration": 7,
    "start_time": "2025-03-18T08:48:20.813Z"
   },
   {
    "duration": 10,
    "start_time": "2025-03-18T08:48:20.821Z"
   },
   {
    "duration": 7,
    "start_time": "2025-03-18T08:48:20.833Z"
   },
   {
    "duration": 10,
    "start_time": "2025-03-18T08:48:20.842Z"
   },
   {
    "duration": 36,
    "start_time": "2025-03-18T08:48:20.853Z"
   },
   {
    "duration": 9,
    "start_time": "2025-03-18T08:48:20.891Z"
   },
   {
    "duration": 93,
    "start_time": "2025-03-18T08:48:20.904Z"
   },
   {
    "duration": 88,
    "start_time": "2025-03-18T08:48:20.999Z"
   },
   {
    "duration": 8,
    "start_time": "2025-03-18T08:48:21.089Z"
   },
   {
    "duration": 3,
    "start_time": "2025-03-18T08:48:21.099Z"
   },
   {
    "duration": 4,
    "start_time": "2025-03-18T08:48:21.104Z"
   },
   {
    "duration": 10,
    "start_time": "2025-03-18T08:48:21.109Z"
   },
   {
    "duration": 114,
    "start_time": "2025-03-18T08:48:21.120Z"
   },
   {
    "duration": 99,
    "start_time": "2025-03-18T08:48:21.236Z"
   },
   {
    "duration": 60,
    "start_time": "2025-03-18T08:48:21.337Z"
   },
   {
    "duration": 65,
    "start_time": "2025-03-18T08:48:21.399Z"
   },
   {
    "duration": 26,
    "start_time": "2025-03-18T08:48:21.465Z"
   },
   {
    "duration": 6,
    "start_time": "2025-03-18T08:48:21.493Z"
   },
   {
    "duration": 23,
    "start_time": "2025-03-18T08:48:21.500Z"
   },
   {
    "duration": 16,
    "start_time": "2025-03-18T08:48:21.525Z"
   },
   {
    "duration": 8,
    "start_time": "2025-03-18T08:48:21.543Z"
   },
   {
    "duration": 34,
    "start_time": "2025-03-18T08:48:21.553Z"
   },
   {
    "duration": 6,
    "start_time": "2025-03-18T08:48:21.589Z"
   },
   {
    "duration": 7,
    "start_time": "2025-03-18T08:48:21.597Z"
   },
   {
    "duration": 4,
    "start_time": "2025-03-18T08:48:21.605Z"
   },
   {
    "duration": 9,
    "start_time": "2025-03-18T08:48:21.611Z"
   },
   {
    "duration": 836,
    "start_time": "2025-03-18T08:48:21.621Z"
   },
   {
    "duration": 757,
    "start_time": "2025-03-18T08:48:22.459Z"
   },
   {
    "duration": 12,
    "start_time": "2025-03-18T08:48:23.218Z"
   },
   {
    "duration": 9,
    "start_time": "2025-03-18T08:48:23.232Z"
   },
   {
    "duration": 9,
    "start_time": "2025-03-18T08:48:23.243Z"
   },
   {
    "duration": 7,
    "start_time": "2025-03-18T08:48:23.254Z"
   },
   {
    "duration": 33,
    "start_time": "2025-03-18T08:48:23.263Z"
   },
   {
    "duration": 13,
    "start_time": "2025-03-18T08:48:23.301Z"
   },
   {
    "duration": 7,
    "start_time": "2025-03-18T08:48:23.315Z"
   },
   {
    "duration": 5,
    "start_time": "2025-03-18T08:48:23.324Z"
   },
   {
    "duration": 6,
    "start_time": "2025-03-18T08:48:23.331Z"
   },
   {
    "duration": 6,
    "start_time": "2025-03-18T08:48:23.339Z"
   },
   {
    "duration": 50,
    "start_time": "2025-03-18T08:48:23.347Z"
   },
   {
    "duration": 10,
    "start_time": "2025-03-18T08:48:23.399Z"
   },
   {
    "duration": 10,
    "start_time": "2025-03-18T08:48:23.410Z"
   },
   {
    "duration": 6,
    "start_time": "2025-03-18T08:48:23.422Z"
   },
   {
    "duration": 8,
    "start_time": "2025-03-18T08:48:23.429Z"
   },
   {
    "duration": 6,
    "start_time": "2025-03-18T08:48:23.439Z"
   },
   {
    "duration": 2,
    "start_time": "2025-03-18T08:48:23.447Z"
   },
   {
    "duration": 40,
    "start_time": "2025-03-18T08:48:23.450Z"
   },
   {
    "duration": 8,
    "start_time": "2025-03-18T08:48:23.492Z"
   },
   {
    "duration": 3,
    "start_time": "2025-03-18T08:48:23.502Z"
   },
   {
    "duration": 9,
    "start_time": "2025-03-18T08:48:23.508Z"
   },
   {
    "duration": 234,
    "start_time": "2025-03-18T08:48:23.519Z"
   },
   {
    "duration": 182,
    "start_time": "2025-03-18T08:48:23.754Z"
   },
   {
    "duration": 24,
    "start_time": "2025-03-18T08:48:23.938Z"
   },
   {
    "duration": 9,
    "start_time": "2025-03-18T08:48:23.964Z"
   },
   {
    "duration": 27,
    "start_time": "2025-03-18T08:48:23.988Z"
   },
   {
    "duration": 10,
    "start_time": "2025-03-18T08:48:24.017Z"
   },
   {
    "duration": 18,
    "start_time": "2025-03-18T08:48:24.028Z"
   },
   {
    "duration": 44,
    "start_time": "2025-03-18T08:48:24.048Z"
   },
   {
    "duration": 14,
    "start_time": "2025-03-18T08:48:24.095Z"
   },
   {
    "duration": 76,
    "start_time": "2025-03-18T08:48:24.111Z"
   },
   {
    "duration": 20,
    "start_time": "2025-03-18T08:48:24.189Z"
   },
   {
    "duration": 20,
    "start_time": "2025-03-18T08:48:24.211Z"
   },
   {
    "duration": 16,
    "start_time": "2025-03-18T08:48:24.233Z"
   },
   {
    "duration": 45,
    "start_time": "2025-03-18T08:48:24.251Z"
   },
   {
    "duration": 26,
    "start_time": "2025-03-18T08:48:24.298Z"
   },
   {
    "duration": 25,
    "start_time": "2025-03-18T08:48:24.325Z"
   },
   {
    "duration": 8,
    "start_time": "2025-03-18T08:48:24.352Z"
   },
   {
    "duration": 168,
    "start_time": "2025-03-18T08:48:24.362Z"
   },
   {
    "duration": 6,
    "start_time": "2025-03-18T08:48:24.532Z"
   },
   {
    "duration": 53,
    "start_time": "2025-03-18T08:48:24.540Z"
   },
   {
    "duration": 200,
    "start_time": "2025-03-18T08:48:24.595Z"
   },
   {
    "duration": 14,
    "start_time": "2025-03-18T08:48:24.797Z"
   },
   {
    "duration": 14,
    "start_time": "2025-03-18T08:48:24.813Z"
   },
   {
    "duration": 403,
    "start_time": "2025-03-18T08:48:24.829Z"
   },
   {
    "duration": 143,
    "start_time": "2025-03-18T08:50:04.423Z"
   },
   {
    "duration": 7,
    "start_time": "2025-03-18T08:50:29.913Z"
   },
   {
    "duration": 12,
    "start_time": "2025-03-19T12:54:48.278Z"
   },
   {
    "duration": 61,
    "start_time": "2025-03-19T12:54:57.355Z"
   },
   {
    "duration": 11,
    "start_time": "2025-03-19T12:54:57.418Z"
   },
   {
    "duration": 860,
    "start_time": "2025-03-19T12:54:57.431Z"
   },
   {
    "duration": 34,
    "start_time": "2025-03-19T12:54:58.292Z"
   },
   {
    "duration": 32,
    "start_time": "2025-03-19T12:54:58.331Z"
   },
   {
    "duration": 149,
    "start_time": "2025-03-19T12:54:58.365Z"
   },
   {
    "duration": 12,
    "start_time": "2025-03-19T12:54:58.516Z"
   },
   {
    "duration": 8,
    "start_time": "2025-03-19T12:54:58.531Z"
   },
   {
    "duration": 11,
    "start_time": "2025-03-19T12:54:58.540Z"
   },
   {
    "duration": 7,
    "start_time": "2025-03-19T12:54:58.553Z"
   },
   {
    "duration": 11,
    "start_time": "2025-03-19T12:54:58.562Z"
   },
   {
    "duration": 7,
    "start_time": "2025-03-19T12:54:58.575Z"
   },
   {
    "duration": 41,
    "start_time": "2025-03-19T12:54:58.584Z"
   },
   {
    "duration": 76,
    "start_time": "2025-03-19T12:54:58.628Z"
   },
   {
    "duration": 87,
    "start_time": "2025-03-19T12:54:58.706Z"
   },
   {
    "duration": 13,
    "start_time": "2025-03-19T12:54:58.795Z"
   },
   {
    "duration": 4,
    "start_time": "2025-03-19T12:54:58.810Z"
   },
   {
    "duration": 12,
    "start_time": "2025-03-19T12:54:58.815Z"
   },
   {
    "duration": 9,
    "start_time": "2025-03-19T12:54:58.829Z"
   },
   {
    "duration": 94,
    "start_time": "2025-03-19T12:54:58.841Z"
   },
   {
    "duration": 78,
    "start_time": "2025-03-19T12:54:58.937Z"
   },
   {
    "duration": 40,
    "start_time": "2025-03-19T12:54:59.025Z"
   },
   {
    "duration": 71,
    "start_time": "2025-03-19T12:54:59.067Z"
   },
   {
    "duration": 12,
    "start_time": "2025-03-19T12:54:59.140Z"
   },
   {
    "duration": 5,
    "start_time": "2025-03-19T12:54:59.153Z"
   },
   {
    "duration": 22,
    "start_time": "2025-03-19T12:54:59.160Z"
   },
   {
    "duration": 41,
    "start_time": "2025-03-19T12:54:59.184Z"
   },
   {
    "duration": 8,
    "start_time": "2025-03-19T12:54:59.226Z"
   },
   {
    "duration": 5,
    "start_time": "2025-03-19T12:54:59.236Z"
   },
   {
    "duration": 4,
    "start_time": "2025-03-19T12:54:59.243Z"
   },
   {
    "duration": 7,
    "start_time": "2025-03-19T12:54:59.249Z"
   },
   {
    "duration": 4,
    "start_time": "2025-03-19T12:54:59.258Z"
   },
   {
    "duration": 8,
    "start_time": "2025-03-19T12:54:59.264Z"
   },
   {
    "duration": 786,
    "start_time": "2025-03-19T12:54:59.274Z"
   },
   {
    "duration": 683,
    "start_time": "2025-03-19T12:55:00.062Z"
   },
   {
    "duration": 7,
    "start_time": "2025-03-19T12:55:00.747Z"
   },
   {
    "duration": 9,
    "start_time": "2025-03-19T12:55:00.755Z"
   },
   {
    "duration": 8,
    "start_time": "2025-03-19T12:55:00.766Z"
   },
   {
    "duration": 5,
    "start_time": "2025-03-19T12:55:00.776Z"
   },
   {
    "duration": 9,
    "start_time": "2025-03-19T12:55:00.783Z"
   },
   {
    "duration": 10,
    "start_time": "2025-03-19T12:55:00.828Z"
   },
   {
    "duration": 4,
    "start_time": "2025-03-19T12:55:00.840Z"
   },
   {
    "duration": 4,
    "start_time": "2025-03-19T12:55:00.846Z"
   },
   {
    "duration": 5,
    "start_time": "2025-03-19T12:55:00.851Z"
   },
   {
    "duration": 6,
    "start_time": "2025-03-19T12:55:00.857Z"
   },
   {
    "duration": 8,
    "start_time": "2025-03-19T12:55:00.864Z"
   },
   {
    "duration": 9,
    "start_time": "2025-03-19T12:55:00.874Z"
   },
   {
    "duration": 11,
    "start_time": "2025-03-19T12:55:00.924Z"
   },
   {
    "duration": 5,
    "start_time": "2025-03-19T12:55:00.936Z"
   },
   {
    "duration": 7,
    "start_time": "2025-03-19T12:55:00.943Z"
   },
   {
    "duration": 6,
    "start_time": "2025-03-19T12:55:00.951Z"
   },
   {
    "duration": 2,
    "start_time": "2025-03-19T12:55:00.959Z"
   },
   {
    "duration": 4,
    "start_time": "2025-03-19T12:55:00.964Z"
   },
   {
    "duration": 7,
    "start_time": "2025-03-19T12:55:00.970Z"
   },
   {
    "duration": 46,
    "start_time": "2025-03-19T12:55:00.978Z"
   },
   {
    "duration": 10,
    "start_time": "2025-03-19T12:55:01.025Z"
   },
   {
    "duration": 218,
    "start_time": "2025-03-19T12:55:01.037Z"
   },
   {
    "duration": 174,
    "start_time": "2025-03-19T12:55:01.257Z"
   },
   {
    "duration": 22,
    "start_time": "2025-03-19T12:55:01.433Z"
   },
   {
    "duration": 9,
    "start_time": "2025-03-19T12:55:01.457Z"
   },
   {
    "duration": 23,
    "start_time": "2025-03-19T12:55:01.468Z"
   },
   {
    "duration": 36,
    "start_time": "2025-03-19T12:55:01.492Z"
   },
   {
    "duration": 17,
    "start_time": "2025-03-19T12:55:01.530Z"
   },
   {
    "duration": 16,
    "start_time": "2025-03-19T12:55:01.549Z"
   },
   {
    "duration": 14,
    "start_time": "2025-03-19T12:55:01.567Z"
   },
   {
    "duration": 93,
    "start_time": "2025-03-19T12:55:01.582Z"
   },
   {
    "duration": 19,
    "start_time": "2025-03-19T12:55:01.679Z"
   },
   {
    "duration": 28,
    "start_time": "2025-03-19T12:55:01.700Z"
   },
   {
    "duration": 24,
    "start_time": "2025-03-19T12:55:01.730Z"
   },
   {
    "duration": 20,
    "start_time": "2025-03-19T12:55:01.755Z"
   },
   {
    "duration": 26,
    "start_time": "2025-03-19T12:55:01.776Z"
   },
   {
    "duration": 40,
    "start_time": "2025-03-19T12:55:01.804Z"
   },
   {
    "duration": 7,
    "start_time": "2025-03-19T12:55:01.846Z"
   },
   {
    "duration": 179,
    "start_time": "2025-03-19T12:55:01.855Z"
   },
   {
    "duration": 7,
    "start_time": "2025-03-19T12:55:02.035Z"
   },
   {
    "duration": 142,
    "start_time": "2025-03-19T12:55:02.043Z"
   },
   {
    "duration": 43,
    "start_time": "2025-03-19T12:55:02.187Z"
   },
   {
    "duration": 196,
    "start_time": "2025-03-19T12:55:02.232Z"
   },
   {
    "duration": 14,
    "start_time": "2025-03-19T12:55:02.429Z"
   },
   {
    "duration": 13,
    "start_time": "2025-03-19T12:55:02.445Z"
   },
   {
    "duration": 190,
    "start_time": "2025-03-19T12:55:02.460Z"
   },
   {
    "duration": 42,
    "start_time": "2025-03-19T12:55:02.652Z"
   },
   {
    "duration": 10,
    "start_time": "2025-03-19T12:55:02.695Z"
   },
   {
    "duration": 1426,
    "start_time": "2025-03-19T12:55:02.724Z"
   },
   {
    "duration": 95,
    "start_time": "2025-03-19T12:55:04.151Z"
   },
   {
    "duration": 9,
    "start_time": "2025-03-19T12:55:04.247Z"
   },
   {
    "duration": 83,
    "start_time": "2025-03-19T12:55:04.257Z"
   },
   {
    "duration": 509,
    "start_time": "2025-03-19T12:55:04.342Z"
   },
   {
    "duration": 8,
    "start_time": "2025-03-19T12:55:04.853Z"
   },
   {
    "duration": 11,
    "start_time": "2025-03-19T12:55:04.863Z"
   },
   {
    "duration": 173,
    "start_time": "2025-03-19T12:55:04.876Z"
   },
   {
    "duration": 7,
    "start_time": "2025-03-19T12:55:05.051Z"
   },
   {
    "duration": 156,
    "start_time": "2025-03-19T12:55:05.060Z"
   },
   {
    "duration": 14,
    "start_time": "2025-03-19T12:55:05.223Z"
   },
   {
    "duration": 12,
    "start_time": "2025-03-19T12:55:05.239Z"
   },
   {
    "duration": 9,
    "start_time": "2025-03-19T12:55:05.252Z"
   },
   {
    "duration": 3,
    "start_time": "2025-03-19T12:55:05.262Z"
   },
   {
    "duration": 106,
    "start_time": "2025-03-19T12:55:05.267Z"
   },
   {
    "duration": 8,
    "start_time": "2025-03-19T12:55:05.375Z"
   },
   {
    "duration": 10,
    "start_time": "2025-03-19T12:55:05.385Z"
   },
   {
    "duration": 29,
    "start_time": "2025-03-19T12:55:05.396Z"
   },
   {
    "duration": 10,
    "start_time": "2025-03-19T12:55:05.427Z"
   },
   {
    "duration": 682,
    "start_time": "2025-03-19T12:55:05.439Z"
   },
   {
    "duration": 170,
    "start_time": "2025-03-19T12:55:06.123Z"
   },
   {
    "duration": 112,
    "start_time": "2025-03-19T12:55:06.294Z"
   },
   {
    "duration": 23,
    "start_time": "2025-03-19T12:55:06.408Z"
   },
   {
    "duration": 21,
    "start_time": "2025-03-19T12:55:06.433Z"
   },
   {
    "duration": 21,
    "start_time": "2025-03-19T12:55:06.456Z"
   },
   {
    "duration": 6,
    "start_time": "2025-03-19T12:55:06.478Z"
   },
   {
    "duration": 213,
    "start_time": "2025-03-19T12:55:06.486Z"
   },
   {
    "duration": 42,
    "start_time": "2025-03-19T12:55:06.700Z"
   },
   {
    "duration": 12,
    "start_time": "2025-03-19T12:55:06.743Z"
   },
   {
    "duration": 424,
    "start_time": "2025-03-19T12:55:06.756Z"
   },
   {
    "duration": 9,
    "start_time": "2025-03-19T13:01:56.493Z"
   },
   {
    "duration": 158,
    "start_time": "2025-03-19T16:27:32.529Z"
   },
   {
    "duration": 2198,
    "start_time": "2025-03-19T16:27:41.578Z"
   },
   {
    "duration": 10,
    "start_time": "2025-03-19T16:27:43.778Z"
   },
   {
    "duration": 812,
    "start_time": "2025-03-19T16:27:43.790Z"
   },
   {
    "duration": 35,
    "start_time": "2025-03-19T16:27:44.605Z"
   },
   {
    "duration": 33,
    "start_time": "2025-03-19T16:27:44.642Z"
   },
   {
    "duration": 147,
    "start_time": "2025-03-19T16:27:44.678Z"
   },
   {
    "duration": 10,
    "start_time": "2025-03-19T16:27:44.827Z"
   },
   {
    "duration": 7,
    "start_time": "2025-03-19T16:27:44.839Z"
   },
   {
    "duration": 9,
    "start_time": "2025-03-19T16:27:44.848Z"
   },
   {
    "duration": 7,
    "start_time": "2025-03-19T16:27:44.861Z"
   },
   {
    "duration": 9,
    "start_time": "2025-03-19T16:27:44.870Z"
   },
   {
    "duration": 44,
    "start_time": "2025-03-19T16:27:44.880Z"
   },
   {
    "duration": 10,
    "start_time": "2025-03-19T16:27:44.926Z"
   },
   {
    "duration": 91,
    "start_time": "2025-03-19T16:27:44.937Z"
   },
   {
    "duration": 77,
    "start_time": "2025-03-19T16:27:45.030Z"
   },
   {
    "duration": 17,
    "start_time": "2025-03-19T16:27:45.110Z"
   },
   {
    "duration": 3,
    "start_time": "2025-03-19T16:27:45.128Z"
   },
   {
    "duration": 4,
    "start_time": "2025-03-19T16:27:45.133Z"
   },
   {
    "duration": 11,
    "start_time": "2025-03-19T16:27:45.138Z"
   },
   {
    "duration": 109,
    "start_time": "2025-03-19T16:27:45.150Z"
   },
   {
    "duration": 93,
    "start_time": "2025-03-19T16:27:45.263Z"
   },
   {
    "duration": 46,
    "start_time": "2025-03-19T16:27:45.358Z"
   },
   {
    "duration": 72,
    "start_time": "2025-03-19T16:27:45.406Z"
   },
   {
    "duration": 12,
    "start_time": "2025-03-19T16:27:45.481Z"
   },
   {
    "duration": 5,
    "start_time": "2025-03-19T16:27:45.495Z"
   },
   {
    "duration": 38,
    "start_time": "2025-03-19T16:27:45.502Z"
   },
   {
    "duration": 15,
    "start_time": "2025-03-19T16:27:45.542Z"
   },
   {
    "duration": 7,
    "start_time": "2025-03-19T16:27:45.563Z"
   },
   {
    "duration": 6,
    "start_time": "2025-03-19T16:27:45.572Z"
   },
   {
    "duration": 5,
    "start_time": "2025-03-19T16:27:45.579Z"
   },
   {
    "duration": 42,
    "start_time": "2025-03-19T16:27:45.586Z"
   },
   {
    "duration": 5,
    "start_time": "2025-03-19T16:27:45.629Z"
   },
   {
    "duration": 8,
    "start_time": "2025-03-19T16:27:45.635Z"
   },
   {
    "duration": 780,
    "start_time": "2025-03-19T16:27:45.645Z"
   },
   {
    "duration": 660,
    "start_time": "2025-03-19T16:27:46.427Z"
   },
   {
    "duration": 7,
    "start_time": "2025-03-19T16:27:47.089Z"
   },
   {
    "duration": 10,
    "start_time": "2025-03-19T16:27:47.098Z"
   },
   {
    "duration": 9,
    "start_time": "2025-03-19T16:27:47.124Z"
   },
   {
    "duration": 5,
    "start_time": "2025-03-19T16:27:47.135Z"
   },
   {
    "duration": 11,
    "start_time": "2025-03-19T16:27:47.141Z"
   },
   {
    "duration": 10,
    "start_time": "2025-03-19T16:27:47.153Z"
   },
   {
    "duration": 4,
    "start_time": "2025-03-19T16:27:47.165Z"
   },
   {
    "duration": 5,
    "start_time": "2025-03-19T16:27:47.170Z"
   },
   {
    "duration": 5,
    "start_time": "2025-03-19T16:27:47.177Z"
   },
   {
    "duration": 45,
    "start_time": "2025-03-19T16:27:47.183Z"
   },
   {
    "duration": 10,
    "start_time": "2025-03-19T16:27:47.229Z"
   },
   {
    "duration": 9,
    "start_time": "2025-03-19T16:27:47.240Z"
   },
   {
    "duration": 8,
    "start_time": "2025-03-19T16:27:47.250Z"
   },
   {
    "duration": 5,
    "start_time": "2025-03-19T16:27:47.260Z"
   },
   {
    "duration": 7,
    "start_time": "2025-03-19T16:27:47.267Z"
   },
   {
    "duration": 6,
    "start_time": "2025-03-19T16:27:47.275Z"
   },
   {
    "duration": 42,
    "start_time": "2025-03-19T16:27:47.282Z"
   },
   {
    "duration": 5,
    "start_time": "2025-03-19T16:27:47.326Z"
   },
   {
    "duration": 8,
    "start_time": "2025-03-19T16:27:47.333Z"
   },
   {
    "duration": 3,
    "start_time": "2025-03-19T16:27:47.343Z"
   },
   {
    "duration": 10,
    "start_time": "2025-03-19T16:27:47.348Z"
   },
   {
    "duration": 239,
    "start_time": "2025-03-19T16:27:47.360Z"
   },
   {
    "duration": 180,
    "start_time": "2025-03-19T16:27:47.601Z"
   },
   {
    "duration": 23,
    "start_time": "2025-03-19T16:27:47.782Z"
   },
   {
    "duration": 22,
    "start_time": "2025-03-19T16:27:47.807Z"
   },
   {
    "duration": 24,
    "start_time": "2025-03-19T16:27:47.832Z"
   },
   {
    "duration": 8,
    "start_time": "2025-03-19T16:27:47.858Z"
   },
   {
    "duration": 17,
    "start_time": "2025-03-19T16:27:47.868Z"
   },
   {
    "duration": 47,
    "start_time": "2025-03-19T16:27:47.887Z"
   },
   {
    "duration": 13,
    "start_time": "2025-03-19T16:27:47.937Z"
   },
   {
    "duration": 78,
    "start_time": "2025-03-19T16:27:47.952Z"
   },
   {
    "duration": 21,
    "start_time": "2025-03-19T16:27:48.031Z"
   },
   {
    "duration": 20,
    "start_time": "2025-03-19T16:27:48.053Z"
   },
   {
    "duration": 16,
    "start_time": "2025-03-19T16:27:48.074Z"
   },
   {
    "duration": 50,
    "start_time": "2025-03-19T16:27:48.091Z"
   },
   {
    "duration": 26,
    "start_time": "2025-03-19T16:27:48.143Z"
   },
   {
    "duration": 25,
    "start_time": "2025-03-19T16:27:48.170Z"
   },
   {
    "duration": 7,
    "start_time": "2025-03-19T16:27:48.197Z"
   },
   {
    "duration": 166,
    "start_time": "2025-03-19T16:27:48.224Z"
   },
   {
    "duration": 8,
    "start_time": "2025-03-19T16:27:48.392Z"
   },
   {
    "duration": 151,
    "start_time": "2025-03-19T16:27:48.402Z"
   },
   {
    "duration": 39,
    "start_time": "2025-03-19T16:27:48.555Z"
   },
   {
    "duration": 199,
    "start_time": "2025-03-19T16:27:48.596Z"
   },
   {
    "duration": 14,
    "start_time": "2025-03-19T16:27:48.797Z"
   },
   {
    "duration": 23,
    "start_time": "2025-03-19T16:27:48.814Z"
   },
   {
    "duration": 218,
    "start_time": "2025-03-19T16:27:48.839Z"
   },
   {
    "duration": 41,
    "start_time": "2025-03-19T16:27:49.065Z"
   },
   {
    "duration": 24,
    "start_time": "2025-03-19T16:27:49.107Z"
   },
   {
    "duration": 1347,
    "start_time": "2025-03-19T16:27:49.132Z"
   },
   {
    "duration": 107,
    "start_time": "2025-03-19T16:27:50.481Z"
   },
   {
    "duration": 90,
    "start_time": "2025-03-19T16:27:50.591Z"
   },
   {
    "duration": 9,
    "start_time": "2025-03-19T16:27:50.682Z"
   },
   {
    "duration": 72,
    "start_time": "2025-03-19T16:27:50.693Z"
   },
   {
    "duration": 502,
    "start_time": "2025-03-19T16:27:50.767Z"
   },
   {
    "duration": 9,
    "start_time": "2025-03-19T16:27:51.271Z"
   },
   {
    "duration": 12,
    "start_time": "2025-03-19T16:27:51.281Z"
   },
   {
    "duration": 176,
    "start_time": "2025-03-19T16:27:51.294Z"
   },
   {
    "duration": 7,
    "start_time": "2025-03-19T16:27:51.472Z"
   },
   {
    "duration": 159,
    "start_time": "2025-03-19T16:27:51.482Z"
   },
   {
    "duration": 14,
    "start_time": "2025-03-19T16:27:51.645Z"
   },
   {
    "duration": 13,
    "start_time": "2025-03-19T16:27:51.663Z"
   },
   {
    "duration": 10,
    "start_time": "2025-03-19T16:27:51.679Z"
   },
   {
    "duration": 2,
    "start_time": "2025-03-19T16:27:51.691Z"
   },
   {
    "duration": 106,
    "start_time": "2025-03-19T16:27:51.696Z"
   },
   {
    "duration": 7,
    "start_time": "2025-03-19T16:27:51.804Z"
   },
   {
    "duration": 9,
    "start_time": "2025-03-19T16:27:51.824Z"
   },
   {
    "duration": 9,
    "start_time": "2025-03-19T16:27:51.835Z"
   },
   {
    "duration": 9,
    "start_time": "2025-03-19T16:27:51.846Z"
   },
   {
    "duration": 712,
    "start_time": "2025-03-19T16:27:51.857Z"
   },
   {
    "duration": 174,
    "start_time": "2025-03-19T16:27:52.571Z"
   },
   {
    "duration": 97,
    "start_time": "2025-03-19T16:27:52.747Z"
   },
   {
    "duration": 13,
    "start_time": "2025-03-19T16:27:52.846Z"
   },
   {
    "duration": 19,
    "start_time": "2025-03-19T16:27:52.861Z"
   },
   {
    "duration": 21,
    "start_time": "2025-03-19T16:27:52.882Z"
   },
   {
    "duration": 22,
    "start_time": "2025-03-19T16:27:52.904Z"
   },
   {
    "duration": 202,
    "start_time": "2025-03-19T16:27:52.928Z"
   },
   {
    "duration": 34,
    "start_time": "2025-03-19T16:27:53.132Z"
   },
   {
    "duration": 12,
    "start_time": "2025-03-19T16:27:53.167Z"
   },
   {
    "duration": 8,
    "start_time": "2025-03-19T16:27:53.180Z"
   },
   {
    "duration": 328,
    "start_time": "2025-03-19T16:40:06.451Z"
   },
   {
    "duration": 172,
    "start_time": "2025-03-19T16:40:22.087Z"
   },
   {
    "duration": 1932,
    "start_time": "2025-03-19T16:44:33.966Z"
   },
   {
    "duration": 201,
    "start_time": "2025-03-19T16:45:27.058Z"
   },
   {
    "duration": 15,
    "start_time": "2025-03-19T16:45:36.958Z"
   },
   {
    "duration": 416,
    "start_time": "2025-03-19T16:45:49.864Z"
   },
   {
    "duration": 37,
    "start_time": "2025-03-19T16:46:35.526Z"
   },
   {
    "duration": 40,
    "start_time": "2025-03-19T16:46:47.791Z"
   },
   {
    "duration": 41,
    "start_time": "2025-03-19T16:47:21.618Z"
   },
   {
    "duration": 11,
    "start_time": "2025-03-19T16:47:24.734Z"
   },
   {
    "duration": 9,
    "start_time": "2025-03-19T16:48:02.221Z"
   },
   {
    "duration": 125,
    "start_time": "2025-03-19T16:50:41.210Z"
   },
   {
    "duration": 536,
    "start_time": "2025-03-19T16:56:23.426Z"
   },
   {
    "duration": 12,
    "start_time": "2025-03-19T16:56:23.965Z"
   },
   {
    "duration": 719,
    "start_time": "2025-03-19T16:56:23.979Z"
   },
   {
    "duration": 33,
    "start_time": "2025-03-19T16:56:24.700Z"
   },
   {
    "duration": 32,
    "start_time": "2025-03-19T16:56:24.736Z"
   },
   {
    "duration": 137,
    "start_time": "2025-03-19T16:56:24.769Z"
   },
   {
    "duration": 16,
    "start_time": "2025-03-19T16:56:24.908Z"
   },
   {
    "duration": 7,
    "start_time": "2025-03-19T16:56:24.926Z"
   },
   {
    "duration": 9,
    "start_time": "2025-03-19T16:56:24.935Z"
   },
   {
    "duration": 8,
    "start_time": "2025-03-19T16:56:24.945Z"
   },
   {
    "duration": 11,
    "start_time": "2025-03-19T16:56:24.954Z"
   },
   {
    "duration": 7,
    "start_time": "2025-03-19T16:56:24.966Z"
   },
   {
    "duration": 9,
    "start_time": "2025-03-19T16:56:24.975Z"
   },
   {
    "duration": 116,
    "start_time": "2025-03-19T16:56:24.988Z"
   },
   {
    "duration": 85,
    "start_time": "2025-03-19T16:56:25.105Z"
   },
   {
    "duration": 7,
    "start_time": "2025-03-19T16:56:25.192Z"
   },
   {
    "duration": 3,
    "start_time": "2025-03-19T16:56:25.201Z"
   },
   {
    "duration": 20,
    "start_time": "2025-03-19T16:56:25.206Z"
   },
   {
    "duration": 10,
    "start_time": "2025-03-19T16:56:25.227Z"
   },
   {
    "duration": 89,
    "start_time": "2025-03-19T16:56:25.239Z"
   },
   {
    "duration": 81,
    "start_time": "2025-03-19T16:56:25.330Z"
   },
   {
    "duration": 41,
    "start_time": "2025-03-19T16:56:25.425Z"
   },
   {
    "duration": 68,
    "start_time": "2025-03-19T16:56:25.468Z"
   },
   {
    "duration": 12,
    "start_time": "2025-03-19T16:56:25.537Z"
   },
   {
    "duration": 6,
    "start_time": "2025-03-19T16:56:25.551Z"
   },
   {
    "duration": 22,
    "start_time": "2025-03-19T16:56:25.558Z"
   },
   {
    "duration": 43,
    "start_time": "2025-03-19T16:56:25.582Z"
   },
   {
    "duration": 8,
    "start_time": "2025-03-19T16:56:25.626Z"
   },
   {
    "duration": 7,
    "start_time": "2025-03-19T16:56:25.636Z"
   },
   {
    "duration": 3,
    "start_time": "2025-03-19T16:56:25.646Z"
   },
   {
    "duration": 7,
    "start_time": "2025-03-19T16:56:25.651Z"
   },
   {
    "duration": 5,
    "start_time": "2025-03-19T16:56:25.659Z"
   },
   {
    "duration": 8,
    "start_time": "2025-03-19T16:56:25.666Z"
   },
   {
    "duration": 807,
    "start_time": "2025-03-19T16:56:25.675Z"
   },
   {
    "duration": 680,
    "start_time": "2025-03-19T16:56:26.484Z"
   },
   {
    "duration": 8,
    "start_time": "2025-03-19T16:56:27.166Z"
   },
   {
    "duration": 9,
    "start_time": "2025-03-19T16:56:27.176Z"
   },
   {
    "duration": 14,
    "start_time": "2025-03-19T16:56:27.187Z"
   },
   {
    "duration": 6,
    "start_time": "2025-03-19T16:56:27.223Z"
   },
   {
    "duration": 10,
    "start_time": "2025-03-19T16:56:27.231Z"
   },
   {
    "duration": 10,
    "start_time": "2025-03-19T16:56:27.249Z"
   },
   {
    "duration": 5,
    "start_time": "2025-03-19T16:56:27.260Z"
   },
   {
    "duration": 6,
    "start_time": "2025-03-19T16:56:27.266Z"
   },
   {
    "duration": 6,
    "start_time": "2025-03-19T16:56:27.273Z"
   },
   {
    "duration": 6,
    "start_time": "2025-03-19T16:56:27.280Z"
   },
   {
    "duration": 45,
    "start_time": "2025-03-19T16:56:27.288Z"
   },
   {
    "duration": 8,
    "start_time": "2025-03-19T16:56:27.335Z"
   },
   {
    "duration": 9,
    "start_time": "2025-03-19T16:56:27.345Z"
   },
   {
    "duration": 4,
    "start_time": "2025-03-19T16:56:27.355Z"
   },
   {
    "duration": 6,
    "start_time": "2025-03-19T16:56:27.361Z"
   },
   {
    "duration": 6,
    "start_time": "2025-03-19T16:56:27.369Z"
   },
   {
    "duration": 2,
    "start_time": "2025-03-19T16:56:27.377Z"
   },
   {
    "duration": 45,
    "start_time": "2025-03-19T16:56:27.381Z"
   },
   {
    "duration": 8,
    "start_time": "2025-03-19T16:56:27.427Z"
   },
   {
    "duration": 4,
    "start_time": "2025-03-19T16:56:27.436Z"
   },
   {
    "duration": 9,
    "start_time": "2025-03-19T16:56:27.441Z"
   },
   {
    "duration": 238,
    "start_time": "2025-03-19T16:56:27.452Z"
   },
   {
    "duration": 180,
    "start_time": "2025-03-19T16:56:27.692Z"
   },
   {
    "duration": 22,
    "start_time": "2025-03-19T16:56:27.874Z"
   },
   {
    "duration": 10,
    "start_time": "2025-03-19T16:56:27.897Z"
   },
   {
    "duration": 26,
    "start_time": "2025-03-19T16:56:27.924Z"
   },
   {
    "duration": 11,
    "start_time": "2025-03-19T16:56:27.952Z"
   },
   {
    "duration": 25,
    "start_time": "2025-03-19T16:56:27.966Z"
   },
   {
    "duration": 45,
    "start_time": "2025-03-19T16:56:27.993Z"
   },
   {
    "duration": 14,
    "start_time": "2025-03-19T16:56:28.040Z"
   },
   {
    "duration": 80,
    "start_time": "2025-03-19T16:56:28.056Z"
   },
   {
    "duration": 19,
    "start_time": "2025-03-19T16:56:28.139Z"
   },
   {
    "duration": 20,
    "start_time": "2025-03-19T16:56:28.160Z"
   },
   {
    "duration": 45,
    "start_time": "2025-03-19T16:56:28.182Z"
   },
   {
    "duration": 26,
    "start_time": "2025-03-19T16:56:28.229Z"
   },
   {
    "duration": 27,
    "start_time": "2025-03-19T16:56:28.257Z"
   },
   {
    "duration": 39,
    "start_time": "2025-03-19T16:56:28.286Z"
   },
   {
    "duration": 7,
    "start_time": "2025-03-19T16:56:28.327Z"
   },
   {
    "duration": 175,
    "start_time": "2025-03-19T16:56:28.336Z"
   },
   {
    "duration": 12,
    "start_time": "2025-03-19T16:56:28.513Z"
   },
   {
    "duration": 139,
    "start_time": "2025-03-19T16:56:28.527Z"
   },
   {
    "duration": 39,
    "start_time": "2025-03-19T16:56:28.668Z"
   },
   {
    "duration": 196,
    "start_time": "2025-03-19T16:56:28.709Z"
   },
   {
    "duration": 22,
    "start_time": "2025-03-19T16:56:28.907Z"
   },
   {
    "duration": 13,
    "start_time": "2025-03-19T16:56:28.931Z"
   },
   {
    "duration": 185,
    "start_time": "2025-03-19T16:56:28.946Z"
   },
   {
    "duration": 39,
    "start_time": "2025-03-19T16:56:29.132Z"
   },
   {
    "duration": 9,
    "start_time": "2025-03-19T16:56:29.173Z"
   },
   {
    "duration": 1445,
    "start_time": "2025-03-19T16:56:29.184Z"
   },
   {
    "duration": 84,
    "start_time": "2025-03-19T16:56:30.630Z"
   },
   {
    "duration": 90,
    "start_time": "2025-03-19T16:56:30.716Z"
   },
   {
    "duration": 17,
    "start_time": "2025-03-19T16:56:30.808Z"
   },
   {
    "duration": 75,
    "start_time": "2025-03-19T16:56:30.826Z"
   },
   {
    "duration": 543,
    "start_time": "2025-03-19T16:56:30.903Z"
   },
   {
    "duration": 9,
    "start_time": "2025-03-19T16:56:31.448Z"
   },
   {
    "duration": 13,
    "start_time": "2025-03-19T16:56:31.458Z"
   },
   {
    "duration": 180,
    "start_time": "2025-03-19T16:56:31.472Z"
   },
   {
    "duration": 8,
    "start_time": "2025-03-19T16:56:31.654Z"
   },
   {
    "duration": 154,
    "start_time": "2025-03-19T16:56:31.664Z"
   },
   {
    "duration": 14,
    "start_time": "2025-03-19T16:56:31.823Z"
   },
   {
    "duration": 12,
    "start_time": "2025-03-19T16:56:31.838Z"
   },
   {
    "duration": 8,
    "start_time": "2025-03-19T16:56:31.851Z"
   },
   {
    "duration": 2,
    "start_time": "2025-03-19T16:56:31.861Z"
   },
   {
    "duration": 112,
    "start_time": "2025-03-19T16:56:31.865Z"
   },
   {
    "duration": 7,
    "start_time": "2025-03-19T16:56:31.979Z"
   },
   {
    "duration": 10,
    "start_time": "2025-03-19T16:56:31.988Z"
   },
   {
    "duration": 26,
    "start_time": "2025-03-19T16:56:31.999Z"
   },
   {
    "duration": 10,
    "start_time": "2025-03-19T16:56:32.027Z"
   },
   {
    "duration": 1713,
    "start_time": "2025-03-19T16:56:32.039Z"
   },
   {
    "duration": 10,
    "start_time": "2025-03-19T16:56:33.754Z"
   },
   {
    "duration": 709,
    "start_time": "2025-03-19T16:56:33.767Z"
   },
   {
    "duration": 170,
    "start_time": "2025-03-19T16:56:34.477Z"
   },
   {
    "duration": 99,
    "start_time": "2025-03-19T16:56:34.649Z"
   },
   {
    "duration": 17,
    "start_time": "2025-03-19T16:56:34.750Z"
   },
   {
    "duration": 23,
    "start_time": "2025-03-19T16:56:34.770Z"
   },
   {
    "duration": 40,
    "start_time": "2025-03-19T16:56:34.794Z"
   },
   {
    "duration": 6,
    "start_time": "2025-03-19T16:56:34.835Z"
   },
   {
    "duration": 211,
    "start_time": "2025-03-19T16:56:34.843Z"
   },
   {
    "duration": 31,
    "start_time": "2025-03-19T16:56:35.056Z"
   },
   {
    "duration": 11,
    "start_time": "2025-03-19T16:56:35.089Z"
   },
   {
    "duration": 27,
    "start_time": "2025-03-19T16:56:35.102Z"
   }
  ],
  "kernelspec": {
   "display_name": "Python 3 (ipykernel)",
   "language": "python",
   "name": "python3"
  },
  "language_info": {
   "codemirror_mode": {
    "name": "ipython",
    "version": 3
   },
   "file_extension": ".py",
   "mimetype": "text/x-python",
   "name": "python",
   "nbconvert_exporter": "python",
   "pygments_lexer": "ipython3",
   "version": "3.12.7"
  },
  "toc": {
   "base_numbering": 1,
   "nav_menu": {},
   "number_sections": true,
   "sideBar": true,
   "skip_h1_title": true,
   "title_cell": "Table of Contents",
   "title_sidebar": "Contents",
   "toc_cell": false,
   "toc_position": {},
   "toc_section_display": true,
   "toc_window_display": false
  }
 },
 "nbformat": 4,
 "nbformat_minor": 5
}
